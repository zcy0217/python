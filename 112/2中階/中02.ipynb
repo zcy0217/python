{
 "cells": [
  {
   "cell_type": "code",
   "execution_count": null,
   "id": "3f0e8a8d",
   "metadata": {},
   "outputs": [],
   "source": [
    "'''\n",
    "讀取\"C:\\python闖關\\測資\\中階2.txt\"檔案裡的測資，偵測完全部測資則程式結束\n",
    "製作一個計算價錢的程式\n",
    "第一列為測試資料的列數N，接下來有N列資料，每組資料皆以0為區分點。\n",
    "計算價錢的公式為：(2*A的一次方)+(2*B的二次方)+(2*C的三次方)+...以此類推，ABC為三筆不同金額\n",
    "要做的是在每組測資中找到最划算的價格，若金額大於10000000則超出預算\n",
    "將結果寫進\"C:\\python闖關\\學生解答\"的資料夾裡面且取名為\"中階2-你的學號.txt\"，console不用顯示結果\n",
    "讀取\"C:\\python闖關\\解答\\中階2.txt\"來對照\"C:\\python闖關\\學生解答\\中階2-你的學號.txt\"是否一樣，若一樣則在console輸出正確，否則輸出錯誤\n",
    "Hint：先使用附檔的txt檔來撰寫程式，最後再改成以上規定的檔案路徑，要注意換行或是空白，只要不一樣都是錯誤的，並注意編碼問題!!\n",
    "\n",
    "檔名對照：\n",
    "\"C:\\python闖關\\測資\\中階2.txt\" = \"中階2-範例輸入.txt\"\n",
    "\"C:\\python闖關\\解答\\中階2.txt\" = \"中階2-範例輸出.txt\"\n",
    "\"C:\\python闖關\\學生解答\\中階2-你的學號.txt\" = \"中階2-你的學號.txt\"\n",
    "連結附檔：https://drive.google.com/drive/folders/19P1C42tOHe0g6ZLuWYc7R6tIMFIoiDPG?usp=sharing\n",
    "\n",
    "範例輸入：\n",
    "2\n",
    "20\n",
    "14\n",
    "12\n",
    "19\n",
    "21\n",
    "2\n",
    "16\n",
    "8\n",
    "14\n",
    "17\n",
    "5\n",
    "3\n",
    "5\n",
    "0\n",
    "60000\n",
    "14\n",
    "90\n",
    "6\n",
    "0\n",
    "\n",
    "範例輸出txt檔的內容(詳細如連結附檔):\n",
    "超出預算\n",
    "144280\n",
    "'''"
   ]
  },
  {
   "cell_type": "markdown",
   "id": "a320223a",
   "metadata": {},
   "source": [
    "# 最終繳交正解"
   ]
  },
  {
   "cell_type": "code",
   "execution_count": 1,
   "id": "64ba38fa",
   "metadata": {},
   "outputs": [
    {
     "name": "stdout",
     "output_type": "stream",
     "text": [
      "正確\n"
     ]
    }
   ],
   "source": [
    "with open(\"C:\\python闖關\\學生解答\\中階2-b10905001.txt\",\"w\") as _:\n",
    "    with open(\"C:\\python闖關\\測資\\中階2.txt\", 'r') as file:\n",
    "        lines = file.readlines()\n",
    "        times = int(lines[0])\n",
    "        inputlist, inputlisttemp, totallist = [], [], []\n",
    "        line_index = 1\n",
    "        while times != 0:\n",
    "            num = int(lines[line_index])\n",
    "            line_index += 1\n",
    "            if num == 0:\n",
    "                times -= 1\n",
    "                inputlisttemp.sort(reverse=True)\n",
    "                inputlist.append(inputlisttemp)\n",
    "                inputlisttemp = [] \n",
    "            else:\n",
    "                inputlisttemp.append(num)\n",
    "        for i in range(len(inputlist)):\n",
    "            total = 0\n",
    "            lentemp = len(inputlist[i])\n",
    "            for j in range(len(inputlist[i])):\n",
    "                total += 2*inputlist[i][j]**(j+1)\n",
    "            if total<=10000000:\n",
    "                totallist.append(str(total))\n",
    "            else:\n",
    "                totallist.append(\"超出預算\")\n",
    "with open(\"C:\\python闖關\\學生解答\\中階2-b10905001.txt\",\"w\") as w:        \n",
    "    for i in range(len(totallist)):\n",
    "        w.write(totallist[i])\n",
    "        if i != len(totallist)-1:\n",
    "            w.write(\"\\n\")\n",
    "with open(\"C:\\python闖關\\解答\\中階2.txt\", 'r',encoding=\"utf-8\") as file1:\n",
    "    content1 = file1.read()\n",
    "with open(\"C:\\python闖關\\學生解答\\中階2-b10905001.txt\", 'r') as file2:\n",
    "    content2 = file2.read()\n",
    "if content1 == content2:\n",
    "    print(\"正確\")\n",
    "else:\n",
    "    print(\"錯誤\")"
   ]
  },
  {
   "cell_type": "markdown",
   "id": "c46edf25",
   "metadata": {},
   "source": [
    "# 測試繳交正解"
   ]
  },
  {
   "cell_type": "code",
   "execution_count": 2,
   "id": "d0e1eaa6",
   "metadata": {},
   "outputs": [
    {
     "name": "stdout",
     "output_type": "stream",
     "text": [
      "正確\n"
     ]
    }
   ],
   "source": [
    "with open(\"C:\\python闖關\\範例測資\\中階2-b10905001.txt\",\"w\") as _:\n",
    "    with open(\"C:\\python闖關\\範例測資\\中階2-範例輸入.txt\", 'r') as file:\n",
    "        lines = file.readlines()\n",
    "        times = int(lines[0])\n",
    "        inputlist, inputlisttemp, totallist = [], [], []\n",
    "        line_index = 1\n",
    "        while times != 0:\n",
    "            num = int(lines[line_index])\n",
    "            line_index += 1\n",
    "            if num == 0:\n",
    "                times -= 1\n",
    "                inputlisttemp.sort(reverse=True)\n",
    "                inputlist.append(inputlisttemp)\n",
    "                inputlisttemp = [] \n",
    "            else:\n",
    "                inputlisttemp.append(num)\n",
    "        for i in range(len(inputlist)):\n",
    "            total = 0\n",
    "            lentemp = len(inputlist[i])\n",
    "            for j in range(len(inputlist[i])):\n",
    "                total += 2*inputlist[i][j]**(j+1)\n",
    "            if total<=10000000:\n",
    "                totallist.append(str(total))\n",
    "            else:\n",
    "                totallist.append(\"超出預算\")\n",
    "with open(\"C:\\python闖關\\範例測資\\中階2-b10905001.txt\",\"w\") as w:        \n",
    "    for i in range(len(totallist)):\n",
    "        w.write(totallist[i])\n",
    "        if i != len(totallist)-1:\n",
    "            w.write(\"\\n\")\n",
    "with open(\"C:\\python闖關\\範例測資\\中階2-範例輸出.txt\", 'r',encoding=\"utf-8\") as file1:\n",
    "    content1 = file1.read()\n",
    "with open(\"C:\\python闖關\\範例測資\\中階2-b10905001.txt\", 'r') as file2:\n",
    "    content2 = file2.read()\n",
    "if content1 == content2:\n",
    "    print(\"正確\")\n",
    "else:\n",
    "    print(\"錯誤\")"
   ]
  },
  {
   "cell_type": "code",
   "execution_count": null,
   "id": "ff025328",
   "metadata": {},
   "outputs": [],
   "source": [
    "# UVA 11824 2023/03/21"
   ]
  }
 ],
 "metadata": {
  "kernelspec": {
   "display_name": "Python 3 (ipykernel)",
   "language": "python",
   "name": "python3"
  },
  "language_info": {
   "codemirror_mode": {
    "name": "ipython",
    "version": 3
   },
   "file_extension": ".py",
   "mimetype": "text/x-python",
   "name": "python",
   "nbconvert_exporter": "python",
   "pygments_lexer": "ipython3",
   "version": "3.8.16"
  }
 },
 "nbformat": 4,
 "nbformat_minor": 5
}
