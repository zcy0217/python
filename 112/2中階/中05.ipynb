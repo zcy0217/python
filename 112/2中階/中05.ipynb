{
 "cells": [
  {
   "cell_type": "code",
   "execution_count": null,
   "id": "3f0e8a8d",
   "metadata": {},
   "outputs": [],
   "source": [
    "'''\n",
    "讀取\"C:\\python闖關\\測資\\中階5.txt\"檔案裡的測資，偵測完全部測資則程式結束\n",
    "公式：A*x²+B*X+C=f(X)\n",
    "給定五個參數ABCDE，其中ABC為公式的係數，D為能被A*x²+B*X+C的數\n",
    "求f(0)~f(E)有多少組可整除D，若ABCDE為0 0 0 0 0，則結束程式\n",
    "將結果寫進\"C:\\python闖關\\學生解答\"的資料夾裡面且取名為\"中階5-你的學號.txt\"，console不用顯示結果\n",
    "讀取\"C:\\python闖關\\解答\\中階5.txt\"來對照\"C:\\python闖關\\學生解答\\中階5-你的學號.txt\"是否一樣，若一樣則在console輸出正確，否則輸出錯誤\n",
    "Hint：先使用附檔的txt檔來撰寫程式，最後再改成以上規定的檔案路徑，要注意換行或是空白，只要不一樣都是錯誤的，並注意編碼問題!!\n",
    "\n",
    "檔名對照：\n",
    "\"C:\\python闖關\\測資\\中階5.txt\" = \"中階5-範例輸入.txt\"\n",
    "\"C:\\python闖關\\解答\\中階5.txt\" = \"中階5-範例輸出.txt\"\n",
    "\"C:\\python闖關\\學生解答\\中階5-你的學號.txt\" = \"中階5-你的學號.txt\"\n",
    "連結附檔：https://drive.google.com/drive/folders/19P1C42tOHe0g6ZLuWYc7R6tIMFIoiDPG?usp=sharing\n",
    "\n",
    "範例輸入：\n",
    "3 2 5 5 6\n",
    "3 2 5 2 2\n",
    "0 0 100 3 10\n",
    "0 0 0 0 0\n",
    "\n",
    "範例輸出txt檔的內容(詳細如連結附檔):\n",
    "4\n",
    "1\n",
    "0\n",
    "'''"
   ]
  },
  {
   "cell_type": "markdown",
   "id": "a320223a",
   "metadata": {},
   "source": [
    "# 最終繳交正解"
   ]
  },
  {
   "cell_type": "code",
   "execution_count": 18,
   "id": "64ba38fa",
   "metadata": {},
   "outputs": [
    {
     "name": "stdout",
     "output_type": "stream",
     "text": [
      "正確\n"
     ]
    }
   ],
   "source": [
    "with open(\"C:\\python闖關\\學生解答\\中階5-b10905001.txt\",\"w\") as _:\n",
    "    with open(\"C:\\python闖關\\測資\\中階5.txt\", 'r') as file:\n",
    "        space = False\n",
    "        for line in file:\n",
    "            a, b, c, d, L = map(int, line.split())\n",
    "            if a == b == c == d == L == 0:\n",
    "                break\n",
    "            count = 0\n",
    "            for i in range(L + 1):\n",
    "                if (a * (i ** 2) + (b * i) + c) % d == 0:\n",
    "                    count += 1\n",
    "            with open(\"C:\\python闖關\\學生解答\\中階5-b10905001.txt\",\"a\") as w:     \n",
    "                if space == True:\n",
    "                    w.write('\\n')\n",
    "                space = True\n",
    "                w.write(str(count))\n",
    "                \n",
    "with open(\"C:\\python闖關\\解答\\中階5.txt\", 'r',encoding=\"utf-8\") as file1:\n",
    "    content1 = file1.read()\n",
    "with open(\"C:\\python闖關\\學生解答\\中階5-b10905001.txt\", 'r') as file2:\n",
    "    content2 = file2.read()\n",
    "if content1 == content2:\n",
    "    print(\"正確\")\n",
    "else:\n",
    "    print(\"錯誤\")"
   ]
  },
  {
   "cell_type": "markdown",
   "id": "c46edf25",
   "metadata": {},
   "source": [
    "# 測試繳交正解"
   ]
  },
  {
   "cell_type": "code",
   "execution_count": 17,
   "id": "d0e1eaa6",
   "metadata": {},
   "outputs": [
    {
     "name": "stdout",
     "output_type": "stream",
     "text": [
      "正確\n"
     ]
    }
   ],
   "source": [
    "with open(\"C:\\python闖關\\範例測資\\中階5-b10905001.txt\",\"w\") as _:\n",
    "    with open(\"C:\\python闖關\\範例測資\\中階5-範例輸入.txt\", 'r') as file:\n",
    "        space = False\n",
    "        for line in file:\n",
    "            a, b, c, d, L = map(int, line.split())\n",
    "            if a == b == c == d == L == 0:\n",
    "                break\n",
    "            count = 0\n",
    "            for i in range(L + 1):\n",
    "                if (a * (i ** 2) + (b * i) + c) % d == 0:\n",
    "                    count += 1\n",
    "            with open(\"C:\\python闖關\\範例測資\\中階5-b10905001.txt\",\"a\") as w:     \n",
    "                if space == True:\n",
    "                    w.write('\\n')\n",
    "                space = True\n",
    "                w.write(str(count))\n",
    "                \n",
    "with open(\"C:\\python闖關\\範例測資\\中階5-範例輸出.txt\", 'r',encoding=\"utf-8\") as file1:\n",
    "    content1 = file1.read()\n",
    "with open(\"C:\\python闖關\\範例測資\\中階5-b10905001.txt\", 'r') as file2:\n",
    "    content2 = file2.read()\n",
    "if content1 == content2:\n",
    "    print(\"正確\")\n",
    "else:\n",
    "    print(\"錯誤\")"
   ]
  },
  {
   "cell_type": "code",
   "execution_count": null,
   "id": "ff025328",
   "metadata": {},
   "outputs": [],
   "source": [
    "# UVA 11934 2023/05/23"
   ]
  }
 ],
 "metadata": {
  "kernelspec": {
   "display_name": "Python 3 (ipykernel)",
   "language": "python",
   "name": "python3"
  },
  "language_info": {
   "codemirror_mode": {
    "name": "ipython",
    "version": 3
   },
   "file_extension": ".py",
   "mimetype": "text/x-python",
   "name": "python",
   "nbconvert_exporter": "python",
   "pygments_lexer": "ipython3",
   "version": "3.8.16"
  }
 },
 "nbformat": 4,
 "nbformat_minor": 5
}
