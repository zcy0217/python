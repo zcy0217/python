{
 "cells": [
  {
   "cell_type": "code",
   "execution_count": null,
   "id": "3f0e8a8d",
   "metadata": {},
   "outputs": [],
   "source": [
    "'''\n",
    "讀取\"C:\\python闖關\\測資\\中階4.txt\"檔案裡的測資，偵測完全部測資則程式結束\n",
    "尋找一個序列的最長排序為大小大小的間隔排列，長度最小為1\n",
    "排列方式：A[0]>A[1]<A[2]>A[3]<A[4]....以此類推\n",
    "將結果寫進\"C:\\python闖關\\學生解答\"的資料夾裡面且取名為\"中階4-你的學號.txt\"，console不用顯示結果\n",
    "讀取\"C:\\python闖關\\解答\\中階4.txt\"來對照\"C:\\python闖關\\學生解答\\中階4-你的學號.txt\"是否一樣，若一樣則在console輸出正確，否則輸出錯誤\n",
    "Hint：先使用附檔的txt檔來撰寫程式，最後再改成以上規定的檔案路徑，要注意換行或是空白，只要不一樣都是錯誤的，並注意編碼問題!!\n",
    "\n",
    "檔名對照：\n",
    "\"C:\\python闖關\\測資\\中階4.txt\" = \"中階4-範例輸入.txt\"\n",
    "\"C:\\python闖關\\解答\\中階4.txt\" = \"中階4-範例輸出.txt\"\n",
    "\"C:\\python闖關\\學生解答\\中階4-你的學號.txt\" = \"中階4-你的學號.txt\"\n",
    "連結附檔：https://drive.google.com/drive/folders/19P1C42tOHe0g6ZLuWYc7R6tIMFIoiDPG?usp=sharing\n",
    "\n",
    "範例輸入：\n",
    "2\n",
    "5 5 1 4 2 3\n",
    "5 1 2 3 4 5\n",
    "\n",
    "範例輸出txt檔的內容(詳細如連結附檔):\n",
    "5\n",
    "1\n",
    "'''"
   ]
  },
  {
   "cell_type": "markdown",
   "id": "a320223a",
   "metadata": {},
   "source": [
    "# 最終繳交正解"
   ]
  },
  {
   "cell_type": "code",
   "execution_count": 1,
   "id": "64ba38fa",
   "metadata": {},
   "outputs": [
    {
     "name": "stdout",
     "output_type": "stream",
     "text": [
      "正確\n"
     ]
    }
   ],
   "source": [
    "with open(\"C:\\python闖關\\學生解答\\中階4-b10905001.txt\",\"w\") as _:\n",
    "    with open(\"C:\\python闖關\\測資\\中階4.txt\", 'r') as file:\n",
    "        lines = file.readlines()\n",
    "        T = int(lines[0])\n",
    "        space,line_index = False,1\n",
    "        for t in range(T):\n",
    "            nums = list(map(int, lines[line_index].split()))\n",
    "            current = 1 \n",
    "            ans = 1\n",
    "            for i in range(1, nums[0]):\n",
    "                if current == 1:\n",
    "                    if nums[1:][i-1] - nums[1:][i] > 0: \n",
    "                        ans += 1\n",
    "                        current *= -1\n",
    "                else:\n",
    "                    if nums[1:][i-1] - nums[1:][i] < 0: \n",
    "                        ans += 1\n",
    "                        current *= -1 \n",
    "            with open(\"C:\\python闖關\\學生解答\\中階4-b10905001.txt\",\"a\") as w:     \n",
    "                if space == True:\n",
    "                    w.write('\\n')\n",
    "                space = True\n",
    "                w.write(str(ans))\n",
    "            line_index += 1\n",
    "                \n",
    "with open(\"C:\\python闖關\\解答\\中階4.txt\", 'r',encoding=\"utf-8\") as file1:\n",
    "    content1 = file1.read()\n",
    "with open(\"C:\\python闖關\\學生解答\\中階4-b10905001.txt\", 'r') as file2:\n",
    "    content2 = file2.read()\n",
    "if content1 == content2:\n",
    "    print(\"正確\")\n",
    "else:\n",
    "    print(\"錯誤\")"
   ]
  },
  {
   "cell_type": "markdown",
   "id": "c46edf25",
   "metadata": {},
   "source": [
    "# 測試繳交正解"
   ]
  },
  {
   "cell_type": "code",
   "execution_count": 2,
   "id": "d0e1eaa6",
   "metadata": {},
   "outputs": [
    {
     "name": "stdout",
     "output_type": "stream",
     "text": [
      "正確\n"
     ]
    }
   ],
   "source": [
    "with open(\"C:\\python闖關\\範例測資\\中階4-b10905001.txt\",\"w\") as _:\n",
    "    with open(\"C:\\python闖關\\範例測資\\中階4-範例輸入.txt\", 'r') as file:\n",
    "        lines = file.readlines()\n",
    "        T = int(lines[0])\n",
    "        space,line_index = False,1\n",
    "        for t in range(T):\n",
    "            nums = list(map(int, lines[line_index].split()))\n",
    "            current = 1 \n",
    "            ans = 1\n",
    "            for i in range(1, nums[0]):\n",
    "                if current == 1:\n",
    "                    if nums[1:][i-1] - nums[1:][i] > 0: \n",
    "                        ans += 1\n",
    "                        current *= -1\n",
    "                else:\n",
    "                    if nums[1:][i-1] - nums[1:][i] < 0: \n",
    "                        ans += 1\n",
    "                        current *= -1 \n",
    "            with open(\"C:\\python闖關\\範例測資\\中階4-b10905001.txt\",\"a\") as w:     \n",
    "                if space == True:\n",
    "                    w.write('\\n')\n",
    "                space = True\n",
    "                w.write(str(ans))\n",
    "            line_index += 1\n",
    "                \n",
    "with open(\"C:\\python闖關\\範例測資\\中階4-範例輸出.txt\", 'r',encoding=\"utf-8\") as file1:\n",
    "    content1 = file1.read()\n",
    "with open(\"C:\\python闖關\\範例測資\\中階4-b10905001.txt\", 'r') as file2:\n",
    "    content2 = file2.read()\n",
    "if content1 == content2:\n",
    "    print(\"正確\")\n",
    "else:\n",
    "    print(\"錯誤\")"
   ]
  },
  {
   "cell_type": "code",
   "execution_count": null,
   "id": "ff025328",
   "metadata": {},
   "outputs": [],
   "source": [
    "# UVA 11240 2023/03/21"
   ]
  }
 ],
 "metadata": {
  "kernelspec": {
   "display_name": "Python 3 (ipykernel)",
   "language": "python",
   "name": "python3"
  },
  "language_info": {
   "codemirror_mode": {
    "name": "ipython",
    "version": 3
   },
   "file_extension": ".py",
   "mimetype": "text/x-python",
   "name": "python",
   "nbconvert_exporter": "python",
   "pygments_lexer": "ipython3",
   "version": "3.8.16"
  }
 },
 "nbformat": 4,
 "nbformat_minor": 5
}
