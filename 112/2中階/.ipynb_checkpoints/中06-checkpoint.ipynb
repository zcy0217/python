{
 "cells": [
  {
   "cell_type": "code",
   "execution_count": null,
   "id": "3f0e8a8d",
   "metadata": {},
   "outputs": [],
   "source": [
    "'''\n",
    "讀取\"C:\\python闖關\\測資\\中階6.txt\"檔案裡的測資，偵測完全部測資則程式結束\n",
    "給定一個T代表接下來共有幾筆矩陣測資，再給N = ?，代表矩陣大小為?*?\n",
    "檢查此矩陣是否為對稱矩陣，若是則輸出Symmetric，不是則為Non-symmetric，並在前面標註是第幾筆測資，如範例輸入輸出所示，且對稱矩陣當中的元素需大於0\n",
    "將結果寫進\"C:\\python闖關\\學生解答\"的資料夾裡面且取名為\"中階6-你的學號.txt\"，console不用顯示結果\n",
    "讀取\"C:\\python闖關\\解答\\中階6.txt\"來對照\"C:\\python闖關\\學生解答\\中階6-你的學號.txt\"是否一樣，若一樣則在console輸出正確，否則輸出錯誤\n",
    "Hint：先使用附檔的txt檔來撰寫程式，最後再改成以上規定的檔案路徑，要注意換行或是空白，只要不一樣都是錯誤的，並注意編碼問題!!\n",
    "\n",
    "檔名對照：\n",
    "\"C:\\python闖關\\測資\\中階6.txt\" = \"中階6-範例輸入.txt\"\n",
    "\"C:\\python闖關\\解答\\中階6.txt\" = \"中階6-範例輸出.txt\"\n",
    "\"C:\\python闖關\\學生解答\\中階6-你的學號.txt\" = \"中階6-你的學號.txt\"\n",
    "連結附檔：https://drive.google.com/drive/folders/19P1C42tOHe0g6ZLuWYc7R6tIMFIoiDPG?usp=sharing\n",
    "\n",
    "範例輸入：\n",
    "2\n",
    "N = 3\n",
    "1 3 1\n",
    "2 4 2\n",
    "1 3 1\n",
    "N = 3\n",
    "1 3 0\n",
    "2 4 2\n",
    "1 3 1\n",
    "\n",
    "範例輸出txt檔的內容(詳細如連結附檔):\n",
    "Test #1: Symmetric.\n",
    "Test #2: Non-symmetric.\n",
    "'''"
   ]
  },
  {
   "cell_type": "markdown",
   "id": "a320223a",
   "metadata": {},
   "source": [
    "# 最終繳交正解"
   ]
  },
  {
   "cell_type": "code",
   "execution_count": 1,
   "id": "64ba38fa",
   "metadata": {},
   "outputs": [
    {
     "name": "stdout",
     "output_type": "stream",
     "text": [
      "正確\n"
     ]
    }
   ],
   "source": [
    "with open(\"C:\\python闖關\\學生解答\\中階6-b10905001.txt\",\"w\") as _:\n",
    "    with open(\"C:\\python闖關\\測資\\中階6.txt\", 'r') as file:\n",
    "        lines = file.readlines()\n",
    "        space = False\n",
    "        T = int(lines[0])\n",
    "        current_line = 1\n",
    "        for Case in range(T):\n",
    "            n = int(lines[current_line].split(\" = \")[1])\n",
    "            current_line += 1\n",
    "            M = list()\n",
    "            for i in range(n):\n",
    "                M.append(list(map(int, lines[current_line].split())))\n",
    "                current_line += 1\n",
    "            is_Symmetric = True\n",
    "            center = n // 2\n",
    "            for i in range(n):\n",
    "                for j in range(i+1):\n",
    "                    if M[i][j] < 0 or M[n - 1 - i][n - 1 - j] < 0:\n",
    "                        is_Symmetric = False\n",
    "                        break\n",
    "                    if M[i][j] != M[n - 1 - i][n - 1 - j]:\n",
    "                        is_Symmetric = False\n",
    "                        break\n",
    "                if is_Symmetric is False:\n",
    "                    break\n",
    "            with open(\"C:\\python闖關\\學生解答\\中階6-b10905001.txt\",\"a\") as w:     \n",
    "                if space == True:\n",
    "                    w.write('\\n')\n",
    "                space = True\n",
    "                if is_Symmetric:\n",
    "                    w.write(f\"Test #{Case+1}: Symmetric.\")\n",
    "                else:\n",
    "                    w.write(f\"Test #{Case+1}: Non-symmetric.\")\n",
    "                \n",
    "with open(\"C:\\python闖關\\解答\\中階6.txt\", 'r',encoding=\"utf-8\") as file1:\n",
    "    content1 = file1.read()\n",
    "with open(\"C:\\python闖關\\學生解答\\中階6-b10905001.txt\", 'r') as file2:\n",
    "    content2 = file2.read()\n",
    "if content1 == content2:\n",
    "    print(\"正確\")\n",
    "else:\n",
    "    print(\"錯誤\")"
   ]
  },
  {
   "cell_type": "markdown",
   "id": "c46edf25",
   "metadata": {},
   "source": [
    "# 測試繳交正解"
   ]
  },
  {
   "cell_type": "code",
   "execution_count": 2,
   "id": "d0e1eaa6",
   "metadata": {},
   "outputs": [
    {
     "name": "stdout",
     "output_type": "stream",
     "text": [
      "正確\n"
     ]
    }
   ],
   "source": [
    "with open(\"C:\\python闖關\\範例測資\\中階6-b10905001.txt\",\"w\") as _:\n",
    "    with open(\"C:\\python闖關\\範例測資\\中階6-範例輸入.txt\", 'r') as file:\n",
    "        lines = file.readlines()\n",
    "        space = False\n",
    "        T = int(lines[0])\n",
    "        current_line = 1\n",
    "        for Case in range(T):\n",
    "            n = int(lines[current_line].split(\" = \")[1])\n",
    "            current_line += 1\n",
    "            M = list()\n",
    "            for i in range(n):\n",
    "                M.append(list(map(int, lines[current_line].split())))\n",
    "                current_line += 1\n",
    "            is_Symmetric = True\n",
    "            center = n // 2\n",
    "            for i in range(n):\n",
    "                for j in range(i+1):\n",
    "                    if M[i][j] < 0 or M[n - 1 - i][n - 1 - j] < 0:\n",
    "                        is_Symmetric = False\n",
    "                        break\n",
    "                    if M[i][j] != M[n - 1 - i][n - 1 - j]:\n",
    "                        is_Symmetric = False\n",
    "                        break\n",
    "                if is_Symmetric is False:\n",
    "                    break\n",
    "            with open(\"C:\\python闖關\\範例測資\\中階6-b10905001.txt\",\"a\") as w:     \n",
    "                if space == True:\n",
    "                    w.write('\\n')\n",
    "                space = True\n",
    "                if is_Symmetric:\n",
    "                    w.write(f\"Test #{Case+1}: Symmetric.\")\n",
    "                else:\n",
    "                    w.write(f\"Test #{Case+1}: Non-symmetric.\")\n",
    "                \n",
    "with open(\"C:\\python闖關\\範例測資\\中階6-範例輸出.txt\", 'r',encoding=\"utf-8\") as file1:\n",
    "    content1 = file1.read()\n",
    "with open(\"C:\\python闖關\\範例測資\\中階6-b10905001.txt\", 'r') as file2:\n",
    "    content2 = file2.read()\n",
    "if content1 == content2:\n",
    "    print(\"正確\")\n",
    "else:\n",
    "    print(\"錯誤\")"
   ]
  },
  {
   "cell_type": "code",
   "execution_count": null,
   "id": "ff025328",
   "metadata": {},
   "outputs": [],
   "source": [
    "# UVA 11349 2023/05/23"
   ]
  }
 ],
 "metadata": {
  "kernelspec": {
   "display_name": "Python 3 (ipykernel)",
   "language": "python",
   "name": "python3"
  },
  "language_info": {
   "codemirror_mode": {
    "name": "ipython",
    "version": 3
   },
   "file_extension": ".py",
   "mimetype": "text/x-python",
   "name": "python",
   "nbconvert_exporter": "python",
   "pygments_lexer": "ipython3",
   "version": "3.8.16"
  }
 },
 "nbformat": 4,
 "nbformat_minor": 5
}
