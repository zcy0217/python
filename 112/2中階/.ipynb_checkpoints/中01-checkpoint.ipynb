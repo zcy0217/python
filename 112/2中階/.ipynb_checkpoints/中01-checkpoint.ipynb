{
 "cells": [
  {
   "cell_type": "code",
   "execution_count": null,
   "id": "97e90fc1",
   "metadata": {},
   "outputs": [],
   "source": [
    "'''\n",
    "讀取\"C:\\python闖關\\測資\\中階1.txt\"檔案裡的測資，偵測完全部測資則程式結束\n",
    "第一列為測試資料的列數N，接下來有N列資料，每一列為一句英文句子，可能有空白列\n",
    "輸出英文字母出現的次數；依照出現的次數由大到小印出；沒有出現過的字母不列印；如果出現的次數相同，則先印排列較前的字母\n",
    "將結果寫進\"C:\\python闖關\\學生解答\"的資料夾裡面且取名為\"中階1-你的學號.txt\"，console不用顯示結果\n",
    "讀取\"C:\\python闖關\\解答\\中階1.txt\"來對照\"C:\\python闖關\\學生解答\\中階1-你的學號.txt\"是否一樣，若一樣則在console輸出正確，否則輸出錯誤\n",
    "Hint：先使用附檔的txt檔來撰寫程式，最後再改成以上規定的檔案路徑，要注意換行或是空白，只要不一樣都是錯誤的，並注意編碼問題!!\n",
    "\n",
    "檔名對照：\n",
    "\"C:\\python闖關\\測資\\中階1.txt\" = \"中階1-範例輸入.txt\"\n",
    "\"C:\\python闖關\\解答\\中階1.txt\" = \"中階1-範例輸出.txt\"\n",
    "\"C:\\python闖關\\學生解答\\中階1-你的學號.txt\" = \"中階1-你的學號.txt\"\n",
    "連結附檔：https://drive.google.com/drive/folders/19P1C42tOHe0g6ZLuWYc7R6tIMFIoiDPG?usp=sharing\n",
    "\n",
    "範例輸入:\n",
    "3\n",
    "This is a test.\n",
    "Is this problem easy???\n",
    "Well, soso.\n",
    "\n",
    "範例輸出txt檔的內容(詳細如連結附檔):\n",
    "S 8\n",
    "E 4\n",
    "I 4\n",
    "T 4\n",
    "L 3\n",
    "O 3\n",
    "A 2\n",
    "H 2\n",
    "B 1\n",
    "M 1\n",
    "P 1\n",
    "R 1\n",
    "Y 1\n",
    "W 1\n",
    "'''"
   ]
  },
  {
   "cell_type": "markdown",
   "id": "02dcc349",
   "metadata": {},
   "source": [
    "# 最終繳交正解"
   ]
  },
  {
   "cell_type": "code",
   "execution_count": 3,
   "id": "e3da19f0",
   "metadata": {},
   "outputs": [
    {
     "name": "stdout",
     "output_type": "stream",
     "text": [
      "正確\n"
     ]
    }
   ],
   "source": [
    "import re\n",
    "\n",
    "with open(\"C:\\python闖關\\學生解答\\中階1-b10905001.txt\",\"w\") as _:\n",
    "    with open(\"C:\\python闖關\\測資\\中階1.txt\", 'r') as file:\n",
    "        lines = file.readlines()\n",
    "\n",
    "    num = int(lines[0])\n",
    "    wordlist = []\n",
    "    for line in lines[1:num+1]:\n",
    "        wordlist.extend(line.upper().strip())\n",
    "\n",
    "    wordlist = re.sub(u\"([^\\u0041-\\u005A])\", \"\", str(wordlist))\n",
    "\n",
    "    worddict = {}\n",
    "    for i in wordlist:\n",
    "        if i in worddict.keys():\n",
    "            worddict[i] += 1\n",
    "        else:\n",
    "            worddict[i] = 1\n",
    "\n",
    "    worddictlist = []\n",
    "    for key, value in list(worddict.items()):\n",
    "        worddictlist.sort(key=lambda a: a[0])\n",
    "        worddictlist.append((key, value))\n",
    "        worddictlist.sort(key=lambda a: (a[1]), reverse=True)\n",
    "    countspace = 1    \n",
    "    with open(\"C:\\python闖關\\學生解答\\中階1-b10905001.txt\",\"w\") as w:\n",
    "        for key, value in worddictlist:\n",
    "            w.write(f\"{key} {value}\")\n",
    "            if countspace != len(worddictlist):\n",
    "                w.write(\"\\n\")\n",
    "            countspace += 1\n",
    "            \n",
    "    with open(\"C:\\python闖關\\解答\\中階1.txt\", 'r',encoding=\"utf-8\") as file1:\n",
    "        content1 = file1.read()\n",
    "    with open(\"C:\\python闖關\\學生解答\\中階1-b10905001.txt\", 'r') as file2:\n",
    "        content2 = file2.read()\n",
    "    if content1 == content2:\n",
    "        print(\"正確\")\n",
    "    else:\n",
    "        print(\"錯誤\")"
   ]
  },
  {
   "cell_type": "markdown",
   "id": "450e6cba",
   "metadata": {},
   "source": [
    "# 測試繳交正解"
   ]
  },
  {
   "cell_type": "code",
   "execution_count": 4,
   "id": "1f465def",
   "metadata": {},
   "outputs": [
    {
     "name": "stdout",
     "output_type": "stream",
     "text": [
      "正確\n"
     ]
    }
   ],
   "source": [
    "import re\n",
    "\n",
    "with open(\"C:\\python闖關\\範例測資\\中階1-b10905001.txt\",\"w\") as _:\n",
    "    with open(\"C:\\python闖關\\範例測資\\中階1-範例輸入.txt\", 'r') as file:\n",
    "        lines = file.readlines()\n",
    "\n",
    "    num = int(lines[0])\n",
    "    wordlist = []\n",
    "    for line in lines[1:num+1]:\n",
    "        wordlist.extend(line.upper().strip())\n",
    "\n",
    "    wordlist = re.sub(u\"([^\\u0041-\\u005A])\", \"\", str(wordlist))\n",
    "\n",
    "    worddict = {}\n",
    "    for i in wordlist:\n",
    "        if i in worddict.keys():\n",
    "            worddict[i] += 1\n",
    "        else:\n",
    "            worddict[i] = 1\n",
    "\n",
    "    worddictlist = []\n",
    "    for key, value in list(worddict.items()):\n",
    "        worddictlist.sort(key=lambda a: a[0])\n",
    "        worddictlist.append((key, value))\n",
    "        worddictlist.sort(key=lambda a: (a[1]), reverse=True)\n",
    "    countspace = 1    \n",
    "    with open(\"C:\\python闖關\\範例測資\\中階1-b10905001.txt\",\"w\") as w:\n",
    "        for key, value in worddictlist:\n",
    "            w.write(f\"{key} {value}\")\n",
    "            if countspace != len(worddictlist):\n",
    "                w.write(\"\\n\")\n",
    "            countspace += 1\n",
    "            \n",
    "    with open(\"C:\\python闖關\\範例測資\\中階1-範例輸出.txt\", 'r',encoding=\"utf-8\") as file1:\n",
    "        content1 = file1.read()\n",
    "    with open(\"C:\\python闖關\\範例測資\\中階1-b10905001.txt\", 'r') as file2:\n",
    "        content2 = file2.read()\n",
    "    if content1 == content2:\n",
    "        print(\"正確\")\n",
    "    else:\n",
    "        print(\"錯誤\")"
   ]
  },
  {
   "cell_type": "code",
   "execution_count": null,
   "id": "f2846fc8",
   "metadata": {},
   "outputs": [],
   "source": [
    "# UVA 10008"
   ]
  }
 ],
 "metadata": {
  "kernelspec": {
   "display_name": "Python 3 (ipykernel)",
   "language": "python",
   "name": "python3"
  },
  "language_info": {
   "codemirror_mode": {
    "name": "ipython",
    "version": 3
   },
   "file_extension": ".py",
   "mimetype": "text/x-python",
   "name": "python",
   "nbconvert_exporter": "python",
   "pygments_lexer": "ipython3",
   "version": "3.8.16"
  }
 },
 "nbformat": 4,
 "nbformat_minor": 5
}
