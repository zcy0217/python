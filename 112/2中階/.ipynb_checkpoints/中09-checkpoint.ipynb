{
 "cells": [
  {
   "cell_type": "code",
   "execution_count": null,
   "id": "3f0e8a8d",
   "metadata": {},
   "outputs": [],
   "source": [
    "'''\n",
    "讀取\"C:\\python闖關\\測資\\中階9.txt\"檔案裡的測資，第一行為接下來有幾筆測資\n",
    "找出重複文字數量為質數個的文字，文字可能為數字或英文字母，區分大小寫，輸出的值要按照ASCII值由小到大排列\n",
    "將結果寫進\"C:\\python闖關\\學生解答\"的資料夾裡面且取名為\"中階9-你的學號.txt\"，console不用顯示結果\n",
    "讀取\"C:\\python闖關\\解答\\中階9.txt\"來對照\"C:\\python闖關\\學生解答\\中階9-你的學號.txt\"是否一樣，若一樣則在console輸出正確，否則輸出錯誤\n",
    "Hint：先使用附檔的txt檔來撰寫程式，最後再改成以上規定的檔案路徑，要注意換行或是空白，只要不一樣都是錯誤的，並注意編碼問題!!\n",
    "\n",
    "檔名對照：\n",
    "\"C:\\python闖關\\測資\\中階9.txt\" = \"中階9-範例輸入.txt\"\n",
    "\"C:\\python闖關\\解答\\中階9.txt\" = \"中階9-範例輸出.txt\"\n",
    "\"C:\\python闖關\\學生解答\\中階9-你的學號.txt\" = \"中階9-你的學號.txt\"\n",
    "連結附檔：https://drive.google.com/drive/folders/19P1C42tOHe0g6ZLuWYc7R6tIMFIoiDPG?usp=sharing\n",
    "\n",
    "範例輸入：\n",
    "2\n",
    "BCCAABBBBD1DDDDBCDFFFF\n",
    "BbbbbBBB\n",
    "\n",
    "範例輸出txt檔的內容(詳細如連結附檔):\n",
    "Case 1: AC\n",
    "Case 2: empty\n",
    "'''"
   ]
  },
  {
   "cell_type": "markdown",
   "id": "a320223a",
   "metadata": {},
   "source": [
    "# 最終繳交正解"
   ]
  },
  {
   "cell_type": "code",
   "execution_count": 1,
   "id": "64ba38fa",
   "metadata": {},
   "outputs": [
    {
     "name": "stdout",
     "output_type": "stream",
     "text": [
      "正確\n"
     ]
    }
   ],
   "source": [
    "with open(\"C:\\python闖關\\學生解答\\中階9-b10905001.txt\",\"w\") as _:\n",
    "    with open(\"C:\\python闖關\\測資\\中階9.txt\", 'r') as file:\n",
    "        space = False\n",
    "        def prime(x):\n",
    "            if x == 1:\n",
    "                return False\n",
    "            for i in range(2, x):\n",
    "                if x % i == 0:\n",
    "                    return False\n",
    "            return True\n",
    "        lines = file.readlines()\n",
    "\n",
    "        T = int(lines[0].strip())\n",
    "\n",
    "        for t in range(T):\n",
    "            ans = ''\n",
    "            word = lines[t + 1].strip()\n",
    "            setword = list(set(word))\n",
    "            for i in setword:\n",
    "                num = word.count(i)\n",
    "                if prime(num):\n",
    "                    ans += i\n",
    "            ans = ''.join(sorted(ans))\n",
    "            with open(\"C:\\python闖關\\學生解答\\中階9-b10905001.txt\",\"a\") as w:  \n",
    "                if space == True:\n",
    "                    w.write('\\n')\n",
    "                space = True\n",
    "                if len(ans) == 0:\n",
    "                    w.write(f\"Case {t + 1}: empty\")\n",
    "                else:\n",
    "                    w.write(f\"Case {t + 1}: {ans}\")      \n",
    "                         \n",
    "with open(\"C:\\python闖關\\解答\\中階9.txt\", 'r',encoding=\"utf-8\") as file1:\n",
    "    content1 = file1.read()\n",
    "with open(\"C:\\python闖關\\學生解答\\中階9-b10905001.txt\", 'r') as file2:\n",
    "    content2 = file2.read()\n",
    "if content1 == content2:\n",
    "    print(\"正確\")\n",
    "else:\n",
    "    print(\"錯誤\")"
   ]
  },
  {
   "cell_type": "markdown",
   "id": "c46edf25",
   "metadata": {},
   "source": [
    "# 測試繳交正解"
   ]
  },
  {
   "cell_type": "code",
   "execution_count": 2,
   "id": "d0e1eaa6",
   "metadata": {},
   "outputs": [
    {
     "name": "stdout",
     "output_type": "stream",
     "text": [
      "正確\n"
     ]
    }
   ],
   "source": [
    "with open(\"C:\\python闖關\\範例測資\\中階9-b10905001.txt\",\"w\") as _:\n",
    "    with open(\"C:\\python闖關\\範例測資\\中階9-範例輸入.txt\", 'r') as file:\n",
    "        space = False\n",
    "        def prime(x):\n",
    "            if x == 1:\n",
    "                return False\n",
    "            for i in range(2, x):\n",
    "                if x % i == 0:\n",
    "                    return False\n",
    "            return True\n",
    "        lines = file.readlines()\n",
    "\n",
    "        T = int(lines[0].strip())\n",
    "\n",
    "        for t in range(T):\n",
    "            ans = ''\n",
    "            word = lines[t + 1].strip()\n",
    "            setword = list(set(word))\n",
    "            for i in setword:\n",
    "                num = word.count(i)\n",
    "                if prime(num):\n",
    "                    ans += i\n",
    "            ans = ''.join(sorted(ans))\n",
    "            with open(\"C:\\python闖關\\範例測資\\中階9-b10905001.txt\",\"a\") as w:  \n",
    "                if space == True:\n",
    "                    w.write('\\n')\n",
    "                space = True\n",
    "                if len(ans) == 0:\n",
    "                    w.write(f\"Case {t + 1}: empty\")\n",
    "                else:\n",
    "                    w.write(f\"Case {t + 1}: {ans}\")      \n",
    "                         \n",
    "with open(\"C:\\python闖關\\範例測資\\中階9-範例輸出.txt\", 'r',encoding=\"utf-8\") as file1:\n",
    "    content1 = file1.read()\n",
    "with open(\"C:\\python闖關\\範例測資\\中階9-b10905001.txt\", 'r') as file2:\n",
    "    content2 = file2.read()\n",
    "if content1 == content2:\n",
    "    print(\"正確\")\n",
    "else:\n",
    "    print(\"錯誤\")"
   ]
  },
  {
   "cell_type": "code",
   "execution_count": null,
   "id": "ff025328",
   "metadata": {},
   "outputs": [],
   "source": [
    "# cpe 10789 2022/12/13"
   ]
  }
 ],
 "metadata": {
  "kernelspec": {
   "display_name": "Python 3 (ipykernel)",
   "language": "python",
   "name": "python3"
  },
  "language_info": {
   "codemirror_mode": {
    "name": "ipython",
    "version": 3
   },
   "file_extension": ".py",
   "mimetype": "text/x-python",
   "name": "python",
   "nbconvert_exporter": "python",
   "pygments_lexer": "ipython3",
   "version": "3.8.16"
  }
 },
 "nbformat": 4,
 "nbformat_minor": 5
}
