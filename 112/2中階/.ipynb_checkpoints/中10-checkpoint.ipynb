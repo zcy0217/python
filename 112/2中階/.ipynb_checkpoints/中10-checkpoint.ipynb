{
 "cells": [
  {
   "cell_type": "code",
   "execution_count": null,
   "id": "3f0e8a8d",
   "metadata": {},
   "outputs": [],
   "source": [
    "'''\n",
    "讀取\"C:\\python闖關\\測資\\中階10.txt\"檔案裡的測資，讀取到0則程式結束\n",
    "製作一個計算猜拳遊戲的勝率的程式\n",
    "開頭的n k代表n名玩家中的每名玩家與其他玩家中的每名玩家玩k次，總共k∗n∗(n−1)/2場比賽\n",
    "計算出每個玩家平均獲勝次數，定義為win/(win+lose)，四捨五入到小數點後三位，在每組測試資料輸出間，輸出一個空行\n",
    "讀取\"C:\\python闖關\\解答\\中階10.txt\"來對照\"C:\\python闖關\\學生解答\\中階10-你的學號.txt\"是否一樣，若一樣則在console輸出正確，否則輸出錯誤\n",
    "Hint：先使用附檔的txt檔來撰寫程式，最後再改成以上規定的檔案路徑，要注意換行或是空白，只要不一樣都是錯誤的，並注意編碼問題!!\n",
    "\n",
    "檔名對照：\n",
    "\"C:\\python闖關\\測資\\中階10.txt\" = \"中階10-範例輸入.txt\"\n",
    "\"C:\\python闖關\\解答\\中階10.txt\" = \"中階10-範例輸出.txt\"\n",
    "\"C:\\python闖關\\學生解答\\中階10-你的學號.txt\" = \"中階10-你的學號.txt\"\n",
    "連結附檔：https://drive.google.com/drive/folders/19P1C42tOHe0g6ZLuWYc7R6tIMFIoiDPG?usp=sharing\n",
    "\n",
    "範例輸入：\n",
    "3 2\n",
    "2 scissors 3 scissors\n",
    "3 rock 1 paper\n",
    "2 rock 1 scissors\n",
    "2 rock 1 rock\n",
    "2 rock 3 rock\n",
    "3 paper 1 scissors\n",
    "0\n",
    "\n",
    "範例輸出txt檔的內容(詳細如連結附檔):\n",
    "0.667\n",
    "1.000\n",
    "0.000\n",
    "'''"
   ]
  },
  {
   "cell_type": "markdown",
   "id": "a320223a",
   "metadata": {},
   "source": [
    "# 最終繳交正解"
   ]
  },
  {
   "cell_type": "code",
   "execution_count": 40,
   "id": "64ba38fa",
   "metadata": {},
   "outputs": [
    {
     "name": "stdout",
     "output_type": "stream",
     "text": [
      "正確\n"
     ]
    }
   ],
   "source": [
    "with open(\"C:\\python闖關\\學生解答\\中階10-b10905001.txt\",\"w\") as _:\n",
    "    with open(\"C:\\python闖關\\測資\\中階10.txt\", 'r') as file:\n",
    "        WIN = 0\n",
    "        LOSE = 1\n",
    "        space = False\n",
    "        lines = file.readlines()\n",
    "        while True:\n",
    "            try:\n",
    "                n, k = map(int, lines.pop(0).split())\n",
    "            except ValueError:\n",
    "                break\n",
    "            if k == 0:\n",
    "                continue\n",
    "            state = [[0, 0] for _ in range(n+1)]\n",
    "\n",
    "            for i in range(k * n * (n - 1) // 2):\n",
    "                p1, m1, p2, m2 = lines.pop(0).split()\n",
    "                p1, p2 = int(p1), int(p2)\n",
    "\n",
    "                if m1 != m2:\n",
    "                    if (m1 == 'rock' and m2 == 'scissors') or (m1 == 'scissors' and m2 == 'paper') or (m1 == 'paper' and m2 == 'rock'):\n",
    "                        state[p1][WIN] += 1\n",
    "                        state[p2][LOSE] += 1\n",
    "                    else:\n",
    "                        state[p1][LOSE] += 1\n",
    "                        state[p2][WIN] += 1\n",
    "            with open(\"C:\\python闖關\\學生解答\\中階10-b10905001.txt\",\"a\") as w:              \n",
    "                if space == True:\n",
    "                    w.write(\"\\n\\n\")\n",
    "                space = True\n",
    "                for i in range(1, n + 1):\n",
    "                    if state[i][WIN] + state[i][LOSE] == 0:\n",
    "                        w.write(\"-\")\n",
    "                    else:\n",
    "                        w.write(\"{:.3f}\".format(state[i][WIN] / (state[i][WIN] + state[i][LOSE])))    \n",
    "                    if i <= n-1:\n",
    "                        w.write(\"\\n\")\n",
    "with open(\"C:\\python闖關\\解答\\中階10.txt\", 'r',encoding=\"utf-8\") as file1:\n",
    "    content1 = file1.read()\n",
    "with open(\"C:\\python闖關\\學生解答\\中階10-b10905001.txt\", 'r') as file2:\n",
    "    content2 = file2.read()\n",
    "if content1 == content2:\n",
    "    print(\"正確\")\n",
    "else:\n",
    "    print(\"錯誤\")"
   ]
  },
  {
   "cell_type": "markdown",
   "id": "c46edf25",
   "metadata": {},
   "source": [
    "# 測試繳交正解"
   ]
  },
  {
   "cell_type": "code",
   "execution_count": 41,
   "id": "d0e1eaa6",
   "metadata": {},
   "outputs": [
    {
     "name": "stdout",
     "output_type": "stream",
     "text": [
      "正確\n"
     ]
    }
   ],
   "source": [
    "with open(\"C:\\python闖關\\範例測資\\中階10-b10905001.txt\",\"w\") as _:\n",
    "    with open(\"C:\\python闖關\\範例測資\\中階10-範例輸入.txt\", 'r') as file:\n",
    "        WIN = 0\n",
    "        LOSE = 1\n",
    "        space = False\n",
    "        lines = file.readlines()\n",
    "        while True:\n",
    "            try:\n",
    "                n, k = map(int, lines.pop(0).split())\n",
    "            except ValueError:\n",
    "                break\n",
    "            if k == 0:\n",
    "                continue\n",
    "            state = [[0, 0] for _ in range(n+1)]\n",
    "\n",
    "            for i in range(k * n * (n - 1) // 2):\n",
    "                p1, m1, p2, m2 = lines.pop(0).split()\n",
    "                p1, p2 = int(p1), int(p2)\n",
    "\n",
    "                if m1 != m2:\n",
    "                    if (m1 == 'rock' and m2 == 'scissors') or (m1 == 'scissors' and m2 == 'paper') or (m1 == 'paper' and m2 == 'rock'):\n",
    "                        state[p1][WIN] += 1\n",
    "                        state[p2][LOSE] += 1\n",
    "                    else:\n",
    "                        state[p1][LOSE] += 1\n",
    "                        state[p2][WIN] += 1\n",
    "            with open(\"C:\\python闖關\\範例測資\\中階10-b10905001.txt\",\"a\") as w:              \n",
    "                if space == True:\n",
    "                    w.write(\"\\n\\n\")\n",
    "                space = True\n",
    "                for i in range(1, n + 1):\n",
    "                    if state[i][WIN] + state[i][LOSE] == 0:\n",
    "                        w.write(\"-\")\n",
    "                    else:\n",
    "                        w.write(\"{:.3f}\".format(state[i][WIN] / (state[i][WIN] + state[i][LOSE])))    \n",
    "                    if i <= n-1:\n",
    "                        w.write(\"\\n\")\n",
    "with open(\"C:\\python闖關\\範例測資\\中階10-範例輸出.txt\", 'r',encoding=\"utf-8\") as file1:\n",
    "    content1 = file1.read()\n",
    "with open(\"C:\\python闖關\\範例測資\\中階10-b10905001.txt\", 'r') as file2:\n",
    "    content2 = file2.read()\n",
    "if content1 == content2:\n",
    "    print(\"正確\")\n",
    "else:\n",
    "    print(\"錯誤\")"
   ]
  },
  {
   "cell_type": "code",
   "execution_count": null,
   "id": "ff025328",
   "metadata": {},
   "outputs": [],
   "source": [
    "# cpe 10903 2022/12/13"
   ]
  }
 ],
 "metadata": {
  "kernelspec": {
   "display_name": "Python 3 (ipykernel)",
   "language": "python",
   "name": "python3"
  },
  "language_info": {
   "codemirror_mode": {
    "name": "ipython",
    "version": 3
   },
   "file_extension": ".py",
   "mimetype": "text/x-python",
   "name": "python",
   "nbconvert_exporter": "python",
   "pygments_lexer": "ipython3",
   "version": "3.8.16"
  }
 },
 "nbformat": 4,
 "nbformat_minor": 5
}
