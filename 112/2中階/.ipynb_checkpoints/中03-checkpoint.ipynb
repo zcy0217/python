{
 "cells": [
  {
   "cell_type": "code",
   "execution_count": null,
   "id": "3f0e8a8d",
   "metadata": {},
   "outputs": [],
   "source": [
    "'''\n",
    "讀取\"C:\\python闖關\\測資\\中階3.txt\"檔案裡的測資，偵測完全部測資則程式結束\n",
    "製作一個的程式來查看主角目前所在的夢境在哪裡\n",
    "第一列為測試資料的列數N，接下來有N列資料\n",
    "此輸入主要分為三個類別：Sleep X、Kick、Test\n",
    "Sleep X - Tom進入 X 的夢\n",
    "Kick - 把Tom所在的夢的人叫醒，並回到前一個人的夢裡(若沒有前一個人則不用理會此步驟)\n",
    "Test - 輸出Tom在誰的夢裡，如果Tom沒有在任何人的夢裡就輸出\"不在夢裡\"\n",
    "將結果寫進\"C:\\python闖關\\學生解答\"的資料夾裡面且取名為\"中階3-你的學號.txt\"，console不用顯示結果\n",
    "讀取\"C:\\python闖關\\解答\\中階3.txt\"來對照\"C:\\python闖關\\學生解答\\中階3-你的學號.txt\"是否一樣，若一樣則在console輸出正確，否則輸出錯誤\n",
    "Hint：先使用附檔的txt檔來撰寫程式，最後再改成以上規定的檔案路徑，要注意換行或是空白，只要不一樣都是錯誤的，並注意編碼問題!!\n",
    "\n",
    "檔名對照：\n",
    "\"C:\\python闖關\\測資\\中階3.txt\" = \"中階3-範例輸入.txt\"\n",
    "\"C:\\python闖關\\解答\\中階3.txt\" = \"中階3-範例輸出.txt\"\n",
    "\"C:\\python闖關\\學生解答\\中階3-你的學號.txt\" = \"中階3-你的學號.txt\"\n",
    "連結附檔：https://drive.google.com/drive/folders/19P1C42tOHe0g6ZLuWYc7R6tIMFIoiDPG?usp=sharing\n",
    "\n",
    "範例輸入：\n",
    "20\n",
    "Sleep A\n",
    "Sleep B\n",
    "Test\n",
    "Sleep C\n",
    "Sleep D\n",
    "Test\n",
    "Kick\n",
    "Test\n",
    "Sleep E\n",
    "Test\n",
    "Kick\n",
    "Test\n",
    "Kick\n",
    "Test\n",
    "Kick\n",
    "Test\n",
    "Kick\n",
    "Test\n",
    "Kick\n",
    "Test\n",
    "\n",
    "範例輸出txt檔的內容(詳細如連結附檔):\n",
    "B\n",
    "D\n",
    "C\n",
    "E\n",
    "C\n",
    "B\n",
    "A\n",
    "不在夢裡\n",
    "不在夢裡\n",
    "'''"
   ]
  },
  {
   "cell_type": "markdown",
   "id": "a320223a",
   "metadata": {},
   "source": [
    "# 最終繳交正解"
   ]
  },
  {
   "cell_type": "code",
   "execution_count": 1,
   "id": "64ba38fa",
   "metadata": {},
   "outputs": [
    {
     "name": "stdout",
     "output_type": "stream",
     "text": [
      "正確\n"
     ]
    }
   ],
   "source": [
    "with open(\"C:\\python闖關\\學生解答\\中階3-b10905001.txt\",\"w\") as _:\n",
    "    with open(\"C:\\python闖關\\測資\\中階3.txt\", 'r') as file:\n",
    "        lines = file.readlines()\n",
    "        inputlist,namelist = [],[]\n",
    "        for times in range(1,int(lines[0])+1):\n",
    "            inputlist.append(lines[times].split())\n",
    "        with open(\"C:\\python闖關\\學生解答\\中階3-b10905001.txt\",\"w\") as w:     \n",
    "            for i in range(len(inputlist)):\n",
    "                if inputlist[i][0] == \"Sleep\":\n",
    "                    namelist.append(inputlist[i][1])\n",
    "                elif inputlist[i][0] == \"Test\":\n",
    "                    if namelist:\n",
    "                        w.write(namelist[-1])\n",
    "                    else:\n",
    "                        w.write(\"不在夢裡\")\n",
    "                    if i<len(inputlist)-1:\n",
    "                        w.write(\"\\n\")\n",
    "                elif inputlist[i][0] == \"Kick\":\n",
    "                    if namelist:\n",
    "                        namelist.pop()\n",
    "                \n",
    "with open(\"C:\\python闖關\\解答\\中階3.txt\", 'r',encoding=\"utf-8\") as file1:\n",
    "    content1 = file1.read()\n",
    "with open(\"C:\\python闖關\\學生解答\\中階3-b10905001.txt\", 'r') as file2:\n",
    "    content2 = file2.read()\n",
    "if content1 == content2:\n",
    "    print(\"正確\")\n",
    "else:\n",
    "    print(\"錯誤\")"
   ]
  },
  {
   "cell_type": "markdown",
   "id": "c46edf25",
   "metadata": {},
   "source": [
    "# 測試繳交正解"
   ]
  },
  {
   "cell_type": "code",
   "execution_count": 2,
   "id": "d0e1eaa6",
   "metadata": {},
   "outputs": [
    {
     "name": "stdout",
     "output_type": "stream",
     "text": [
      "正確\n"
     ]
    }
   ],
   "source": [
    "with open(\"C:\\python闖關\\範例測資\\中階3-b10905001.txt\",\"w\") as _:\n",
    "    with open(\"C:\\python闖關\\範例測資\\中階3-範例輸入.txt\", 'r') as file:\n",
    "        lines = file.readlines()\n",
    "        inputlist,namelist = [],[]\n",
    "        for times in range(1,int(lines[0])+1):\n",
    "            inputlist.append(lines[times].split())\n",
    "        with open(\"C:\\python闖關\\範例測資\\中階3-b10905001.txt\",\"w\") as w:     \n",
    "            for i in range(len(inputlist)):\n",
    "                if inputlist[i][0] == \"Sleep\":\n",
    "                    namelist.append(inputlist[i][1])\n",
    "                elif inputlist[i][0] == \"Test\":\n",
    "                    if namelist:\n",
    "                        w.write(namelist[-1])\n",
    "                    else:\n",
    "                        w.write(\"不在夢裡\")\n",
    "                    if i<len(inputlist)-1:\n",
    "                        w.write(\"\\n\")\n",
    "                elif inputlist[i][0] == \"Kick\":\n",
    "                    if namelist:\n",
    "                        namelist.pop()\n",
    "                \n",
    "with open(\"C:\\python闖關\\範例測資\\中階3-範例輸出.txt\", 'r',encoding=\"utf-8\") as file1:\n",
    "    content1 = file1.read()\n",
    "with open(\"C:\\python闖關\\範例測資\\中階3-b10905001.txt\", 'r') as file2:\n",
    "    content2 = file2.read()\n",
    "if content1 == content2:\n",
    "    print(\"正確\")\n",
    "else:\n",
    "    print(\"錯誤\")"
   ]
  },
  {
   "cell_type": "code",
   "execution_count": null,
   "id": "ff025328",
   "metadata": {},
   "outputs": [],
   "source": [
    "# UVA 13055 2023/03/21"
   ]
  }
 ],
 "metadata": {
  "kernelspec": {
   "display_name": "Python 3 (ipykernel)",
   "language": "python",
   "name": "python3"
  },
  "language_info": {
   "codemirror_mode": {
    "name": "ipython",
    "version": 3
   },
   "file_extension": ".py",
   "mimetype": "text/x-python",
   "name": "python",
   "nbconvert_exporter": "python",
   "pygments_lexer": "ipython3",
   "version": "3.8.16"
  }
 },
 "nbformat": 4,
 "nbformat_minor": 5
}
