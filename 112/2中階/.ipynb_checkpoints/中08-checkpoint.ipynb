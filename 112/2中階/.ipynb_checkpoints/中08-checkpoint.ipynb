{
 "cells": [
  {
   "cell_type": "code",
   "execution_count": null,
   "id": "3f0e8a8d",
   "metadata": {},
   "outputs": [],
   "source": [
    "'''\n",
    "讀取\"C:\\python闖關\\測資\\中階8.txt\"檔案裡的測資，偵測完全部測資則程式結束\n",
    "今天你在爬樓梯，想要計算出如果按照一定規律爬的話會有幾種可能性\n",
    "於是自己自訂了一套規則:每次只能一次跨1步或2步\n",
    "所以來製作出爬樓梯的程式吧!\n",
    "將結果寫進\"C:\\python闖關\\學生解答\"的資料夾裡面且取名為\"中階8-你的學號.txt\"，console不用顯示結果\n",
    "讀取\"C:\\python闖關\\解答\\中階8.txt\"來對照\"C:\\python闖關\\學生解答\\中階8-你的學號.txt\"是否一樣，若一樣則在console輸出正確，否則輸出錯誤\n",
    "Hint：先使用附檔的txt檔來撰寫程式，最後再改成以上規定的檔案路徑，要注意換行或是空白，只要不一樣都是錯誤的，並注意編碼問題!!\n",
    "\n",
    "檔名對照：\n",
    "\"C:\\python闖關\\測資\\中階8.txt\" = \"中階8-範例輸入.txt\"\n",
    "\"C:\\python闖關\\解答\\中階8.txt\" = \"中階8-範例輸出.txt\"\n",
    "\"C:\\python闖關\\學生解答\\中階8-你的學號.txt\" = \"中階8-你的學號.txt\"\n",
    "連結附檔：https://drive.google.com/drive/folders/19P1C42tOHe0g6ZLuWYc7R6tIMFIoiDPG?usp=sharing\n",
    "\n",
    "範例輸入：\n",
    "4\n",
    "45\n",
    "\n",
    "範例輸出txt檔的內容(詳細如連結附檔):\n",
    "5\n",
    "1836311903\n",
    "'''"
   ]
  },
  {
   "cell_type": "markdown",
   "id": "a320223a",
   "metadata": {},
   "source": [
    "# 最終繳交正解"
   ]
  },
  {
   "cell_type": "code",
   "execution_count": 1,
   "id": "64ba38fa",
   "metadata": {},
   "outputs": [
    {
     "name": "stdout",
     "output_type": "stream",
     "text": [
      "正確\n"
     ]
    }
   ],
   "source": [
    "with open(\"C:\\python闖關\\學生解答\\中階8-b10905001.txt\",\"w\") as _:\n",
    "    with open(\"C:\\python闖關\\測資\\中階8.txt\", 'r') as file:\n",
    "        space = False\n",
    "        lines = file.readlines()\n",
    "        with open(\"C:\\python闖關\\學生解答\\中階8-b10905001.txt\",\"a\") as w:     \n",
    "            for line in lines:\n",
    "                n = int(line.strip())\n",
    "                if space == True:\n",
    "                    w.write('\\n')\n",
    "                space = True\n",
    "                if n<=2:\n",
    "                    w.write(str(n))\n",
    "                    continue\n",
    "                dp = [0]*(n+1)\n",
    "                dp[1] = 1\n",
    "                dp[2] = 2\n",
    "                for i in range(3,n+1):\n",
    "                    dp[i] = dp[i-1]+dp[i-2]\n",
    "                w.write(str(dp[n]))\n",
    "            \n",
    "\n",
    "with open(\"C:\\python闖關\\解答\\中階8.txt\", 'r',encoding=\"utf-8\") as file1:\n",
    "    content1 = file1.read()\n",
    "with open(\"C:\\python闖關\\學生解答\\中階8-b10905001.txt\", 'r') as file2:\n",
    "    content2 = file2.read()\n",
    "if content1 == content2:\n",
    "    print(\"正確\")\n",
    "else:\n",
    "    print(\"錯誤\")"
   ]
  },
  {
   "cell_type": "markdown",
   "id": "c46edf25",
   "metadata": {},
   "source": [
    "# 測試繳交正解"
   ]
  },
  {
   "cell_type": "code",
   "execution_count": 2,
   "id": "d0e1eaa6",
   "metadata": {},
   "outputs": [
    {
     "name": "stdout",
     "output_type": "stream",
     "text": [
      "正確\n"
     ]
    }
   ],
   "source": [
    "with open(\"C:\\python闖關\\範例測資\\中階8-b10905001.txt\",\"w\") as _:\n",
    "    with open(\"C:\\python闖關\\範例測資\\中階8-範例輸入.txt\", 'r') as file:\n",
    "        space = False\n",
    "        lines = file.readlines()\n",
    "        with open(\"C:\\python闖關\\範例測資\\中階8-b10905001.txt\",\"a\") as w:     \n",
    "            for line in lines:\n",
    "                n = int(line.strip())\n",
    "                if space == True:\n",
    "                    w.write('\\n')\n",
    "                space = True\n",
    "                if n<=2:\n",
    "                    w.write(str(n))\n",
    "                    continue\n",
    "                dp = [0]*(n+1)\n",
    "                dp[1] = 1\n",
    "                dp[2] = 2\n",
    "                for i in range(3,n+1):\n",
    "                    dp[i] = dp[i-1]+dp[i-2]\n",
    "                w.write(str(dp[n]))\n",
    "            \n",
    "\n",
    "with open(\"C:\\python闖關\\範例測資\\中階8-範例輸出.txt\", 'r',encoding=\"utf-8\") as file1:\n",
    "    content1 = file1.read()\n",
    "with open(\"C:\\python闖關\\範例測資\\中階8-b10905001.txt\", 'r') as file2:\n",
    "    content2 = file2.read()\n",
    "if content1 == content2:\n",
    "    print(\"正確\")\n",
    "else:\n",
    "    print(\"錯誤\")"
   ]
  },
  {
   "cell_type": "code",
   "execution_count": null,
   "id": "ff025328",
   "metadata": {},
   "outputs": [],
   "source": [
    "# 爬樓梯"
   ]
  }
 ],
 "metadata": {
  "kernelspec": {
   "display_name": "Python 3 (ipykernel)",
   "language": "python",
   "name": "python3"
  },
  "language_info": {
   "codemirror_mode": {
    "name": "ipython",
    "version": 3
   },
   "file_extension": ".py",
   "mimetype": "text/x-python",
   "name": "python",
   "nbconvert_exporter": "python",
   "pygments_lexer": "ipython3",
   "version": "3.8.16"
  }
 },
 "nbformat": 4,
 "nbformat_minor": 5
}
