{
 "cells": [
  {
   "cell_type": "code",
   "execution_count": null,
   "id": "3f0e8a8d",
   "metadata": {},
   "outputs": [],
   "source": [
    "'''\n",
    "讀取\"C:\\python闖關\\測資\\中階7.txt\"檔案裡的測資，偵測完全部測資則程式結束\n",
    "每行測資的第一個數字為分子，第二個數字為分母，求出如下舉例的每個數字\n",
    "舉例：52/37=1+(1/(2+(1/(2+(1/(7+(1/7)))))，將所有的分母都取出來可以得到1 2 2 7，請參考附圖，輸出方式如範例輸出所示\n",
    "將結果寫進\"C:\\python闖關\\學生解答\"的資料夾裡面且取名為\"中階7-你的學號.txt\"，console不用顯示結果\n",
    "讀取\"C:\\python闖關\\解答\\中階7.txt\"來對照\"C:\\python闖關\\學生解答\\中階7-你的學號.txt\"是否一樣，若一樣則在console輸出正確，否則輸出錯誤\n",
    "Hint：先使用附檔的txt檔來撰寫程式，最後再改成以上規定的檔案路徑，要注意換行或是空白，只要不一樣都是錯誤的，並注意編碼問題!!\n",
    "\n",
    "檔名對照：\n",
    "\"C:\\python闖關\\測資\\中階7.txt\" = \"中階7-範例輸入.txt\"\n",
    "\"C:\\python闖關\\解答\\中階7.txt\" = \"中階7-範例輸出.txt\"\n",
    "\"C:\\python闖關\\學生解答\\中階7-你的學號.txt\" = \"中階7-你的學號.txt\"\n",
    "連結附檔：https://drive.google.com/drive/folders/19P1C42tOHe0g6ZLuWYc7R6tIMFIoiDPG?usp=sharing\n",
    "\n",
    "範例輸入：\n",
    "52 37\n",
    "29 13\n",
    "\n",
    "範例輸出txt檔的內容(詳細如連結附檔):\n",
    "[1;2,2,7]\n",
    "[2;4,3]\n",
    "'''"
   ]
  },
  {
   "attachments": {
    "%E4%B8%AD%E9%9A%8E7.jpg": {
     "image/jpeg": "[encoded data removed]"
    }
   },
   "cell_type": "markdown",
   "id": "dccf87f5",
   "metadata": {},
   "source": [
    "![%E4%B8%AD%E9%9A%8E7.jpg](attachment:%E4%B8%AD%E9%9A%8E7.jpg)"
   ]
  },
  {
   "cell_type": "markdown",
   "id": "a320223a",
   "metadata": {},
   "source": [
    "# 最終繳交正解"
   ]
  },
  {
   "cell_type": "code",
   "execution_count": 5,
   "id": "64ba38fa",
   "metadata": {},
   "outputs": [
    {
     "name": "stdout",
     "output_type": "stream",
     "text": [
      "正確\n"
     ]
    }
   ],
   "source": [
    "with open(\"C:\\python闖關\\學生解答\\中階7-b10905001.txt\",\"w\") as _:\n",
    "    with open(\"C:\\python闖關\\測資\\中階7.txt\", 'r') as file:\n",
    "        space = False\n",
    "        while True:\n",
    "            line = file.readline().strip()\n",
    "            if not line:\n",
    "                break \n",
    "            a, b = map(int, line.split())\n",
    "            ch = ';'\n",
    "            result = \"[{}\".format(a // b)\n",
    "            a, b = b, a % b \n",
    "            while b:\n",
    "                result += '{}{}'.format(ch, format(a // b))\n",
    "                a, b = b, a % b\n",
    "                ch = ','\n",
    "            result += ']'\n",
    "            with open(\"C:\\python闖關\\學生解答\\中階7-b10905001.txt\",\"a\") as w:     \n",
    "                if space == True:\n",
    "                    w.write('\\n')\n",
    "                space = True\n",
    "                w.write(result)\n",
    "\n",
    "with open(\"C:\\python闖關\\解答\\中階7.txt\", 'r',encoding=\"utf-8\") as file1:\n",
    "    content1 = file1.read()\n",
    "with open(\"C:\\python闖關\\學生解答\\中階7-b10905001.txt\", 'r') as file2:\n",
    "    content2 = file2.read()\n",
    "if content1 == content2:\n",
    "    print(\"正確\")\n",
    "else:\n",
    "    print(\"錯誤\")"
   ]
  },
  {
   "cell_type": "markdown",
   "id": "c46edf25",
   "metadata": {},
   "source": [
    "# 測試繳交正解"
   ]
  },
  {
   "cell_type": "code",
   "execution_count": 6,
   "id": "d0e1eaa6",
   "metadata": {},
   "outputs": [
    {
     "name": "stdout",
     "output_type": "stream",
     "text": [
      "正確\n"
     ]
    }
   ],
   "source": [
    "with open(\"C:\\python闖關\\範例測資\\中階7-b10905001.txt\",\"w\") as _:\n",
    "    with open(\"C:\\python闖關\\範例測資\\中階7-範例輸入.txt\", 'r') as file:\n",
    "        space = False\n",
    "        while True:\n",
    "            line = file.readline().strip()\n",
    "            if not line:\n",
    "                break \n",
    "            a, b = map(int, line.split())\n",
    "            ch = ';'\n",
    "            result = \"[{}\".format(a // b)\n",
    "            a, b = b, a % b \n",
    "            while b:\n",
    "                result += '{}{}'.format(ch, format(a // b))\n",
    "                a, b = b, a % b\n",
    "                ch = ','\n",
    "            result += ']'\n",
    "            with open(\"C:\\python闖關\\範例測資\\中階7-b10905001.txt\",\"a\") as w:     \n",
    "                if space == True:\n",
    "                    w.write('\\n')\n",
    "                space = True\n",
    "                w.write(result)\n",
    "\n",
    "with open(\"C:\\python闖關\\範例測資\\中階7-範例輸出.txt\", 'r',encoding=\"utf-8\") as file1:\n",
    "    content1 = file1.read()\n",
    "with open(\"C:\\python闖關\\範例測資\\中階7-b10905001.txt\", 'r') as file2:\n",
    "    content2 = file2.read()\n",
    "if content1 == content2:\n",
    "    print(\"正確\")\n",
    "else:\n",
    "    print(\"錯誤\")"
   ]
  },
  {
   "cell_type": "code",
   "execution_count": null,
   "id": "ff025328",
   "metadata": {},
   "outputs": [],
   "source": [
    "# UVA 834 2023/05/23"
   ]
  }
 ],
 "metadata": {
  "kernelspec": {
   "display_name": "Python 3 (ipykernel)",
   "language": "python",
   "name": "python3"
  },
  "language_info": {
   "codemirror_mode": {
    "name": "ipython",
    "version": 3
   },
   "file_extension": ".py",
   "mimetype": "text/x-python",
   "name": "python",
   "nbconvert_exporter": "python",
   "pygments_lexer": "ipython3",
   "version": "3.8.16"
  }
 },
 "nbformat": 4,
 "nbformat_minor": 5
}
