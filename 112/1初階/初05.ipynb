{
 "cells": [
  {
   "cell_type": "code",
   "execution_count": null,
   "id": "51407f0c",
   "metadata": {},
   "outputs": [],
   "source": [
    "'''\n",
    "讓使用者輸入數字，計算出每個位數正負交替的總和，偶數位子為正，奇數位子為負，若輸入0則結束程式\n",
    "\n",
    "範例輸入：\n",
    "12345\n",
    "1234\n",
    "0\n",
    "\n",
    "範例輸出：\n",
    "3\n",
    "-2\n",
    "\n",
    "'''"
   ]
  },
  {
   "cell_type": "code",
   "execution_count": 4,
   "id": "9c14722a",
   "metadata": {},
   "outputs": [
    {
     "name": "stdout",
     "output_type": "stream",
     "text": [
      "12345\n",
      "3\n",
      "1234\n",
      "-2\n",
      "0\n"
     ]
    }
   ],
   "source": [
    "while True:\n",
    "    num = input()\n",
    "    if num == \"0\":\n",
    "        break\n",
    "    total = 0\n",
    "    for index,i in enumerate(list(num)):\n",
    "        if index%2 == 0:\n",
    "            total+=int(i)\n",
    "        else:\n",
    "            total-=int(i)\n",
    "    print(total)"
   ]
  }
 ],
 "metadata": {
  "kernelspec": {
   "display_name": "Python 3 (ipykernel)",
   "language": "python",
   "name": "python3"
  },
  "language_info": {
   "codemirror_mode": {
    "name": "ipython",
    "version": 3
   },
   "file_extension": ".py",
   "mimetype": "text/x-python",
   "name": "python",
   "nbconvert_exporter": "python",
   "pygments_lexer": "ipython3",
   "version": "3.8.16"
  }
 },
 "nbformat": 4,
 "nbformat_minor": 5
}
