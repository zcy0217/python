{
 "cells": [
  {
   "cell_type": "code",
   "execution_count": null,
   "id": "9317081c",
   "metadata": {},
   "outputs": [],
   "source": [
    "'''\n",
    "讓使用者輸入一個英文單字，輸出英文單字的字母間穿插著底線，若輸入空串列則結束輸入\n",
    "\n",
    "範例輸入：\n",
    "good\n",
    "school\n",
    "\n",
    "範例輸出：\n",
    "g_o_o_d\n",
    "s_c_h_o_o_l\n",
    "'''"
   ]
  },
  {
   "cell_type": "code",
   "execution_count": 2,
   "id": "76075fcc",
   "metadata": {},
   "outputs": [
    {
     "name": "stdout",
     "output_type": "stream",
     "text": [
      "good\n",
      "g_o_o_d\n",
      "school\n",
      "s_c_h_o_o_l\n",
      "python\n",
      "p_y_t_h_o_n\n",
      "\n"
     ]
    }
   ],
   "source": [
    "while True:\n",
    "    word=input()\n",
    "    if word == \"\":\n",
    "        break\n",
    "    n=len(word)\n",
    "    for i in range(n):\n",
    "        print(word[i],end='')\n",
    "        if i < n-1:\n",
    "            print('_',end='')\n",
    "    print()"
   ]
  }
 ],
 "metadata": {
  "kernelspec": {
   "display_name": "Python 3 (ipykernel)",
   "language": "python",
   "name": "python3"
  },
  "language_info": {
   "codemirror_mode": {
    "name": "ipython",
    "version": 3
   },
   "file_extension": ".py",
   "mimetype": "text/x-python",
   "name": "python",
   "nbconvert_exporter": "python",
   "pygments_lexer": "ipython3",
   "version": "3.8.16"
  }
 },
 "nbformat": 4,
 "nbformat_minor": 5
}
