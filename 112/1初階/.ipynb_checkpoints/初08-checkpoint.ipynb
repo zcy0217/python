{
 "cells": [
  {
   "cell_type": "code",
   "execution_count": null,
   "id": "6987c24f",
   "metadata": {},
   "outputs": [],
   "source": [
    "'''\n",
    "請用寫出可計算任意a,b兩點的「距離」與「向量」的程式，若輸入為空則結束程式，輸入的四個數字當中前兩個為a點的x和y，反之為b的\n",
    "\n",
    "範例輸入：\n",
    "1 2 3 6\n",
    "8 5 3 5\n",
    "\n",
    "範例輸出：\n",
    "ab兩點距離為4.47，ab向量為[2, 4]\n",
    "ab兩點距離為5.00，ab向量為[-5, 0]\n",
    "'''"
   ]
  },
  {
   "cell_type": "code",
   "execution_count": 9,
   "id": "f342fbeb",
   "metadata": {},
   "outputs": [
    {
     "name": "stdout",
     "output_type": "stream",
     "text": [
      "請輸入兩點座標 (格式：a1 a2 b1 b2)：1 2 3 6\n",
      "ab兩點距離為4.47，ab向量為[2, 4]\n",
      "請輸入兩點座標 (格式：a1 a2 b1 b2)：8 5 3 5\n",
      "ab兩點距離為5.00，ab向量為[-5, 0]\n",
      "請輸入兩點座標 (格式：a1 a2 b1 b2)：1 2 3 4\n",
      "ab兩點距離為2.83，ab向量為[2, 2]\n",
      "請輸入兩點座標 (格式：a1 a2 b1 b2)：1 3 -1 5\n",
      "ab兩點距離為2.83，ab向量為[-2, 2]\n",
      "請輸入兩點座標 (格式：a1 a2 b1 b2)：\n"
     ]
    }
   ],
   "source": [
    "while True:\n",
    "    user_input = input(\"請輸入兩點座標 (格式：a1 a2 b1 b2)：\")\n",
    "    if user_input == \"\":\n",
    "        break\n",
    "    a1, a2, b1, b2 = map(int, user_input.split())\n",
    "    dx = b1 - a1\n",
    "    dy = b2 - a2\n",
    "    distance = ((dx ** 2) + (dy ** 2)) ** 0.5\n",
    "    vector = [int(dx), int(dy)]\n",
    "    print(f\"ab兩點距離為{distance:.2f}，ab向量為{vector}\")"
   ]
  }
 ],
 "metadata": {
  "kernelspec": {
   "display_name": "Python 3 (ipykernel)",
   "language": "python",
   "name": "python3"
  },
  "language_info": {
   "codemirror_mode": {
    "name": "ipython",
    "version": 3
   },
   "file_extension": ".py",
   "mimetype": "text/x-python",
   "name": "python",
   "nbconvert_exporter": "python",
   "pygments_lexer": "ipython3",
   "version": "3.8.16"
  }
 },
 "nbformat": 4,
 "nbformat_minor": 5
}
