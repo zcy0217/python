{
 "cells": [
  {
   "cell_type": "code",
   "execution_count": null,
   "id": "c27560e2",
   "metadata": {},
   "outputs": [],
   "source": [
    "'''\n",
    "讓使用者輸入一段文字，判斷是不是回文，要區分大小寫，若輸入空字串則結束輸入\n",
    "\n",
    "範例輸入：\n",
    "redivider\n",
    "nooN\n",
    "Hello\n",
    "\n",
    "範例輸出：\n",
    "True\n",
    "False\n",
    "False\n",
    "'''"
   ]
  },
  {
   "cell_type": "code",
   "execution_count": 16,
   "id": "7e8db9ba",
   "metadata": {},
   "outputs": [
    {
     "name": "stdout",
     "output_type": "stream",
     "text": [
      "noon\n",
      "True\n",
      "nooN\n",
      "False\n",
      "redivider\n",
      "True\n",
      "hello\n",
      "False\n",
      "\n"
     ]
    }
   ],
   "source": [
    "while True:\n",
    "    word = input()\n",
    "    if word == \"\":\n",
    "        break\n",
    "    if len(word)%2 == 0:\n",
    "        if word[:len(word)//2] == word[len(word)//2:][::-1]:\n",
    "            print(True)\n",
    "        else:\n",
    "            print(False)\n",
    "    else:\n",
    "        if word[:len(word)//2] == word[len(word)//2+1:][::-1]:\n",
    "            print(True)\n",
    "        else:\n",
    "            print(False)"
   ]
  }
 ],
 "metadata": {
  "kernelspec": {
   "display_name": "Python 3 (ipykernel)",
   "language": "python",
   "name": "python3"
  },
  "language_info": {
   "codemirror_mode": {
    "name": "ipython",
    "version": 3
   },
   "file_extension": ".py",
   "mimetype": "text/x-python",
   "name": "python",
   "nbconvert_exporter": "python",
   "pygments_lexer": "ipython3",
   "version": "3.8.16"
  }
 },
 "nbformat": 4,
 "nbformat_minor": 5
}
