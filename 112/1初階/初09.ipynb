{
 "cells": [
  {
   "cell_type": "code",
   "execution_count": null,
   "id": "ab7f9176",
   "metadata": {},
   "outputs": [],
   "source": [
    "'''\n",
    "請寫出一個程式計算單字中指定字母的出現次數，若輸入空字串則結束程式\n",
    "大寫小寫皆可被計算且不能用count計算\n",
    "\n",
    "範例輸入：\n",
    "MoreExample m\n",
    "ABcadEFGaksAwc a\n",
    "\n",
    "範例輸出:\n",
    "2\n",
    "4\n",
    "'''"
   ]
  },
  {
   "cell_type": "code",
   "execution_count": 5,
   "id": "f0a4b3d7",
   "metadata": {},
   "outputs": [
    {
     "name": "stdout",
     "output_type": "stream",
     "text": [
      "MoreExample m\n",
      "2\n",
      "ABcadEFGaksAwc a\n",
      "4\n",
      "\n"
     ]
    }
   ],
   "source": [
    "while True:\n",
    "    word = input().split()\n",
    "    if word == []:\n",
    "        break\n",
    "    total = 0\n",
    "    for i in word[0].lower():\n",
    "        if i == word[1].lower():\n",
    "            total+=1\n",
    "    print(total)"
   ]
  },
  {
   "cell_type": "code",
   "execution_count": null,
   "id": "c8d02a96",
   "metadata": {},
   "outputs": [],
   "source": []
  }
 ],
 "metadata": {
  "kernelspec": {
   "display_name": "Python 3 (ipykernel)",
   "language": "python",
   "name": "python3"
  },
  "language_info": {
   "codemirror_mode": {
    "name": "ipython",
    "version": 3
   },
   "file_extension": ".py",
   "mimetype": "text/x-python",
   "name": "python",
   "nbconvert_exporter": "python",
   "pygments_lexer": "ipython3",
   "version": "3.8.16"
  }
 },
 "nbformat": 4,
 "nbformat_minor": 5
}
