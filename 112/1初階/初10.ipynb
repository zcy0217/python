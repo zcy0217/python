{
 "cells": [
  {
   "cell_type": "code",
   "execution_count": null,
   "id": "c2f3f4d3",
   "metadata": {},
   "outputs": [],
   "source": [
    "'''\n",
    "請設計一個計算平均分數的等第的程式，讓使用者輸入成績，最後輸出平均分數和等第，小數點後最多取兩位(四捨六入)，若輸入空字串則結束程式\n",
    "等第對照表：\n",
    "0  ~ 59  F\n",
    "60 ~ 69  D\n",
    "70 ~ 79  C\n",
    "80 ~ 89  B\n",
    "90 ~ 100 A\n",
    "\n",
    "範例輸入：\n",
    "80 54 97\n",
    "90 55 93 100\n",
    "\n",
    "範例輸出：\n",
    "77.00,C\n",
    "84.50,B\n",
    "\n",
    "'''"
   ]
  },
  {
   "cell_type": "code",
   "execution_count": 12,
   "id": "f8cf59f9",
   "metadata": {},
   "outputs": [
    {
     "name": "stdout",
     "output_type": "stream",
     "text": [
      "98 45 34\n",
      "59.00,F\n",
      "94 58 21\n",
      "57.67,F\n",
      "80 54 97\n",
      "77.00,C\n",
      "90 55 93 100\n",
      "84.50,B\n",
      "\n"
     ]
    }
   ],
   "source": [
    "while True:\n",
    "    score = list(map(int,input().split()))\n",
    "    if score == []:\n",
    "        break\n",
    "    average = round(sum(score)/len(score),2)\n",
    "    if average>=90:\n",
    "        print(f\"{average:.2f},A\")\n",
    "    elif average>=80:\n",
    "        print(f\"{average:.2f},B\")\n",
    "    elif average>=70:\n",
    "        print(f\"{average:.2f},C\")\n",
    "    elif average>=60:\n",
    "        print(f\"{average:.2f},D\")\n",
    "    else:\n",
    "        print(f\"{average:.2f},F\")"
   ]
  }
 ],
 "metadata": {
  "kernelspec": {
   "display_name": "Python 3 (ipykernel)",
   "language": "python",
   "name": "python3"
  },
  "language_info": {
   "codemirror_mode": {
    "name": "ipython",
    "version": 3
   },
   "file_extension": ".py",
   "mimetype": "text/x-python",
   "name": "python",
   "nbconvert_exporter": "python",
   "pygments_lexer": "ipython3",
   "version": "3.8.16"
  }
 },
 "nbformat": 4,
 "nbformat_minor": 5
}
