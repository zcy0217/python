{
 "cells": [
  {
   "cell_type": "code",
   "execution_count": null,
   "id": "b16b09b7",
   "metadata": {},
   "outputs": [],
   "source": [
    "'''\n",
    "小凱去麵包店辦了一張特殊的會員卡，這張卡的功能是只要連續n天購買麵包，第1天每個麵包的價格為1元，第2天每個麵包的價格為2元，.....，第n天每個麵包的價格為n元。\n",
    "請你設計一個程式，讓小凱先輸入連續買了幾天(n)，再來讓他以空格分開輸入這幾天分別買了幾個麵包，最後輸出總金額，若輸入0則結束輸入。\n",
    "\n",
    "範例輸入:\n",
    "3\n",
    "1 1 1\n",
    "5\n",
    "2 1 3 2 4\n",
    "0\n",
    "\n",
    "範例輸出:\n",
    "6元\n",
    "41元\n",
    "'''"
   ]
  },
  {
   "cell_type": "code",
   "execution_count": 1,
   "id": "8ebecd33",
   "metadata": {},
   "outputs": [
    {
     "name": "stdout",
     "output_type": "stream",
     "text": [
      "3\n",
      "1 1 1\n",
      "6元\n",
      "5\n",
      "2 1 3 2 4\n",
      "41元\n",
      "0\n"
     ]
    }
   ],
   "source": [
    "while True:\n",
    "    n=int(input())\n",
    "    if n == 0:\n",
    "        break\n",
    "    total=0\n",
    "    amount=list(input().split())\n",
    "\n",
    "    for i in range(n):\n",
    "        total=total+int(amount[i])*(i+1)\n",
    "    print(str(total)+'元')"
   ]
  },
  {
   "cell_type": "code",
   "execution_count": null,
   "id": "d090b1b5",
   "metadata": {},
   "outputs": [],
   "source": []
  }
 ],
 "metadata": {
  "kernelspec": {
   "display_name": "Python 3 (ipykernel)",
   "language": "python",
   "name": "python3"
  },
  "language_info": {
   "codemirror_mode": {
    "name": "ipython",
    "version": 3
   },
   "file_extension": ".py",
   "mimetype": "text/x-python",
   "name": "python",
   "nbconvert_exporter": "python",
   "pygments_lexer": "ipython3",
   "version": "3.8.16"
  }
 },
 "nbformat": 4,
 "nbformat_minor": 5
}
