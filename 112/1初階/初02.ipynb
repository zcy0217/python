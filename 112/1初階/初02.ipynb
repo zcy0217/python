{
 "cells": [
  {
   "cell_type": "code",
   "execution_count": null,
   "id": "7fcadd11",
   "metadata": {},
   "outputs": [],
   "source": [
    "'''\n",
    "讓使用者輸入電子郵件，判斷此電子郵件的網域為何以及為熱門域名或是自訂域名，若輸入空字串則結束輸入\n",
    "熱門域名：常見的信箱，例如gmail、yahoo、hotmail、outlook這四個，其他都為自訂域名\n",
    "自訂域名：非熱門域名的皆為自訂域名\n",
    "\n",
    "範例輸入：\n",
    "abc123@gmail.com\n",
    "def456@yahoo.com\n",
    "ctbc000@ctbc.edu.tw\n",
    "\n",
    "範例輸出：\n",
    "這是Google的信箱\n",
    "這是Yahoo的信箱\n",
    "這是CTBC自訂域名的信箱\n",
    "'''"
   ]
  },
  {
   "cell_type": "code",
   "execution_count": 4,
   "id": "561e1f13",
   "metadata": {},
   "outputs": [
    {
     "name": "stdout",
     "output_type": "stream",
     "text": [
      "aaa123@gmail.com\n",
      "這是Google的信箱\n",
      "b10905001@ctbc.edu.tw\n",
      "這是ctbc自訂域名的信箱\n",
      "\n"
     ]
    }
   ],
   "source": [
    "popular = {\"gmail\":\"Google\",\"yahoo\":\"Yahoo\",\"hotmail\":\"Microsoft\",\"outlook\":\"Microsoft\"}\n",
    "while True:\n",
    "    mail = input()\n",
    "    if mail == \"\":\n",
    "        break\n",
    "    domain = mail.split(\"@\")[1].split(\".\")[0]\n",
    "    if domain in popular.keys():\n",
    "        print(f\"這是{popular[domain]}的信箱\")\n",
    "    else:\n",
    "        print(f\"這是{domain}自訂域名的信箱\")"
   ]
  },
  {
   "cell_type": "code",
   "execution_count": null,
   "id": "ebeeb963",
   "metadata": {},
   "outputs": [],
   "source": []
  }
 ],
 "metadata": {
  "kernelspec": {
   "display_name": "Python 3 (ipykernel)",
   "language": "python",
   "name": "python3"
  },
  "language_info": {
   "codemirror_mode": {
    "name": "ipython",
    "version": 3
   },
   "file_extension": ".py",
   "mimetype": "text/x-python",
   "name": "python",
   "nbconvert_exporter": "python",
   "pygments_lexer": "ipython3",
   "version": "3.8.16"
  }
 },
 "nbformat": 4,
 "nbformat_minor": 5
}
