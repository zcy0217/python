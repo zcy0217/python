{
 "cells": [
  {
   "cell_type": "code",
   "execution_count": null,
   "metadata": {},
   "outputs": [],
   "source": [
    "'''\n",
    "讀取\"C:\\python闖關\\測資\\高階5.txt\"檔案裡的測資\n",
    "今天你到了一個外星球，發現大家用的數字和地球的有一定關聯性，為了讓自己在當地可以順利的用數學交流，做出一個專屬這個星球的轉換單位的程式碼吧\n",
    "可以發現他們使用AA代表10000000、BB代表100000、CC代表1000、DD代表100。本題要求輸入一個整數n，並輸出此星球描述n的句子\n",
    "輸入資料的每一列為一組測試資料，每組測資為一個非負整數n，最多有15位數字，印出時在每一列前方加上測資編號，向右靠對齊四格\n",
    "將結果寫進\"C:\\python闖關\\學生解答\"的資料夾裡面且取名為\"高階5-你的學號.txt\"，console不用顯示結果\n",
    "讀取\"C:\\python闖關\\解答\\高階5.txt\"來對照\"C:\\python闖關\\學生解答\\高階5-你的學號.txt\"是否一樣，若一樣則在console輸出正確，否則輸出錯誤\n",
    "Hint：先使用附檔的txt檔來撰寫程式，最後再改成以上規定的檔案路徑，要注意換行或是空白，只要不一樣都是錯誤的，並注意編碼問題!!\n",
    "\n",
    "檔名對照：\n",
    "\"C:\\python闖關\\測資\\高階5.txt\" = \"高階5-範例輸入.txt\"\n",
    "\"C:\\python闖關\\解答\\高階5.txt\" = \"高階5-範例輸出.txt\"\n",
    "\"C:\\python闖關\\學生解答\\高階5-你的學號.txt\" = \"高階5-你的學號.txt\"\n",
    "連結附檔：https://drive.google.com/drive/folders/19P1C42tOHe0g6ZLuWYc7R6tIMFIoiDPG?usp=sharing\n",
    "\n",
    "範例輸入:\n",
    "739472\n",
    "857294968482961\n",
    "\n",
    "範例輸出txt檔的內容(詳細如連結附檔):\n",
    "   1. 7 BB 39 CC 4 DD 72\n",
    "   2. 8 AA 57 BB 29 CC 4 DD 96 AA 84 BB 82 CC 9 DD 61\n",
    "'''"
   ]
  },
  {
   "cell_type": "markdown",
   "metadata": {},
   "source": [
    "# 最終繳交正解"
   ]
  },
  {
   "cell_type": "code",
   "execution_count": 1,
   "metadata": {},
   "outputs": [
    {
     "name": "stdout",
     "output_type": "stream",
     "text": [
      "正確\n"
     ]
    }
   ],
   "source": [
    "with open(\"C:\\python闖關\\學生解答\\高階5-b10905001.txt\",\"w\") as _:\n",
    "    with open(\"C:\\python闖關\\測資\\高階5.txt\",\"r\") as file,open(\"C:\\python闖關\\學生解答\\高階5-b10905001.txt\",\"a\") as w:\n",
    "        space = False  \n",
    "        count=1 \n",
    "        def bangla(x):  \n",
    "            global w\n",
    "            if x>10000000:  \n",
    "                w.write(f\"{x//10000000} AA\")  \n",
    "                x=x%10000000  \n",
    "                if x!=0:  \n",
    "                    w.write(\" \")  \n",
    "            if x>100000:  \n",
    "                w.write(f\"{x//100000} BB\")  \n",
    "                x=x%100000  \n",
    "                if x!=0:  \n",
    "                    w.write(\" \")  \n",
    "            if x>1000:  \n",
    "                w.write(f\"{x//1000} CC\")  \n",
    "                x=x%1000  \n",
    "                if x!=0:  \n",
    "                    w.write(\" \")  \n",
    "            if x>=100:  \n",
    "                w.write(f\"{x//100} DD\")  \n",
    "                x=x%100  \n",
    "                if x!=0:  \n",
    "                    w.write(f\" {x}\")  \n",
    "            elif 0<x<100:  \n",
    "                w.write(f\"{x%100}\")  \n",
    "        \n",
    "        for line in file:\n",
    "            if space == True:\n",
    "                w.write('\\n')\n",
    "            space = True\n",
    "            num=int(line)  \n",
    "            w.write(\"%4d. \"%count)  \n",
    "            if num<100:  \n",
    "                w.write(str(num))  \n",
    "            else:                 \n",
    "                if len(str(num))<=7:  \n",
    "                    bangla(num)  \n",
    "                elif 7<len(str(num))<=15:  \n",
    "                    bangla(num//10000000)  \n",
    "                    w.write(\" AA\")  \n",
    "                    if num%10000000==0:  \n",
    "                        count+=1  \n",
    "                        continue  \n",
    "                    else:  \n",
    "                        w.write(\" \")  \n",
    "                        bangla(num%10000000)  \n",
    "            count+=1  \n",
    "                \n",
    "with open(\"C:\\python闖關\\解答\\高階5.txt\", 'r',encoding=\"utf-8\") as file1:\n",
    "    content1 = file1.read()\n",
    "with open(\"C:\\python闖關\\學生解答\\高階5-b10905001.txt\", 'r') as file2:\n",
    "    content2 = file2.read()\n",
    "if content1 == content2:\n",
    "    print(\"正確\")\n",
    "else:\n",
    "    print(\"錯誤\")"
   ]
  },
  {
   "cell_type": "markdown",
   "metadata": {},
   "source": [
    "# 測試繳交正解"
   ]
  },
  {
   "cell_type": "code",
   "execution_count": 2,
   "metadata": {},
   "outputs": [
    {
     "name": "stdout",
     "output_type": "stream",
     "text": [
      "正確\n"
     ]
    }
   ],
   "source": [
    "with open(\"C:\\python闖關\\範例測資\\高階5-b10905001.txt\",\"w\") as _:\n",
    "    with open(\"C:\\python闖關\\範例測資\\高階5-範例輸入.txt\",\"r\") as file,open(\"C:\\python闖關\\範例測資\\高階5-b10905001.txt\",\"a\") as w:\n",
    "        space = False  \n",
    "        count=1 \n",
    "        def bangla(x):  \n",
    "            global w\n",
    "            if x>10000000:  \n",
    "                w.write(f\"{x//10000000} AA\")  \n",
    "                x=x%10000000  \n",
    "                if x!=0:  \n",
    "                    w.write(\" \")  \n",
    "            if x>100000:  \n",
    "                w.write(f\"{x//100000} BB\")  \n",
    "                x=x%100000  \n",
    "                if x!=0:  \n",
    "                    w.write(\" \")  \n",
    "            if x>1000:  \n",
    "                w.write(f\"{x//1000} CC\")  \n",
    "                x=x%1000  \n",
    "                if x!=0:  \n",
    "                    w.write(\" \")  \n",
    "            if x>=100:  \n",
    "                w.write(f\"{x//100} DD\")  \n",
    "                x=x%100  \n",
    "                if x!=0:  \n",
    "                    w.write(f\" {x}\")  \n",
    "            elif 0<x<100:  \n",
    "                w.write(f\"{x%100}\")  \n",
    "\n",
    "        for line in file:\n",
    "            if space == True:\n",
    "                w.write('\\n')\n",
    "            space = True\n",
    "            num=int(line)  \n",
    "            w.write(\"%4d. \"%count)  \n",
    "            if num<100:  \n",
    "                w.write(str(num))  \n",
    "            else:                 \n",
    "                if len(str(num))<=7:  \n",
    "                    bangla(num)  \n",
    "                elif 7<len(str(num))<=15:  \n",
    "                    bangla(num//10000000)  \n",
    "                    w.write(\" AA\")  \n",
    "                    if num%10000000==0:  \n",
    "                        count+=1  \n",
    "                        continue  \n",
    "                    else:  \n",
    "                        w.write(\" \")  \n",
    "                        bangla(num%10000000)  \n",
    "            count+=1  \n",
    "                \n",
    "with open(\"C:\\python闖關\\範例測資\\高階5-範例輸出.txt\", 'r',encoding=\"utf-8\") as file1:\n",
    "    content1 = file1.read()\n",
    "with open(\"C:\\python闖關\\範例測資\\高階5-b10905001.txt\", 'r') as file2:\n",
    "    content2 = file2.read()\n",
    "if content1 == content2:\n",
    "    print(\"正確\")\n",
    "else:\n",
    "    print(\"錯誤\")"
   ]
  },
  {
   "cell_type": "code",
   "execution_count": null,
   "metadata": {},
   "outputs": [],
   "source": [
    "#UVA 10101 bangla numbers"
   ]
  }
 ],
 "metadata": {
  "kernelspec": {
   "display_name": "Python 3 (ipykernel)",
   "language": "python",
   "name": "python3"
  },
  "language_info": {
   "codemirror_mode": {
    "name": "ipython",
    "version": 3
   },
   "file_extension": ".py",
   "mimetype": "text/x-python",
   "name": "python",
   "nbconvert_exporter": "python",
   "pygments_lexer": "ipython3",
   "version": "3.8.16"
  }
 },
 "nbformat": 4,
 "nbformat_minor": 4
}
