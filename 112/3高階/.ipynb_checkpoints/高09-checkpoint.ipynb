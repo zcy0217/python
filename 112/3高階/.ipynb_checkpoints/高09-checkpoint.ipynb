{
 "cells": [
  {
   "cell_type": "code",
   "execution_count": null,
   "metadata": {},
   "outputs": [],
   "source": [
    "'''\n",
    "讀取\"C:\\python闖關\\測資\\高階9.txt\"檔案裡的測資，讀取完全部測資則結束程式\n",
    "請製作一個2023年的查詢今天禮拜幾的程式，若輸入不存在的日期，則輸出\"不存在此日期\"，不得使用任何套件\n",
    "將結果寫進\"C:\\python闖關\\學生解答\"的資料夾裡面且取名為\"高階9-你的學號.txt\"，console不用顯示結果\n",
    "讀取\"C:\\python闖關\\解答\\高階9.txt\"來對照\"C:\\python闖關\\學生解答\\高階9-你的學號.txt\"是否一樣，若一樣則在console輸出正確，否則輸出錯誤\n",
    "Hint：先使用附檔的txt檔來撰寫程式，最後再改成以上規定的檔案路徑，要注意換行或是空白，只要不一樣都是錯誤的，並注意編碼問題!!\n",
    "\n",
    "檔名對照：\n",
    "\"C:\\python闖關\\測資\\高階9.txt\" = \"高階9-範例輸入.txt\"\n",
    "\"C:\\python闖關\\解答\\高階9.txt\" = \"高階9-範例輸出.txt\"\n",
    "\"C:\\python闖關\\學生解答\\高階9-你的學號.txt\" = \"高階9-你的學號.txt\"\n",
    "連結附檔：https://drive.google.com/drive/folders/19P1C42tOHe0g6ZLuWYc7R6tIMFIoiDPG?usp=sharing\n",
    "\n",
    "範例輸入:\n",
    "08/10\n",
    "13/01\n",
    "02/39\n",
    "\n",
    "範例輸出txt檔的內容(詳細如連結附檔):\n",
    "星期四\n",
    "不存在此日期\n",
    "不存在此日期\n",
    "'''"
   ]
  },
  {
   "cell_type": "markdown",
   "metadata": {},
   "source": [
    "# 最終繳交正解"
   ]
  },
  {
   "cell_type": "code",
   "execution_count": 6,
   "metadata": {},
   "outputs": [
    {
     "name": "stdout",
     "output_type": "stream",
     "text": [
      "正確\n"
     ]
    }
   ],
   "source": [
    " with open(\"C:\\python闖關\\學生解答\\高階9-b10905001.txt\",\"w\") as _:\n",
    "    with open(\"C:\\python闖關\\測資\\高階9.txt\",\"r\") as file,open(\"C:\\python闖關\\學生解答\\高階9-b10905001.txt\",\"a\") as w:\n",
    "        space = False \n",
    "        lines = file.readlines()\n",
    "        a = [31, 28, 31, 30, 31, 30, 31, 31, 30, 31, 30, 31]\n",
    "        daydict={0:'星期日',1:'星期一',2:'星期二',3:'星期三',4:'星期四',5:'星期五',6:'星期六'}\n",
    "        for line in lines:\n",
    "            x, y = map(int,line.split(\"/\"))\n",
    "            if space == True:\n",
    "                w.write(\"\\n\")\n",
    "            space = True\n",
    "            if x>12 or x<1 or y<1: #設定邊界\n",
    "                w.write(\"不存在此日期\")\n",
    "                continue\n",
    "            if y>a[x-1]:\n",
    "                w.write(\"不存在此日期\")\n",
    "                continue\n",
    "            \n",
    "            for j in range(x-1):\n",
    "                y += a[j]\n",
    "            y -= 1\n",
    "            [i for i in daydict if y%7==list(daydict)[i]]\n",
    "            w.write(daydict[y%7])                          \n",
    "                            \n",
    "with open(\"C:\\python闖關\\解答\\高階9.txt\", 'r',encoding=\"utf-8\") as file1:\n",
    "    content1 = file1.read()\n",
    "with open(\"C:\\python闖關\\學生解答\\高階9-b10905001.txt\", 'r') as file2:\n",
    "    content2 = file2.read()\n",
    "if content1 == content2:\n",
    "    print(\"正確\")\n",
    "else:\n",
    "    print(\"錯誤\")"
   ]
  },
  {
   "cell_type": "markdown",
   "metadata": {},
   "source": [
    "# 測試繳交正解"
   ]
  },
  {
   "cell_type": "code",
   "execution_count": 4,
   "metadata": {},
   "outputs": [
    {
     "name": "stdout",
     "output_type": "stream",
     "text": [
      "正確\n"
     ]
    }
   ],
   "source": [
    " with open(\"C:\\python闖關\\範例測資\\高階9-b10905001.txt\",\"w\") as _:\n",
    "    with open(\"C:\\python闖關\\範例測資\\高階9-範例輸入.txt\",\"r\") as file,open(\"C:\\python闖關\\範例測資\\高階9-b10905001.txt\",\"a\") as w:\n",
    "        space = False \n",
    "        lines = file.readlines()\n",
    "        a = [31, 28, 31, 30, 31, 30, 31, 31, 30, 31, 30, 31]\n",
    "        daydict={0:'星期日',1:'星期一',2:'星期二',3:'星期三',4:'星期四',5:'星期五',6:'星期六'}\n",
    "        for line in lines:\n",
    "            x, y = map(int,line.split(\"/\"))\n",
    "            if space == True:\n",
    "                w.write(\"\\n\")\n",
    "            space = True\n",
    "            if x>12 or x<1 or y<1: #設定邊界\n",
    "                w.write(\"不存在此日期\")\n",
    "                continue\n",
    "            if y>a[x-1]:\n",
    "                w.write(\"不存在此日期\")\n",
    "                continue\n",
    "            \n",
    "            for j in range(x-1):\n",
    "                y += a[j]\n",
    "            y -= 1\n",
    "            [i for i in daydict if y%7==list(daydict)[i]]\n",
    "            w.write(daydict[y%7])\n",
    "                              \n",
    "            \n",
    "                \n",
    "with open(\"C:\\python闖關\\範例測資\\高階9-範例輸出.txt\", 'r',encoding=\"utf-8\") as file1:\n",
    "    content1 = file1.read()\n",
    "with open(\"C:\\python闖關\\範例測資\\高階9-b10905001.txt\", 'r') as file2:\n",
    "    content2 = file2.read()\n",
    "if content1 == content2:\n",
    "    print(\"正確\")\n",
    "else:\n",
    "    print(\"錯誤\")"
   ]
  },
  {
   "cell_type": "code",
   "execution_count": null,
   "metadata": {},
   "outputs": [],
   "source": [
    "#UVA 10340 all in all"
   ]
  }
 ],
 "metadata": {
  "kernelspec": {
   "display_name": "Python 3 (ipykernel)",
   "language": "python",
   "name": "python3"
  },
  "language_info": {
   "codemirror_mode": {
    "name": "ipython",
    "version": 3
   },
   "file_extension": ".py",
   "mimetype": "text/x-python",
   "name": "python",
   "nbconvert_exporter": "python",
   "pygments_lexer": "ipython3",
   "version": "3.8.16"
  }
 },
 "nbformat": 4,
 "nbformat_minor": 4
}
