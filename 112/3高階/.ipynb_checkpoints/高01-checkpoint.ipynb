{
 "cells": [
  {
   "cell_type": "code",
   "execution_count": null,
   "metadata": {},
   "outputs": [],
   "source": [
    "'''\n",
    "讀取\"C:\\python闖關\\測資\\高階1.txt\"檔案裡的測資，偵測到測資為0則程式結束\n",
    "找出abcde/fghij=X，X為測資裡的數據，當中abcdefghij是數字0~9且不重複，分子分母都五位數包含0\n",
    "每筆測資結束後需空一行，最後不需空行，詳細可看附檔內容\n",
    "將結果寫進\"C:\\python闖關\\學生解答\"的資料夾裡面且取名為\"高階1-你的學號.txt\"，console不用顯示結果\n",
    "讀取\"C:\\python闖關\\解答\\高階1.txt\"來對照\"C:\\python闖關\\學生解答\\高階1-你的學號.txt\"是否一樣，若一樣則在console輸出正確，否則輸出錯誤\n",
    "Hint：先使用附檔的txt檔來撰寫程式，最後再改成以上規定的檔案路徑，要注意換行或是空白，只要不一樣都是錯誤的，並注意編碼問題!!\n",
    "\n",
    "檔名對照：\n",
    "\"C:\\python闖關\\測資\\高階1.txt\" = \"高階1-範例輸入.txt\"\n",
    "\"C:\\python闖關\\解答\\高階1.txt\" = \"高階1-範例輸出.txt\"\n",
    "\"C:\\python闖關\\學生解答\\高階1-你的學號.txt\" = \"高階1-你的學號.txt\"\n",
    "\n",
    "範例輸入:\n",
    "9\n",
    "11\n",
    "0\n",
    "\n",
    "範例輸出txt檔的內容(詳細如附檔):\n",
    "57429 / 06381 = 9\n",
    "58239 / 06471 = 9\n",
    "75249 / 08361 = 9\n",
    "95742 / 10638 = 9\n",
    "95823 / 10647 = 9\n",
    "97524 / 10836 = 9\n",
    "\n",
    "11沒有答案\n",
    "'''"
   ]
  },
  {
   "cell_type": "markdown",
   "metadata": {},
   "source": [
    "# 最終繳交正解"
   ]
  },
  {
   "cell_type": "code",
   "execution_count": 60,
   "metadata": {},
   "outputs": [
    {
     "name": "stdout",
     "output_type": "stream",
     "text": [
      "正確\n"
     ]
    }
   ],
   "source": [
    "text = []\n",
    "with open(\"C:\\python闖關\\學生解答\\高階1-b10905001.txt\",\"w\") as _:\n",
    "    with open(\"C:\\python闖關\\測資\\高階1.txt\",\"r\") as f:\n",
    "        space = False\n",
    "        lines = f.readlines()\n",
    "        num_count = len(lines)\n",
    "        for idx, line in enumerate(lines):\n",
    "            num = int(line.strip())\n",
    "            if num == 0:\n",
    "                break\n",
    "            temp=0\n",
    "            with open(\"C:\\python闖關\\學生解答\\高階1-b10905001.txt\",\"a\") as w:\n",
    "                if space == True:\n",
    "                    w.write('\\n')\n",
    "                space = True\n",
    "                for i in range(1234,49877): #分母範圍01234~49876\n",
    "                    A,B,b='','',''\n",
    "                    if (len(str(int(i)*num))==5 and len(str(i))==4) or (len(str(int(i)*num))==len(str(i))==5): #分子分母為5,4或5,5位數\n",
    "                        if len(set(str(int(i)*num)+str(i)))==len(str(int(i)*num)+str(i)): #保留除了0以外有重複數字的組合\n",
    "                            if len(str(int(i)*num))==5 and len(str(i))==5: #印出都是五位數的組合\n",
    "                                w.write(f\"{int(i)*num} / {i} = {num}\")\n",
    "                                if idx < num_count - 2:  \n",
    "                                        w.write('\\n')\n",
    "                                temp=1 #若有答案就不會印出最後一行\n",
    "                            else: #篩選0沒重複的組合 \n",
    "                                A+=str(int(i)*num)\n",
    "                                b+=str(i) #確定分母的數字不含0\n",
    "                                if '0' not in list(A) and '0' not in list(b):\n",
    "                                    B+='0'+str(i) #把0補在分母的最前面\n",
    "                                    w.write(f\"{A} / {B} = {num}\")\n",
    "                                    if idx < num_count - 2:  \n",
    "                                        w.write('\\n')\n",
    "                                    temp=1 #若有答案就不會印出最後一行\n",
    "                if temp==0:\n",
    "                    w.write(f\"{num}沒有答案\")\n",
    "                    if idx < num_count - 2:  \n",
    "                        w.write('\\n')\n",
    "    with open(\"C:\\python闖關\\解答\\高階1.txt\", 'r',encoding=\"utf-8\") as file1:\n",
    "        content1 = file1.read()\n",
    "    with open(\"C:\\python闖關\\學生解答\\高階1-b10905001.txt\", 'r') as file2:\n",
    "        content2 = file2.read()\n",
    "    if content1 == content2:\n",
    "        print(\"正確\")\n",
    "    else:\n",
    "        print(\"錯誤\")"
   ]
  },
  {
   "cell_type": "markdown",
   "metadata": {},
   "source": [
    "# 測試繳交正解"
   ]
  },
  {
   "cell_type": "code",
   "execution_count": 61,
   "metadata": {},
   "outputs": [
    {
     "name": "stdout",
     "output_type": "stream",
     "text": [
      "正確\n"
     ]
    }
   ],
   "source": [
    "text = []\n",
    "with open(\"C:\\python闖關\\範例測資\\高階1-b10905001.txt\",\"w\") as _:\n",
    "    with open(\"C:\\python闖關\\範例測資\\高階1-範例輸入.txt\",\"r\") as f:\n",
    "        space = False\n",
    "        lines = f.readlines()\n",
    "        num_count = len(lines)\n",
    "        for idx, line in enumerate(lines):\n",
    "            num = int(line.strip())\n",
    "            if num == 0:\n",
    "                break\n",
    "            temp=0\n",
    "            with open(\"C:\\python闖關\\範例測資\\高階1-b10905001.txt\",\"a\") as w:\n",
    "                if space == True:\n",
    "                    w.write('\\n')\n",
    "                space = True\n",
    "                for i in range(1234,49877): #分母範圍01234~49876\n",
    "                    A,B,b='','',''\n",
    "                    if (len(str(int(i)*num))==5 and len(str(i))==4) or (len(str(int(i)*num))==len(str(i))==5): #分子分母為5,4或5,5位數\n",
    "                        if len(set(str(int(i)*num)+str(i)))==len(str(int(i)*num)+str(i)): #保留除了0以外有重複數字的組合\n",
    "                            if len(str(int(i)*num))==5 and len(str(i))==5: #印出都是五位數的組合\n",
    "                                w.write(f\"{int(i)*num} / {i} = {num}\")\n",
    "                                if idx < num_count - 2:  \n",
    "                                        w.write('\\n')\n",
    "                                temp=1 #若有答案就不會印出最後一行\n",
    "                            else: #篩選0沒重複的組合 \n",
    "                                A+=str(int(i)*num)\n",
    "                                b+=str(i) #確定分母的數字不含0\n",
    "                                if '0' not in list(A) and '0' not in list(b):\n",
    "                                    B+='0'+str(i) #把0補在分母的最前面\n",
    "                                    w.write(f\"{A} / {B} = {num}\")\n",
    "                                    if idx < num_count - 2:  \n",
    "                                        w.write('\\n')\n",
    "                                    temp=1 #若有答案就不會印出最後一行\n",
    "                if temp==0:\n",
    "                    w.write(f\"{num}沒有答案\")\n",
    "                    if idx < num_count - 2:  \n",
    "                        w.write('\\n')\n",
    "    with open(\"C:\\python闖關\\範例測資\\高階1-範例輸出.txt\", 'r',encoding=\"utf-8\") as file1:\n",
    "        content1 = file1.read()\n",
    "    with open(\"C:\\python闖關\\範例測資\\高階1-b10905001.txt\", 'r') as file2:\n",
    "        content2 = file2.read()\n",
    "    if content1 == content2:\n",
    "        print(\"正確\")\n",
    "    else:\n",
    "        print(\"錯誤\")"
   ]
  },
  {
   "cell_type": "code",
   "execution_count": null,
   "metadata": {},
   "outputs": [],
   "source": [
    "#CPE 725 Division 20210323"
   ]
  }
 ],
 "metadata": {
  "kernelspec": {
   "display_name": "Python 3 (ipykernel)",
   "language": "python",
   "name": "python3"
  },
  "language_info": {
   "codemirror_mode": {
    "name": "ipython",
    "version": 3
   },
   "file_extension": ".py",
   "mimetype": "text/x-python",
   "name": "python",
   "nbconvert_exporter": "python",
   "pygments_lexer": "ipython3",
   "version": "3.8.16"
  }
 },
 "nbformat": 4,
 "nbformat_minor": 4
}
