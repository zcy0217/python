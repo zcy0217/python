{
 "cells": [
  {
   "cell_type": "code",
   "execution_count": null,
   "id": "05d1ee50",
   "metadata": {},
   "outputs": [],
   "source": [
    "\"\"\"\n",
    "請設計一個能夠比數字大小的函式，利用亂數函式來決定程式要出什麼數字，輸入0 0則印出\"結束\"並結束遊戲。\n",
    "輸入會有兩個整數Ｚ，第一個數為決定範圍右邊界的數字，左邊界預設為0，第二個數為你要出的數字，左右邊界都可為比大小的數字。\n",
    "如果右邊邊界比左邊還小不能讓程式跳出錯誤訊息而導致中斷。要使用例外處理，不要直接print出來。\n",
    "測試時建議右邊界的數字小一點比較好找出有沒有錯誤。\n",
    "\n",
    "範例輸入:\n",
    "2 1\n",
    "10 0\n",
    "1 1\n",
    "-1 5\n",
    "5 8\n",
    "0 0\n",
    "\n",
    "範例輸出:\n",
    "我出0 你贏了\n",
    "我出2 你輸了\n",
    "我出1 你跟我心意相通\n",
    "empty range for randrange() (0,0, 0)\n",
    "你的數字不在範圍內\n",
    "結束\n",
    "\"\"\""
   ]
  },
  {
   "cell_type": "code",
   "execution_count": 9,
   "id": "5b171adc",
   "metadata": {},
   "outputs": [
    {
     "name": "stdout",
     "output_type": "stream",
     "text": [
      "第一個數為決定範圍右邊界的數字，左邊界預設為0，第二個數為你要出的數字2 1\n",
      "我出2\n",
      "你輸了\n",
      "第一個數為決定範圍右邊界的數字，左邊界預設為0，第二個數為你要出的數字10 0\n",
      "我出6\n",
      "你輸了\n",
      "第一個數為決定範圍右邊界的數字，左邊界預設為0，第二個數為你要出的數字1 1\n",
      "我出1\n",
      "你跟我心意相通\n",
      "第一個數為決定範圍右邊界的數字，左邊界預設為0，第二個數為你要出的數字-1 5\n",
      "empty range for randrange() (0, 0, 0)\n",
      "第一個數為決定範圍右邊界的數字，左邊界預設為0，第二個數為你要出的數字5 8\n",
      "你的數字不在範圍內\n",
      "第一個數為決定範圍右邊界的數字，左邊界預設為0，第二個數為你要出的數字0 0\n"
     ]
    }
   ],
   "source": [
    "import random as r\n",
    "while True:\n",
    "    try:\n",
    "        rg,n=map(int, input(\"第一個數為決定範圍右邊界的數字，左邊界預設為0，第二個數為你要出的數字\").split())\n",
    "        if rg == n == 0:\n",
    "            print(\"結束\")\n",
    "            break\n",
    "        result = r.randint(0, rg)\n",
    "        if n not in range(0, rg+1) :\n",
    "            print('你的數字不在範圍內')\n",
    "        elif result > n :\n",
    "            print(\"我出{}\".format(result))\n",
    "            print('你輸了')\n",
    "        elif result < n :\n",
    "            print(\"我出{}\".format(result))\n",
    "            print('你贏了')\n",
    "        elif result == n :\n",
    "            print(\"我出{}\".format(result))\n",
    "            print('你跟我心意相通')\n",
    "    except Exception as e :\n",
    "        print(e)"
   ]
  }
 ],
 "metadata": {
  "kernelspec": {
   "display_name": "Python 3 (ipykernel)",
   "language": "python",
   "name": "python3"
  },
  "language_info": {
   "codemirror_mode": {
    "name": "ipython",
    "version": 3
   },
   "file_extension": ".py",
   "mimetype": "text/x-python",
   "name": "python",
   "nbconvert_exporter": "python",
   "pygments_lexer": "ipython3",
   "version": "3.8.16"
  }
 },
 "nbformat": 4,
 "nbformat_minor": 5
}
