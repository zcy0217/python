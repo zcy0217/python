{
 "cells": [
  {
   "cell_type": "code",
   "execution_count": null,
   "metadata": {},
   "outputs": [],
   "source": [
    "'''\n",
    "讀取\"C:\\python闖關\\測資\\高階7.txt\"檔案裡的測資\n",
    "製作一個檢查兩個數字的關係是不是無聊的程式\n",
    "目標是將某個整數n除以另一個整數m直到 n = 1，這方法將會獲得一個數字序列\n",
    "我們假設該序列的每個數字為a[i]，假設它有k個數字(即必須進行 k−1 個連續除法才能達到 n = 1)\n",
    "\n",
    "根據以下限制，此序列必唯一：\n",
    "1. a[1] = n, a[i] = a[i − 1] ÷ m, for all 1 < i ≤ k\n",
    "2. a[i] 被 m 整除(a[i] mod m = 0) for all 1 ≤ i < k\n",
    "3. a[1] > a[2] > a[3] > ... > a[k]\n",
    "4.輸入的n或m有0時要將錯誤排除\n",
    "5.無限迴圈的狀況為boring\n",
    "\n",
    "將結果寫進\"C:\\python闖關\\學生解答\"的資料夾裡面且取名為\"高階7-你的學號.txt\"，console不用顯示結果\n",
    "讀取\"C:\\python闖關\\解答\\高階7.txt\"來對照\"C:\\python闖關\\學生解答\\高階7-你的學號.txt\"是否一樣，若一樣則在console輸出正確，否則輸出錯誤\n",
    "Hint：先使用附檔的txt檔來撰寫程式，最後再改成以上規定的檔案路徑，要注意換行或是空白，只要不一樣都是錯誤的，並注意編碼問題!!\n",
    "\n",
    "檔名對照：\n",
    "\"C:\\python闖關\\測資\\高階7.txt\" = \"高階7-範例輸入.txt\"\n",
    "\"C:\\python闖關\\解答\\高階7.txt\" = \"高階7-範例輸出.txt\"\n",
    "\"C:\\python闖關\\學生解答\\高階7-你的學號.txt\" = \"高階7-你的學號.txt\"\n",
    "連結附檔：https://drive.google.com/drive/folders/19P1C42tOHe0g6ZLuWYc7R6tIMFIoiDPG?usp=sharing\n",
    "\n",
    "範例輸入:\n",
    "125 5\n",
    "30 3\n",
    "\n",
    "範例輸出txt檔的內容(詳細如連結附檔):\n",
    "125 25 5 1\n",
    "Boring!\n",
    "'''"
   ]
  },
  {
   "cell_type": "markdown",
   "metadata": {},
   "source": [
    "# 最終繳交正解"
   ]
  },
  {
   "cell_type": "code",
   "execution_count": 46,
   "metadata": {},
   "outputs": [
    {
     "name": "stdout",
     "output_type": "stream",
     "text": [
      "正確\n"
     ]
    }
   ],
   "source": [
    " with open(\"C:\\python闖關\\學生解答\\高階7-b10905001.txt\",\"w\") as _:\n",
    "    with open(\"C:\\python闖關\\測資\\高階7.txt\",\"r\") as file,open(\"C:\\python闖關\\學生解答\\高階7-b10905001.txt\",\"a\") as w:\n",
    "        space = False \n",
    "        lines = file.readlines()\n",
    "        for line in lines:\n",
    "            n,m=map(int,line.split())\n",
    "            if space == True:\n",
    "                w.write(\"\\n\")\n",
    "            space = True\n",
    "            if n==0 or m==0 or m==1:\n",
    "                w.write(\"Boring!\")\n",
    "                continue\n",
    "            modlist=[n]\n",
    "            result = \"\"\n",
    "            while n%m==0:\n",
    "                modlist.append(n//m)\n",
    "                n=n//m\n",
    "            if n==1:\n",
    "                result += \" \".join(str(x) for x in modlist)\n",
    "                w.write(result)\n",
    "            else:\n",
    "                w.write(\"Boring!\")\n",
    "                \n",
    "with open(\"C:\\python闖關\\解答\\高階7.txt\", 'r',encoding=\"utf-8\") as file1:\n",
    "    content1 = file1.read()\n",
    "with open(\"C:\\python闖關\\學生解答\\高階7-b10905001.txt\", 'r') as file2:\n",
    "    content2 = file2.read()\n",
    "if content1 == content2:\n",
    "    print(\"正確\")\n",
    "else:\n",
    "    print(\"錯誤\")"
   ]
  },
  {
   "cell_type": "markdown",
   "metadata": {},
   "source": [
    "# 測試繳交正解"
   ]
  },
  {
   "cell_type": "code",
   "execution_count": 47,
   "metadata": {},
   "outputs": [
    {
     "name": "stdout",
     "output_type": "stream",
     "text": [
      "正確\n"
     ]
    }
   ],
   "source": [
    " with open(\"C:\\python闖關\\範例測資\\高階7-b10905001.txt\",\"w\") as _:\n",
    "    with open(\"C:\\python闖關\\範例測資\\高階7-範例輸入.txt\",\"r\") as file,open(\"C:\\python闖關\\範例測資\\高階7-b10905001.txt\",\"a\") as w:\n",
    "        space = False \n",
    "        lines = file.readlines()\n",
    "        for line in lines:\n",
    "            n,m=map(int,line.split())\n",
    "            if space == True:\n",
    "                w.write(\"\\n\")\n",
    "            space = True\n",
    "            if n==0 or m==0 or m==1:\n",
    "                w.write(\"Boring!\")\n",
    "                continue\n",
    "            modlist=[n]\n",
    "            result = \"\"\n",
    "            while n%m==0:\n",
    "                modlist.append(n//m)\n",
    "                n=n//m\n",
    "            if n==1:\n",
    "                result += \" \".join(str(x) for x in modlist)\n",
    "                w.write(result)\n",
    "            else:\n",
    "                w.write(\"Boring!\")\n",
    "                \n",
    "with open(\"C:\\python闖關\\範例測資\\高階7-範例輸出.txt\", 'r',encoding=\"utf-8\") as file1:\n",
    "    content1 = file1.read()\n",
    "with open(\"C:\\python闖關\\範例測資\\高階7-b10905001.txt\", 'r') as file2:\n",
    "    content2 = file2.read()\n",
    "if content1 == content2:\n",
    "    print(\"正確\")\n",
    "else:\n",
    "    print(\"錯誤\")"
   ]
  },
  {
   "cell_type": "code",
   "execution_count": null,
   "metadata": {},
   "outputs": [],
   "source": [
    "#UVA 10190 Divide, But Not Quite Conquer!"
   ]
  }
 ],
 "metadata": {
  "kernelspec": {
   "display_name": "Python 3 (ipykernel)",
   "language": "python",
   "name": "python3"
  },
  "language_info": {
   "codemirror_mode": {
    "name": "ipython",
    "version": 3
   },
   "file_extension": ".py",
   "mimetype": "text/x-python",
   "name": "python",
   "nbconvert_exporter": "python",
   "pygments_lexer": "ipython3",
   "version": "3.8.16"
  }
 },
 "nbformat": 4,
 "nbformat_minor": 4
}
