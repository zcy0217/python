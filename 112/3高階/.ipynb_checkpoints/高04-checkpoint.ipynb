{
 "cells": [
  {
   "cell_type": "code",
   "execution_count": null,
   "metadata": {},
   "outputs": [],
   "source": [
    "'''\n",
    "讀取\"C:\\python闖關\\測資\\高階4.txt\"檔案裡的測資\n",
    "請遵循以下敘述製作一個十進位數對應的另類表示法\n",
    "輸入的第一行為接下來有幾筆測資，後面的每筆測資皆小於100000000\n",
    "此表示法的數列第一項為0、第二項為1、第三項為第一項加第二項等於1、第四項為第二項加第三項等於2，後面以此類推\n",
    "我們要用此數列來將十進位數表達成別的方式\n",
    "例如:17 = 13 + 3 + 1 = 100101 = 13*1 + 8*0 + 5*0 + 3*1 + 2*0 + 1*1，13、3、1皆為此數列有的項\n",
    "輸出的格式可參考範例輸出，前面不能有0，不能有連續的1出現，可以有連續的0\n",
    "將結果寫進\"C:\\python闖關\\學生解答\"的資料夾裡面且取名為\"高階4-你的學號.txt\"，console不用顯示結果\n",
    "讀取\"C:\\python闖關\\解答\\高階4.txt\"來對照\"C:\\python闖關\\學生解答\\高階4-你的學號.txt\"是否一樣，若一樣則在console輸出正確，否則輸出錯誤\n",
    "Hint：先使用附檔的txt檔來撰寫程式，最後再改成以上規定的檔案路徑，要注意換行或是空白，只要不一樣都是錯誤的，並注意編碼問題!!\n",
    "\n",
    "檔名對照：\n",
    "\"C:\\python闖關\\測資\\高階4.txt\" = \"高階4-範例輸入.txt\"\n",
    "\"C:\\python闖關\\解答\\高階4.txt\" = \"高階4-範例輸出.txt\"\n",
    "\"C:\\python闖關\\學生解答\\高階4-你的學號.txt\" = \"高階4-你的學號.txt\"\n",
    "連結附檔：https://drive.google.com/drive/folders/19P1C42tOHe0g6ZLuWYc7R6tIMFIoiDPG?usp=sharing\n",
    "\n",
    "範例輸入:\n",
    "2\n",
    "17\n",
    "1000\n",
    "\n",
    "範例輸出txt檔的內容(詳細如連結附檔):\n",
    "17 = 100101\n",
    "1000 = 100000000100000\n",
    "\n",
    "'''"
   ]
  },
  {
   "cell_type": "markdown",
   "metadata": {},
   "source": [
    "# 最終繳交正解"
   ]
  },
  {
   "cell_type": "code",
   "execution_count": 1,
   "metadata": {},
   "outputs": [
    {
     "name": "stdout",
     "output_type": "stream",
     "text": [
      "正確\n"
     ]
    }
   ],
   "source": [
    "fiblist = [0,1]  \n",
    "for i in range(2,40):  \n",
    "    fiblist.append(fiblist[i-2]+fiblist[i-1])  \n",
    "fiblistR = fiblist[::-1]  \n",
    "\n",
    "with open(\"C:\\python闖關\\學生解答\\高階4-b10905001.txt\",\"w\") as _:\n",
    "    with open(\"C:\\python闖關\\測資\\高階4.txt\",\"r\") as file:\n",
    "        space = False  \n",
    "        lines = file.readlines()\n",
    "        for i in range(1,1+int(lines[0])):  \n",
    "            num = int(lines[i])  \n",
    "            num2 = num  \n",
    "            ans = ''  \n",
    "            length = 1  \n",
    "            for j in range(len(fiblistR)):  \n",
    "                if fiblistR[j] <= num:  \n",
    "                    if length == 1:  \n",
    "                        length = fiblistR[j]  \n",
    "                    ans += '1'  \n",
    "                    num -= fiblistR[j]  \n",
    "                else:  \n",
    "                    ans += '0'  \n",
    "                if num == 0:  \n",
    "                    ans = ans.lstrip('0')  \n",
    "                    while len(ans) < fiblist.index(length)-1:  \n",
    "                        ans += '0'  \n",
    "                    break          \n",
    "            with open(\"C:\\python闖關\\學生解答\\高階4-b10905001.txt\",\"a\") as w:\n",
    "                    if space == True:\n",
    "                        w.write('\\n')\n",
    "                    space = True\n",
    "                    w.write(f\"{num2} = {ans}\")                 \n",
    "                \n",
    "with open(\"C:\\python闖關\\解答\\高階4.txt\", 'r',encoding=\"utf-8\") as file1:\n",
    "    content1 = file1.read()\n",
    "with open(\"C:\\python闖關\\學生解答\\高階4-b10905001.txt\", 'r') as file2:\n",
    "    content2 = file2.read()\n",
    "if content1 == content2:\n",
    "    print(\"正確\")\n",
    "else:\n",
    "    print(\"錯誤\")"
   ]
  },
  {
   "cell_type": "markdown",
   "metadata": {},
   "source": [
    "# 測試繳交正解"
   ]
  },
  {
   "cell_type": "code",
   "execution_count": 2,
   "metadata": {},
   "outputs": [
    {
     "name": "stdout",
     "output_type": "stream",
     "text": [
      "正確\n"
     ]
    }
   ],
   "source": [
    "fiblist = [0,1]  \n",
    "for i in range(2,40):  \n",
    "    fiblist.append(fiblist[i-2]+fiblist[i-1])  \n",
    "fiblistR = fiblist[::-1]  \n",
    "\n",
    "with open(\"C:\\python闖關\\範例測資\\高階4-b10905001.txt\",\"w\") as _:\n",
    "    with open(\"C:\\python闖關\\範例測資\\高階4-範例輸入.txt\",\"r\") as file:\n",
    "        space = False  \n",
    "        lines = file.readlines()\n",
    "        for i in range(1,1+int(lines[0])):  \n",
    "            num = int(lines[i])  \n",
    "            num2 = num  \n",
    "            ans = ''  \n",
    "            length = 1  \n",
    "            for j in range(len(fiblistR)):  \n",
    "                if fiblistR[j] <= num:  \n",
    "                    if length == 1:  \n",
    "                        length = fiblistR[j]  \n",
    "                    ans += '1'  \n",
    "                    num -= fiblistR[j]  \n",
    "                else:  \n",
    "                    ans += '0'  \n",
    "                if num == 0:  \n",
    "                    ans = ans.lstrip('0')  \n",
    "                    while len(ans) < fiblist.index(length)-1:  \n",
    "                        ans += '0'  \n",
    "                    break          \n",
    "            with open(\"C:\\python闖關\\範例測資\\高階4-b10905001.txt\",\"a\") as w:\n",
    "                    if space == True:\n",
    "                        w.write('\\n')\n",
    "                    space = True\n",
    "                    w.write(f\"{num2} = {ans}\")                 \n",
    "                \n",
    "with open(\"C:\\python闖關\\範例測資\\高階4-範例輸出.txt\", 'r',encoding=\"utf-8\") as file1:\n",
    "    content1 = file1.read()\n",
    "with open(\"C:\\python闖關\\範例測資\\高階4-b10905001.txt\", 'r') as file2:\n",
    "    content2 = file2.read()\n",
    "if content1 == content2:\n",
    "    print(\"正確\")\n",
    "else:\n",
    "    print(\"錯誤\")"
   ]
  },
  {
   "cell_type": "code",
   "execution_count": null,
   "metadata": {},
   "outputs": [],
   "source": [
    "#UVA 00948 費氏數列"
   ]
  }
 ],
 "metadata": {
  "kernelspec": {
   "display_name": "Python 3 (ipykernel)",
   "language": "python",
   "name": "python3"
  },
  "language_info": {
   "codemirror_mode": {
    "name": "ipython",
    "version": 3
   },
   "file_extension": ".py",
   "mimetype": "text/x-python",
   "name": "python",
   "nbconvert_exporter": "python",
   "pygments_lexer": "ipython3",
   "version": "3.8.16"
  }
 },
 "nbformat": 4,
 "nbformat_minor": 4
}
