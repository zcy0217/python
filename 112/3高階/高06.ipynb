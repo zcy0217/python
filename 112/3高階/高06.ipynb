{
 "cells": [
  {
   "cell_type": "code",
   "execution_count": null,
   "metadata": {},
   "outputs": [],
   "source": [
    "'''\n",
    "讀取\"C:\\python闖關\\測資\\高階6.txt\"檔案裡的測資\n",
    "你列出了一個課表，擔心以後資料會過於龐大的你，決定來製作一個可以找到最長休息時間的程式，請依照規定來製作。\n",
    "休息時間可以想成是空堂，我們一般的課表都是一堂接著一堂的，所以不太可能有休息時間，詳細的可以參考範例就會理解啦。\n",
    "請依照以下敘述來製作\n",
    "1.時間範圍08:00~20:00\n",
    "2.時間格式統一為hh:mm\n",
    "3.每行輸入的第一個時間小於第二個時間\n",
    "4.先輸入一共要記錄幾節課，在來輸入時間和課堂名稱\n",
    "5.輸出格式統一為\"最長的休息時間從hh:mm開始，可以休息(H小時)M分鐘\"，括弧是可有可無，代表如果只要10分鐘那就不用0小時10分鐘，但2小時需為2小時0分鐘\n",
    "將結果寫進\"C:\\python闖關\\學生解答\"的資料夾裡面且取名為\"高階6-你的學號.txt\"，console不用顯示結果\n",
    "讀取\"C:\\python闖關\\解答\\高階6.txt\"來對照\"C:\\python闖關\\學生解答\\高階6-你的學號.txt\"是否一樣，若一樣則在console輸出正確，否則輸出錯誤\n",
    "Hint：先使用附檔的txt檔來撰寫程式，最後再改成以上規定的檔案路徑，要注意換行或是空白，只要不一樣都是錯誤的，並注意編碼問題!!\n",
    "\n",
    "檔名對照：\n",
    "\"C:\\python闖關\\測資\\高階6.txt\" = \"高階6-範例輸入.txt\"\n",
    "\"C:\\python闖關\\解答\\高階6.txt\" = \"高階6-範例輸出.txt\"\n",
    "\"C:\\python闖關\\學生解答\\高階6-你的學號.txt\" = \"高階6-你的學號.txt\"\n",
    "連結附檔：https://drive.google.com/drive/folders/19P1C42tOHe0g6ZLuWYc7R6tIMFIoiDPG?usp=sharing\n",
    "\n",
    "範例輸入:\n",
    "4\n",
    "08:00 09:45 English\n",
    "12:10 13:00 Lunch\n",
    "13:20 15:00 ML\n",
    "15:00 17:10 BaseBall\n",
    "\n",
    "範例輸出txt檔的內容(詳細如連結附檔):\n",
    "最長的休息時間從17:10開始，可以休息2小時50分鐘\n",
    "'''"
   ]
  },
  {
   "cell_type": "markdown",
   "metadata": {},
   "source": [
    "# 最終繳交正解"
   ]
  },
  {
   "cell_type": "code",
   "execution_count": 7,
   "metadata": {},
   "outputs": [
    {
     "name": "stdout",
     "output_type": "stream",
     "text": [
      "正確\n"
     ]
    }
   ],
   "source": [
    "def to_min(time): \n",
    "    time = time.split(\":\")\n",
    "    return int(time[0]) * 60 + int(time[1])\n",
    "\n",
    "def to_date(mins):\n",
    "    hrs, mins = divmod(mins, 60) \n",
    "    if hrs > 0:\n",
    "        return \"{}小時{}分鐘\".format(hrs, mins)\n",
    "    else:\n",
    "        return \"{}分鐘\".format(mins)\n",
    "    \n",
    "with open(\"C:\\python闖關\\學生解答\\高階6-b10905001.txt\",\"w\") as _:\n",
    "    with open(\"C:\\python闖關\\測資\\高階6.txt\",\"r\") as file,open(\"C:\\python闖關\\學生解答\\高階6-b10905001.txt\",\"a\") as w:\n",
    "        space = False  \n",
    "        n = int(file.readline().strip())\n",
    "        events = [[480, 480, \"08:00\"], [1200, 1200, \"20:00\"]]\n",
    "\n",
    "        for i in range(n):\n",
    "            line = file.readline().strip().split()\n",
    "            start = line[0]\n",
    "            end = line[1]\n",
    "            events.append([to_min(start), to_min(end), end])\n",
    "\n",
    "        events.sort()\n",
    "        gaps = []\n",
    "        for i in range(len(events) - 1):\n",
    "            gaps.append(events[i + 1][0] - events[i][1])\n",
    "\n",
    "        max_time, max_HrMin = gaps.index(max(gaps)), max(gaps)\n",
    "\n",
    "        result = \"最長的休息時間從{}開始，可以休息{}\".format(events[max_time][2], to_date(max_HrMin))\n",
    "\n",
    "        w.write(result)\n",
    "                \n",
    "with open(\"C:\\python闖關\\解答\\高階6.txt\", 'r',encoding=\"utf-8\") as file1:\n",
    "    content1 = file1.read()\n",
    "with open(\"C:\\python闖關\\學生解答\\高階6-b10905001.txt\", 'r') as file2:\n",
    "    content2 = file2.read()\n",
    "if content1 == content2:\n",
    "    print(\"正確\")\n",
    "else:\n",
    "    print(\"錯誤\")"
   ]
  },
  {
   "cell_type": "markdown",
   "metadata": {},
   "source": [
    "# 測試繳交正解"
   ]
  },
  {
   "cell_type": "code",
   "execution_count": 8,
   "metadata": {},
   "outputs": [
    {
     "name": "stdout",
     "output_type": "stream",
     "text": [
      "正確\n"
     ]
    }
   ],
   "source": [
    "def to_min(time): \n",
    "    time = time.split(\":\")\n",
    "    return int(time[0]) * 60 + int(time[1])\n",
    "\n",
    "def to_date(mins):\n",
    "    hrs, mins = divmod(mins, 60) \n",
    "    if hrs > 0:\n",
    "        return \"{}小時{}分鐘\".format(hrs, mins)\n",
    "    else:\n",
    "        return \"{}分鐘\".format(mins)\n",
    "    \n",
    "with open(\"C:\\python闖關\\範例測資\\高階6-b10905001.txt\",\"w\") as _:\n",
    "    with open(\"C:\\python闖關\\範例測資\\高階6-範例輸入.txt\",\"r\") as file,open(\"C:\\python闖關\\範例測資\\高階6-b10905001.txt\",\"a\") as w:\n",
    "        space = False  \n",
    "        n = int(file.readline().strip())\n",
    "        events = [[480, 480, \"08:00\"], [1200, 1200, \"20:00\"]]\n",
    "\n",
    "        for i in range(n):\n",
    "            line = file.readline().strip().split()\n",
    "            start = line[0]\n",
    "            end = line[1]\n",
    "            events.append([to_min(start), to_min(end), end])\n",
    "\n",
    "        events.sort()\n",
    "        gaps = []\n",
    "        for i in range(len(events) - 1):\n",
    "            gaps.append(events[i + 1][0] - events[i][1])\n",
    "\n",
    "        max_time, max_HrMin = gaps.index(max(gaps)), max(gaps)\n",
    "\n",
    "        result = \"最長的休息時間從{}開始，可以休息{}\".format(events[max_time][2], to_date(max_HrMin))\n",
    "\n",
    "        w.write(result)\n",
    "                \n",
    "with open(\"C:\\python闖關\\範例測資\\高階6-範例輸出.txt\", 'r',encoding=\"utf-8\") as file1:\n",
    "    content1 = file1.read()\n",
    "with open(\"C:\\python闖關\\範例測資\\高階6-b10905001.txt\", 'r') as file2:\n",
    "    content2 = file2.read()\n",
    "if content1 == content2:\n",
    "    print(\"正確\")\n",
    "else:\n",
    "    print(\"錯誤\")"
   ]
  },
  {
   "cell_type": "code",
   "execution_count": null,
   "metadata": {},
   "outputs": [],
   "source": [
    "#UVA 10191 Longest Nap"
   ]
  }
 ],
 "metadata": {
  "kernelspec": {
   "display_name": "Python 3 (ipykernel)",
   "language": "python",
   "name": "python3"
  },
  "language_info": {
   "codemirror_mode": {
    "name": "ipython",
    "version": 3
   },
   "file_extension": ".py",
   "mimetype": "text/x-python",
   "name": "python",
   "nbconvert_exporter": "python",
   "pygments_lexer": "ipython3",
   "version": "3.8.16"
  }
 },
 "nbformat": 4,
 "nbformat_minor": 4
}
