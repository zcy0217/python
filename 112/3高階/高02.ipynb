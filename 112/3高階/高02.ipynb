{
 "cells": [
  {
   "cell_type": "code",
   "execution_count": null,
   "metadata": {},
   "outputs": [],
   "source": [
    "'''\n",
    "讀取\"C:\\python闖關\\測資\\高階2.txt\"檔案裡的測資，偵測到測資為0則程式結束\n",
    "找出N!裡的質因數分解個數，N的範圍為1<=N<=50\n",
    "例如：5!=1*2*3*4*5=三個2*一個3*一個5，得到的答案為 5 != 3 1 1，N需靠右對齊(含N共空兩格)，個數的答案需靠右對齊(含數字共空三格)，更多範例如以下範例輸入\n",
    "將結果寫進\"C:\\python闖關\\學生解答\"的資料夾裡面且取名為\"高階2-你的學號.txt\"，console不用顯示結果\n",
    "讀取\"C:\\python闖關\\解答\\高階2.txt\"來對照\"C:\\python闖關\\學生解答\\高階2-你的學號.txt\"是否一樣，若一樣則在console輸出正確，否則輸出錯誤\n",
    "Hint：先使用附檔的txt檔來撰寫程式，最後再改成以上規定的檔案路徑，要注意換行或是空白，只要不一樣都是錯誤的，並注意編碼問題!!\n",
    "\n",
    "檔名對照：\n",
    "\"C:\\python闖關\\測資\\高階2.txt\" = \"高階2-範例輸入.txt\"\n",
    "\"C:\\python闖關\\解答\\高階2.txt\" = \"高階2-範例輸出.txt\"\n",
    "\"C:\\python闖關\\學生解答\\高階2-你的學號.txt\" = \"高階2-你的學號.txt\"\n",
    "連結附檔：https://drive.google.com/drive/folders/19P1C42tOHe0g6ZLuWYc7R6tIMFIoiDPG?usp=sharing\n",
    "\n",
    "範例輸入:\n",
    "5\n",
    "49\n",
    "0\n",
    "\n",
    "範例輸出txt檔的內容(詳細如連結附檔):\n",
    " 5 !=  3  1  1\n",
    "49 != 46 22 10  8  4  3  2  2  2  1  1  1  1  1  1\n",
    "\n",
    "'''"
   ]
  },
  {
   "cell_type": "markdown",
   "metadata": {},
   "source": [
    "# 最終繳交正解"
   ]
  },
  {
   "cell_type": "code",
   "execution_count": 2,
   "metadata": {},
   "outputs": [
    {
     "name": "stdout",
     "output_type": "stream",
     "text": [
      "正確\n"
     ]
    }
   ],
   "source": [
    "text = []\n",
    "with open(\"C:\\python闖關\\學生解答\\高階2-b10905001.txt\",\"w\") as _:\n",
    "    with open(\"C:\\python闖關\\測資\\高階2.txt\",\"r\") as f:\n",
    "        space,line_index = False,-1\n",
    "        lines = f.readlines()\n",
    "        while True:\n",
    "            line_index += 1\n",
    "            prime = {2:0,3:0,5:0,7:0,11:0,13:0,17:0,19:0,23:0,29:0,31:0,37:0,41:0,43:0,47:0}\n",
    "            n = int(lines[line_index])\n",
    "            if n == 0:\n",
    "                break\n",
    "            \n",
    "            for i in prime.keys():\n",
    "                temp = n\n",
    "                while temp//i >= 1:\n",
    "                    prime[i] += temp//i\n",
    "                    temp = temp//i\n",
    "                    \n",
    "            with open(\"C:\\python闖關\\學生解答\\高階2-b10905001.txt\",\"a\") as w:\n",
    "                if space == True:\n",
    "                    w.write('\\n')\n",
    "                space = True\n",
    "                \n",
    "                if n == 1:\n",
    "                    w.write(f' {n} !=  0')\n",
    "                    continue\n",
    "                    \n",
    "                w.write(f'{n:>2} !=')\n",
    "\n",
    "                for p, times in prime.items():\n",
    "                    if times == 0:\n",
    "                        continue\n",
    "                    else:\n",
    "                        w.write(f'{times:>3}')\n",
    "                \n",
    "                \n",
    "with open(\"C:\\python闖關\\解答\\高階2.txt\", 'r',encoding=\"utf-8\") as file1:\n",
    "    content1 = file1.read()\n",
    "with open(\"C:\\python闖關\\學生解答\\高階2-b10905001.txt\", 'r') as file2:\n",
    "    content2 = file2.read()\n",
    "if content1 == content2:\n",
    "    print(\"正確\")\n",
    "else:\n",
    "    print(\"錯誤\")"
   ]
  },
  {
   "cell_type": "markdown",
   "metadata": {},
   "source": [
    "# 測試繳交正解"
   ]
  },
  {
   "cell_type": "code",
   "execution_count": 3,
   "metadata": {},
   "outputs": [
    {
     "name": "stdout",
     "output_type": "stream",
     "text": [
      "正確\n"
     ]
    }
   ],
   "source": [
    "text = []\n",
    "with open(\"C:\\python闖關\\範例測資\\高階2-b10905001.txt\",\"w\") as _:\n",
    "    with open(\"C:\\python闖關\\範例測資\\高階2-範例輸入.txt\",\"r\") as f:\n",
    "        space,line_index = False,-1\n",
    "        lines = f.readlines()\n",
    "        while True:\n",
    "            line_index += 1\n",
    "            prime = {2:0,3:0,5:0,7:0,11:0,13:0,17:0,19:0,23:0,29:0,31:0,37:0,41:0,43:0,47:0}\n",
    "            n = int(lines[line_index])\n",
    "            if n == 0:\n",
    "                break\n",
    "            \n",
    "            for i in prime.keys():\n",
    "                temp = n\n",
    "                while temp//i >= 1:\n",
    "                    prime[i] += temp//i\n",
    "                    temp = temp//i\n",
    "                    \n",
    "            with open(\"C:\\python闖關\\範例測資\\高階2-b10905001.txt\",\"a\") as w:\n",
    "                if space == True:\n",
    "                    w.write('\\n')\n",
    "                space = True\n",
    "                \n",
    "                if n == 1:\n",
    "                    w.write(f' {n} !=  0')\n",
    "                    continue\n",
    "                    \n",
    "                w.write(f'{n:>2} !=')\n",
    "\n",
    "                for p, times in prime.items():\n",
    "                    if times == 0:\n",
    "                        continue\n",
    "                    else:\n",
    "                        w.write(f'{times:>3}')\n",
    "                \n",
    "                \n",
    "with open(\"C:\\python闖關\\範例測資\\高階2-範例輸出.txt\", 'r',encoding=\"utf-8\") as file1:\n",
    "    content1 = file1.read()\n",
    "with open(\"C:\\python闖關\\範例測資\\高階2-b10905001.txt\", 'r') as file2:\n",
    "    content2 = file2.read()\n",
    "if content1 == content2:\n",
    "    print(\"正確\")\n",
    "else:\n",
    "    print(\"錯誤\")"
   ]
  },
  {
   "cell_type": "code",
   "execution_count": null,
   "metadata": {},
   "outputs": [],
   "source": [
    "#UVA 160 2023/03/21 改"
   ]
  }
 ],
 "metadata": {
  "kernelspec": {
   "display_name": "Python 3 (ipykernel)",
   "language": "python",
   "name": "python3"
  },
  "language_info": {
   "codemirror_mode": {
    "name": "ipython",
    "version": 3
   },
   "file_extension": ".py",
   "mimetype": "text/x-python",
   "name": "python",
   "nbconvert_exporter": "python",
   "pygments_lexer": "ipython3",
   "version": "3.8.16"
  }
 },
 "nbformat": 4,
 "nbformat_minor": 4
}
