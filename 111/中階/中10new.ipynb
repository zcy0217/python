{
 "cells": [
  {
   "cell_type": "code",
   "execution_count": null,
   "metadata": {},
   "outputs": [],
   "source": [
    "'''\n",
    "有一個登山客熱愛爬山，他固定每次都從海拔0公尺開始出發，最近他想知道自己一趟行程到達的最高海拔是多少，\n",
    "請你幫幫他，設計一個程式讓他回家只要以逗號分隔輸入自己的海拔移動變化狀況，就能知曉此次登山的最高海拔，請參考下列範例。\n",
    "\n",
    "範例輸入:\n",
    "-5,1,5,-3\n",
    "\n",
    "範例輸出:\n",
    "1 (因為起點是0，向下五公尺變成-5，往上一公尺變成-4，再向上五公尺變成1，向下三公尺變成-2，因此他所到達的最高海拔是海拔1公尺)\n",
    "\n",
    "範例輸入:\n",
    "-4,8,-3,-2,4\n",
    "\n",
    "範例輸出:\n",
    "4 (因為起點是0，向下四公尺變成-4，再向上八公尺變成4，再向下三公尺變成1，向下兩公尺變成-1，再向上四公尺變成3，因此他所到達的最高海拔是海拔4公尺)\n",
    "\n",
    "'''"
   ]
  },
  {
   "cell_type": "code",
   "execution_count": 1,
   "metadata": {},
   "outputs": [
    {
     "name": "stdout",
     "output_type": "stream",
     "text": [
      "請輸入海拔並用逗號分開:-4,8,-3,-2,4\n",
      "4\n"
     ]
    }
   ],
   "source": [
    "gain = input(\"請輸入海拔並用逗號分開:\")\n",
    "gain_list=[]\n",
    "for n in gain.split(','):\n",
    "    gain_list.append(int(n))\n",
    "sol = 0 #基準\n",
    "curHeight = 0\n",
    "for Height in gain_list:\n",
    "    curHeight += Height\n",
    "    sol = max(sol, curHeight)   \n",
    "print(sol)"
   ]
  },
  {
   "cell_type": "code",
   "execution_count": null,
   "metadata": {},
   "outputs": [],
   "source": [
    "#Leetcode 1732. Find the Highest Altitude"
   ]
  }
 ],
 "metadata": {
  "kernelspec": {
   "display_name": "Python 3",
   "language": "python",
   "name": "python3"
  },
  "language_info": {
   "codemirror_mode": {
    "name": "ipython",
    "version": 3
   },
   "file_extension": ".py",
   "mimetype": "text/x-python",
   "name": "python",
   "nbconvert_exporter": "python",
   "pygments_lexer": "ipython3",
   "version": "3.8.3"
  }
 },
 "nbformat": 4,
 "nbformat_minor": 4
}
