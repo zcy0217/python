{
 "cells": [
  {
   "cell_type": "code",
   "execution_count": null,
   "metadata": {},
   "outputs": [],
   "source": [
    "'''\n",
    "\n",
    "輸入一個陣列，並將最後一個數加一後回傳\n",
    "\n",
    "範例輸入:\n",
    "1 2 3 4\n",
    "\n",
    "範例輸出:\n",
    "1 2 3 5\n",
    "\n",
    "範例輸入:\n",
    "1 2 3 9\n",
    "\n",
    "範例輸出:\n",
    "1 2 4 0\n",
    "\n",
    "'''"
   ]
  },
  {
   "cell_type": "code",
   "execution_count": 9,
   "metadata": {},
   "outputs": [
    {
     "name": "stdout",
     "output_type": "stream",
     "text": [
      "請輸入一串一位數的數字並用空白分開:1 2 3 9\n",
      "1 2 4 0 \n"
     ]
    }
   ],
   "source": [
    "digits=list(input(\"請輸入一串一位數的數字並用空白分開:\").split(\" \"))\n",
    "number_string = ''\n",
    "number_new = ''\n",
    "for number in digits:\n",
    "    number_string += str(number)\n",
    "number_string = str(int(number_string) + 1)\n",
    "for number in number_string:\n",
    "    number_new += number + ' '\n",
    "print(number_new)"
   ]
  },
  {
   "cell_type": "code",
   "execution_count": null,
   "metadata": {},
   "outputs": [],
   "source": [
    "#leetcode 66. Plus One (改)"
   ]
  }
 ],
 "metadata": {
  "kernelspec": {
   "display_name": "Python 3",
   "language": "python",
   "name": "python3"
  },
  "language_info": {
   "codemirror_mode": {
    "name": "ipython",
    "version": 3
   },
   "file_extension": ".py",
   "mimetype": "text/x-python",
   "name": "python",
   "nbconvert_exporter": "python",
   "pygments_lexer": "ipython3",
   "version": "3.8.3"
  }
 },
 "nbformat": 4,
 "nbformat_minor": 4
}
