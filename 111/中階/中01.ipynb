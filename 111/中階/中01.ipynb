{
 "cells": [
  {
   "cell_type": "code",
   "execution_count": null,
   "metadata": {},
   "outputs": [],
   "source": [
    "'''\n",
    "\n",
    "求救!!!求救!!!!!快點~前線傳來訊號了!!!你發現你身處戰場當中，需要解碼援軍救援訊號。請製作一程式，來方便解碼，且每列密碼字元中間以空白隔開\n",
    "訊號如下:\n",
    "A .-\n",
    "B -...\n",
    "C -.-.\n",
    "D -..\n",
    "E .\n",
    "F ..-.\n",
    "G --.\n",
    "H ....\n",
    "I ..\n",
    "J .---\n",
    "K -.-\n",
    "L .-..\n",
    "M --\n",
    "N -.\n",
    "O ---\n",
    "P .--.\n",
    "Q --.-\n",
    "R .-.\n",
    "S ...\n",
    "T -\n",
    "U ..-\n",
    "V ...-\n",
    "W .--\n",
    "X -..-\n",
    "Y -.--\n",
    "Z --..\n",
    "\n",
    "範例輸入:\n",
    "... --- ... .... . .-.. .--.\n",
    "\n",
    "範例輸出:\n",
    "SOSHELP\n",
    "\n",
    "'''"
   ]
  },
  {
   "cell_type": "code",
   "execution_count": 10,
   "metadata": {},
   "outputs": [
    {
     "name": "stdout",
     "output_type": "stream",
     "text": [
      "請輸入密碼:... --- ... .... . .-.. .--.\n",
      "SOSHELP"
     ]
    }
   ],
   "source": [
    "code = {'.-':'A','-...':'B','-.-.':'C','-..':'D','.':'E',        \n",
    "'..-.':'F','--.':'G','....':'H','..':'I','.---':'J',\n",
    "'-.-':'K','.-..':'L','--':'M','-.':'N','---':'O',\n",
    "'.--.':'P','--.-':'Q','.-.':'R','...':'S','-':'T',\n",
    "'..-':'U','...-':'V','.--':'W','-..-':'X','-.--':'Y','--..':'Z',}\n",
    "word = []\n",
    "code_list = [str(x) for x in input(\"請輸入密碼:\").split(\" \")]\n",
    "for i in range(len(code_list)):\n",
    "    word.append(code.get(code_list[i]))\n",
    "for x in word:\n",
    "    print(x,end = '')"
   ]
  },
  {
   "cell_type": "code",
   "execution_count": null,
   "metadata": {},
   "outputs": [],
   "source": [
    "#1101_3"
   ]
  }
 ],
 "metadata": {
  "kernelspec": {
   "display_name": "Python 3",
   "language": "python",
   "name": "python3"
  },
  "language_info": {
   "codemirror_mode": {
    "name": "ipython",
    "version": 3
   },
   "file_extension": ".py",
   "mimetype": "text/x-python",
   "name": "python",
   "nbconvert_exporter": "python",
   "pygments_lexer": "ipython3",
   "version": "3.8.3"
  }
 },
 "nbformat": 4,
 "nbformat_minor": 4
}
