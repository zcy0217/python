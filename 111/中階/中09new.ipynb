{
 "cells": [
  {
   "cell_type": "code",
   "execution_count": null,
   "metadata": {},
   "outputs": [],
   "source": [
    "'''\n",
    "讓使用者輸入若干個整數，以空格分開來輸入，判斷其正整數和負整數的數量，並且輸出最大的數量\n",
    "\n",
    "範例輸入:\n",
    "5 -1 2 \n",
    "\n",
    "範例輸出:\n",
    "2 (因為有2個正整數，1個負整數，最大的數量是2)\n",
    "\n",
    "範例輸入:\n",
    "-2 -2 -1 1 2 3 (因為正、負整數各有3個，最大的數量是3)\n",
    "\n",
    "範例輸出:\n",
    "3\n",
    "\n",
    "範例輸入:\n",
    "-2 0 6 -3 9 12 30 (因為正整數有4個，負整數2個，最大的數量是4)\n",
    "\n",
    "範例輸出:\n",
    "4\n",
    "'''"
   ]
  },
  {
   "cell_type": "code",
   "execution_count": 1,
   "metadata": {},
   "outputs": [
    {
     "name": "stdout",
     "output_type": "stream",
     "text": [
      "請輸入多組數字並用空白分開:1 -1 2 3 4 5 6\n",
      "6\n"
     ]
    }
   ],
   "source": [
    "nums = input(\"請輸入多組數字並用空白分開:\")\n",
    "nums_list=[]\n",
    "for n in nums.split():\n",
    "    nums_list.append(int(n))\n",
    "positive=0\n",
    "negative=0\n",
    "for i in nums_list:\n",
    "    if i>0:\n",
    "        positive+=1\n",
    "    elif i<0:\n",
    "        negative+=1\n",
    "print(max(positive,negative))"
   ]
  },
  {
   "cell_type": "code",
   "execution_count": null,
   "metadata": {},
   "outputs": [],
   "source": [
    "#Leetcode 2529 Maximum Count of Positive Integer and Negative Integer"
   ]
  }
 ],
 "metadata": {
  "kernelspec": {
   "display_name": "Python 3",
   "language": "python",
   "name": "python3"
  },
  "language_info": {
   "codemirror_mode": {
    "name": "ipython",
    "version": 3
   },
   "file_extension": ".py",
   "mimetype": "text/x-python",
   "name": "python",
   "nbconvert_exporter": "python",
   "pygments_lexer": "ipython3",
   "version": "3.8.3"
  }
 },
 "nbformat": 4,
 "nbformat_minor": 4
}
