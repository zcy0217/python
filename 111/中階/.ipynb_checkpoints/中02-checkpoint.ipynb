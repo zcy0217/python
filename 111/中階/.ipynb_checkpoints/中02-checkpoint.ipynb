{
 "cells": [
  {
   "cell_type": "code",
   "execution_count": null,
   "metadata": {},
   "outputs": [],
   "source": [
    "'''\n",
    "\n",
    "歡迎光臨撿石頭遊戲，規則如下:\n",
    "桌上有石頭n個，小明和小美兩個玩家，小明先玩，每次每個玩家可以拿走1~3個石頭，拿走最後一顆石頭的人就獲勝!\n",
    "請根據以上規則與初始的石頭數量，判斷小明是否能贏這個遊戲。\n",
    "簡單情境:\n",
    "1.桌上有3顆石頭，小明一次全拿，小明獲勝。\n",
    "2.桌上有4顆石頭，不管小明拿走幾顆，小美都會獲勝。\n",
    "(題目多看幾次後會發現有規律性在裡面喔~)\n",
    "\n",
    "'''"
   ]
  },
  {
   "cell_type": "code",
   "execution_count": null,
   "metadata": {},
   "outputs": [],
   "source": [
    "stone=int(input(\"請輸入石頭數量:\"))\n",
    "if stone<4:\n",
    "    print(\"小明輸了\")\n",
    "if stone%4==0:\n",
    "    print(\"小明輸了\")\n",
    "else:\n",
    "    print(\"小明贏了\")"
   ]
  },
  {
   "cell_type": "code",
   "execution_count": null,
   "metadata": {},
   "outputs": [],
   "source": [
    "'''\n",
    "1.石頭數量小於等於3，直接獲勝\n",
    "2.石頭數量等於4個，輸\n",
    "3.石頭數量5個，先拿走1個，獲勝\n",
    "4.由以上可以推論(5-1=4, 6-2=4, 7-3=4) 5~7都可以獲勝\n",
    "5.石頭數量8個，不管怎樣都會輸\n",
    "\n",
    "***以上可以得到結論，只要一開始的石頭數量為4的倍數，就會輸。***\n",
    "\n",
    "'''"
   ]
  },
  {
   "cell_type": "code",
   "execution_count": null,
   "metadata": {},
   "outputs": [],
   "source": [
    "#leetcode 292. Nim Game"
   ]
  }
 ],
 "metadata": {
  "kernelspec": {
   "display_name": "Python 3",
   "language": "python",
   "name": "python3"
  },
  "language_info": {
   "codemirror_mode": {
    "name": "ipython",
    "version": 3
   },
   "file_extension": ".py",
   "mimetype": "text/x-python",
   "name": "python",
   "nbconvert_exporter": "python",
   "pygments_lexer": "ipython3",
   "version": "3.8.3"
  }
 },
 "nbformat": 4,
 "nbformat_minor": 4
}
