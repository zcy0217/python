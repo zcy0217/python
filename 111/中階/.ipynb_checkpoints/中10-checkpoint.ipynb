{
 "cells": [
  {
   "cell_type": "code",
   "execution_count": null,
   "metadata": {},
   "outputs": [],
   "source": [
    "'''\n",
    "\n",
    "輸入一個方形矩陣，請求出對角線的合，且每個元素只能被加一次。\n",
    "\n",
    "範例輸入:\n",
    "[[1,2,3],\n",
    " [4,5,6],\n",
    " [7,8,9]]\n",
    "\n",
    "範例輸出:\n",
    "25  (1+5+9+3+7=25)\n",
    "\n",
    "範例輸入:\n",
    "[[2,2,2,2],\n",
    " [2,2,2,2],\n",
    " [2,2,2,2],\n",
    " [2,2,2,2]]\n",
    "\n",
    "範例輸出:\n",
    "16\n",
    "\n",
    "'''"
   ]
  },
  {
   "cell_type": "code",
   "execution_count": 1,
   "metadata": {},
   "outputs": [
    {
     "name": "stdout",
     "output_type": "stream",
     "text": [
      "1 2 3\n",
      "4 5 6\n",
      "7 8 9\n",
      "\n",
      "25\n"
     ]
    }
   ],
   "source": [
    "def diagonalSum(m):\n",
    "    n = len(m)\n",
    "    s = 0\n",
    "    for i in range(n):\n",
    "        s += int(m[i][i]) #左上到右下的斜對角線\n",
    "        if i != n-i-1: #過濾掉重複的\n",
    "            s += int(m[i][n-i-1]) #右上到左下的對角線\n",
    "    print(s)\n",
    "matrix = []\n",
    "while True:\n",
    "    line = input()\n",
    "    values = line.split()\n",
    "    row = [int(value) for value in values]\n",
    "    matrix.append(row)\n",
    "\n",
    "    if not line:\n",
    "        break\n",
    "matrix.pop()\n",
    "diagonalSum(matrix)"
   ]
  },
  {
   "cell_type": "code",
   "execution_count": null,
   "metadata": {},
   "outputs": [],
   "source": [
    "#leetcode 1572. Matrix Diagonal Sum"
   ]
  }
 ],
 "metadata": {
  "kernelspec": {
   "display_name": "Python 3",
   "language": "python",
   "name": "python3"
  },
  "language_info": {
   "codemirror_mode": {
    "name": "ipython",
    "version": 3
   },
   "file_extension": ".py",
   "mimetype": "text/x-python",
   "name": "python",
   "nbconvert_exporter": "python",
   "pygments_lexer": "ipython3",
   "version": "3.8.3"
  }
 },
 "nbformat": 4,
 "nbformat_minor": 4
}
