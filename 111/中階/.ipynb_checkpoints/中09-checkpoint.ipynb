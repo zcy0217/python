{
 "cells": [
  {
   "cell_type": "code",
   "execution_count": null,
   "metadata": {},
   "outputs": [],
   "source": [
    "'''\n",
    "\n",
    "製作一個程式可以查看自己目前有被當，且輸入時幾筆資料&成績是同一行輸入!\n",
    "\n",
    "範例輸入:\n",
    "2 59 81\n",
    "\n",
    "範例輸出:\n",
    "沒有被當!\n",
    "\n",
    "範例輸入:\n",
    "3 40 30 80\n",
    "\n",
    "範例輸出:\n",
    "被當了啊啊啊~\n",
    "\n",
    "'''"
   ]
  },
  {
   "cell_type": "code",
   "execution_count": 4,
   "metadata": {},
   "outputs": [
    {
     "name": "stdout",
     "output_type": "stream",
     "text": [
      ":3 40 30 80\n",
      "被當了啊啊啊~\n"
     ]
    }
   ],
   "source": [
    "number = [int(i) for i in input(\":\").split()]\n",
    "print(\"沒有被當!\" if (sum(number[1:])/number[0])>=60 else \"被當了啊啊啊~\")"
   ]
  },
  {
   "cell_type": "code",
   "execution_count": null,
   "metadata": {},
   "outputs": [],
   "source": [
    "#1102_5"
   ]
  }
 ],
 "metadata": {
  "kernelspec": {
   "display_name": "Python 3",
   "language": "python",
   "name": "python3"
  },
  "language_info": {
   "codemirror_mode": {
    "name": "ipython",
    "version": 3
   },
   "file_extension": ".py",
   "mimetype": "text/x-python",
   "name": "python",
   "nbconvert_exporter": "python",
   "pygments_lexer": "ipython3",
   "version": "3.8.3"
  }
 },
 "nbformat": 4,
 "nbformat_minor": 4
}
