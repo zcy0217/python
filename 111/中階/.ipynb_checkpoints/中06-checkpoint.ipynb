{
 "cells": [
  {
   "cell_type": "code",
   "execution_count": null,
   "metadata": {},
   "outputs": [],
   "source": [
    "'''\n",
    "\n",
    "輸入一串數字，並找出裡面有幾對一樣的數字。\n",
    "\n",
    "範例輸入:\n",
    "1,2,3,1,1,3\n",
    "\n",
    "範例輸出:\n",
    "4  (index為0,3 0,4 3,4 2,5 總共四組)\n",
    "\n",
    "'''"
   ]
  },
  {
   "cell_type": "code",
   "execution_count": 16,
   "metadata": {},
   "outputs": [
    {
     "name": "stdout",
     "output_type": "stream",
     "text": [
      "請輸入一串數字並用逗號分開:1,2,3,1,1,3\n",
      "4\n"
     ]
    }
   ],
   "source": [
    "nums=list(map(int,input(\"請輸入一串數字並用逗號分開:\").split(\",\")))\n",
    "count=0\n",
    "for i in range(len(nums)):\n",
    "    for j in range(i+1,len(nums)):\n",
    "        if nums[i]==nums[j]:\n",
    "            count+=1\n",
    "print(count)"
   ]
  },
  {
   "cell_type": "code",
   "execution_count": null,
   "metadata": {},
   "outputs": [],
   "source": [
    "class Solution(object):\n",
    "    def numIdenticalPairs(self, nums):\n",
    "        res = 0\n",
    "        for v in collections.Counter(nums).values():\n",
    "            if v>1:\n",
    "                res += v*(v-1)/2\n",
    "        return res"
   ]
  },
  {
   "cell_type": "code",
   "execution_count": null,
   "metadata": {},
   "outputs": [],
   "source": [
    "#leetcode 1512. Number of Good Pairs"
   ]
  }
 ],
 "metadata": {
  "kernelspec": {
   "display_name": "Python 3",
   "language": "python",
   "name": "python3"
  },
  "language_info": {
   "codemirror_mode": {
    "name": "ipython",
    "version": 3
   },
   "file_extension": ".py",
   "mimetype": "text/x-python",
   "name": "python",
   "nbconvert_exporter": "python",
   "pygments_lexer": "ipython3",
   "version": "3.8.3"
  }
 },
 "nbformat": 4,
 "nbformat_minor": 4
}
