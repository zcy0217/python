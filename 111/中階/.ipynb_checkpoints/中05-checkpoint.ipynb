{
 "cells": [
  {
   "cell_type": "code",
   "execution_count": null,
   "metadata": {},
   "outputs": [],
   "source": [
    "'''\n",
    "\n",
    "從任何正整數開始，將數字替換為其數字的平方和\n",
    "重複這個過程，直到數字等於 1（它將保持不變），或者它在不包括 1的循環中無限循環\n",
    "這個過程以 1 結束的。\n",
    "\n",
    "範例輸入:\n",
    "19\n",
    "\n",
    "範例輸出:\n",
    "True\n",
    "\n",
    "範例輸入:\n",
    "20\n",
    "\n",
    "範例輸出:\n",
    "False\n",
    "\n",
    "'''"
   ]
  },
  {
   "attachments": {
    "image.png": {
     "image/png": "[encoded data removed]"
    }
   },
   "cell_type": "markdown",
   "metadata": {},
   "source": [
    "![image.png](attachment:image.png)"
   ]
  },
  {
   "cell_type": "code",
   "execution_count": 1,
   "metadata": {},
   "outputs": [
    {
     "name": "stdout",
     "output_type": "stream",
     "text": [
      "請輸入一個整數:2120\n",
      "False\n"
     ]
    }
   ],
   "source": [
    "n=int(input(\"請輸入一個整數:\"))\n",
    "lst = [n]\n",
    "while True:\n",
    "    sum = 0\n",
    "    while n>0:\n",
    "        sum += (n%10)**2\n",
    "        n //= 10\n",
    "    if sum == 1:\n",
    "        print(True)\n",
    "        break\n",
    "    elif sum in lst:\n",
    "        print(False)\n",
    "        break\n",
    "    else:\n",
    "        n = sum\n",
    "        lst.append(sum)"
   ]
  },
  {
   "cell_type": "code",
   "execution_count": 1,
   "metadata": {},
   "outputs": [
    {
     "name": "stdout",
     "output_type": "stream",
     "text": [
      "請輸入一個數字8\n",
      "false\n"
     ]
    }
   ],
   "source": [
    "num = list(input(\"請輸入一個數字\"))\n",
    "sum=0\n",
    "list1=[]\n",
    "while sum!=1:\n",
    "    sum=0\n",
    "    for i in num:\n",
    "        sum+=int(i)**2\n",
    "    if sum==1:\n",
    "        print('true')\n",
    "        break\n",
    "    if sum not in list1:\n",
    "        print('false')\n",
    "        break\n",
    "    num=list(str(sum))    "
   ]
  },
  {
   "cell_type": "code",
   "execution_count": null,
   "metadata": {},
   "outputs": [],
   "source": [
    "#1102_9"
   ]
  }
 ],
 "metadata": {
  "kernelspec": {
   "display_name": "Python 3 (ipykernel)",
   "language": "python",
   "name": "python3"
  },
  "language_info": {
   "codemirror_mode": {
    "name": "ipython",
    "version": 3
   },
   "file_extension": ".py",
   "mimetype": "text/x-python",
   "name": "python",
   "nbconvert_exporter": "python",
   "pygments_lexer": "ipython3",
   "version": "3.8.16"
  }
 },
 "nbformat": 4,
 "nbformat_minor": 4
}
