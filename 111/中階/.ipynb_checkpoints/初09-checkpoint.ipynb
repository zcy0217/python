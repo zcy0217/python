{
 "cells": [
  {
   "cell_type": "code",
   "execution_count": null,
   "metadata": {},
   "outputs": [],
   "source": [
    "'''\n",
    "\n",
    "請製作一個程式，當輸入數字時，算出分解後的積減和的值\n",
    "\n",
    "範例輸入:\n",
    "234\n",
    "\n",
    "範例輸出:\n",
    "15  ((2*3*4)-(2+3+4))\n",
    "\n",
    "'''"
   ]
  },
  {
   "cell_type": "code",
   "execution_count": 5,
   "metadata": {},
   "outputs": [
    {
     "name": "stdout",
     "output_type": "stream",
     "text": [
      "請輸入數字:234\n",
      "15\n"
     ]
    }
   ],
   "source": [
    "n=input(\"請輸入數字:\")\n",
    "nlist = []\n",
    "n_mul = 1 #乘法\n",
    "for i in n:\n",
    "    nlist.append(int(i))\n",
    "    n_mul *= int(i)\n",
    "n_sum = sum(nlist)\n",
    "print(n_mul - n_sum)"
   ]
  },
  {
   "cell_type": "code",
   "execution_count": null,
   "metadata": {},
   "outputs": [],
   "source": [
    "#leetcode 1281. Subtract the Product and Sum of Digits of an Integer"
   ]
  }
 ],
 "metadata": {
  "kernelspec": {
   "display_name": "Python 3",
   "language": "python",
   "name": "python3"
  },
  "language_info": {
   "codemirror_mode": {
    "name": "ipython",
    "version": 3
   },
   "file_extension": ".py",
   "mimetype": "text/x-python",
   "name": "python",
   "nbconvert_exporter": "python",
   "pygments_lexer": "ipython3",
   "version": "3.8.3"
  }
 },
 "nbformat": 4,
 "nbformat_minor": 4
}
