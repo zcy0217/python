{
 "cells": [
  {
   "cell_type": "code",
   "execution_count": null,
   "metadata": {},
   "outputs": [],
   "source": [
    "'''\n",
    "\n",
    "請設計一個可以進行質因數分解的程式\n",
    "\n",
    "範例輸入:\n",
    "20\n",
    "\n",
    "範例輸出:\n",
    "20 = 2*2*5\n",
    "\n",
    "'''"
   ]
  },
  {
   "cell_type": "code",
   "execution_count": 6,
   "metadata": {},
   "outputs": [
    {
     "name": "stdout",
     "output_type": "stream",
     "text": [
      "20\n",
      "20 = 2*2*5"
     ]
    }
   ],
   "source": [
    "num = int(input(\"請輸入一個整數\"))\n",
    "\n",
    "print(num, '= ', end = '')\n",
    "\n",
    "for i in range(2, num + 1) :\n",
    "    while True :\n",
    "        if num % i == 0 :\n",
    "            print(i, end = '')\n",
    "            num = num / i\n",
    "            if num == 1 :\n",
    "                break\n",
    "            else :\n",
    "                print('*', end = '')\n",
    "        else :\n",
    "            break"
   ]
  },
  {
   "cell_type": "code",
   "execution_count": null,
   "metadata": {},
   "outputs": [],
   "source": [
    "#1101_10"
   ]
  }
 ],
 "metadata": {
  "kernelspec": {
   "display_name": "Python 3",
   "language": "python",
   "name": "python3"
  },
  "language_info": {
   "codemirror_mode": {
    "name": "ipython",
    "version": 3
   },
   "file_extension": ".py",
   "mimetype": "text/x-python",
   "name": "python",
   "nbconvert_exporter": "python",
   "pygments_lexer": "ipython3",
   "version": "3.8.3"
  }
 },
 "nbformat": 4,
 "nbformat_minor": 4
}
