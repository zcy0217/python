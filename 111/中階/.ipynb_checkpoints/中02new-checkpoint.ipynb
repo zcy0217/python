{
 "cells": [
  {
   "cell_type": "code",
   "execution_count": null,
   "metadata": {},
   "outputs": [],
   "source": [
    "'''\n",
    "請輸入一個正整數，計算轉換成二進位後每個位數的合\n",
    "\n",
    "範例輸入:\n",
    "100\n",
    "\n",
    "範例輸出:\n",
    "3\n",
    "\n",
    "範例輸入:\n",
    "2\n",
    "\n",
    "範例輸出:\n",
    "1\n",
    "'''"
   ]
  },
  {
   "cell_type": "code",
   "execution_count": 18,
   "metadata": {},
   "outputs": [
    {
     "name": "stdout",
     "output_type": "stream",
     "text": [
      "請輸入正整數:100\n",
      "3\n"
     ]
    }
   ],
   "source": [
    "num=list(\"{0:b}\".format(int(input('請輸入正整數:'))))\n",
    "sum=0\n",
    "for i in num:\n",
    "    sum+=int(i)\n",
    "print(sum)"
   ]
  },
  {
   "cell_type": "code",
   "execution_count": 15,
   "metadata": {},
   "outputs": [
    {
     "name": "stdout",
     "output_type": "stream",
     "text": [
      "請輸入正整數:2\n",
      "10\n"
     ]
    }
   ],
   "source": [
    "#https://stackoverflow.com/questions/699866/python-int-to-binary-string\n",
    "num=int(\"{0:b}\".format(int(input('請輸入正整數:'))))\n",
    "print(num)"
   ]
  },
  {
   "cell_type": "code",
   "execution_count": null,
   "metadata": {},
   "outputs": [],
   "source": [
    "#CPE 10931 Parity 20221213"
   ]
  }
 ],
 "metadata": {
  "kernelspec": {
   "display_name": "Python 3",
   "language": "python",
   "name": "python3"
  },
  "language_info": {
   "codemirror_mode": {
    "name": "ipython",
    "version": 3
   },
   "file_extension": ".py",
   "mimetype": "text/x-python",
   "name": "python",
   "nbconvert_exporter": "python",
   "pygments_lexer": "ipython3",
   "version": "3.8.3"
  }
 },
 "nbformat": 4,
 "nbformat_minor": 4
}
