{
 "cells": [
  {
   "cell_type": "code",
   "execution_count": null,
   "metadata": {},
   "outputs": [],
   "source": [
    "'''\n",
    "輸入一串文字，找出重複文字數量為質數個的文字\n",
    "文字可能為數字或英文字母\n",
    "輸出的順序不限，合理即可\n",
    "若找不到則輸出\"無\"\n",
    "\n",
    "範例輸入:\n",
    "ABCC1CD1\n",
    "\n",
    "範例輸出:\n",
    "C1\n",
    "\n",
    "範例輸入:\n",
    "AB2CDEE1EE\n",
    "\n",
    "範例輸出:\n",
    "無\n",
    "'''"
   ]
  },
  {
   "cell_type": "code",
   "execution_count": 46,
   "metadata": {},
   "outputs": [
    {
     "name": "stdout",
     "output_type": "stream",
     "text": [
      "請輸入一串文字:AB2CDEE1EE\n",
      "無\n"
     ]
    }
   ],
   "source": [
    "def prime(x):\n",
    "    if x == 1:\n",
    "        return False\n",
    "    for i in range(2, x):\n",
    "        if x % i == 0:\n",
    "            return False\n",
    "    return True\n",
    "ans=''\n",
    "word=input(\"請輸入一串文字:\")\n",
    "setword=list(set(word))\n",
    "for i in setword:\n",
    "    num=word.count(i)\n",
    "    if prime(num)==True:\n",
    "        ans+=i\n",
    "if len(ans)==0:\n",
    "    print(\"無\")\n",
    "else:\n",
    "    print(ans)"
   ]
  },
  {
   "cell_type": "code",
   "execution_count": 30,
   "metadata": {},
   "outputs": [],
   "source": [
    "#CPE 10789 Prime Frequency 20221213"
   ]
  }
 ],
 "metadata": {
  "kernelspec": {
   "display_name": "Python 3",
   "language": "python",
   "name": "python3"
  },
  "language_info": {
   "codemirror_mode": {
    "name": "ipython",
    "version": 3
   },
   "file_extension": ".py",
   "mimetype": "text/x-python",
   "name": "python",
   "nbconvert_exporter": "python",
   "pygments_lexer": "ipython3",
   "version": "3.8.3"
  }
 },
 "nbformat": 4,
 "nbformat_minor": 4
}
