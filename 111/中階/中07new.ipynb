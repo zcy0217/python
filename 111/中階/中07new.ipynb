{
 "cells": [
  {
   "cell_type": "code",
   "execution_count": null,
   "metadata": {},
   "outputs": [],
   "source": [
    "'''\n",
    "請輸入一串數字，將每個位數的數值相加，一直循環到變成個位數為止\n",
    "\n",
    "範例輸入:\n",
    "12345\n",
    "\n",
    "範例輸出:\n",
    "6\n",
    "'''"
   ]
  },
  {
   "cell_type": "code",
   "execution_count": 5,
   "metadata": {},
   "outputs": [
    {
     "name": "stdout",
     "output_type": "stream",
     "text": [
      "請輸入一串數字:12345\n",
      "6\n"
     ]
    }
   ],
   "source": [
    "def total(n):\n",
    "    sum = 0\n",
    "    while n > 0: #把每個位數都相加起來後回傳\n",
    "        sum += n % 10\n",
    "        n //= 10\n",
    "    return sum\n",
    "n = int(input(\"請輸入一串數字:\"))\n",
    "while n >= 10:\n",
    "    n = total(n)\n",
    "print(n)"
   ]
  },
  {
   "cell_type": "code",
   "execution_count": null,
   "metadata": {},
   "outputs": [],
   "source": [
    "#CPE 11332 Summing Digits 20221018"
   ]
  }
 ],
 "metadata": {
  "kernelspec": {
   "display_name": "Python 3",
   "language": "python",
   "name": "python3"
  },
  "language_info": {
   "codemirror_mode": {
    "name": "ipython",
    "version": 3
   },
   "file_extension": ".py",
   "mimetype": "text/x-python",
   "name": "python",
   "nbconvert_exporter": "python",
   "pygments_lexer": "ipython3",
   "version": "3.8.3"
  }
 },
 "nbformat": 4,
 "nbformat_minor": 4
}
