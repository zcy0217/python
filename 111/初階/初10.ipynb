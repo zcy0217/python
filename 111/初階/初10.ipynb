{
 "cells": [
  {
   "cell_type": "code",
   "execution_count": null,
   "metadata": {},
   "outputs": [],
   "source": [
    "'''\n",
    "\n",
    "使用者輸入一段話，程式抓出單字的第一個字母，並輸出縮寫。\n",
    "\n",
    "範例輸入:\n",
    "As Soon As Possible\n",
    "\n",
    "範例輸出:\n",
    "ASAP\n",
    "\n",
    "'''"
   ]
  },
  {
   "cell_type": "code",
   "execution_count": 3,
   "metadata": {},
   "outputs": [
    {
     "name": "stdout",
     "output_type": "stream",
     "text": [
      "請輸入一段話:As Soon As Possible\n",
      "ASAP\n"
     ]
    }
   ],
   "source": [
    "word = list(input(\"請輸入一段話:\").split())\n",
    "short = \"\"\n",
    "for i in word:\n",
    "    short+=i[0]\n",
    "print(short)"
   ]
  },
  {
   "cell_type": "code",
   "execution_count": null,
   "metadata": {},
   "outputs": [],
   "source": [
    "#1102_3"
   ]
  }
 ],
 "metadata": {
  "kernelspec": {
   "display_name": "Python 3",
   "language": "python",
   "name": "python3"
  },
  "language_info": {
   "codemirror_mode": {
    "name": "ipython",
    "version": 3
   },
   "file_extension": ".py",
   "mimetype": "text/x-python",
   "name": "python",
   "nbconvert_exporter": "python",
   "pygments_lexer": "ipython3",
   "version": "3.8.3"
  }
 },
 "nbformat": 4,
 "nbformat_minor": 4
}
