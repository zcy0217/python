{
 "cells": [
  {
   "cell_type": "code",
   "execution_count": null,
   "metadata": {},
   "outputs": [],
   "source": [
    "'''\n",
    "\n",
    "請製作一個可以反轉數字的程式，不可以用reverse來寫。\n",
    "\n",
    "範例輸入:\n",
    "12345\n",
    "\n",
    "範例輸出:\n",
    "54321\n",
    "\n",
    "'''"
   ]
  },
  {
   "cell_type": "code",
   "execution_count": 4,
   "metadata": {},
   "outputs": [
    {
     "name": "stdout",
     "output_type": "stream",
     "text": [
      "請輸入一串數字:123456\n",
      "654321\n"
     ]
    }
   ],
   "source": [
    "x=int(input('請輸入一串數字:'))\n",
    "reversedNum=0\n",
    "while(x>0):\n",
    "    reversedNum=reversedNum*10+x%10\n",
    "    x=x//10\n",
    "print(reversedNum)"
   ]
  },
  {
   "cell_type": "code",
   "execution_count": null,
   "metadata": {},
   "outputs": [],
   "source": [
    "#1102_4"
   ]
  }
 ],
 "metadata": {
  "kernelspec": {
   "display_name": "Python 3",
   "language": "python",
   "name": "python3"
  },
  "language_info": {
   "codemirror_mode": {
    "name": "ipython",
    "version": 3
   },
   "file_extension": ".py",
   "mimetype": "text/x-python",
   "name": "python",
   "nbconvert_exporter": "python",
   "pygments_lexer": "ipython3",
   "version": "3.8.3"
  }
 },
 "nbformat": 4,
 "nbformat_minor": 4
}
