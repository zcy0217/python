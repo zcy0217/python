{
 "cells": [
  {
   "cell_type": "code",
   "execution_count": null,
   "metadata": {},
   "outputs": [],
   "source": [
    "'''\n",
    "請利用迴圈設計一個程式可以讓使用者持續輸入一個大於1的正整數n，然後輸出所有小於n而且非3或7的倍數的整數，並以空格分開\n",
    "若使用者輸入0，中斷程式並輸出(結束!)，參考結果如下。\n",
    "\n",
    "參考結果:\n",
    "請輸入一個大於1的正整數n:10\n",
    "1 2 4 5 8 \n",
    "\n",
    "請輸入一個大於1的正整數n:24\n",
    "1 2 4 5 8 10 11 13 16 17 19 20 22 23 \n",
    "\n",
    "請輸入一個大於1的正整數n:0\n",
    "結束!\n",
    "'''"
   ]
  },
  {
   "cell_type": "code",
   "execution_count": 1,
   "metadata": {},
   "outputs": [
    {
     "name": "stdout",
     "output_type": "stream",
     "text": [
      "請輸入一個大於1的正整數n:5\n",
      "1 2 4 \n",
      "\n",
      "請輸入一個大於1的正整數n:100\n",
      "1 2 4 5 8 10 11 13 16 17 19 20 22 23 25 26 29 31 32 34 37 38 40 41 43 44 46 47 50 52 53 55 58 59 61 62 64 65 67 68 71 73 74 76 79 80 82 83 85 86 88 89 92 94 95 97 \n",
      "\n",
      "請輸入一個大於1的正整數n:0\n",
      "結束!\n"
     ]
    }
   ],
   "source": [
    "while True:\n",
    "    n=int(input(\"請輸入一個大於1的正整數n:\"))\n",
    "    if n==0:\n",
    "        print('結束!')\n",
    "        break\n",
    "    else:  \n",
    "        for i in range(n):\n",
    "            if i%3!=0 and i%7!=0:\n",
    "                print(i,end=' ') \n",
    "        print('\\n')      "
   ]
  },
  {
   "cell_type": "code",
   "execution_count": null,
   "metadata": {},
   "outputs": [],
   "source": [
    "#ZeroJudge a147. Print it all"
   ]
  }
 ],
 "metadata": {
  "kernelspec": {
   "display_name": "Python 3",
   "language": "python",
   "name": "python3"
  },
  "language_info": {
   "codemirror_mode": {
    "name": "ipython",
    "version": 3
   },
   "file_extension": ".py",
   "mimetype": "text/x-python",
   "name": "python",
   "nbconvert_exporter": "python",
   "pygments_lexer": "ipython3",
   "version": "3.8.3"
  }
 },
 "nbformat": 4,
 "nbformat_minor": 4
}
