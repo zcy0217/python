{
 "cells": [
  {
   "cell_type": "code",
   "execution_count": null,
   "metadata": {},
   "outputs": [],
   "source": [
    "'''\n",
    "\n",
    "請製作一個解碼器\n",
    "\n",
    "使用ASCII 將加密過後的密碼解開\n",
    "\n",
    "#密碼學裡面有一種很簡單的加密方式，就是把明碼的每個字元加上某一個整數K而得到密碼的字元。\n",
    " 例如若K=2，那麼apple經過加密後就變成crrng了\n",
    " \n",
    "至於此題中的K為多少請參照下面的範例輸出入推出吧!\n",
    "\n",
    "範例輸入1.\n",
    "\\sfkugjfi\\~p`jkxycjijhotm%\\|\\~\n",
    "\n",
    "範例輸出1.\n",
    "an apple a day keeps the doctor away\n",
    "\n",
    "'''"
   ]
  },
  {
   "cell_type": "code",
   "execution_count": 1,
   "metadata": {},
   "outputs": [
    {
     "name": "stdout",
     "output_type": "stream",
     "text": [
      ":an apple a day keeps the doctor away\n",
      "ks*fzuvj*f*ik~*pojzx*yrj*iyh~t|%k|k~"
     ]
    }
   ],
   "source": [
    "#加密\n",
    "a = input(':')\n",
    "for i in range(len(a)):\n",
    "    if i%2 == 0:\n",
    "        print(chr(ord(a[i])+10),end = \"\")\n",
    "    else:\n",
    "        print(chr(ord(a[i])+5),end = \"\")        "
   ]
  },
  {
   "cell_type": "code",
   "execution_count": 2,
   "metadata": {},
   "outputs": [
    {
     "name": "stdout",
     "output_type": "stream",
     "text": [
      ":ks*fzuvj*f*ik~*pojzx*yrj*iyh~t|%k|k~\n",
      "an apple a day keeps the doctor away"
     ]
    }
   ],
   "source": [
    "#解密\n",
    "a = input(':')\n",
    "for i in range(len(a)):\n",
    "    if i%2 == 0:\n",
    "        print(chr(ord(a[i])-10),end = \"\")\n",
    "    else:\n",
    "        print(chr(ord(a[i])-5),end = \"\")        "
   ]
  },
  {
   "cell_type": "code",
   "execution_count": null,
   "metadata": {},
   "outputs": [],
   "source": [
    "#1101_10"
   ]
  },
  {
   "cell_type": "code",
   "execution_count": 3,
   "metadata": {},
   "outputs": [
    {
     "name": "stdout",
     "output_type": "stream",
     "text": [
      "36\n",
      "36\n"
     ]
    }
   ],
   "source": [
    "print(len(\"ks*fzuvj*f*ik~*pojzx*yrj*iyh~t|%k|k~\"))\n",
    "print(len(\"an apple a day keeps the doctor away\"))"
   ]
  }
 ],
 "metadata": {
  "kernelspec": {
   "display_name": "Python 3",
   "language": "python",
   "name": "python3"
  },
  "language_info": {
   "codemirror_mode": {
    "name": "ipython",
    "version": 3
   },
   "file_extension": ".py",
   "mimetype": "text/x-python",
   "name": "python",
   "nbconvert_exporter": "python",
   "pygments_lexer": "ipython3",
   "version": "3.8.3"
  }
 },
 "nbformat": 4,
 "nbformat_minor": 4
}
