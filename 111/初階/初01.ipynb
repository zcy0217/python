{
 "cells": [
  {
   "cell_type": "code",
   "execution_count": null,
   "metadata": {},
   "outputs": [],
   "source": [
    "'''\n",
    "\n",
    "dishes代表菜餚的類型，ingredients代表你擁有的食材。\n",
    "食材可以很多且重複，但菜餚一次只能煮一次不能重複。\n",
    "字母區分大小寫，所以\"a\"和\"A\"是不同類型的食材。\n",
    "\n",
    "範例輸入:\n",
    "菜餚:AabCdeFG\n",
    "食材:AAABCDdEfg\n",
    "\n",
    "範例輸出:\n",
    "5  (菜餚和食材都有ACd，其中A有三個，所以一共五個)\n",
    "\n",
    "'''"
   ]
  },
  {
   "cell_type": "code",
   "execution_count": 3,
   "metadata": {},
   "outputs": [
    {
     "name": "stdout",
     "output_type": "stream",
     "text": [
      "請輸入字母菜餚:AAabCdeFG\n",
      "請輸入字母食材:AAABCDdEfg\n",
      "8\n",
      "AAabCdeFG\n"
     ]
    }
   ],
   "source": [
    "dishes=input(\"請輸入字母菜餚:\")\n",
    "ingredients=input(\"請輸入字母食材:\")\n",
    "count=0\n",
    "for i in list(dishes):\n",
    "    for j in list(ingredients):\n",
    "        if i==j:\n",
    "            count+=1\n",
    "print(count)\n",
    "print(dishes)"
   ]
  },
  {
   "cell_type": "code",
   "execution_count": null,
   "metadata": {},
   "outputs": [],
   "source": [
    "#leetcode 771. Jewels and Stones"
   ]
  }
 ],
 "metadata": {
  "kernelspec": {
   "display_name": "Python 3",
   "language": "python",
   "name": "python3"
  },
  "language_info": {
   "codemirror_mode": {
    "name": "ipython",
    "version": 3
   },
   "file_extension": ".py",
   "mimetype": "text/x-python",
   "name": "python",
   "nbconvert_exporter": "python",
   "pygments_lexer": "ipython3",
   "version": "3.8.3"
  }
 },
 "nbformat": 4,
 "nbformat_minor": 4
}
