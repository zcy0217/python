{
 "cells": [
  {
   "cell_type": "code",
   "execution_count": null,
   "metadata": {},
   "outputs": [],
   "source": [
    "'''\n",
    "\n",
    "輸入一個字串(word)和一個字母(ch)，當從字串的第0個位子開始找到字母後，反轉從第0個位子到字母間的字，剩下的則不動。\n",
    "\n",
    "範例輸入:\n",
    "word='abcdefghdig'\n",
    "ch='d'\n",
    "\n",
    "範例輸出:\n",
    "'dcbaefghdig'\n",
    "\n",
    "'''"
   ]
  },
  {
   "cell_type": "code",
   "execution_count": 20,
   "metadata": {},
   "outputs": [
    {
     "data": {
      "text/plain": [
       "'dcbaefghdig'"
      ]
     },
     "execution_count": 20,
     "metadata": {},
     "output_type": "execute_result"
    }
   ],
   "source": [
    "def reversePrefix(word,ch):\n",
    "    i=word.find(ch) #找index\n",
    "    return word[:i+1][::-1]+word[i+1:]\n",
    "reversePrefix('abcdefghdig','d')    "
   ]
  },
  {
   "cell_type": "code",
   "execution_count": 3,
   "metadata": {},
   "outputs": [],
   "source": [
    "#leetcode 2000. Reverse Prefix of Word"
   ]
  }
 ],
 "metadata": {
  "kernelspec": {
   "display_name": "Python 3",
   "language": "python",
   "name": "python3"
  },
  "language_info": {
   "codemirror_mode": {
    "name": "ipython",
    "version": 3
   },
   "file_extension": ".py",
   "mimetype": "text/x-python",
   "name": "python",
   "nbconvert_exporter": "python",
   "pygments_lexer": "ipython3",
   "version": "3.8.3"
  }
 },
 "nbformat": 4,
 "nbformat_minor": 4
}
