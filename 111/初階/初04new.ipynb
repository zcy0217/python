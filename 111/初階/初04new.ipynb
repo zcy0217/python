{
 "cells": [
  {
   "cell_type": "code",
   "execution_count": null,
   "metadata": {},
   "outputs": [],
   "source": [
    "'''\n",
    "請利用for迴圈的概念，設計一個程式讓使用者輸入一個英文單字，然後讓它輸出時字母間穿插著底線，如以下範例所示\n",
    "\n",
    "範例輸入:\n",
    "good\n",
    "\n",
    "範例輸出:\n",
    "g_o_o_d\n",
    "\n",
    "範例輸入:\n",
    "school\n",
    "\n",
    "範例輸出:\n",
    "s_c_h_o_o_l\n",
    "'''"
   ]
  },
  {
   "cell_type": "code",
   "execution_count": 1,
   "metadata": {},
   "outputs": [
    {
     "name": "stdout",
     "output_type": "stream",
     "text": [
      "請輸入一個英文單字:python\n",
      "p_y_t_h_o_n"
     ]
    }
   ],
   "source": [
    "word=input('請輸入一個英文單字:')\n",
    "n=len(word)\n",
    "for i in range(n):\n",
    "    print(word[i],end='')\n",
    "    if i < n-1:\n",
    "        print('_',end='')"
   ]
  },
  {
   "cell_type": "code",
   "execution_count": null,
   "metadata": {},
   "outputs": [],
   "source": [
    "#ZeroJudge f017. 把單字拼出來     "
   ]
  }
 ],
 "metadata": {
  "kernelspec": {
   "display_name": "Python 3",
   "language": "python",
   "name": "python3"
  },
  "language_info": {
   "codemirror_mode": {
    "name": "ipython",
    "version": 3
   },
   "file_extension": ".py",
   "mimetype": "text/x-python",
   "name": "python",
   "nbconvert_exporter": "python",
   "pygments_lexer": "ipython3",
   "version": "3.8.3"
  }
 },
 "nbformat": 4,
 "nbformat_minor": 4
}
