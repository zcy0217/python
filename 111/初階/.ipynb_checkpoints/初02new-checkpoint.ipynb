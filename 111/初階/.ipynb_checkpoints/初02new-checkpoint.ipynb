{
 "cells": [
  {
   "cell_type": "code",
   "execution_count": null,
   "metadata": {},
   "outputs": [],
   "source": [
    "'''\n",
    "請設計一個程式讓使用者輸入一組三位數的數字，並使此數字通過(百位數 + 十位數 - 個位數)的動作再行輸出，範例如下。\n",
    "\n",
    "範例輸入:\n",
    "123\n",
    "\n",
    "範例輸出:\n",
    "0 (因為 1 + 2 - 3 = 0)\n",
    "\n",
    "範例輸入:\n",
    "458\n",
    "\n",
    "範例輸出:\n",
    "1 (因為 4 + 5 - 8 = 1)\n",
    "'''"
   ]
  },
  {
   "cell_type": "code",
   "execution_count": 1,
   "metadata": {},
   "outputs": [
    {
     "name": "stdout",
     "output_type": "stream",
     "text": [
      "請輸入一個三位數的整數:123\n",
      "0\n"
     ]
    }
   ],
   "source": [
    "num=int(input(\"請輸入一個三位數的整數:\"))\n",
    "a=num//100\n",
    "b=(num%100)//10\n",
    "c=num%10\n",
    "print(a+b-c)"
   ]
  },
  {
   "cell_type": "code",
   "execution_count": null,
   "metadata": {},
   "outputs": [],
   "source": [
    "#ZeroJudge a149. 乘乘樂"
   ]
  }
 ],
 "metadata": {
  "kernelspec": {
   "display_name": "Python 3",
   "language": "python",
   "name": "python3"
  },
  "language_info": {
   "codemirror_mode": {
    "name": "ipython",
    "version": 3
   },
   "file_extension": ".py",
   "mimetype": "text/x-python",
   "name": "python",
   "nbconvert_exporter": "python",
   "pygments_lexer": "ipython3",
   "version": "3.8.3"
  }
 },
 "nbformat": 4,
 "nbformat_minor": 4
}
