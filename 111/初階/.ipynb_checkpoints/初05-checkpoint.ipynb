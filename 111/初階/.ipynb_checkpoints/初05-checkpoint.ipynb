{
 "cells": [
  {
   "cell_type": "code",
   "execution_count": null,
   "metadata": {},
   "outputs": [],
   "source": [
    "'''\n",
    "\n",
    "請輸入一串數字，讓系統判別大於0、小於0、等於0\n",
    "\n",
    "範例輸入:\n",
    "9,72,34,29,-49,-22,-77,-17,-66,-75,-44,-30,-24\n",
    "\n",
    "範例輸出:\n",
    "小於0\n",
    "\n",
    "'''"
   ]
  },
  {
   "cell_type": "code",
   "execution_count": 1,
   "metadata": {},
   "outputs": [
    {
     "name": "stdout",
     "output_type": "stream",
     "text": [
      "請輸入數字並用逗號分隔9,72,34,29,-49,-22,-77,-17,-66,-75,-44,-30,-24\n",
      "小於0\n"
     ]
    }
   ],
   "source": [
    "nums=list(map(int,input(\"請輸入數字並用逗號分隔\").split(\",\")))\n",
    "b=0\n",
    "if 0 not in nums:\n",
    "    for i in nums:\n",
    "        if i<0:\n",
    "            b+=1\n",
    "    if b%2==0:\n",
    "        print('大於0') \n",
    "    else:\n",
    "        print('小於0')\n",
    "else:\n",
    "    print('等於0')"
   ]
  },
  {
   "cell_type": "code",
   "execution_count": null,
   "metadata": {},
   "outputs": [],
   "source": [
    "#leetcode 1822. Sign of the Product of an Array (改)"
   ]
  }
 ],
 "metadata": {
  "kernelspec": {
   "display_name": "Python 3",
   "language": "python",
   "name": "python3"
  },
  "language_info": {
   "codemirror_mode": {
    "name": "ipython",
    "version": 3
   },
   "file_extension": ".py",
   "mimetype": "text/x-python",
   "name": "python",
   "nbconvert_exporter": "python",
   "pygments_lexer": "ipython3",
   "version": "3.8.3"
  }
 },
 "nbformat": 4,
 "nbformat_minor": 4
}
