{
 "cells": [
  {
   "cell_type": "code",
   "execution_count": null,
   "metadata": {},
   "outputs": [],
   "source": [
    "'''\n",
    "\n",
    "在C語言JAVA語言會有a++,--a等遞增遞減運算子，我們來利用python呈現簡易版的吧!\n",
    "1.任何運算式a的初始值都是0\n",
    "2.a++和++a是將原本的值+1\n",
    "3.a--和--a是將原本的值-1\n",
    "4.全部統一用加法(如範例所示，所以要減法的話可以利用a--和--a來實現正負得負)\n",
    "請利用以上規定製作出運算總和的程式\n",
    "\n",
    "範例輸入:\n",
    "a++ ++a --a a++\n",
    "運算式為(a++)+(++a)+(--a)+(a++)=1+1-1+1=2\n",
    "\n",
    "範例輸出:\n",
    "2  \n",
    "\n",
    "'''"
   ]
  },
  {
   "cell_type": "code",
   "execution_count": 6,
   "metadata": {},
   "outputs": [
    {
     "name": "stdout",
     "output_type": "stream",
     "text": [
      "請輸入X++、++X、X--、--X並用空白分開:X++ ++X --X X++\n",
      "2\n"
     ]
    }
   ],
   "source": [
    "Xlist=input(\"請輸入X++、++X、X--、--X並用空白分開:\").split(\" \")\n",
    "X=0\n",
    "for i in Xlist:\n",
    "    if i[1] == \"+\":\n",
    "        X+=1\n",
    "    else:\n",
    "        X-=1\n",
    "print(X)"
   ]
  },
  {
   "cell_type": "code",
   "execution_count": null,
   "metadata": {},
   "outputs": [],
   "source": [
    "#leetcode 2011. Final Value of Variable After Performing Operations"
   ]
  }
 ],
 "metadata": {
  "kernelspec": {
   "display_name": "Python 3",
   "language": "python",
   "name": "python3"
  },
  "language_info": {
   "codemirror_mode": {
    "name": "ipython",
    "version": 3
   },
   "file_extension": ".py",
   "mimetype": "text/x-python",
   "name": "python",
   "nbconvert_exporter": "python",
   "pygments_lexer": "ipython3",
   "version": "3.8.3"
  }
 },
 "nbformat": 4,
 "nbformat_minor": 4
}
