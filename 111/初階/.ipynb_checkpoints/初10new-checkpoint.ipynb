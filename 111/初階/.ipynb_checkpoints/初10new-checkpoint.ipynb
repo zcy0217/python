{
 "cells": [
  {
   "cell_type": "code",
   "execution_count": null,
   "metadata": {},
   "outputs": [],
   "source": [
    "'''\n",
    "小明想去念一間私立大學，這個大學的錄取條件很簡單，就是不管你指考報考了幾科，只要平均起來有達到70，便可以錄取。\n",
    "請你設計一個程式，讓小明以空格分隔輸入(科目數量n 第一科分數 第二科分數 第n科分數)，接著輸出(平均分數,結果)，範例如下。\n",
    "\n",
    "範例輸入:\n",
    "3 80 54 97 (3個科目 80分 54分 97分)\n",
    "\n",
    "範例輸出:\n",
    "77,Pass    (平均是77分,通過)\n",
    "\n",
    "範例輸入:\n",
    "2 50 60   (2個科目 50分 60分)\n",
    "\n",
    "範例輸出:\n",
    "55,No Pass  (平均是55分,不通過)\n",
    "'''"
   ]
  },
  {
   "cell_type": "code",
   "execution_count": 1,
   "metadata": {},
   "outputs": [
    {
     "name": "stdout",
     "output_type": "stream",
     "text": [
      "3 80 54 97\n",
      "77,Pass\n"
     ]
    }
   ],
   "source": [
    "nums = input()\n",
    "origin=[]\n",
    "for n in nums.split():\n",
    "    origin.append(int(n))\n",
    "new = origin[1:]                   \n",
    "avg = sum(new)//origin[0]                \n",
    "if avg>=70:\n",
    "      print(str(avg)+',Pass')\n",
    "else:\n",
    "      print(str(avg)+',No Pass')"
   ]
  },
  {
   "cell_type": "code",
   "execution_count": null,
   "metadata": {},
   "outputs": [],
   "source": [
    "#ZeroJudge a148. You Cannot Pass?!"
   ]
  }
 ],
 "metadata": {
  "kernelspec": {
   "display_name": "Python 3",
   "language": "python",
   "name": "python3"
  },
  "language_info": {
   "codemirror_mode": {
    "name": "ipython",
    "version": 3
   },
   "file_extension": ".py",
   "mimetype": "text/x-python",
   "name": "python",
   "nbconvert_exporter": "python",
   "pygments_lexer": "ipython3",
   "version": "3.8.3"
  }
 },
 "nbformat": 4,
 "nbformat_minor": 4
}
