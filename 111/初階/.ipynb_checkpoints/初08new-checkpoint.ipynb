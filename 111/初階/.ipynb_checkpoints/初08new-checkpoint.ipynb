{
 "cells": [
  {
   "cell_type": "code",
   "execution_count": null,
   "metadata": {},
   "outputs": [],
   "source": [
    "'''\n",
    "小凱去麵包店辦了一張特殊的會員卡，這張卡的功能是只要連續n天購買麵包，第1天每個麵包的價格為1元，第2天每個麵包的價格為2元，.....，第n天每個麵包的價格為n元。\n",
    "請你設計一個程式，讓小凱先輸入連續買了幾天(n)，再來讓他以空格分開輸入這幾天分別買了幾個麵包，最後輸出總金額，範例如下。\n",
    "\n",
    "範例輸入:\n",
    "3       (連續買了3天)\n",
    "1 1 1    (第一天買1個 第二天買1個 第三天買1個)\n",
    "\n",
    "範例輸出:\n",
    "6元 (因為 1*1 + 2*1 + 3*1 = 6)\n",
    "\n",
    "範例輸入:\n",
    "5       (連續買了5天)\n",
    "2 1 3 2 4 (第一天買2個 第二天買1個 第三天買3個 第四天買2個 第五天買4個)\n",
    "\n",
    "範例輸出:\n",
    "41元 (因為 1*2 + 2*1 + 3*3 + 4*2 + 5*4 = 41)\n",
    "'''"
   ]
  },
  {
   "cell_type": "code",
   "execution_count": 2,
   "metadata": {},
   "outputs": [
    {
     "name": "stdout",
     "output_type": "stream",
     "text": [
      "請輸入總共買了幾天:5\n",
      "請輸入每次買的金額並用空白分開:2 1 3 2 4\n",
      "41元\n"
     ]
    }
   ],
   "source": [
    "n=int(input(\"請輸入總共買了幾天:\"))\n",
    "total=0\n",
    "amount=list(input(\"請輸入每次買的金額並用空白分開:\").split())\n",
    "\n",
    "for i in range(n):\n",
    "    total=total+int(amount[i])*(i+1)\n",
    "print(str(total)+'元')"
   ]
  },
  {
   "cell_type": "code",
   "execution_count": null,
   "metadata": {},
   "outputs": [],
   "source": [
    "#ZeroJudge b294. 經濟大恐荒"
   ]
  }
 ],
 "metadata": {
  "kernelspec": {
   "display_name": "Python 3",
   "language": "python",
   "name": "python3"
  },
  "language_info": {
   "codemirror_mode": {
    "name": "ipython",
    "version": 3
   },
   "file_extension": ".py",
   "mimetype": "text/x-python",
   "name": "python",
   "nbconvert_exporter": "python",
   "pygments_lexer": "ipython3",
   "version": "3.8.3"
  }
 },
 "nbformat": 4,
 "nbformat_minor": 4
}
