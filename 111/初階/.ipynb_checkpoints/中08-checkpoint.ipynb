{
 "cells": [
  {
   "cell_type": "code",
   "execution_count": null,
   "metadata": {},
   "outputs": [],
   "source": [
    "'''\n",
    "\n",
    "今天你在爬樓梯，想要計算出如果按照一定規律爬的話會有幾種可能性，於是自己自訂了一套規則:每次只能一次跨1或2步\n",
    "所以來製作出爬樓梯的程式吧!\n",
    "\n",
    "範例輸入:\n",
    "4\n",
    "\n",
    "範例輸出:\n",
    "5  (1+1+1+1,1+1+2,1+2+1,2+1+1,2+2)\n",
    "\n",
    "'''"
   ]
  },
  {
   "cell_type": "code",
   "execution_count": 9,
   "metadata": {},
   "outputs": [
    {
     "name": "stdout",
     "output_type": "stream",
     "text": [
      "請輸入想要爬的樓層數:4\n",
      "5\n"
     ]
    }
   ],
   "source": [
    "n=int(input(\"請輸入想要爬的樓層數:\"))\n",
    "if n<=2:\n",
    "    print(n)\n",
    "dp = [0]*(n+1)\n",
    "dp[1] = 1\n",
    "dp[2] = 2\n",
    "for i in range(3,n+1):\n",
    "    dp[i] = dp[i-1]+dp[i-2]\n",
    "print(dp[n])"
   ]
  },
  {
   "cell_type": "code",
   "execution_count": null,
   "metadata": {},
   "outputs": [],
   "source": [
    "#leetcode 70. Climbing Stairs"
   ]
  }
 ],
 "metadata": {
  "kernelspec": {
   "display_name": "Python 3",
   "language": "python",
   "name": "python3"
  },
  "language_info": {
   "codemirror_mode": {
    "name": "ipython",
    "version": 3
   },
   "file_extension": ".py",
   "mimetype": "text/x-python",
   "name": "python",
   "nbconvert_exporter": "python",
   "pygments_lexer": "ipython3",
   "version": "3.8.3"
  }
 },
 "nbformat": 4,
 "nbformat_minor": 4
}
