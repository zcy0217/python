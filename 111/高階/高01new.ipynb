{
 "cells": [
  {
   "cell_type": "code",
   "execution_count": null,
   "metadata": {},
   "outputs": [],
   "source": [
    "'''\n",
    "製作一個檢查生日日期合理性的程式\n",
    "請遵守以下原則:\n",
    "1.日期皆以 DD/MM/YYYY 的格式輸入 (日/月/年)\n",
    "2.一年365天，一個月30天\n",
    "3.先輸入現在日期，再輸入使用者的生日\n",
    "4.若使用者的年齡大於120歲則輸出\"請確認生日日期，您的歲數大於120歲\"\n",
    "5.若使用者的年齡和現在日期相比下來還未出生則輸出\"不合理的生日日期，您可能還未出生\"\n",
    "6.若使用者的年齡是正常的，則輸出\"您目前??歲\"，??為使用者的年齡\n",
    "\n",
    "範例輸入:\n",
    "03/12/2022\n",
    "20/05/2023\n",
    "\n",
    "範例輸出:\n",
    "不合理的生日日期，您可能還未出生\n",
    "\n",
    "範例輸入:\n",
    "11/02/2023\n",
    "07/08/1899\n",
    "\n",
    "範例輸出:\n",
    "請確認生日日期，您的歲數大於120歲\n",
    "\n",
    "範例輸入:\n",
    "25/07/2023\n",
    "30/12/2019\n",
    "\n",
    "範例輸出:\n",
    "您目前3歲\n",
    "'''"
   ]
  },
  {
   "cell_type": "code",
   "execution_count": 16,
   "metadata": {},
   "outputs": [
    {
     "name": "stdout",
     "output_type": "stream",
     "text": [
      "請輸入現在日期:25/07/2023\n",
      "請輸入您的生日:30/12/2019\n",
      "您目前3歲\n"
     ]
    }
   ],
   "source": [
    "current = list(map(int, input(\"請輸入現在日期:\").split(\"/\")))\n",
    "birth = list(map(int, input(\"請輸入您的生日:\").split(\"/\")))\n",
    "\n",
    "if current[2]*365+current[1]*30+current[0] < birth[2]*365+birth[1]*30+birth[0]:\n",
    "    print(\"不合理的生日日期，您可能還未出生\")\n",
    "else:\n",
    "    age = current[2] - birth[2]\n",
    "    if current[1] < birth[1]:\n",
    "        age -= 1\n",
    "    elif current[1] == birth[1] and current[0] < birth[0]:\n",
    "        age -= 1\n",
    "    if age > 120:\n",
    "        print(\"請確認生日日期，您的歲數大於120歲\")\n",
    "    else:\n",
    "        print(\"您目前{}歲\".format(age))"
   ]
  },
  {
   "cell_type": "code",
   "execution_count": null,
   "metadata": {},
   "outputs": [],
   "source": [
    "#CPE 11219 How old are you? 20221018"
   ]
  }
 ],
 "metadata": {
  "kernelspec": {
   "display_name": "Python 3",
   "language": "python",
   "name": "python3"
  },
  "language_info": {
   "codemirror_mode": {
    "name": "ipython",
    "version": 3
   },
   "file_extension": ".py",
   "mimetype": "text/x-python",
   "name": "python",
   "nbconvert_exporter": "python",
   "pygments_lexer": "ipython3",
   "version": "3.8.3"
  }
 },
 "nbformat": 4,
 "nbformat_minor": 4
}
