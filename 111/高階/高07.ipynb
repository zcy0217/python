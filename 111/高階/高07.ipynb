{
 "cells": [
  {
   "cell_type": "code",
   "execution_count": null,
   "metadata": {},
   "outputs": [],
   "source": [
    "'''\n",
    "\n",
    "請設計一個能夠比數字大小的函式，利用亂數函式來決定程式要出什麼數字。\n",
    "輸入會有兩個整數Ｚ，第一個數為決定範圍右邊界的數字，左邊界預設為0，第二個數為你要出的數字。\n",
    "如果右邊邊界比左邊還小不能讓程式跳出錯誤訊息而導致中斷。\n",
    "\n",
    "範例輸入:\n",
    "5 2\n",
    "\n",
    "範例輸出:\n",
    "我出1 你贏了\n",
    "\n",
    "範例輸入:\n",
    "10 0\n",
    "\n",
    "範例輸出:\n",
    "我出2 你輸了\n",
    "\n",
    "範例輸入:1 0\n",
    "\n",
    "範例輸出:\n",
    "我出0 你跟我心意相通\n",
    "\n",
    "範例輸入:\n",
    "1 1\n",
    "\n",
    "範例輸出:\n",
    "你的數字不在範圍內\n",
    "\n",
    "範例輸入:\n",
    "-1 5\n",
    "\n",
    "範例輸出:\n",
    "empty range for randrange() (0,0, 0)\n",
    "\n",
    "'''"
   ]
  },
  {
   "cell_type": "code",
   "execution_count": 10,
   "metadata": {},
   "outputs": [
    {
     "name": "stdout",
     "output_type": "stream",
     "text": [
      "-1 4\n",
      "empty range for randrange() (0, 0, 0)\n"
     ]
    }
   ],
   "source": [
    "import random as r\n",
    "\n",
    "def compare(rg, n) :\n",
    "    result = r.randint(0, rg)\n",
    "    if n not in range(0, rg) :\n",
    "        print('你的數字不在範圍內')\n",
    "    elif result > n :\n",
    "        print(\"我出{}\".format(result))\n",
    "        print('你輸了')\n",
    "    elif result < n :\n",
    "        print(\"我出{}\".format(result))\n",
    "        print('你贏了')\n",
    "    elif result == n :\n",
    "        print(\"我出{}\".format(result))\n",
    "        print('你跟我心意相通')\n",
    "\n",
    "_range_, num = map(int, input().split())\n",
    "\n",
    "try :\n",
    "    compare(_range_, num)\n",
    "except Exception as e :\n",
    "    print(e)"
   ]
  },
  {
   "cell_type": "code",
   "execution_count": null,
   "metadata": {},
   "outputs": [],
   "source": [
    "#1101_9"
   ]
  }
 ],
 "metadata": {
  "kernelspec": {
   "display_name": "Python 3",
   "language": "python",
   "name": "python3"
  },
  "language_info": {
   "codemirror_mode": {
    "name": "ipython",
    "version": 3
   },
   "file_extension": ".py",
   "mimetype": "text/x-python",
   "name": "python",
   "nbconvert_exporter": "python",
   "pygments_lexer": "ipython3",
   "version": "3.8.3"
  }
 },
 "nbformat": 4,
 "nbformat_minor": 4
}
