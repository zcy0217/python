{
 "cells": [
  {
   "cell_type": "code",
   "execution_count": null,
   "metadata": {},
   "outputs": [],
   "source": [
    "'''\n",
    "\n",
    "colab的檔案上傳區有個名為sample_data的資料夾，而裡面有一個用Markdown語法編寫的文字檔案，請試著將其內容讀取出來。\n",
    "請使用colab來完成。\n",
    "\n",
    "範例輸出:\n",
    "This directory includes a few sample datasets to get you started.\n",
    "\n",
    "*   `california_housing_data*.csv` is California housing data from the 1990 US\n",
    "    Census; more information is available at:\n",
    "    https://developers.google.com/machine-learning/crash-course/california-housing-data-description\n",
    "\n",
    "*   `mnist_*.csv` is a small sample of the\n",
    "    [MNIST database](https://en.wikipedia.org/wiki/MNIST_database), which is\n",
    "    described at: http://yann.lecun.com/exdb/mnist/\n",
    "\n",
    "*   `anscombe.json` contains a copy of\n",
    "    [Anscombe's quartet](https://en.wikipedia.org/wiki/Anscombe%27s_quartet); it\n",
    "    was originally described in\n",
    "\n",
    "    Anscombe, F. J. (1973). 'Graphs in Statistical Analysis'. American\n",
    "    Statistician. 27 (1): 17-21. JSTOR 2682899.\n",
    "\n",
    "    and our copy was prepared by the\n",
    "    [vega_datasets library](https://github.com/altair-viz/vega_datasets/blob/4f67bdaad10f45e3549984e17e1b3088c731503d/vega_datasets/_data/anscombe.json).\n",
    "\n",
    "\n",
    "'''"
   ]
  },
  {
   "cell_type": "code",
   "execution_count": null,
   "metadata": {},
   "outputs": [],
   "source": [
    "with open('/content/sample_data/README.md','r') as f :\n",
    "    text = f.readlines()\n",
    "for i in range(len(text)) :\n",
    "    text[i] = text[i].replace('\\n', '')\n",
    "# while '' in text:\n",
    "#     text.remove('')\n",
    "for i in range(len(text)) :\n",
    "    print(text[i])"
   ]
  },
  {
   "cell_type": "code",
   "execution_count": null,
   "metadata": {},
   "outputs": [],
   "source": [
    "#1101_4"
   ]
  },
  {
   "cell_type": "code",
   "execution_count": null,
   "metadata": {},
   "outputs": [],
   "source": [
    "#目錄的產生來自您文字欄位的 MarkDown 語法設定的大標、次標，另外您文字Cell也可以依照您的標題次序展開/收合。"
   ]
  }
 ],
 "metadata": {
  "kernelspec": {
   "display_name": "Python 3",
   "language": "python",
   "name": "python3"
  },
  "language_info": {
   "codemirror_mode": {
    "name": "ipython",
    "version": 3
   },
   "file_extension": ".py",
   "mimetype": "text/x-python",
   "name": "python",
   "nbconvert_exporter": "python",
   "pygments_lexer": "ipython3",
   "version": "3.8.3"
  }
 },
 "nbformat": 4,
 "nbformat_minor": 4
}
