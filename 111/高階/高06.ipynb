{
 "cells": [
  {
   "cell_type": "code",
   "execution_count": null,
   "metadata": {},
   "outputs": [],
   "source": [
    "'''\n",
    "\n",
    "今天小明很想喝飲料，走在路上看到招牌上寫拿空罐換飲料的活動就很開心的帶著空罐去店家換飲料，走在路上看到空罐也隨手撿了起來。\n",
    "小明也很聰明的想到，如果他換好飲料後當場喝完，還可以再給店家空罐就可以繼續換飲料了，一直到沒辦法到達店家要求的空罐最低數量為止。\n",
    "請設計一個程式，來算算看小明總共可以換到幾瓶飲料。\n",
    "\n",
    "用一行來輸入三個參數:小明自己的空罐數 撿到的空罐數 店家要求幾個空罐可換一個飲料數\n",
    "\n",
    "範例輸入:\n",
    "5 5 2  (小明家有5個空罐 在路上撿到5個空罐 店家規定每2個空罐可以換一杯飲料)\n",
    "\n",
    "範例輸出:\n",
    "9  \n",
    "\n",
    "'''"
   ]
  },
  {
   "cell_type": "code",
   "execution_count": 2,
   "metadata": {},
   "outputs": [
    {
     "name": "stdout",
     "output_type": "stream",
     "text": [
      "5 8 4\n",
      "4\n"
     ]
    }
   ],
   "source": [
    "x, y, z = map(int, input().split())\n",
    "\n",
    "total = 0\n",
    "s = x + y\n",
    "while s // z > 0:\n",
    "    total += s // z\n",
    "    s = s // z + s % z\n",
    "print(total)"
   ]
  },
  {
   "cell_type": "code",
   "execution_count": null,
   "metadata": {},
   "outputs": [],
   "source": [
    "#CPE 20201222 11689 Soda Surpler"
   ]
  }
 ],
 "metadata": {
  "kernelspec": {
   "display_name": "Python 3",
   "language": "python",
   "name": "python3"
  },
  "language_info": {
   "codemirror_mode": {
    "name": "ipython",
    "version": 3
   },
   "file_extension": ".py",
   "mimetype": "text/x-python",
   "name": "python",
   "nbconvert_exporter": "python",
   "pygments_lexer": "ipython3",
   "version": "3.8.3"
  }
 },
 "nbformat": 4,
 "nbformat_minor": 4
}
