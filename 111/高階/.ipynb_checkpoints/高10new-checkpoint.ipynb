{
 "cells": [
  {
   "cell_type": "code",
   "execution_count": null,
   "metadata": {},
   "outputs": [],
   "source": [
    "'''\n",
    "製作一個以基準點找查詢點象限的程式\n",
    "\n",
    "範例輸入:\n",
    "基準點:\n",
    "查詢點:\n",
    "\n",
    "範例輸出:\n",
    "\n",
    "\n",
    "範例輸入:\n",
    "基準點:\n",
    "查詢點:\n",
    "\n",
    "範例輸出:\n",
    "在線上\n",
    "'''"
   ]
  },
  {
   "cell_type": "code",
   "execution_count": 8,
   "metadata": {},
   "outputs": [
    {
     "name": "stdout",
     "output_type": "stream",
     "text": [
      "請輸入基準點位子:0 0\n",
      "請輸入查詢點位子:1 1\n",
      "東北\n"
     ]
    }
   ],
   "source": [
    "centerX,centerY=map(int,input(\"請輸入基準點位子:\").split())\n",
    "searchX,searchY=map(int,input(\"請輸入查詢點位子:\").split())\n",
    "\n",
    "if searchX==centerX or searchY==centerY:\n",
    "    print(\"在線上\")\n",
    "else:\n",
    "    ans=''\n",
    "    ans+='東' if searchX>centerX  else '西'\n",
    "    ans+='北' if searchY>centerY  else '南'\n",
    "    print(ans)"
   ]
  },
  {
   "cell_type": "code",
   "execution_count": null,
   "metadata": {},
   "outputs": [],
   "source": [
    "#CPE 11498 Division of Nlogonia 20200609"
   ]
  }
 ],
 "metadata": {
  "kernelspec": {
   "display_name": "Python 3",
   "language": "python",
   "name": "python3"
  },
  "language_info": {
   "codemirror_mode": {
    "name": "ipython",
    "version": 3
   },
   "file_extension": ".py",
   "mimetype": "text/x-python",
   "name": "python",
   "nbconvert_exporter": "python",
   "pygments_lexer": "ipython3",
   "version": "3.8.3"
  }
 },
 "nbformat": 4,
 "nbformat_minor": 4
}
