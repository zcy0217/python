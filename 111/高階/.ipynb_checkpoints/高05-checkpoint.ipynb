{
 "cells": [
  {
   "cell_type": "code",
   "execution_count": null,
   "metadata": {},
   "outputs": [],
   "source": [
    "'''\n",
    "\n",
    "你列出了一個課表，擔心以後資料會過於龐大的你，決定來製作一個可以找到最長休息時間的程式，請依照規定來製作。\n",
    "休息時間可以想成是空堂，我們一般的課表都是一堂接著一堂的，所以不太可能有休息時間，詳細的可以參考範例就會理解啦。\n",
    "\n",
    "1.時間計算從08:00~20:00\n",
    "2.時間格式統一為hh:mm\n",
    "3.每行輸入的第一個時間小於第二個時間\n",
    "4.先輸入一共要記錄幾節課，在來輸入時間和課堂名稱\n",
    "\n",
    "以下範例輸入的括弧內容皆為輔助用，不用輸入喔。\n",
    "\n",
    "範例輸入:\n",
    "4\n",
    "08:00 10:00 NLP\n",
    "10:00 12:00 Python\n",
    "12:00 13:00 Lunch    (13:00~15:00之間沒課所以是休息時間)\n",
    "15:00 17:00 BigData\n",
    "\n",
    "範例輸出:\n",
    "最長的休息時間從13:00開始，可以休息2小時\n",
    "\n",
    "範例輸入:\n",
    "4\n",
    "08:00 09:45 English (09:45~12:10之間沒課所以是休息時間，時間是2小時25分鐘)\n",
    "12:10 13:00 Lunch  (13:00~13:20之間沒課所以是休息時間，時間是20分鐘)\n",
    "13:20 15:00 ML\n",
    "15:00 17:00 BaseBall  (17:00~20:00之間沒課所以是休息時間，時間是3小時)\n",
    "\n",
    "範例輸出:\n",
    "最長的休息時間從17:00開始，可以休息3小時\n",
    "\n",
    "\n",
    "'''"
   ]
  },
  {
   "cell_type": "code",
   "execution_count": null,
   "metadata": {},
   "outputs": [],
   "source": []
  },
  {
   "cell_type": "code",
   "execution_count": null,
   "metadata": {},
   "outputs": [],
   "source": [
    "#CPE 10191 Longest Nap"
   ]
  }
 ],
 "metadata": {
  "kernelspec": {
   "display_name": "Python 3",
   "language": "python",
   "name": "python3"
  },
  "language_info": {
   "codemirror_mode": {
    "name": "ipython",
    "version": 3
   },
   "file_extension": ".py",
   "mimetype": "text/x-python",
   "name": "python",
   "nbconvert_exporter": "python",
   "pygments_lexer": "ipython3",
   "version": "3.8.3"
  }
 },
 "nbformat": 4,
 "nbformat_minor": 4
}
