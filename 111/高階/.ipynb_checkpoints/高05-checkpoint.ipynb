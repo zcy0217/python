{
 "cells": [
  {
   "cell_type": "code",
   "execution_count": null,
   "metadata": {},
   "outputs": [],
   "source": [
    "'''\n",
    "\n",
    "輸入一個整數然後每個位置的數字都相加直到變成一個個位數後回傳\n",
    "\n",
    "範例輸入:\n",
    "12345\n",
    "\n",
    "範例輸出:\n",
    "6  (1+2+3+4+5=15  1+5=6)\n",
    "\n",
    "範例輸入:\n",
    "1234567892\n",
    "\n",
    "範例輸出:\n",
    "2  (1+2+3+4+5+6+7+8+9+2=47  4+7=11  1+1=2)\n",
    "\n",
    "'''"
   ]
  },
  {
   "cell_type": "code",
   "execution_count": 6,
   "metadata": {},
   "outputs": [
    {
     "name": "stdout",
     "output_type": "stream",
     "text": [
      "請輸入整數:12345\n",
      "6\n"
     ]
    }
   ],
   "source": [
    "num = list(map(int,input(\"請輸入整數:\")))\n",
    "ans=0\n",
    "\n",
    "from functools import reduce\n",
    "\n",
    "while len(num) > 1:\n",
    "    ans = reduce(lambda x, y:x+y, num)\n",
    "    num=list(map(int,str(ans)))\n",
    "print(ans)"
   ]
  },
  {
   "cell_type": "code",
   "execution_count": null,
   "metadata": {},
   "outputs": [],
   "source": [
    "#CPE 20151222 11332 Summing Digits"
   ]
  }
 ],
 "metadata": {
  "kernelspec": {
   "display_name": "Python 3",
   "language": "python",
   "name": "python3"
  },
  "language_info": {
   "codemirror_mode": {
    "name": "ipython",
    "version": 3
   },
   "file_extension": ".py",
   "mimetype": "text/x-python",
   "name": "python",
   "nbconvert_exporter": "python",
   "pygments_lexer": "ipython3",
   "version": "3.8.3"
  }
 },
 "nbformat": 4,
 "nbformat_minor": 4
}
