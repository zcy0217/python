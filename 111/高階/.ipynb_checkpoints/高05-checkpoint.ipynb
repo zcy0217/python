{
 "cells": [
  {
   "cell_type": "code",
   "execution_count": null,
   "metadata": {},
   "outputs": [],
   "source": [
    "'''\n",
    "\n",
    "你列出了一個課表，擔心以後資料會過於龐大的你，決定來製作一個可以找到最長休息時間的程式，請依照規定來製作。\n",
    "休息時間可以想成是空堂，我們一般的課表都是一堂接著一堂的，所以不太可能有休息時間，詳細的可以參考範例就會理解啦。\n",
    "\n",
    "1.時間範圍從08:00~20:00\n",
    "2.時間格式統一為hh:mm\n",
    "3.每行輸入的第一個時間小於第二個時間\n",
    "4.先輸入一共要記錄幾節課，在來輸入時間和課堂名稱\n",
    "5.輸出格式統一為\"最長的休息時間從hh:mm開始，可以休息(H小時)M分鐘\"，括弧是可有可無，代表如果只要10分鐘那就不用0小時10分鐘，但2小時需為2小時0分鐘\n",
    "\n",
    "以下範例輸入的括弧內容皆為輔助用，不用輸入喔。\n",
    "\n",
    "範例輸入:\n",
    "4\n",
    "09:00 10:00 NLP  (08:00~09:00之間沒課所以是休息時間，時間是1小時0分鐘)\n",
    "10:00 12:00 Python\n",
    "12:00 13:00 Lunch    (13:00~15:00之間沒課所以是休息時間，時間是2小時0分鐘)\n",
    "17:00 20:00 BigData\n",
    "\n",
    "範例輸出:\n",
    "最長的休息時間從13:00開始，可以休息4小時0分鐘\n",
    "\n",
    "範例輸入:\n",
    "4\n",
    "08:00 09:45 English (09:45~12:10之間沒課所以是休息時間，時間是2小時25分鐘)\n",
    "12:10 13:00 Lunch  (13:00~13:20之間沒課所以是休息時間，時間是20分鐘)\n",
    "13:20 15:00 ML\n",
    "15:00 17:10 BaseBall  (17:10~20:00之間沒課所以是休息時間，時間是2小時50分鐘)\n",
    "\n",
    "範例輸出:\n",
    "最長的休息時間從17:10開始，可以休息2小時50分鐘\n",
    "\n",
    "\n",
    "'''"
   ]
  },
  {
   "cell_type": "code",
   "execution_count": 21,
   "metadata": {},
   "outputs": [
    {
     "name": "stdout",
     "output_type": "stream",
     "text": [
      "一共要記錄幾節課:4\n",
      "請輸入課堂時間以及名稱09:00 10:00 NLP\n",
      "請輸入課堂時間以及名稱10:00 12:00 Python\n",
      "請輸入課堂時間以及名稱12:00 13:00 Lunch\n",
      "請輸入課堂時間以及名稱17:00 20:00 BigData\n",
      "最長的休息時間從13:00開始，可以休息4小時0分鐘\n"
     ]
    }
   ],
   "source": [
    "n = int(input(\"一共要記錄幾節課:\")) #輸入要記錄幾節課\n",
    "\n",
    "events = [[480,480,\"08:00\"], [1200, 1200,\"20:00\"]]\n",
    "\n",
    "for i in range(n):\n",
    "    line = input(\"請輸入課堂時間以及名稱\").split() #分割成開始時間、結束時間、課堂名稱\n",
    "    start = line[0]\n",
    "    end = line[1]\n",
    "    events.append([to_min(start), to_min(end), end])\n",
    "\n",
    "def to_min(time): #轉成分鐘\n",
    "    time = time.split(\":\")\n",
    "    return int(time[0])*60 + int(time[1])\n",
    "\n",
    "events.sort()\n",
    "gaps = []\n",
    "for i in range(len(events)-1):\n",
    "    gaps.append(events[i+1][0]-events[i][1]) #後面的開始間減前面的結束時間來計算時間差並記錄到陣列裡\n",
    "\n",
    "max_time, max_HrMin = gaps.index(max(gaps)),max(gaps) #找最大的時間差的index和min值\n",
    "\n",
    "def to_date(mins):\n",
    "    hrs, mins = divmod(mins, 60) #商數,餘數\n",
    "    if hrs > 0:\n",
    "        return \"{}小時{}分鐘\".format(hrs, mins)\n",
    "    else:\n",
    "        return \"{}分鐘\".format(mins)\n",
    "\n",
    "print(\"最長的休息時間從{}開始，可以休息{}\".format(events[max_time][2], to_date(max_HrMin))) "
   ]
  },
  {
   "cell_type": "code",
   "execution_count": null,
   "metadata": {},
   "outputs": [],
   "source": [
    "'''\n",
    "\n",
    "09:00 10:00 NLP \n",
    "10:00 12:00 Python\n",
    "12:00 13:00 Lunch\n",
    "17:00 20:00 BigData\n",
    "\n",
    "08:00 09:45 English\n",
    "12:10 13:00 Lunch\n",
    "13:20 15:00 ML\n",
    "15:00 17:10 BaseBall\n",
    "\n",
    "'''"
   ]
  },
  {
   "cell_type": "code",
   "execution_count": null,
   "metadata": {},
   "outputs": [],
   "source": [
    "#CPE 10191 Longest Nap (改的稍為貼近學校生活一些)"
   ]
  }
 ],
 "metadata": {
  "kernelspec": {
   "display_name": "Python 3",
   "language": "python",
   "name": "python3"
  },
  "language_info": {
   "codemirror_mode": {
    "name": "ipython",
    "version": 3
   },
   "file_extension": ".py",
   "mimetype": "text/x-python",
   "name": "python",
   "nbconvert_exporter": "python",
   "pygments_lexer": "ipython3",
   "version": "3.8.3"
  }
 },
 "nbformat": 4,
 "nbformat_minor": 4
}
