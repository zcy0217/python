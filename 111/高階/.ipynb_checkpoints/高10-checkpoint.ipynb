{
 "cells": [
  {
   "cell_type": "code",
   "execution_count": null,
   "metadata": {},
   "outputs": [],
   "source": [
    "'''\n",
    "\n",
    "請自訂一個判斷是否為質數的函數，將輸出結果寫入一個名為\"prime_list\"的txt檔，每個質數需分行。\n",
    "在現在的路徑建立一個名為\"質數資料夾\"的目錄，將建立在現在路徑的\"prime_list\"的文字檔搬移到\"質數資料夾\"內\n",
    "\n",
    "輸入:第一行整數Ｔ代表從２到Ｔ的數字範圍\n",
    "輸出:目標檔案路徑\n",
    "\n",
    "範例輸入:\n",
    "22\n",
    "\n",
    "範例輸出:\n",
    "'/content/質數資料夾/prime_list.txt'\n",
    "\n",
    "prime_list.txt內容:\n",
    "2\n",
    "3\n",
    "4\n",
    "5\n",
    "7\n",
    "11\n",
    "13\n",
    "17\n",
    "19\n",
    "\n",
    "請在colab上完成\n",
    "\n",
    "'''"
   ]
  },
  {
   "cell_type": "code",
   "execution_count": 1,
   "metadata": {},
   "outputs": [
    {
     "name": "stdout",
     "output_type": "stream",
     "text": [
      "請輸入一個整數:22\n",
      "C:\\Users\\88696\\Documents\\GitHub\\python\\111\\高階\\質數資料夾\\prime_list.txt\n"
     ]
    }
   ],
   "source": [
    "import os\n",
    "os.mkdir('質數資料夾')\n",
    "os.chdir('質數資料夾')\n",
    "\n",
    "n=int(input('請輸入一個整數:'))\n",
    "s='\\n'\n",
    "\n",
    "if n>=2:\n",
    "    filename='prime_list.txt'\n",
    "    file=open(filename,'w+')\n",
    "    file.write('2')\n",
    "    file.write(s)\n",
    "    file.close()\n",
    "\n",
    "def prime(n):\n",
    "    for i in range(3,n):\n",
    "        if n%i==0:\n",
    "            return False\n",
    "    return True\n",
    "\n",
    "for i in range(3,n+1):\n",
    "    if prime(i):\n",
    "        filename='prime_list.txt'\n",
    "        file=open(filename,'a+')\n",
    "        w=str(i)\n",
    "        file.write(w)\n",
    "        if i<n-1:\n",
    "            file.write(s)\n",
    "        file.close()\n",
    "\n",
    "print(os.path.abspath(filename))"
   ]
  },
  {
   "cell_type": "code",
   "execution_count": null,
   "metadata": {},
   "outputs": [],
   "source": [
    "#1101_1"
   ]
  }
 ],
 "metadata": {
  "kernelspec": {
   "display_name": "Python 3",
   "language": "python",
   "name": "python3"
  },
  "language_info": {
   "codemirror_mode": {
    "name": "ipython",
    "version": 3
   },
   "file_extension": ".py",
   "mimetype": "text/x-python",
   "name": "python",
   "nbconvert_exporter": "python",
   "pygments_lexer": "ipython3",
   "version": "3.8.3"
  }
 },
 "nbformat": 4,
 "nbformat_minor": 4
}
