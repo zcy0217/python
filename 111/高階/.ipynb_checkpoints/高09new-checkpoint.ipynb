{
 "cells": [
  {
   "cell_type": "code",
   "execution_count": null,
   "metadata": {},
   "outputs": [],
   "source": [
    "'''\n",
    "輸入一個數字X，找出abcde/fghij=X，當中abcdefghij是數字0~9且不重複，分子分母都五位數包含0\n",
    "\n",
    "範例輸入:\n",
    "9\n",
    "\n",
    "範例輸出:\n",
    "57429 / 06381 = 9\n",
    "58239 / 06471 = 9\n",
    "75249 / 08361 = 9\n",
    "95742 / 10638 = 9\n",
    "95823 / 10647 = 9\n",
    "97524 / 10836 = 9\n",
    "\n",
    "範例輸入:\n",
    "11\n",
    "\n",
    "範例輸出:\n",
    "11沒有答案\n",
    "\n",
    "'''"
   ]
  },
  {
   "cell_type": "code",
   "execution_count": 61,
   "metadata": {
    "scrolled": false
   },
   "outputs": [
    {
     "name": "stdout",
     "output_type": "stream",
     "text": [
      "請輸入一個正整數:9\n",
      "57429 / 06381 = 9\n",
      "58239 / 06471 = 9\n",
      "75249 / 08361 = 9\n",
      "95742 / 10638 = 9\n",
      "95823 / 10647 = 9\n",
      "97524 / 10836 = 9\n"
     ]
    }
   ],
   "source": [
    "num=int(input(\"請輸入一個正整數:\"))\n",
    "temp=0\n",
    "for i in range(1234,49877): #分母範圍01234~49876\n",
    "    A=''\n",
    "    B=''\n",
    "    b=''\n",
    "    if (len(str(int(i)*num))==5 and len(str(i))==4) or (len(str(int(i)*num))==len(str(i))==5): #分子分母為5,4或5,5位數\n",
    "        if len(set(str(int(i)*num)+str(i)))==len(str(int(i)*num)+str(i)): #保留除了0以外有重複數字的組合\n",
    "            if len(str(int(i)*num))==5 and len(str(i))==5: #印出都是五位數的組合\n",
    "                print(f\"{int(i)*num} / {i} = {num}\")\n",
    "                temp=1 #若有答案就不會印出最後一行\n",
    "            else: #篩選0沒重複的組合 \n",
    "                A+=str(int(i)*num)\n",
    "                b+=str(i) #確定分母的數字不含0\n",
    "                if '0' not in list(A) and '0' not in list(b):\n",
    "                    B+='0'+str(i) #把0補在分母的最前面\n",
    "                    print(f\"{A} / {B} = {num}\")\n",
    "                    temp=1 #若有答案就不會印出最後一行\n",
    "if temp==0:\n",
    "    print(f\"{num}沒有答案\")"
   ]
  },
  {
   "cell_type": "code",
   "execution_count": null,
   "metadata": {},
   "outputs": [],
   "source": [
    "#CPE 725 Division 20210323"
   ]
  }
 ],
 "metadata": {
  "kernelspec": {
   "display_name": "Python 3",
   "language": "python",
   "name": "python3"
  },
  "language_info": {
   "codemirror_mode": {
    "name": "ipython",
    "version": 3
   },
   "file_extension": ".py",
   "mimetype": "text/x-python",
   "name": "python",
   "nbconvert_exporter": "python",
   "pygments_lexer": "ipython3",
   "version": "3.8.3"
  }
 },
 "nbformat": 4,
 "nbformat_minor": 4
}
