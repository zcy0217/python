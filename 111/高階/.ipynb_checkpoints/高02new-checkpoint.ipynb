{
 "cells": [
  {
   "cell_type": "code",
   "execution_count": null,
   "metadata": {},
   "outputs": [],
   "source": [
    "'''\n",
    "製作一個找數字的程式，且使用時間複雜度非O(n)的方法來撰寫，若不知時間複雜度O(n)為何可上網搜尋\n",
    "輸入多個數字並用空白分開 (範例輸入第一行)\n",
    "輸入要找尋的數字，若有多個則用空白分開 (範例輸入第二行)\n",
    "以上所有的數字皆為正整數，且同個輸入裡不重複\n",
    "若找的到找尋的數字的位置(由小到大排列)則輸出\"XX在第YY個位置\"，XX是找尋的數字，YY是他的位子(位子從1開始算)，若找不到則輸出\"??找不到\"，??為找不到的數字\n",
    "\n",
    "範例輸入:\n",
    "1 9 6 2\n",
    "6\n",
    "\n",
    "範例輸出:\n",
    "6在第3個位置\n",
    "\n",
    "範例輸入:\n",
    "1 9 6 2 8 4 3\n",
    "5 6\n",
    "\n",
    "範例輸出:\n",
    "5找不到\n",
    "6在第5個位置\n",
    "'''"
   ]
  },
  {
   "cell_type": "code",
   "execution_count": null,
   "metadata": {},
   "outputs": [],
   "source": [
    "#二分法O(logn)，主要是想讓同學不要用最陽春的一個一個找的方法，所以題目訂為時間複雜度非O(n)"
   ]
  },
  {
   "cell_type": "code",
   "execution_count": 61,
   "metadata": {},
   "outputs": [
    {
     "name": "stdout",
     "output_type": "stream",
     "text": [
      "請輸入一串數字並用空白分開:1 9 6 2 8 4 3\n",
      "請輸入找尋的數字，若有多個請用空白分開:5 6\n",
      "5找不到\n",
      "6在第5個位子\n"
     ]
    }
   ],
   "source": [
    "num=sorted(list(map(int,input(\"請輸入一串數字並用空白分開:\").split(\" \"))))\n",
    "goal=list(map(int,input(\"請輸入找尋的數字，若有多個請用空白分開:\").split(\" \")))\n",
    "\n",
    "def binary(data, target):\n",
    "    start = 0\n",
    "    end = len(data)-1\n",
    "    while start <= end:\n",
    "        mid = int((start + end) / 2)\n",
    "        if target == data[mid]:\n",
    "            return f\"{goal[i]}在第{str(mid+1)}個位子\"\n",
    "        elif target > data[mid]:\n",
    "            start = mid + 1\n",
    "        else:\n",
    "            end = mid - 1\n",
    "    return f\"{goal[i]}找不到\"\n",
    "\n",
    "for i in range(len(goal)):\n",
    "    print(binary(num,goal[i]))"
   ]
  },
  {
   "cell_type": "code",
   "execution_count": null,
   "metadata": {},
   "outputs": [],
   "source": [
    "#CPE 10474 Where is the Marble? 20150526"
   ]
  }
 ],
 "metadata": {
  "kernelspec": {
   "display_name": "Python 3",
   "language": "python",
   "name": "python3"
  },
  "language_info": {
   "codemirror_mode": {
    "name": "ipython",
    "version": 3
   },
   "file_extension": ".py",
   "mimetype": "text/x-python",
   "name": "python",
   "nbconvert_exporter": "python",
   "pygments_lexer": "ipython3",
   "version": "3.8.3"
  }
 },
 "nbformat": 4,
 "nbformat_minor": 4
}
