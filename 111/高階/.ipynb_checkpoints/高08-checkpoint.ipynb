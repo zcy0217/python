{
 "cells": [
  {
   "cell_type": "code",
   "execution_count": null,
   "metadata": {},
   "outputs": [],
   "source": [
    "'''\n",
    "\n",
    "請使用os.walk函式將/content以下的資訊紀錄到名為result.txt的文字檔中 (印出資料夾中所有目錄及檔名)\n",
    "請利用colab來寫，並附上result.txt檔。\n",
    "\n",
    "範例結果：\n",
    "\n",
    "檔案路徑：/content\n",
    "目錄串列：['.config', 'sample_data']\n",
    "檔案串列：[]\n",
    "\n",
    "檔案路徑：/content/.config\n",
    "目錄串列：['logs', 'configurations']\n",
    "檔案串列：['.last_update_check.json', 'config_sentinel', 'active_config', 'gce', '.last_opt_in_prompt.yaml', '.last_survey_prompt.yaml']\n",
    "\n",
    "檔案路徑：/content/.config/logs\n",
    "目錄串列：['2022.06.29']\n",
    "檔案串列：[]\n",
    "\n",
    "檔案路徑：/content/.config/logs/2022.06.29\n",
    "目錄串列：[]\n",
    "檔案串列：['13.43.07.354169.log', '13.43.28.577928.log', '13.44.18.577321.log', '13.43.56.592905.log', '13.44.17.771716.log', '13.43.49.033940.log']\n",
    "\n",
    "檔案路徑：/content/.config/configurations\n",
    "目錄串列：[]\n",
    "檔案串列：['config_default']\n",
    "\n",
    "檔案路徑：/content/sample_data\n",
    "目錄串列：[]\n",
    "檔案串列：['README.md', 'anscombe.json', 'mnist_test.csv', 'california_housing_test.csv', 'mnist_train_small.csv', 'california_housing_train.csv']\n",
    "\n",
    "\n",
    "\n",
    "'''"
   ]
  },
  {
   "cell_type": "code",
   "execution_count": 2,
   "metadata": {},
   "outputs": [],
   "source": [
    "import os\n",
    "cur_path = os.path.dirname(os.path.abspath(\"實驗場.ipynb\"))\n",
    "sample_tree = os.walk(cur_path)\n",
    "for dirname, subdir, files in sample_tree :\n",
    "    with open('result.txt', 'a') as f :\n",
    "        f.write(\"檔案路徑：{}\\n\".format(dirname))\n",
    "        f.write(\"目錄串列：{}\\n\".format(subdir))\n",
    "        f.write(\"檔案串列：{}\\n\".format(files))\n",
    "        f.write('\\n')"
   ]
  },
  {
   "cell_type": "code",
   "execution_count": null,
   "metadata": {},
   "outputs": [],
   "source": [
    "#1101_10"
   ]
  }
 ],
 "metadata": {
  "kernelspec": {
   "display_name": "Python 3",
   "language": "python",
   "name": "python3"
  },
  "language_info": {
   "codemirror_mode": {
    "name": "ipython",
    "version": 3
   },
   "file_extension": ".py",
   "mimetype": "text/x-python",
   "name": "python",
   "nbconvert_exporter": "python",
   "pygments_lexer": "ipython3",
   "version": "3.8.3"
  }
 },
 "nbformat": 4,
 "nbformat_minor": 4
}
