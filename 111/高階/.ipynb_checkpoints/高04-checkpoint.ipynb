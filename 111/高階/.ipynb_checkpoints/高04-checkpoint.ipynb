{
 "cells": [
  {
   "cell_type": "code",
   "execution_count": null,
   "metadata": {},
   "outputs": [],
   "source": [
    "'''\n",
    "\n",
    "輸入兩個數(n,m)，用程式檢查他們的關係是不是無聊的。\n",
    "\n",
    "此問題的目標是將某個整數n除以另一個整數m直到 n = 1，這方法將會獲得一個數字序列。\n",
    "我們假設該序列的每個數字為a[i]，假設它有k個數字(即必須進行 k−1 個連續除法才能達到 n = 1)。\n",
    "\n",
    "根據以下限制，此序列必唯一：\n",
    "1. a[1] = n, a[i] = a[i − 1] ÷ m, for all 1 < i ≤ k\n",
    "2. a[i] 被 m 整除(a[i] mod m = 0) for all 1 ≤ i < k\n",
    "3. a[1] > a[2] > a[3] > ... > a[k]\n",
    "\n",
    "範例輸入:\n",
    "125 5\n",
    "\n",
    "範例輸出:\n",
    "125 25 5 1  (125/5=25  25/5=5  5/5=1)\n",
    "\n",
    "範例輸入:\n",
    "30 3  (30/3=10 10/3=3.333不是整除且違反第二條所以是無聊的)\n",
    "\n",
    "範例輸出:\n",
    "borning!!\n",
    "\n",
    "'''"
   ]
  },
  {
   "cell_type": "code",
   "execution_count": 13,
   "metadata": {},
   "outputs": [
    {
     "name": "stdout",
     "output_type": "stream",
     "text": [
      "請輸入數字30 3\n",
      "borning!!\n"
     ]
    }
   ],
   "source": [
    "n,m=map(int,input(\"請輸入數字\").split(\" \"))\n",
    "modlist=[n]\n",
    "while n%m==0:\n",
    "    modlist.append(n//m)\n",
    "    n=n//m\n",
    "if n==1:\n",
    "    for i in modlist:\n",
    "        print(i,end=' ')\n",
    "else:\n",
    "    print(\"borning!!\")"
   ]
  },
  {
   "cell_type": "code",
   "execution_count": 12,
   "metadata": {},
   "outputs": [],
   "source": [
    "#CPE 20220524 10190 Divide, But Not Quite Conquer!"
   ]
  }
 ],
 "metadata": {
  "kernelspec": {
   "display_name": "Python 3",
   "language": "python",
   "name": "python3"
  },
  "language_info": {
   "codemirror_mode": {
    "name": "ipython",
    "version": 3
   },
   "file_extension": ".py",
   "mimetype": "text/x-python",
   "name": "python",
   "nbconvert_exporter": "python",
   "pygments_lexer": "ipython3",
   "version": "3.8.3"
  }
 },
 "nbformat": 4,
 "nbformat_minor": 4
}
