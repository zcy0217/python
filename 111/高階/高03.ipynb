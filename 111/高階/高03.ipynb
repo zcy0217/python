{
 "cells": [
  {
   "cell_type": "code",
   "execution_count": null,
   "metadata": {},
   "outputs": [],
   "source": [
    "'''\n",
    "\n",
    "請依照以下規則來建立一個程式\n",
    "1.輸入的數值為偶數個，且奇數和偶數各一半\n",
    "2.輸出的數值要奇偶排列，且index為偶數的位置需放偶數，奇數位置放奇數\n",
    "3.答案可能會有多組，可讓程式顯示出一組就好，答案合理即可\n",
    "\n",
    "範例輸入:\n",
    "4,2,5,7\n",
    "\n",
    "範例輸出:\n",
    "4,5,2,7(這是其中一個答案，也可能是2,7,4,5)\n",
    "\n",
    "'''"
   ]
  },
  {
   "cell_type": "code",
   "execution_count": 2,
   "metadata": {},
   "outputs": [
    {
     "name": "stdout",
     "output_type": "stream",
     "text": [
      "請輸入數字4,2,5,7\n",
      "[4, 5, 2, 7]\n"
     ]
    }
   ],
   "source": [
    "nums=list(map(int,input(\"請輸入數字\").split(\",\")))\n",
    "num=[0]*len(nums)\n",
    "even,odd=0,1\n",
    "for i in nums:\n",
    "    if i%2==0:\n",
    "        num[even]=i\n",
    "        even+=2\n",
    "    else:\n",
    "        num[odd]=i\n",
    "        odd+=2\n",
    "print(num)"
   ]
  },
  {
   "cell_type": "code",
   "execution_count": null,
   "metadata": {},
   "outputs": [],
   "source": [
    "#leetcode 922. Sort Array By Parity II"
   ]
  }
 ],
 "metadata": {
  "kernelspec": {
   "display_name": "Python 3",
   "language": "python",
   "name": "python3"
  },
  "language_info": {
   "codemirror_mode": {
    "name": "ipython",
    "version": 3
   },
   "file_extension": ".py",
   "mimetype": "text/x-python",
   "name": "python",
   "nbconvert_exporter": "python",
   "pygments_lexer": "ipython3",
   "version": "3.8.3"
  }
 },
 "nbformat": 4,
 "nbformat_minor": 4
}
