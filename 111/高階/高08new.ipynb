{
 "cells": [
  {
   "cell_type": "code",
   "execution_count": null,
   "metadata": {},
   "outputs": [],
   "source": [
    "'''\n",
    "請製作一個2023年的查詢今天禮拜幾的程式，主要用字典的方式撰寫，並在8行內完成\n",
    "'''"
   ]
  },
  {
   "cell_type": "code",
   "execution_count": 35,
   "metadata": {},
   "outputs": [
    {
     "name": "stdout",
     "output_type": "stream",
     "text": [
      "請輸入日期MM/DD:2/12\n",
      "Sunday\n"
     ]
    }
   ],
   "source": [
    "a = [31, 28, 31, 30, 31, 30, 31, 31, 30, 31, 30, 31]\n",
    "\n",
    "x, y = map(int,input(\"請輸入日期MM/DD:\").split(\"/\"))\n",
    "\n",
    "for j in range(x-1):\n",
    "    y += a[j]\n",
    "    \n",
    "y -= 1\n",
    "\n",
    "daydict={0:'Sunday',1:'Monday',2:'Tuesday',3:'Wednesday',4:'Thursday',5:'Friday',6:'Saturday'}\n",
    "\n",
    "[i for i in daydict if y%7==list(daydict)[i]]\n",
    "print(daydict[y%7])\n",
    "\n",
    "# for i in daydict:\n",
    "#     if y%7==list(daydict)[i]:\n",
    "#         print(daydict[y%7])"
   ]
  },
  {
   "cell_type": "code",
   "execution_count": null,
   "metadata": {},
   "outputs": [],
   "source": [
    "#CPE 12019 Doom’s Day Algorithm 20210323 大改"
   ]
  }
 ],
 "metadata": {
  "kernelspec": {
   "display_name": "Python 3",
   "language": "python",
   "name": "python3"
  },
  "language_info": {
   "codemirror_mode": {
    "name": "ipython",
    "version": 3
   },
   "file_extension": ".py",
   "mimetype": "text/x-python",
   "name": "python",
   "nbconvert_exporter": "python",
   "pygments_lexer": "ipython3",
   "version": "3.8.3"
  }
 },
 "nbformat": 4,
 "nbformat_minor": 4
}
