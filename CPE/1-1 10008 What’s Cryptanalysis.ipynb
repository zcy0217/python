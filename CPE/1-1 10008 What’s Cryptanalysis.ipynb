{
 "cells": [
  {
   "cell_type": "code",
   "execution_count": null,
   "metadata": {},
   "outputs": [],
   "source": [
    "#10008 What’s Cryptanalysis?\n",
    "#計算輸入的句子中各個英文字母出現次數，次數由大到小，字母由小到大，輸出轉大寫"
   ]
  },
  {
   "cell_type": "code",
   "execution_count": 5,
   "metadata": {},
   "outputs": [
    {
     "name": "stdout",
     "output_type": "stream",
     "text": [
      "3\n",
      "This is a test.\n",
      "Count me 1 2 3 4 5.\n",
      "Wow!!!! Is this question easy?\n",
      "S 7\n",
      "T 6\n",
      "I 5\n",
      "E 4\n",
      "O 3\n",
      "A 2\n",
      "H 2\n",
      "N 2\n",
      "U 2\n",
      "W 2\n",
      "C 1\n",
      "M 1\n",
      "Q 1\n",
      "Y 1\n"
     ]
    }
   ],
   "source": [
    "import re\n",
    "\n",
    "num=int(input())\n",
    "wordlist=[]\n",
    "n=0\n",
    "while n<num:\n",
    "    word=input()\n",
    "    wordlist.extend(word.upper()) #將字母拆成一個一個字元並轉大寫\n",
    "    n+=1\n",
    "\n",
    "wordlist=re.sub(u\"([^\\u0041-\\u005A])\",\"\",str(wordlist)) #用unicode保留A~Z\n",
    "\n",
    "worddict={} #用字典統計每個字母出現幾次\n",
    "for i in wordlist:\n",
    "    if i in worddict.keys():\n",
    "        worddict[i]+=1\n",
    "    else:\n",
    "        worddict[i]=1\n",
    "\n",
    "worddictlist=[]\n",
    "for key,value in list(worddict.items()):\n",
    "    worddictlist.sort(key = lambda a: a[0]) #字母排順序(小到大)\n",
    "    worddictlist.append((key,value))\n",
    "    worddictlist.sort(key=lambda a: (a[1]),reverse=True) #出現次數排順序(大到小)\n",
    "for key,value in worddictlist:\n",
    "    print(f\"{key} {value}\") #全部印出來"
   ]
  },
  {
   "cell_type": "code",
   "execution_count": null,
   "metadata": {},
   "outputs": [],
   "source": []
  }
 ],
 "metadata": {
  "kernelspec": {
   "display_name": "Python 3 (ipykernel)",
   "language": "python",
   "name": "python3"
  },
  "language_info": {
   "codemirror_mode": {
    "name": "ipython",
    "version": 3
   },
   "file_extension": ".py",
   "mimetype": "text/x-python",
   "name": "python",
   "nbconvert_exporter": "python",
   "pygments_lexer": "ipython3",
   "version": "3.8.16"
  }
 },
 "nbformat": 4,
 "nbformat_minor": 4
}
