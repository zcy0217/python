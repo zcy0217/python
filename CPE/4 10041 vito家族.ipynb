{
 "cells": [
  {
   "cell_type": "code",
   "execution_count": null,
   "id": "108b1c29",
   "metadata": {},
   "outputs": [],
   "source": [
    "#Vito’s家族 10041"
   ]
  },
  {
   "cell_type": "code",
   "execution_count": 11,
   "id": "e0f0ac1c",
   "metadata": {},
   "outputs": [
    {
     "name": "stdout",
     "output_type": "stream",
     "text": [
      "3\n",
      "2 2 4\n",
      "3 2 4 6\n",
      "4 2 1 999 5\n",
      "2\n",
      "4\n",
      "1001\n"
     ]
    }
   ],
   "source": [
    "case=int(input())\n",
    "numberlist=[]\n",
    "for i in range(case):\n",
    "    number=list(map(int,input().split()))\n",
    "    one=number.pop(0)\n",
    "    number=sorted(number)\n",
    "    numberlist.append(number)\n",
    "    \n",
    "for i in range(case):\n",
    "    total,totalL,totalR=0,0,0\n",
    "    if len(numberlist[i])%2==0:\n",
    "        midnumleft,midnumright=numberlist[i][len(numberlist[i])//2-1],numberlist[i][len(numberlist[i])//2]\n",
    "        for j in numberlist[i]:\n",
    "            if j!=midnumleft:\n",
    "                totalL+=abs(midnumleft-j)\n",
    "            if j!=midnumright:\n",
    "                totalR+=abs(midnumright-j)\n",
    "            else:\n",
    "                continue\n",
    "        if totalL!=0 and totalR!=0:\n",
    "            print(min(totalL,totalR))\n",
    "        else:\n",
    "            print(max(totalL,totalR))\n",
    "    else:\n",
    "        midnum=numberlist[i][len(numberlist[i])//2]\n",
    "        for j in numberlist[i]:\n",
    "            if j!=midnum:\n",
    "                total+=abs(midnum-j)\n",
    "            else:\n",
    "                continue\n",
    "        print(total)"
   ]
  }
 ],
 "metadata": {
  "kernelspec": {
   "display_name": "Python 3 (ipykernel)",
   "language": "python",
   "name": "python3"
  },
  "language_info": {
   "codemirror_mode": {
    "name": "ipython",
    "version": 3
   },
   "file_extension": ".py",
   "mimetype": "text/x-python",
   "name": "python",
   "nbconvert_exporter": "python",
   "pygments_lexer": "ipython3",
   "version": "3.8.16"
  }
 },
 "nbformat": 4,
 "nbformat_minor": 5
}
