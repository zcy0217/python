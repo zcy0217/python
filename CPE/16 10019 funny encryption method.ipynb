{
 "cells": [
  {
   "cell_type": "code",
   "execution_count": null,
   "id": "a8a7c5a7",
   "metadata": {},
   "outputs": [],
   "source": [
    "# 10019 funny encryption method"
   ]
  },
  {
   "cell_type": "code",
   "execution_count": 22,
   "id": "de37895c",
   "metadata": {},
   "outputs": [
    {
     "name": "stdout",
     "output_type": "stream",
     "text": [
      "3\n",
      "265\n",
      "3 5\n",
      "111\n",
      "6 3\n",
      "1234\n",
      "5 5\n"
     ]
    }
   ],
   "source": [
    "times = int(input())\n",
    "for _ in range(times):\n",
    "    num = input()\n",
    "    b1 = sum(list(map(int,format(int(num),\"b\"))))\n",
    "    b2 = 0\n",
    "    for i in num:\n",
    "        b2 += sum(list(map(int,format(int(i),\"b\"))))\n",
    "    print(f\"{b1} {b2}\")"
   ]
  }
 ],
 "metadata": {
  "kernelspec": {
   "display_name": "Python 3 (ipykernel)",
   "language": "python",
   "name": "python3"
  },
  "language_info": {
   "codemirror_mode": {
    "name": "ipython",
    "version": 3
   },
   "file_extension": ".py",
   "mimetype": "text/x-python",
   "name": "python",
   "nbconvert_exporter": "python",
   "pygments_lexer": "ipython3",
   "version": "3.8.16"
  }
 },
 "nbformat": 4,
 "nbformat_minor": 5
}
