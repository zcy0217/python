{
 "cells": [
  {
   "cell_type": "code",
   "execution_count": 17,
   "id": "c6c6c966",
   "metadata": {},
   "outputs": [
    {
     "name": "stdout",
     "output_type": "stream",
     "text": [
      "1 1\n",
      "Boring!\n",
      "0 0\n",
      "Boring!\n",
      "2 2\n",
      "2 1\n",
      "\n"
     ]
    }
   ],
   "source": [
    "while True:\n",
    "    try:\n",
    "        n,m = map(int,input().split())\n",
    "        if m==0 or (n>=1 and m==1):\n",
    "            print(\"Boring!\")\n",
    "            continue\n",
    "        else:\n",
    "            modlist=[n]\n",
    "            while n%m==0:\n",
    "                modlist.append(n//m)\n",
    "                n=n//m\n",
    "            if n==1:\n",
    "                for i in range(len(modlist)):\n",
    "                    if i==len(modlist)-1:\n",
    "                        print(modlist[i])\n",
    "                    else:\n",
    "                        print(modlist[i],end=\" \")\n",
    "            else:\n",
    "                print(\"Boring!\")\n",
    "    except Exception:\n",
    "        break"
   ]
  },
  {
   "cell_type": "code",
   "execution_count": null,
   "id": "08a286c8",
   "metadata": {},
   "outputs": [],
   "source": []
  }
 ],
 "metadata": {
  "kernelspec": {
   "display_name": "Python 3 (ipykernel)",
   "language": "python",
   "name": "python3"
  },
  "language_info": {
   "codemirror_mode": {
    "name": "ipython",
    "version": 3
   },
   "file_extension": ".py",
   "mimetype": "text/x-python",
   "name": "python",
   "nbconvert_exporter": "python",
   "pygments_lexer": "ipython3",
   "version": "3.9.7"
  }
 },
 "nbformat": 4,
 "nbformat_minor": 5
}
