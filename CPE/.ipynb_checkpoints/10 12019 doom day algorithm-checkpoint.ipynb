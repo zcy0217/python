{
 "cells": [
  {
   "cell_type": "code",
   "execution_count": null,
   "id": "64b5180d",
   "metadata": {},
   "outputs": [],
   "source": [
    "#12019 doom day algorithm"
   ]
  },
  {
   "cell_type": "code",
   "execution_count": null,
   "id": "8f498afb",
   "metadata": {},
   "outputs": [],
   "source": [
    "times=int(input())  \n",
    "for _ in range(times):  \n",
    "    a = [31, 28, 31, 30, 31, 30, 31, 31, 30, 31, 30, 31]  \n",
    "    x, y = map(int,input().split())  \n",
    "    for j in range(x-1):  \n",
    "        y += a[j]  \n",
    "    y -= 1  \n",
    "    daydict={0:'Saturday',1:'Sunday',2:'Monday',3:'Tuesday',4:'Wednesday',5:'Thursday',6:'Friday'}  \n",
    "  \n",
    "    [i for i in daydict if y%7==list(daydict)[i]]  \n",
    "    print(daydict[y%7]) "
   ]
  }
 ],
 "metadata": {
  "kernelspec": {
   "display_name": "Python 3 (ipykernel)",
   "language": "python",
   "name": "python3"
  },
  "language_info": {
   "codemirror_mode": {
    "name": "ipython",
    "version": 3
   },
   "file_extension": ".py",
   "mimetype": "text/x-python",
   "name": "python",
   "nbconvert_exporter": "python",
   "pygments_lexer": "ipython3",
   "version": "3.8.16"
  }
 },
 "nbformat": 4,
 "nbformat_minor": 5
}
