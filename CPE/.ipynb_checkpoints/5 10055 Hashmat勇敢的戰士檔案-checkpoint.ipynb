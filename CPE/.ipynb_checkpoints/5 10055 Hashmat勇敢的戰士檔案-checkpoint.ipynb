{
 "cells": [
  {
   "cell_type": "code",
   "execution_count": null,
   "id": "1a8a68a6",
   "metadata": {},
   "outputs": [],
   "source": [
    "#Hashmat勇敢的戰士檔案 10055"
   ]
  },
  {
   "cell_type": "code",
   "execution_count": 9,
   "id": "b67b96da",
   "metadata": {},
   "outputs": [
    {
     "name": "stdout",
     "output_type": "stream",
     "text": [
      "10 12\n",
      "2\n",
      "\n"
     ]
    }
   ],
   "source": [
    "while True:\n",
    "    try: \n",
    "        num=list(map(int,input().split()))\n",
    "        print(abs(num[1]-num[0]))\n",
    "    except Exception:\n",
    "        break"
   ]
  },
  {
   "cell_type": "code",
   "execution_count": null,
   "id": "5055ad71",
   "metadata": {},
   "outputs": [],
   "source": []
  }
 ],
 "metadata": {
  "kernelspec": {
   "display_name": "Python 3 (ipykernel)",
   "language": "python",
   "name": "python3"
  },
  "language_info": {
   "codemirror_mode": {
    "name": "ipython",
    "version": 3
   },
   "file_extension": ".py",
   "mimetype": "text/x-python",
   "name": "python",
   "nbconvert_exporter": "python",
   "pygments_lexer": "ipython3",
   "version": "3.8.16"
  }
 },
 "nbformat": 4,
 "nbformat_minor": 5
}
