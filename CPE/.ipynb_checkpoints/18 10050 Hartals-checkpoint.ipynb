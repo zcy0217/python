{
 "cells": [
  {
   "cell_type": "code",
   "execution_count": null,
   "id": "87a1d42e",
   "metadata": {},
   "outputs": [],
   "source": [
    "# UVa 10050 Hartals"
   ]
  },
  {
   "cell_type": "code",
   "execution_count": 5,
   "id": "3d34b292",
   "metadata": {},
   "outputs": [
    {
     "name": "stdout",
     "output_type": "stream",
     "text": [
      "2\n",
      "14\n",
      "3\n",
      "3\n",
      "4\n",
      "8\n",
      "5\n",
      "100\n",
      "4\n",
      "12\n",
      "15\n",
      "25\n",
      "40\n",
      "15\n"
     ]
    }
   ],
   "source": [
    "times = int(input())\n",
    "for t in range(times):\n",
    "    N = int(input())\n",
    "    day = [0]*(N+1)\n",
    "    P = int(input())\n",
    "    for p in range(P):\n",
    "        party = int(input())\n",
    "        for i in range(1,len(day)):\n",
    "            if i%party == 0 and i%7 != 6 and i%7 != 0:  # 不是週五和週六\n",
    "                day[i] = 1\n",
    "    print(sum(day))"
   ]
  },
  {
   "cell_type": "code",
   "execution_count": null,
   "id": "73082267",
   "metadata": {},
   "outputs": [],
   "source": [
    "# 1000\n",
    "# 2\n",
    "# 10\n",
    "# 15\n",
    "# ans=95"
   ]
  }
 ],
 "metadata": {
  "kernelspec": {
   "display_name": "Python 3 (ipykernel)",
   "language": "python",
   "name": "python3"
  },
  "language_info": {
   "codemirror_mode": {
    "name": "ipython",
    "version": 3
   },
   "file_extension": ".py",
   "mimetype": "text/x-python",
   "name": "python",
   "nbconvert_exporter": "python",
   "pygments_lexer": "ipython3",
   "version": "3.8.16"
  }
 },
 "nbformat": 4,
 "nbformat_minor": 5
}
