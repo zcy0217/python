{
 "cells": [
  {
   "cell_type": "code",
   "execution_count": null,
   "id": "a05fe3fa",
   "metadata": {},
   "outputs": [],
   "source": [
    "#10929 You can say 11"
   ]
  },
  {
   "cell_type": "code",
   "execution_count": 21,
   "id": "281980a6",
   "metadata": {},
   "outputs": [
    {
     "name": "stdout",
     "output_type": "stream",
     "text": [
      "112233\n",
      "112233 is a multiple of 11.\n",
      "30800\n",
      "30800 is a multiple of 11.\n",
      "2937\n",
      "2937 is a multiple of 11.\n",
      "323455693\n",
      "323455693 is a multiple of 11.\n",
      "5038297\n",
      "5038297 is a multiple of 11.\n",
      "112234\n",
      "112234 is not a multiple of 11.\n",
      "0\n"
     ]
    }
   ],
   "source": [
    "num,even,odd=1,0,0\n",
    "while num!=\"0\":\n",
    "    num=input()\n",
    "    if num==\"0\":\n",
    "        break\n",
    "    else:\n",
    "        numlist=list(num)\n",
    "        for i in range(0,len(numlist),2):\n",
    "            even+=int(numlist[i])\n",
    "        for j in range(1,len(numlist),2):\n",
    "            odd+=int(numlist[j])\n",
    "        if abs(even-odd)%11==0:\n",
    "            print(f\"{num} is a multiple of 11.\")\n",
    "        else:\n",
    "            print(f\"{num} is not a multiple of 11.\")"
   ]
  }
 ],
 "metadata": {
  "kernelspec": {
   "display_name": "Python 3 (ipykernel)",
   "language": "python",
   "name": "python3"
  },
  "language_info": {
   "codemirror_mode": {
    "name": "ipython",
    "version": 3
   },
   "file_extension": ".py",
   "mimetype": "text/x-python",
   "name": "python",
   "nbconvert_exporter": "python",
   "pygments_lexer": "ipython3",
   "version": "3.8.16"
  }
 },
 "nbformat": 4,
 "nbformat_minor": 5
}
