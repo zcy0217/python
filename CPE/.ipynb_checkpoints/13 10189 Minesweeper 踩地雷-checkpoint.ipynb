{
 "cells": [
  {
   "cell_type": "code",
   "execution_count": null,
   "id": "37f4a491",
   "metadata": {},
   "outputs": [],
   "source": [
    "#踩地雷 10189 Minesweeper"
   ]
  },
  {
   "cell_type": "code",
   "execution_count": 9,
   "id": "6a32dc44",
   "metadata": {},
   "outputs": [
    {
     "name": "stdout",
     "output_type": "stream",
     "text": [
      "4 4\n",
      "*...\n",
      "....\n",
      ".*..\n",
      "....\n",
      "Field #1:\n",
      "*100\n",
      "2210\n",
      "1*10\n",
      "1110\n",
      "3 5\n",
      "\n",
      "**...\n",
      ".....\n",
      ".*...\n",
      "Field #2:\n",
      "**100\n",
      "33200\n",
      "1*100\n",
      "0 0\n"
     ]
    }
   ],
   "source": [
    "field=0\n",
    "while True:\n",
    "    field+=1\n",
    "    n,m=map(int,input().split())\n",
    "    if n==m==0:\n",
    "        break\n",
    "    elif field!=1:\n",
    "        print()\n",
    "    starlist=[]\n",
    "    for i in range(n):\n",
    "        star=input()  \n",
    "        starlist.append(star)\n",
    "    for j in range(n):\n",
    "        for k in range(m):\n",
    "            if starlist[j][k]==\"*\":\n",
    "                continue\n",
    "            else:\n",
    "                count=0\n",
    "                for a in range(j-1,j+2):\n",
    "                    for b in range(k-1,k+2):\n",
    "                        if a>=0 and a<n and b>=0 and b<m and starlist[a][b] == \"*\":\n",
    "                            count+=1\n",
    "                starlist[j]=starlist[j][:k]+str(count)+starlist[j][k+1:] #更新數據，唯一會變動到的是starlist[j][k]->變成count，最前面和最後面那兩段不會變\n",
    "    print(f\"Field #{field}:\")\n",
    "    for row in starlist:\n",
    "        print(row)"
   ]
  }
 ],
 "metadata": {
  "kernelspec": {
   "display_name": "Python 3 (ipykernel)",
   "language": "python",
   "name": "python3"
  },
  "language_info": {
   "codemirror_mode": {
    "name": "ipython",
    "version": 3
   },
   "file_extension": ".py",
   "mimetype": "text/x-python",
   "name": "python",
   "nbconvert_exporter": "python",
   "pygments_lexer": "ipython3",
   "version": "3.8.16"
  }
 },
 "nbformat": 4,
 "nbformat_minor": 5
}
