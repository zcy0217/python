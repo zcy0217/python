{
 "cells": [
  {
   "cell_type": "code",
   "execution_count": null,
   "id": "33423ce5",
   "metadata": {},
   "outputs": [],
   "source": [
    "#carry operations 10035"
   ]
  },
  {
   "cell_type": "code",
   "execution_count": 36,
   "id": "af3388cb",
   "metadata": {},
   "outputs": [
    {
     "name": "stdout",
     "output_type": "stream",
     "text": [
      "123 456\n",
      "No carry operation.\n",
      "555 555\n",
      "3 carry operations.\n",
      "123 594\n",
      "1 carry operation.\n",
      "0 0\n"
     ]
    }
   ],
   "source": [
    "while True:\n",
    "    num=input().split(\" \")\n",
    "    count,temp=0,0\n",
    "    if num[0]==num[1]==\"0\":\n",
    "        break\n",
    "    else:\n",
    "        num[0],num[1]=num[0][::-1],num[1][::-1]\n",
    "        for i in range(min(len(num[0]),len(num[1]))):\n",
    "            if int(num[0][i])+int(num[1][i])+temp>=10:\n",
    "                count+=1\n",
    "                temp=1\n",
    "            else:\n",
    "                temp=0\n",
    "        if count==1:\n",
    "            print(\"1 carry operation.\")\n",
    "        elif count>0:\n",
    "            print(f\"{count} carry operations.\")\n",
    "        elif count==0:\n",
    "            print(\"No carry operation.\")"
   ]
  }
 ],
 "metadata": {
  "kernelspec": {
   "display_name": "Python 3 (ipykernel)",
   "language": "python",
   "name": "python3"
  },
  "language_info": {
   "codemirror_mode": {
    "name": "ipython",
    "version": 3
   },
   "file_extension": ".py",
   "mimetype": "text/x-python",
   "name": "python",
   "nbconvert_exporter": "python",
   "pygments_lexer": "ipython3",
   "version": "3.8.16"
  }
 },
 "nbformat": 4,
 "nbformat_minor": 5
}
