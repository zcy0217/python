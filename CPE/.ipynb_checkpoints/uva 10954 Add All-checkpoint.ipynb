{
 "cells": [
  {
   "cell_type": "code",
   "execution_count": null,
   "id": "641b36e0",
   "metadata": {},
   "outputs": [],
   "source": [
    "# uva 10954 Add All "
   ]
  },
  {
   "cell_type": "code",
   "execution_count": null,
   "id": "c1767622",
   "metadata": {},
   "outputs": [],
   "source": [
    "import heapq\n",
    "while True:\n",
    "    n = int(input())\n",
    "    if n == 0:\n",
    "        break\n",
    "    nums = list(map(int, input().split()))\n",
    "    heapq.heapify(nums)\n",
    "    total_cost = 0\n",
    "    while len(nums) > 1:\n",
    "        x = heapq.heappop(nums) # 最小的\n",
    "        y = heapq.heappop(nums) # 第二小的\n",
    "        total_cost += x + y # 目前總和最小\n",
    "        heapq.heappush(nums, x + y) # 丟回去nums裡面\n",
    "\n",
    "    print(total_cost)"
   ]
  },
  {
   "cell_type": "code",
   "execution_count": null,
   "id": "9b9d8c6f",
   "metadata": {},
   "outputs": [],
   "source": [
    "while True:\n",
    "    n = int(input())\n",
    "    if n == 0:\n",
    "        break\n",
    "    nums = list(map(int, input().split()))\n",
    "    total = 0\n",
    "    nums.sort()\n",
    "    while len(nums)>1:\n",
    "        min1 = min(nums)\n",
    "        nums.pop(0)\n",
    "        min2 = min(nums)\n",
    "        nums.pop(0)\n",
    "        total += min1+min2\n",
    "        nums.append(min1+min2)\n",
    "        nums.sort()\n",
    "    print(total)"
   ]
  }
 ],
 "metadata": {
  "kernelspec": {
   "display_name": "Python 3 (ipykernel)",
   "language": "python",
   "name": "python3"
  },
  "language_info": {
   "codemirror_mode": {
    "name": "ipython",
    "version": 3
   },
   "file_extension": ".py",
   "mimetype": "text/x-python",
   "name": "python",
   "nbconvert_exporter": "python",
   "pygments_lexer": "ipython3",
   "version": "3.8.16"
  }
 },
 "nbformat": 4,
 "nbformat_minor": 5
}
