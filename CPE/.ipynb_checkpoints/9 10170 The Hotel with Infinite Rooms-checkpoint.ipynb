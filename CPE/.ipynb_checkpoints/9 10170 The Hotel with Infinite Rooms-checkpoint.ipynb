{
 "cells": [
  {
   "cell_type": "code",
   "execution_count": null,
   "id": "68b2d39c",
   "metadata": {},
   "outputs": [],
   "source": [
    "#10170 The Hotel with Infinite Rooms"
   ]
  },
  {
   "cell_type": "code",
   "execution_count": 58,
   "id": "b477952b",
   "metadata": {},
   "outputs": [
    {
     "name": "stdout",
     "output_type": "stream",
     "text": [
      "1 6\n",
      "3\n",
      "1 1000\n",
      "45\n",
      "5 4\n",
      "5\n",
      "5 6\n",
      "6\n",
      "5 7\n",
      "6\n",
      "10 1000\n",
      "46\n",
      "\n"
     ]
    }
   ],
   "source": [
    "while True:\n",
    "    try:\n",
    "        s,d=map(int,input().split())\n",
    "        total=0\n",
    "        a=s\n",
    "        if s>=d:\n",
    "            print(s)\n",
    "        else:\n",
    "            for i in range(s,d+1):\n",
    "                total+=i\n",
    "                if total>=d:\n",
    "                    print(a)\n",
    "                    break\n",
    "                a+=1\n",
    "    except Exception:\n",
    "        break"
   ]
  }
 ],
 "metadata": {
  "kernelspec": {
   "display_name": "Python 3 (ipykernel)",
   "language": "python",
   "name": "python3"
  },
  "language_info": {
   "codemirror_mode": {
    "name": "ipython",
    "version": 3
   },
   "file_extension": ".py",
   "mimetype": "text/x-python",
   "name": "python",
   "nbconvert_exporter": "python",
   "pygments_lexer": "ipython3",
   "version": "3.8.16"
  }
 },
 "nbformat": 4,
 "nbformat_minor": 5
}
