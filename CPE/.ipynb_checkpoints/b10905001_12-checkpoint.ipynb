{
 "cells": [
  {
   "cell_type": "code",
   "execution_count": null,
   "id": "154540ad",
   "metadata": {},
   "outputs": [],
   "source": [
    "#10252 common permutation\n",
    "#找出共同的地方，連續的也算，最後全部由小到大排"
   ]
  },
  {
   "cell_type": "code",
   "execution_count": null,
   "id": "b1929a16",
   "metadata": {},
   "outputs": [],
   "source": [
    "while True:\n",
    "    try:\n",
    "        counta = [0 for i in range(26)]\n",
    "        countb = [0 for i in range(26)]\n",
    "        lista = input()\n",
    "        listb = input()\n",
    "        for i in range(len(lista)):\n",
    "            counta[ord(lista[i]) - 97] += 1\n",
    "        for i in range(len(listb)):\n",
    "            countb[ord(listb[i]) - 97] += 1\n",
    "        ans = \"\"\n",
    "        for i in range(26):\n",
    "            ans += chr(i+97) * min(counta[i], countb[i])\n",
    "        print(ans)\n",
    "    except EOFError:\n",
    "        break"
   ]
  },
  {
   "cell_type": "code",
   "execution_count": 5,
   "id": "9b5576ef",
   "metadata": {},
   "outputs": [
    {
     "name": "stdout",
     "output_type": "stream",
     "text": [
      "aaccbb\n",
      "accb\n",
      "abcc\n",
      "aaccbb\n",
      "abc\n",
      "abc\n",
      "\n",
      "\n"
     ]
    }
   ],
   "source": [
    "while True:\n",
    "    counta = [0 for i in range(26)]\n",
    "    countb = [0 for i in range(26)]\n",
    "    lista = input()\n",
    "    listb = input()\n",
    "    if lista==listb==\"\":\n",
    "        break\n",
    "    for i in range(len(lista)):\n",
    "        counta[ord(lista[i]) - 97] += 1\n",
    "    for i in range(len(listb)):\n",
    "        countb[ord(listb[i]) - 97] += 1\n",
    "    ans = \"\"\n",
    "    for i in range(26):\n",
    "        ans += chr(i+97) * min(counta[i], countb[i])\n",
    "    print(ans)"
   ]
  },
  {
   "cell_type": "code",
   "execution_count": 2,
   "id": "87fae2d3",
   "metadata": {},
   "outputs": [
    {
     "name": "stdout",
     "output_type": "stream",
     "text": [
      "[0, 0, 0, 0, 0, 0, 0, 0, 0, 0, 0, 0, 0, 0, 0, 0, 0, 0, 0, 0, 0, 0, 0, 0, 0, 0]\n"
     ]
    }
   ],
   "source": [
    "counta = [0 for i in range(26)]\n",
    "print(counta)"
   ]
  }
 ],
 "metadata": {
  "kernelspec": {
   "display_name": "Python 3 (ipykernel)",
   "language": "python",
   "name": "python3"
  },
  "language_info": {
   "codemirror_mode": {
    "name": "ipython",
    "version": 3
   },
   "file_extension": ".py",
   "mimetype": "text/x-python",
   "name": "python",
   "nbconvert_exporter": "python",
   "pygments_lexer": "ipython3",
   "version": "3.8.16"
  }
 },
 "nbformat": 4,
 "nbformat_minor": 5
}
