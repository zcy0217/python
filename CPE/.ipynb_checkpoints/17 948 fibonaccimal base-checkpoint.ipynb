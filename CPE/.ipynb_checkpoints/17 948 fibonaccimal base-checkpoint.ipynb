{
 "cells": [
  {
   "cell_type": "code",
   "execution_count": null,
   "id": "664c7224",
   "metadata": {},
   "outputs": [],
   "source": [
    "#費氏進位表達式 uva948 fibonaccimal base"
   ]
  },
  {
   "cell_type": "code",
   "execution_count": 122,
   "id": "6ae2b783",
   "metadata": {},
   "outputs": [
    {
     "name": "stdout",
     "output_type": "stream",
     "text": [
      "18\n",
      "1\n",
      "1 = 1 (fib)\n",
      "2\n",
      "2 = 10 (fib)\n",
      "3\n",
      "3 = 100 (fib)\n",
      "4\n",
      "4 = 101 (fib)\n",
      "5\n",
      "5 = 1000 (fib)\n",
      "6\n",
      "6 = 1001 (fib)\n",
      "7\n",
      "7 = 1010 (fib)\n",
      "8\n",
      "8 = 10000 (fib)\n",
      "9\n",
      "9 = 10001 (fib)\n",
      "10\n",
      "10 = 10010 (fib)\n",
      "13\n",
      "13 = 100000 (fib)\n",
      "17\n",
      "17 = 100101 (fib)\n",
      "100\n",
      "100 = 1000010100 (fib)\n",
      "1234\n",
      "1234 = 100100000100001 (fib)\n",
      "432134\n",
      "432134 = 100101001010100100100100101 (fib)\n",
      "45678934\n",
      "45678934 = 1000100010000010001010000001001010100 (fib)\n",
      "98765432\n",
      "98765432 = 10101000101010100000001010000000100100 (fib)\n",
      "99999999\n",
      "99999999 = 10101001010100001010000010101010000010 (fib)\n"
     ]
    }
   ],
   "source": [
    "fiblist = [0,1]\n",
    "for i in range(2,40):\n",
    "    fiblist.append(fiblist[i-2]+fiblist[i-1])\n",
    "fiblistR = fiblist[::-1]\n",
    "for i in range(int(input())):\n",
    "    num = int(input())\n",
    "    num2 = num\n",
    "    ans = ''\n",
    "    length = 1\n",
    "    for j in range(len(fiblistR)):\n",
    "        if fiblistR[j] <= num:\n",
    "            if length == 1:\n",
    "                length = fiblistR[j]\n",
    "            ans += '1'\n",
    "            num -= fiblistR[j]\n",
    "        else:\n",
    "            ans += '0'\n",
    "        if num == 0:\n",
    "            ans = ans.lstrip('0')\n",
    "            while len(ans) < fiblist.index(length)-1:\n",
    "                ans += '0'\n",
    "            break\n",
    "    print(f\"{num2} = {ans} (fib)\")"
   ]
  },
  {
   "cell_type": "code",
   "execution_count": 111,
   "id": "5f05f898",
   "metadata": {},
   "outputs": [
    {
     "name": "stdout",
     "output_type": "stream",
     "text": [
      "[0, 1, 1, 2, 3, 5, 8, 13, 21, 34, 55, 89, 144, 233, 377, 610, 987, 1597, 2584, 4181, 6765, 10946, 17711, 28657, 46368, 75025, 121393, 196418, 317811, 514229, 832040, 1346269, 2178309, 3524578, 5702887, 9227465, 14930352, 24157817, 39088169, 63245986]\n",
      "40\n"
     ]
    }
   ],
   "source": [
    "fiblist = [0,1]\n",
    "for i in range(2,40):\n",
    "    fiblist.append(fiblist[i-2]+fiblist[i-1])\n",
    "fiblistR = fiblist[::-1]\n",
    "print(fiblist)\n",
    "print(len(fiblist))"
   ]
  },
  {
   "cell_type": "code",
   "execution_count": null,
   "id": "7b9b84fc",
   "metadata": {},
   "outputs": [],
   "source": []
  }
 ],
 "metadata": {
  "kernelspec": {
   "display_name": "Python 3 (ipykernel)",
   "language": "python",
   "name": "python3"
  },
  "language_info": {
   "codemirror_mode": {
    "name": "ipython",
    "version": 3
   },
   "file_extension": ".py",
   "mimetype": "text/x-python",
   "name": "python",
   "nbconvert_exporter": "python",
   "pygments_lexer": "ipython3",
   "version": "3.8.16"
  }
 },
 "nbformat": 4,
 "nbformat_minor": 5
}
