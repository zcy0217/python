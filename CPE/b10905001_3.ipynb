{
 "cells": [
  {
   "cell_type": "code",
   "execution_count": null,
   "id": "dc233a98",
   "metadata": {},
   "outputs": [],
   "source": [
    "# 11332 Summing Digits"
   ]
  },
  {
   "cell_type": "code",
   "execution_count": 4,
   "id": "2cf5ae51",
   "metadata": {},
   "outputs": [
    {
     "name": "stdout",
     "output_type": "stream",
     "text": [
      "2\n",
      "11\n",
      "47\n",
      "1234567892\n",
      "0\n",
      "2\n",
      "2\n",
      "2\n",
      "2\n"
     ]
    }
   ],
   "source": [
    "def total(n):\n",
    "    sum = 0\n",
    "    while n > 0: \n",
    "        sum += n % 10\n",
    "        n //= 10\n",
    "    return sum\n",
    "inputlist=[]\n",
    "n=1\n",
    "while n!=0:\n",
    "    n = int(input())\n",
    "    if n==0:\n",
    "        break\n",
    "    else:\n",
    "        inputlist.append(n)\n",
    "for i in inputlist:\n",
    "    while i >= 10:\n",
    "        i = total(i)\n",
    "    print(i)"
   ]
  }
 ],
 "metadata": {
  "kernelspec": {
   "display_name": "Python 3 (ipykernel)",
   "language": "python",
   "name": "python3"
  },
  "language_info": {
   "codemirror_mode": {
    "name": "ipython",
    "version": 3
   },
   "file_extension": ".py",
   "mimetype": "text/x-python",
   "name": "python",
   "nbconvert_exporter": "python",
   "pygments_lexer": "ipython3",
   "version": "3.8.16"
  }
 },
 "nbformat": 4,
 "nbformat_minor": 5
}
