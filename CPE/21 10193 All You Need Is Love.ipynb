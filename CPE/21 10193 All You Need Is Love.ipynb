{
 "cells": [
  {
   "cell_type": "code",
   "execution_count": 10,
   "id": "c3da08a1",
   "metadata": {},
   "outputs": [
    {
     "name": "stdout",
     "output_type": "stream",
     "text": [
      "5\n",
      "11011\n",
      "11000\n",
      "Pair #1: All you need is love!\n",
      "11011\n",
      "11001\n",
      "Pair #2: Love is not all you need!\n",
      "111111\n",
      "100\n",
      "Pair #3: Love is not all you need!\n",
      "1000000000\n",
      "110\n",
      "Pair #4: All you need is love!\n",
      "1010\n",
      "100\n",
      "Pair #5: All you need is love!\n"
     ]
    }
   ],
   "source": [
    "import math\n",
    "time = int(input())\n",
    "for i in range(time):\n",
    "    s1 = int(str(input()),2)\n",
    "    s2 = int(str(input()),2)\n",
    "    k = math.gcd(max(s1,s2),min(s1,s2))\n",
    "    if k>1:\n",
    "        print(f\"Pair #{i+1}: All you need is love!\")\n",
    "    else:\n",
    "        print(f\"Pair #{i+1}: Love is not all you need!\")"
   ]
  },
  {
   "cell_type": "code",
   "execution_count": null,
   "id": "127ee32c",
   "metadata": {},
   "outputs": [],
   "source": []
  }
 ],
 "metadata": {
  "kernelspec": {
   "display_name": "Python 3 (ipykernel)",
   "language": "python",
   "name": "python3"
  },
  "language_info": {
   "codemirror_mode": {
    "name": "ipython",
    "version": 3
   },
   "file_extension": ".py",
   "mimetype": "text/x-python",
   "name": "python",
   "nbconvert_exporter": "python",
   "pygments_lexer": "ipython3",
   "version": "3.9.7"
  }
 },
 "nbformat": 4,
 "nbformat_minor": 5
}
