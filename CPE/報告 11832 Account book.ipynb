{
 "cells": [
  {
   "cell_type": "code",
   "execution_count": 2,
   "id": "2adbd523",
   "metadata": {},
   "outputs": [
    {
     "name": "stdout",
     "output_type": "stream",
     "text": [
      "5 7\n",
      "1\n",
      "2\n",
      "3\n",
      "4\n",
      "5\n",
      "?+??+\n",
      "4 15\n",
      "3\n",
      "5\n",
      "7\n",
      "11\n",
      "*\n",
      "5 12\n",
      "6\n",
      "7\n",
      "7\n",
      "1\n",
      "7\n",
      "+??-?\n",
      "0 0\n"
     ]
    }
   ],
   "source": [
    "def solve(idx, val, memo, N, F, T, can_pos, can_neg): #idx目前交易索引，val目前交易總值\n",
    "    if idx == N: # 交易完畢\n",
    "        return val == F # 布林值，看目前總值是否等於輸入總值，True表有解，False表無解\n",
    "    else: # 還沒交易完畢\n",
    "        if memo[idx][val + F] != -1: # 檢查記憶體memo中是否已經計算過該狀態的結果，如果有就回傳之前的結果\n",
    "            return memo[idx][val + F] == 1 # 布林值，memo[idx][val+F]可能為-1(還沒被計算),0(無解),1(有解)\n",
    "        else: # 還沒被計算過\n",
    "            sub, add = False, False # 是否可以進行減法和加法交易\n",
    "\n",
    "            if val - T[idx] + F >= 0: # 減少T[idx]後的現金流量是否大於等於0，可減法交易，錢是負的不能繼續減\n",
    "                sub = solve(idx + 1, val - T[idx], memo, N, F, T, can_pos, can_neg)\n",
    "            if val + T[idx] + F < 80001: # 增加T[idx]後的現金流量是否小於 80001，可加法交易，錢超過了不能繼續加\n",
    "                add = solve(idx + 1, val + T[idx], memo, N, F, T, can_pos, can_neg) \n",
    "\n",
    "            if sub: # 如果sub為真，表示減少T[idx]後可以得到目標現金流量，將can_neg[idx]設為True，表示第idx筆交易為支出\n",
    "                can_neg[idx] = True\n",
    "            if add: # 如果add為真，表示增加T[idx]後可以得到目標現金流量，將can_pos[idx]設為True，表示第idx筆交易為收入\n",
    "                can_pos[idx] = True\n",
    "                \n",
    "            if sub or add: # 根據sub或add的值，將memo[idx][val+F]設置為1（有解）或0（無解）\n",
    "                memo[idx][val + F] = 1\n",
    "            else:\n",
    "                memo[idx][val + F] = 0\n",
    "                \n",
    "            return memo[idx][val + F]\n",
    "\n",
    "while True:\n",
    "    N, F = map(int,input().split())\n",
    "    if N == F == 0:\n",
    "        break\n",
    "        \n",
    "    T = [int(input()) for _ in range(N)]\n",
    "    memo = [[-1] * 80001 for _ in range(N)] #−16000≤F≤16000，記錄交易過程中不同狀態的計算結果，避免重複計算\n",
    "    \n",
    "    can_pos = [False] * N\n",
    "    can_neg = [False] * N\n",
    "    \n",
    "    solvable = solve(0, 0, memo, N, F, T, can_pos, can_neg)\n",
    "    \n",
    "    if not solvable: # 代表solvable為False，無解，來自第三行的布林值\n",
    "        print(\"*\")\n",
    "    else: # 代表solvable為True，有解，來自第三行的布林值\n",
    "        for i in range(N):\n",
    "            if can_neg[i] and can_pos[i]:\n",
    "                print(\"?\",end=\"\")\n",
    "            elif can_neg[i]:\n",
    "                print(\"-\",end=\"\")\n",
    "            else:\n",
    "                print(\"+\",end=\"\")\n",
    "        print()"
   ]
  },
  {
   "cell_type": "code",
   "execution_count": null,
   "id": "a91a0bbf",
   "metadata": {},
   "outputs": [],
   "source": []
  }
 ],
 "metadata": {
  "kernelspec": {
   "display_name": "Python 3 (ipykernel)",
   "language": "python",
   "name": "python3"
  },
  "language_info": {
   "codemirror_mode": {
    "name": "ipython",
    "version": 3
   },
   "file_extension": ".py",
   "mimetype": "text/x-python",
   "name": "python",
   "nbconvert_exporter": "python",
   "pygments_lexer": "ipython3",
   "version": "3.8.16"
  }
 },
 "nbformat": 4,
 "nbformat_minor": 5
}
