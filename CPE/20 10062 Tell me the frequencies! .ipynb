{
 "cells": [
  {
   "cell_type": "code",
   "execution_count": 15,
   "id": "d0b21960",
   "metadata": {},
   "outputs": [
    {
     "name": "stdout",
     "output_type": "stream",
     "text": [
      "AAABBC\n",
      "67 1\n",
      "66 2\n",
      "65 3\n",
      "122333\n",
      "\n",
      "49 1\n",
      "50 2\n",
      "51 3\n",
      "AAACCBB\n",
      "\n",
      "67 2\n",
      "66 2\n",
      "65 3\n",
      "\n"
     ]
    }
   ],
   "source": [
    "import collections\n",
    "space = False\n",
    "while True:\n",
    "    text = list(input())\n",
    "    if text == []:\n",
    "        break\n",
    "    else:\n",
    "        if space == True:\n",
    "            print()\n",
    "        space = True\n",
    "        textcount = collections.Counter(text).most_common()\n",
    "        mincount = min(textcount, key = lambda t: t[1])[1]\n",
    "        maxcount = max(textcount, key = lambda t: t[1])[1]\n",
    "        for m in range(mincount,maxcount+1):\n",
    "            temp = []\n",
    "            for i in range(len(textcount)):\n",
    "                if textcount[i][1] == m:\n",
    "                    temp.append(textcount[i])\n",
    "                    temp = sorted(temp, key = lambda x: x[0], reverse = True)\n",
    "            for t in range(len(temp)):\n",
    "                print(f\"{ord(temp[t][0])} {temp[t][1]}\")"
   ]
  },
  {
   "cell_type": "code",
   "execution_count": null,
   "id": "19c8042a",
   "metadata": {},
   "outputs": [],
   "source": []
  }
 ],
 "metadata": {
  "kernelspec": {
   "display_name": "Python 3 (ipykernel)",
   "language": "python",
   "name": "python3"
  },
  "language_info": {
   "codemirror_mode": {
    "name": "ipython",
    "version": 3
   },
   "file_extension": ".py",
   "mimetype": "text/x-python",
   "name": "python",
   "nbconvert_exporter": "python",
   "pygments_lexer": "ipython3",
   "version": "3.9.7"
  }
 },
 "nbformat": 4,
 "nbformat_minor": 5
}
