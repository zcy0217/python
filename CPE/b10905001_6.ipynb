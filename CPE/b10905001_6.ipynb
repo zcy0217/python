{
 "cells": [
  {
   "cell_type": "code",
   "execution_count": 6,
   "id": "e83b03f3",
   "metadata": {},
   "outputs": [
    {
     "name": "stdout",
     "output_type": "stream",
     "text": [
      "10 20\n",
      "10 20 21\n",
      "\n"
     ]
    }
   ],
   "source": [
    "def algorithm(num):\n",
    "    count=0\n",
    "    count+=1\n",
    "    while num!=1:\n",
    "        count+=1\n",
    "        if num%2!=0:\n",
    "            num=3*num+1\n",
    "        else:\n",
    "            num=num/2\n",
    "    return count\n",
    "\n",
    "while True:\n",
    "    try:\n",
    "        length=[]\n",
    "        a,b=map(int,input().split())\n",
    "        for i in range(min(a,b),max(a,b)+1):\n",
    "            length.append(algorithm(i))\n",
    "        print(f\"{a} {b} {max(length)}\")\n",
    "    except Exception:\n",
    "        break"
   ]
  },
  {
   "cell_type": "code",
   "execution_count": null,
   "id": "2a660961",
   "metadata": {},
   "outputs": [],
   "source": []
  }
 ],
 "metadata": {
  "kernelspec": {
   "display_name": "Python 3 (ipykernel)",
   "language": "python",
   "name": "python3"
  },
  "language_info": {
   "codemirror_mode": {
    "name": "ipython",
    "version": 3
   },
   "file_extension": ".py",
   "mimetype": "text/x-python",
   "name": "python",
   "nbconvert_exporter": "python",
   "pygments_lexer": "ipython3",
   "version": "3.8.16"
  }
 },
 "nbformat": 4,
 "nbformat_minor": 5
}
