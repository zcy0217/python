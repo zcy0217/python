{
 "cells": [
  {
   "cell_type": "code",
   "execution_count": 5,
   "id": "49ebd82a",
   "metadata": {},
   "outputs": [
    {
     "name": "stdout",
     "output_type": "stream",
     "text": [
      "1 10\n",
      "1 10 20\n",
      "100 200\n",
      "100 200 125\n",
      "201 210\n",
      "201 210 89\n",
      "900 1000\n",
      "900 1000 174\n",
      "1000 900\n",
      "1000 900 174\n",
      "\n"
     ]
    },
    {
     "ename": "ValueError",
     "evalue": "not enough values to unpack (expected 2, got 0)",
     "output_type": "error",
     "traceback": [
      "\u001b[1;31m---------------------------------------------------------------------------\u001b[0m",
      "\u001b[1;31mValueError\u001b[0m                                Traceback (most recent call last)",
      "Cell \u001b[1;32mIn[5], line 15\u001b[0m\n\u001b[0;32m     13\u001b[0m \u001b[38;5;28;01mtry\u001b[39;00m:\n\u001b[0;32m     14\u001b[0m     length\u001b[38;5;241m=\u001b[39m[]\n\u001b[1;32m---> 15\u001b[0m     a,b\u001b[38;5;241m=\u001b[39m\u001b[38;5;28mmap\u001b[39m(\u001b[38;5;28mint\u001b[39m,\u001b[38;5;28minput\u001b[39m()\u001b[38;5;241m.\u001b[39msplit())\n\u001b[0;32m     16\u001b[0m     \u001b[38;5;28;01mfor\u001b[39;00m i \u001b[38;5;129;01min\u001b[39;00m \u001b[38;5;28mrange\u001b[39m(\u001b[38;5;28mmin\u001b[39m(a,b),\u001b[38;5;28mmax\u001b[39m(a,b)\u001b[38;5;241m+\u001b[39m\u001b[38;5;241m1\u001b[39m):\n\u001b[0;32m     17\u001b[0m         length\u001b[38;5;241m.\u001b[39mappend(algorithm(i))\n",
      "\u001b[1;31mValueError\u001b[0m: not enough values to unpack (expected 2, got 0)"
     ]
    }
   ],
   "source": [
    "def algorithm(num):\n",
    "    count=0\n",
    "    count+=1\n",
    "    while num!=1:\n",
    "        count+=1\n",
    "        if num%2!=0:\n",
    "            num=3*num+1\n",
    "        else:\n",
    "            num=num/2\n",
    "    return count\n",
    "\n",
    "while True:\n",
    "    try:\n",
    "        length=[]\n",
    "        a,b=map(int,input().split())\n",
    "        for i in range(min(a,b),max(a,b)+1):\n",
    "            length.append(algorithm(i))\n",
    "        print(f\"{a} {b} {max(length)}\")\n",
    "    except EOFError:\n",
    "        break"
   ]
  },
  {
   "cell_type": "code",
   "execution_count": 6,
   "id": "e83b03f3",
   "metadata": {},
   "outputs": [
    {
     "name": "stdout",
     "output_type": "stream",
     "text": [
      "10 20\n",
      "10 20 21\n",
      "\n"
     ]
    }
   ],
   "source": [
    "def algorithm(num):\n",
    "    count=0\n",
    "    count+=1\n",
    "    while num!=1:\n",
    "        count+=1\n",
    "        if num%2!=0:\n",
    "            num=3*num+1\n",
    "        else:\n",
    "            num=num/2\n",
    "    return count\n",
    "\n",
    "while True:\n",
    "    try:\n",
    "        length=[]\n",
    "        a,b=map(int,input().split())\n",
    "        for i in range(min(a,b),max(a,b)+1):\n",
    "            length.append(algorithm(i))\n",
    "        print(f\"{a} {b} {max(length)}\")\n",
    "    except Exception:\n",
    "        break"
   ]
  },
  {
   "cell_type": "code",
   "execution_count": null,
   "id": "2a660961",
   "metadata": {},
   "outputs": [],
   "source": []
  }
 ],
 "metadata": {
  "kernelspec": {
   "display_name": "Python 3 (ipykernel)",
   "language": "python",
   "name": "python3"
  },
  "language_info": {
   "codemirror_mode": {
    "name": "ipython",
    "version": 3
   },
   "file_extension": ".py",
   "mimetype": "text/x-python",
   "name": "python",
   "nbconvert_exporter": "python",
   "pygments_lexer": "ipython3",
   "version": "3.8.16"
  }
 },
 "nbformat": 4,
 "nbformat_minor": 5
}
