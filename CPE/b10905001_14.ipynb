{
 "cells": [
  {
   "cell_type": "code",
   "execution_count": null,
   "id": "ee2d1862",
   "metadata": {},
   "outputs": [],
   "source": [
    "#UVa11321"
   ]
  },
  {
   "cell_type": "code",
   "execution_count": 57,
   "id": "e5dd8409",
   "metadata": {},
   "outputs": [
    {
     "name": "stdout",
     "output_type": "stream",
     "text": [
      "12 5\n",
      "10\n",
      "13\n",
      "16\n",
      "19\n",
      "22\n",
      "25\n",
      "28\n",
      "31\n",
      "34\n",
      "37\n",
      "40\n",
      "43\n",
      "0 0\n",
      "12 5\n",
      "25\n",
      "10\n",
      "40\n",
      "31\n",
      "16\n",
      "37\n",
      "22\n",
      "43\n",
      "13\n",
      "28\n",
      "19\n",
      "34\n",
      "0 0\n"
     ]
    }
   ],
   "source": [
    "n,m=map(int,input().split())\n",
    "numlist,ans=[],[]\n",
    "while True:\n",
    "    try:\n",
    "        num=int(input()) #輸入0 0會有錯誤，所以用try except來解決\n",
    "        numlist.append(num)\n",
    "    except Exception:\n",
    "        break\n",
    "numlistdict={}\n",
    "for i in numlist:\n",
    "    numlistdict[i]=i%m\n",
    "minmod,maxmod=min(numlistdict.values()),max(numlistdict.values())\n",
    "numlistdictlist=[(k,v) for k,v in numlistdict.items()]\n",
    "while minmod<=maxmod:\n",
    "    tempodd,tempeven=[],[]\n",
    "    for i in range(len(numlistdictlist)):\n",
    "        if numlistdictlist[i][1]==minmod:\n",
    "            if numlistdictlist[i][0]%2==1:\n",
    "                tempodd.append(numlistdictlist[i][0])\n",
    "                tempodd.sort(reverse=True)\n",
    "            else:\n",
    "                tempeven.append(numlistdictlist[i][0])\n",
    "                tempeven.sort(reverse=False)\n",
    "    ans.extend(tempodd)\n",
    "    ans.extend(tempeven)\n",
    "    minmod+=1\n",
    "print(f\"{n} {m}\")\n",
    "for i in ans:\n",
    "    print(i)\n",
    "print(\"0 0\")"
   ]
  },
  {
   "cell_type": "code",
   "execution_count": 58,
   "id": "7e4107ca",
   "metadata": {},
   "outputs": [
    {
     "name": "stdout",
     "output_type": "stream",
     "text": [
      "[10, 13, 16, 19, 22, 25, 28, 31, 34, 37, 40, 43]\n"
     ]
    }
   ],
   "source": [
    "print(numlist)"
   ]
  },
  {
   "cell_type": "code",
   "execution_count": 59,
   "id": "9003a9e8",
   "metadata": {},
   "outputs": [
    {
     "name": "stdout",
     "output_type": "stream",
     "text": [
      "[(10, 0), (13, 3), (16, 1), (19, 4), (22, 2), (25, 0), (28, 3), (31, 1), (34, 4), (37, 2), (40, 0), (43, 3)]\n"
     ]
    }
   ],
   "source": [
    "print(numlistdictlist)"
   ]
  },
  {
   "cell_type": "code",
   "execution_count": 60,
   "id": "230dec3c",
   "metadata": {},
   "outputs": [
    {
     "name": "stdout",
     "output_type": "stream",
     "text": [
      "{10: 0, 13: 3, 16: 1, 19: 4, 22: 2, 25: 0, 28: 3, 31: 1, 34: 4, 37: 2, 40: 0, 43: 3}\n"
     ]
    }
   ],
   "source": [
    "print(numlistdict)"
   ]
  }
 ],
 "metadata": {
  "kernelspec": {
   "display_name": "Python 3 (ipykernel)",
   "language": "python",
   "name": "python3"
  },
  "language_info": {
   "codemirror_mode": {
    "name": "ipython",
    "version": 3
   },
   "file_extension": ".py",
   "mimetype": "text/x-python",
   "name": "python",
   "nbconvert_exporter": "python",
   "pygments_lexer": "ipython3",
   "version": "3.9.7"
  }
 },
 "nbformat": 4,
 "nbformat_minor": 5
}
