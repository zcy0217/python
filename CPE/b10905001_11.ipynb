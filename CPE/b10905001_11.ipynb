{
 "cells": [
  {
   "cell_type": "code",
   "execution_count": null,
   "id": "8e8f2aaf",
   "metadata": {},
   "outputs": [],
   "source": [
    "#10101 bangla numbers"
   ]
  },
  {
   "cell_type": "code",
   "execution_count": 42,
   "id": "f2446c19",
   "metadata": {},
   "outputs": [
    {
     "name": "stdout",
     "output_type": "stream",
     "text": [
      "23764\n",
      "   1. 23 hajar 7 shata 64\n",
      "45897458973958\n",
      "   2. 45 lakh 89 hajar 7 shata 45 kuti 89 lakh 73 hajar 9 shata 58\n",
      "\n"
     ]
    }
   ],
   "source": [
    "count=1  \n",
    "def bangla(x):  \n",
    "    if x>10000000:  \n",
    "        print(f\"{x//10000000} kuti\",end=\"\")  \n",
    "        x=x%10000000  \n",
    "        if x!=0:  \n",
    "            print(\" \",end=\"\")  \n",
    "    if x>100000:  \n",
    "        print(f\"{x//100000} lakh\",end=\"\")  \n",
    "        x=x%100000  \n",
    "        if x!=0:  \n",
    "            print(\" \",end=\"\")  \n",
    "    if x>1000:  \n",
    "        print(f\"{x//1000} hajar\",end=\"\")  \n",
    "        x=x%1000  \n",
    "        if x!=0:  \n",
    "            print(\" \",end=\"\")  \n",
    "    if x>=100:  \n",
    "        print(f\"{x//100} shata\",end=\"\")  \n",
    "        x=x%100  \n",
    "        if x!=0:  \n",
    "            print(f\" {x}\",end=\"\")  \n",
    "    elif 0<x<100:  \n",
    "        print(f\"{x%100}\",end=\"\")  \n",
    "while True:  \n",
    "    try:  \n",
    "        num=int(input())  \n",
    "        print(\"%4d. \"%count,end=\"\")  \n",
    "        if num<100:  \n",
    "            print(num,end=\"\")  \n",
    "        else:                 \n",
    "            if len(str(num))<=7:  \n",
    "                bangla(num)  \n",
    "            elif 7<len(str(num))<=15:  \n",
    "                bangla(num//10000000)  \n",
    "                print(\" kuti\",end=\"\")  \n",
    "                if num%10000000==0:  \n",
    "                    print()  \n",
    "                    count+=1  \n",
    "                    continue  \n",
    "                else:  \n",
    "                    print(\" \",end=\"\")  \n",
    "                    bangla(num%10000000)  \n",
    "        print()  \n",
    "        count+=1  \n",
    "    except Exception:  \n",
    "        break  "
   ]
  },
  {
   "cell_type": "code",
   "execution_count": null,
   "id": "8a2fc14c",
   "metadata": {},
   "outputs": [],
   "source": []
  }
 ],
 "metadata": {
  "kernelspec": {
   "display_name": "Python 3 (ipykernel)",
   "language": "python",
   "name": "python3"
  },
  "language_info": {
   "codemirror_mode": {
    "name": "ipython",
    "version": 3
   },
   "file_extension": ".py",
   "mimetype": "text/x-python",
   "name": "python",
   "nbconvert_exporter": "python",
   "pygments_lexer": "ipython3",
   "version": "3.8.16"
  }
 },
 "nbformat": 4,
 "nbformat_minor": 5
}
