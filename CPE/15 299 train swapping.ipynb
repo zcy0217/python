{
 "cells": [
  {
   "cell_type": "code",
   "execution_count": null,
   "id": "246dae4f",
   "metadata": {},
   "outputs": [],
   "source": [
    "# 299 train swapping"
   ]
  },
  {
   "cell_type": "code",
   "execution_count": 7,
   "id": "1d4e9737",
   "metadata": {},
   "outputs": [
    {
     "name": "stdout",
     "output_type": "stream",
     "text": [
      "3\n",
      "3\n",
      "1 3 2\n",
      "Optimal train swapping takes 1 swaps.\n",
      "4\n",
      "4 3 2 1\n",
      "Optimal train swapping takes 6 swaps.\n",
      "2\n",
      "2 1\n",
      "Optimal train swapping takes 1 swaps.\n"
     ]
    }
   ],
   "source": [
    "time=int(input())     \n",
    "for i in range(time):\n",
    "    num=input()\n",
    "    num=list(map(int,input().split()))\n",
    "    count=0\n",
    "    n = len(num)\n",
    "    for i in range(n-1):                  \n",
    "        for j in range(n-i-1):            \n",
    "            if num[j] > num[j+1]:        \n",
    "                num[j],num[j+1] = num[j+1],num[j]\n",
    "                count+=1\n",
    "    print(f\"Optimal train swapping takes {count} swaps.\")"
   ]
  },
  {
   "cell_type": "code",
   "execution_count": null,
   "id": "88ed892f",
   "metadata": {},
   "outputs": [],
   "source": []
  }
 ],
 "metadata": {
  "kernelspec": {
   "display_name": "Python 3 (ipykernel)",
   "language": "python",
   "name": "python3"
  },
  "language_info": {
   "codemirror_mode": {
    "name": "ipython",
    "version": 3
   },
   "file_extension": ".py",
   "mimetype": "text/x-python",
   "name": "python",
   "nbconvert_exporter": "python",
   "pygments_lexer": "ipython3",
   "version": "3.8.16"
  }
 },
 "nbformat": 4,
 "nbformat_minor": 5
}
