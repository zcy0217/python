{
 "cells": [
  {
   "cell_type": "code",
   "execution_count": null,
   "id": "d529d4e1",
   "metadata": {},
   "outputs": [],
   "source": [
    "key = { '2':'`', '3':'1', '4':'2', '5':'3', '6':'4', '7':'5', '8':'6', '9':'7', '0':'8', '-':'9', '=':'0',\n",
    "        'e':'q', 'r':'w', 't':'e', 'y':'r', 'u':'t', 'i':'y', 'o':'u', 'p':'i', '[':'o', ']':'p', '\\\\':'[',\n",
    "        'd':'a', 'f':'s', 'g':'d', 'h':'f', 'j':'g', 'k':'h', 'l':'j', ';':'k', '\\'':'l',\n",
    "        'c':'z', 'v':'x', 'b':'c', 'n':'v', 'm':'b', ',':'n', '.':'m', '/':','}\n",
    "word = list(input())\n",
    "for i in word:\n",
    "    if i==' ':\n",
    "        print(' ',end='')\n",
    "    else:\n",
    "        if i.isupper():\n",
    "            i=i.lower()\n",
    "            print(key[i],end='')\n",
    "        else:    \n",
    "            print(key[i],end='')\n",
    "print()"
   ]
  }
 ],
 "metadata": {
  "kernelspec": {
   "display_name": "Python 3 (ipykernel)",
   "language": "python",
   "name": "python3"
  },
  "language_info": {
   "codemirror_mode": {
    "name": "ipython",
    "version": 3
   },
   "file_extension": ".py",
   "mimetype": "text/x-python",
   "name": "python",
   "nbconvert_exporter": "python",
   "pygments_lexer": "ipython3",
   "version": "3.8.16"
  }
 },
 "nbformat": 4,
 "nbformat_minor": 5
}
