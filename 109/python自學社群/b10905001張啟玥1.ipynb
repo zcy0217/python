{
  "nbformat": 4,
  "nbformat_minor": 0,
  "metadata": {
    "colab": {
      "name": "「109-2_Python自學社課1_Review.ipynb」的副本",
      "provenance": [],
      "collapsed_sections": []
    },
    "kernelspec": {
      "name": "python3",
      "display_name": "Python 3"
    },
    "language_info": {
      "name": "python"
    }
  },
  "cells": [
    {
      "cell_type": "code",
      "metadata": {
        "colab": {
          "base_uri": "https://localhost:8080/"
        },
        "id": "JkhMSmWvxi4n",
        "outputId": "bbc24b87-70ed-454e-8003-12ecc7f81fcd"
      },
      "source": [
        "\"\"\"\n",
        "<算數運算符>\n",
        "+\t-- 加\n",
        "-\t-- 減\n",
        "*\t-- 乘\n",
        "/ -- 除\n",
        "% -- 取餘數\n",
        "** -- 冪次方(返回x的y次冪)\n",
        "// -- 取整除(返回商的向下整数部分)\n",
        "\n",
        "<賦值運算符>\n",
        "上方的算數運算符後加上=\n",
        "\"\"\"\n",
        "\n",
        "a = 3\n",
        "b = 10\n",
        "c = 5\n",
        "\n",
        "b /= a #b = b/a\n",
        "print(\"1.\", b)\n",
        "\n",
        "c %= a #c = c%a\n",
        "print(\"2.\", c)\n",
        "\n",
        "c **= a #c=c**a\n",
        "print(\"3.\", c)\n",
        "\n",
        "c //= a #c=c//a\n",
        "print(\"4.\", c)"
      ],
      "execution_count": null,
      "outputs": [
        {
          "output_type": "stream",
          "text": [
            "1. 3.3333333333333335\n",
            "2. 2\n",
            "3. 8\n",
            "4. 2\n"
          ],
          "name": "stdout"
        }
      ]
    },
    {
      "cell_type": "code",
      "metadata": {
        "colab": {
          "base_uri": "https://localhost:8080/"
        },
        "id": "6tsUQshpxm3T",
        "outputId": "3bba1df8-de67-47b6-c68f-39e0d1895baa"
      },
      "source": [
        "\"\"\"\n",
        "<input()語法>\n",
        "input([prompt])\n",
        "prompt -- 提示信息 #python3中input值為str型態\n",
        "\"\"\"\n",
        "age=input('how old are you?')\n",
        "print(type(age))\n",
        "\n",
        "print(\"你現在\"+age+\"歲\") #字串加字串\n",
        "\n"
      ],
      "execution_count": null,
      "outputs": [
        {
          "output_type": "stream",
          "text": [
            "how old are you?20\n",
            "<class 'str'>\n",
            "你現在20歲\n"
          ],
          "name": "stdout"
        }
      ]
    },
    {
      "cell_type": "code",
      "metadata": {
        "colab": {
          "base_uri": "https://localhost:8080/"
        },
        "id": "gEjP9jlXgQd_",
        "outputId": "69964296-0ac0-4a9a-fc26-c5964b820131"
      },
      "source": [
        "\"\"\"\n",
        "<比較運算符>\n",
        "== -- 等於\n",
        "!= -- 不等於\n",
        "<> -- 不等於 - 比较兩個對象是否不相等，類似 !=\n",
        ">= -- 大於等於\n",
        "<= -- 小於等於\n",
        "\n",
        "<邏輯運算符>\n",
        "and -- 和、且\n",
        "or -- 或\n",
        "not -- 非\n",
        "\n",
        "<身分運算符>\n",
        "is -- 判斷兩個變量是不是引用自一個對象,類似==\n",
        "is not -- 判斷兩個變量是不是引用自不同對象,類似!=\n",
        "\"\"\"\n",
        "print(10 is 10)\n",
        "print(10 is not 10)\n",
        "\n",
        "a=\"kai\"\n",
        "print(a!=\"kai\")"
      ],
      "execution_count": null,
      "outputs": [
        {
          "output_type": "stream",
          "text": [
            "True\n",
            "False\n",
            "False\n"
          ],
          "name": "stdout"
        }
      ]
    },
    {
      "cell_type": "markdown",
      "metadata": {
        "id": "Yh5A2LSCxHQG"
      },
      "source": [
        "補充"
      ]
    },
    {
      "cell_type": "code",
      "metadata": {
        "colab": {
          "base_uri": "https://localhost:8080/"
        },
        "id": "pQ5XgW4OsQGQ",
        "outputId": "f07ab877-79bf-43be-d926-97f248a6ee3e"
      },
      "source": [
        "\"\"\"\n",
        "<格式化輸出>\n",
        "\"\"\"\n",
        "A = 123.45221\n",
        "print(\"%[修飾字元][寬度][.小數位數]型別字元\")\n",
        "print(\"%.7f\"%A) #f=float 7=小數位數7位,不足補0\n",
        "\n",
        "B = \"abcdef\"\n",
        "print(\"%.6s\"%B) #s=str\n",
        "\n",
        "C = \"www.%s.com\"%\"zhihu\" #字符串\n",
        "print(C)"
      ],
      "execution_count": null,
      "outputs": [
        {
          "output_type": "stream",
          "text": [
            "%[修飾字元][寬度][.小數位數]型別字元\n",
            "123.4522100\n",
            "abcdef\n",
            "www.zhihu.com\n"
          ],
          "name": "stdout"
        }
      ]
    },
    {
      "cell_type": "code",
      "metadata": {
        "colab": {
          "base_uri": "https://localhost:8080/"
        },
        "id": "2wyivPGwxFEu",
        "outputId": "6526ec34-720d-41ed-ff1b-690399c5af62"
      },
      "source": [
        "'''\n",
        "相對基本格式化輸出採用‘%’的方法\n",
        "format()功能更強大，該函式把字串當成一個模板，通過傳入的引數進行格式化\n",
        "並且使用大括號‘{}’作為特殊字元代替‘%’\n",
        "'''\n",
        "\n",
        "print('{} {}'.format('hello','world'))  #不帶欄位\n",
        "print('{0} {1} {0}'.format('hello','world'))  #打亂順序 像list的取位子\n",
        "print('{a} {tom} {a}'.format(tom='hello',a='world'))  #帶關鍵字\n",
        "print('{:.1f} is {:.3f}'.format(1.123,1.123))  #取3位小數"
      ],
      "execution_count": null,
      "outputs": [
        {
          "output_type": "stream",
          "text": [
            "hello world\n",
            "hello world hello\n",
            "world hello world\n",
            "1.1 is 1.123\n"
          ],
          "name": "stdout"
        }
      ]
    },
    {
      "cell_type": "code",
      "metadata": {
        "id": "p9HJB41Tq3NB",
        "colab": {
          "base_uri": "https://localhost:8080/"
        },
        "outputId": "f6d5590f-57e9-43ac-82e4-a2cbe9236935"
      },
      "source": [
        "'''\n",
        "<list>\n",
        "創建方法: \n",
        "  >>> list_Name = [value,'str',.....]\n",
        "  >>> list_Name = list()\n",
        "\n",
        "list使用規則：\n",
        "  >>> 字串型態需在兩側加上 “”\n",
        "  >>> 每個元素間隔必須以逗號相隔\n",
        "  >>> list_Name 不能是數字\n",
        "\n",
        "list使用方法：  \n",
        "  >>> list_Name[Value]\n",
        "\n",
        "list語法*2：\n",
        "  >>>Append :在列表末加上元素\n",
        "  list_Name.append()\n",
        "\n",
        "  >>>Insert：在列表中某索引位置加入元素\n",
        "  list_Name.insert(index,value)\n",
        "  \n",
        "'''\n",
        "\n",
        "text_list1 = ['0','1','2','3','4','6','7','8','9','10'] #str\n",
        "text_list1.insert(5,'5')\n",
        "\n",
        "text_list2 = list()\n",
        "for i in range(11): #int\n",
        "  text_list2.append(i)\n",
        "\n",
        "print(text_list1) #str\n",
        "print(text_list2) #int\n",
        "print(text_list1 == text_list2)"
      ],
      "execution_count": null,
      "outputs": [
        {
          "output_type": "stream",
          "text": [
            "['0', '1', '2', '3', '4', '5', '6', '7', '8', '9', '10']\n",
            "[0, 1, 2, 3, 4, 5, 6, 7, 8, 9, 10]\n",
            "False\n"
          ],
          "name": "stdout"
        }
      ]
    },
    {
      "cell_type": "code",
      "metadata": {
        "colab": {
          "base_uri": "https://localhost:8080/"
        },
        "id": "UMriYwbM6oKv",
        "outputId": "50fba326-71d5-435d-f282-095574f08fc3"
      },
      "source": [
        "'''\n",
        "<dictionary>\n",
        "創建方法：\n",
        "  >>> dict_Name = { Key1 : Value1 , Key2 : Value2 ,......}\n",
        "使用方法：\n",
        "  >>> dict_Name[Key]\n",
        "語法：\n",
        "  >>> 修改\n",
        "  dict_Name[Key] = new_Value\n",
        "  >>> 添加 dict_Name[Key] = Value\n",
        "  >>> 刪除 Del dict_Name[Key]\n",
        "\n",
        "'''\n",
        "\n",
        "test_dict= {'Name':'Eden','Age':21}\n",
        "test_dict['Name'] = 'Tom'\n",
        "test_dict['School'] = 'CTBC'\n",
        "print(test_dict)"
      ],
      "execution_count": null,
      "outputs": [
        {
          "output_type": "stream",
          "text": [
            "{'Name': 'Tom', 'Age': 21, 'School': 'CTBC'}\n"
          ],
          "name": "stdout"
        }
      ]
    },
    {
      "cell_type": "markdown",
      "metadata": {
        "id": "ws9qb5bS_Rrq"
      },
      "source": [
        "補充"
      ]
    },
    {
      "cell_type": "code",
      "metadata": {
        "colab": {
          "base_uri": "https://localhost:8080/"
        },
        "id": "bWplExwD9efS",
        "outputId": "9607a3c3-52f8-478c-c820-67cdad595eba"
      },
      "source": [
        "'''\n",
        "在使用list dictionary 時需注意～\n",
        "當你想改變 list 裡的值，卻想保留原始資料時，不能直接使用 \"=\"\n",
        "'''\n",
        "#錯誤範例：有一筆重要的資料，你想修改數據，但資料不能丟失\n",
        "important_info = ['1','2','3','4']\n",
        "my_list = important_info\n",
        "my_list.append(['4','3','2','1'])\n",
        "print('my_list = ',my_list)\n",
        "print('important_info = ',important_info)\n",
        "print('\\n','================================================','\\n')\n",
        "\n",
        "#正確方法：\n",
        "important_info = ['1','2','3','4']\n",
        "my_list = important_info.copy()\n",
        "my_list.append(['4','3','2','1'])\n",
        "print('my_list = ',my_list)\n",
        "print('important_info = ',important_info)"
      ],
      "execution_count": null,
      "outputs": [
        {
          "output_type": "stream",
          "text": [
            "my_list =  ['1', '2', '3', '4', ['4', '3', '2', '1']]\n",
            "important_info =  ['1', '2', '3', '4', ['4', '3', '2', '1']]\n",
            "\n",
            " ================================================ \n",
            "\n",
            "my_list =  ['1', '2', '3', '4', ['4', '3', '2', '1']]\n",
            "important_info =  ['1', '2', '3', '4']\n"
          ],
          "name": "stdout"
        }
      ]
    },
    {
      "cell_type": "code",
      "metadata": {
        "id": "QWlrC4eWDAfP"
      },
      "source": [
        "'''\n",
        "dictionary 也有同樣性質，如果要複製dictionary 必須使用\n",
        ">>> dic2 = dic1.copy()\n",
        "'''"
      ],
      "execution_count": null,
      "outputs": []
    },
    {
      "cell_type": "markdown",
      "metadata": {
        "id": "4NfdzlJLzuS5"
      },
      "source": [
        "作業"
      ]
    },
    {
      "cell_type": "code",
      "metadata": {
        "id": "l6kYC0Nm3YpY"
      },
      "source": [
        "\"\"\"\n",
        "第一題\n",
        "請同學設計出一套可供使用者輸入數值的系統來算出小明的每日操作中信金的損益(假設小名每次操作都是當沖，並不考慮手續費&稅)\n",
        "題目範例：\n",
        "星期一 ：買18.35 , 3000股；\n",
        "     賣18.55 , 3000股\n",
        "星期三 ：買17.75 , 5000股；\n",
        "     賣18.15 , 5000股\n",
        "星期五 ：買19.75 , 2500股；\n",
        "     賣19.30 , 2500股\n",
        "\n",
        "問題：\n",
        "1.設計出一套可供使用者輸入數值的系統\n",
        "2.算出星期一、星期三和星期五各自的損益\n",
        "  (三個答案請斷行)\n",
        "\n",
        "3.請算出這三天的總損益\n",
        "\"\"\""
      ],
      "execution_count": null,
      "outputs": []
    },
    {
      "cell_type": "code",
      "metadata": {
        "id": "qjjQ_TMi7VoB",
        "colab": {
          "base_uri": "https://localhost:8080/"
        },
        "outputId": "c18d816a-3c74-45c4-ccfa-b634369ebaba"
      },
      "source": [
        "p1=eval(input('星期一買:'))\n",
        "s1=eval(input('股數:'))\n",
        "p2=eval(input('星期一賣:'))\n",
        "s2=eval(input('股數:'))\n",
        "p3=eval(input('星期二買:'))\n",
        "s3=eval(input('股數:'))\n",
        "p4=eval(input('星期二賣:'))\n",
        "s4=eval(input('股數:'))\n",
        "p5=eval(input('星期三買:'))\n",
        "s5=eval(input('股數:'))\n",
        "p6=eval(input('星期三賣:'))\n",
        "s6=eval(input('股數:'))\n",
        "print('\\n')\n",
        "print('星期一損益',p2*s2-p1*s1)\n",
        "print('星期三損益',p4*s4-p3*s3)\n",
        "print('星期五損益',p6*s6-p5*s5)\n",
        "print('\\n')\n",
        "print('總損益:',p2*s2-p1*s1+p4*s4-p3*s3+p6*s6-p5*s5)"
      ],
      "execution_count": null,
      "outputs": [
        {
          "output_type": "stream",
          "text": [
            "星期一買:18.35\n",
            "股數:3000\n",
            "星期一賣:18.55\n",
            "股數:3000\n",
            "星期二買:17.75\n",
            "股數:5000\n",
            "星期二賣:18.15\n",
            "股數:5000\n",
            "星期三買:19.75\n",
            "股數:2500\n",
            "星期三賣:19.30\n",
            "股數:2500\n",
            "\n",
            "\n",
            "星期一損益 599.9999999999927\n",
            "星期三損益 2000.0\n",
            "星期五損益 -1125.0\n",
            "\n",
            "\n",
            "總損益: 1475.0\n"
          ],
          "name": "stdout"
        }
      ]
    },
    {
      "cell_type": "code",
      "metadata": {
        "id": "wOq71KD_-ktr"
      },
      "source": [
        "\"\"\"\n",
        "第二題\n",
        "# 創建一個dictionary 並將下列兩個 list 的值存入 dictionary \n",
        "Name = ['Eden' , 'Sylvia' , 'John' , 'Harvey' , 'Lin']\n",
        "Height = [177 , 168 , 183 , 177 , 158] \n",
        "# 進階 >> 用一個迴圈完成上題。提示：for i in range(5) \n",
        "\"\"\"\n"
      ],
      "execution_count": null,
      "outputs": []
    },
    {
      "cell_type": "code",
      "metadata": {
        "id": "9QxgPAZQ7WJR",
        "colab": {
          "base_uri": "https://localhost:8080/"
        },
        "outputId": "bb1de010-1765-4165-9f8c-82131ad03805"
      },
      "source": [
        "dict1={'Eden':177,'Sylvia':168,'John':183,'Harvey':177,'Lin':158}\n",
        "print(dict1)\n",
        "\n",
        "dict2={}\n",
        "Name = ['Eden' , 'Sylvia' , 'John' , 'Harvey' , 'Lin']\n",
        "Height = [177 , 168 , 183 , 177 , 158]\n",
        "for i in range(5):\n",
        "  dict2[Name[i]]=[Height[i]]\n",
        "print(dict2) "
      ],
      "execution_count": null,
      "outputs": [
        {
          "output_type": "stream",
          "text": [
            "{'Eden': 177, 'Sylvia': 168, 'John': 183, 'Harvey': 177, 'Lin': 158}\n",
            "{'Eden': [177], 'Sylvia': [168], 'John': [183], 'Harvey': [177], 'Lin': [158]}\n"
          ],
          "name": "stdout"
        }
      ]
    }
  ]
}