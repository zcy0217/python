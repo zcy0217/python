{
  "nbformat": 4,
  "nbformat_minor": 0,
  "metadata": {
    "colab": {
      "name": "「109-2_Python自學社課2_條件判斷與迴圈.ipynb」的副本",
      "provenance": [],
      "collapsed_sections": []
    },
    "kernelspec": {
      "name": "python3",
      "display_name": "Python 3"
    },
    "language_info": {
      "name": "python"
    }
  },
  "cells": [
    {
      "cell_type": "markdown",
      "metadata": {
        "id": "WNClSMJROZUS"
      },
      "source": [
        "# 貼心提醒:記得要先開啟副本喔(檔案-->在雲端硬碟中開啟副本)"
      ]
    },
    {
      "cell_type": "code",
      "metadata": {
        "id": "-TndnQVoOEVm",
        "colab": {
          "base_uri": "https://localhost:8080/"
        },
        "outputId": "d3164b25-1190-4b36-cef0-f89f5d6fce53"
      },
      "source": [
        "\"\"\"\n",
        "為了節能減碳，政府規定：氣溫高於28度時才可開冷氣。\n",
        "請設計一個演算法，輸入現在氣溫後，便顯示現在是否可以開冷氣或現在氣溫舒適等文字。\n",
        "\"\"\"\n",
        "\n",
        "Temperature = int(input(\"請輸入現在氣溫：\"))\n",
        "\n",
        "if Temperature > 28:        #若氣溫高於28度\n",
        "    print(\"氣溫高於28度，可開啟冷氣。\")\n",
        "else:                                #若氣溫非高於28度\n",
        "    print(\"氣溫舒適，請避免開啟冷氣機。\")"
      ],
      "execution_count": null,
      "outputs": [
        {
          "output_type": "stream",
          "text": [
            "請輸入現在氣溫：28\n",
            "氣溫舒適，請避免開啟冷氣機。\n"
          ],
          "name": "stdout"
        }
      ]
    },
    {
      "cell_type": "code",
      "metadata": {
        "id": "te8hFkunOQoG"
      },
      "source": [
        "\n",
        "# 下面是將輸入成績區分為 A, B, C, D 和 F 等 5 個等級的例子：\n",
        "\n",
        "\n",
        "score = int(input(\"score: \"))\n",
        "\n",
        "if score >= 90:\n",
        "    print('Grade is: A')\n",
        "    \n",
        "elif score >= 80:\n",
        "    print('Grade is: B')\n",
        "    \n",
        "elif score >= 70:\n",
        "    print('Grade is: C')\n",
        "    \n",
        "elif score >= 60:\n",
        "    print('Grade is: D')\n",
        "    \n",
        "else:\n",
        "    print('Grade is: F')"
      ],
      "execution_count": null,
      "outputs": []
    },
    {
      "cell_type": "code",
      "metadata": {
        "id": "UqNA-7w1OQl8"
      },
      "source": [
        "count = 0\n",
        "while count < 9:\n",
        "  print('The count is:', count)\n",
        "  count += 1\n",
        "print(\"Good bye!\")\n",
        "\n",
        "\"\"\"\n",
        "https://www.runoob.com/python/python-while-loop.html\n",
        "\"\"\""
      ],
      "execution_count": null,
      "outputs": []
    },
    {
      "cell_type": "code",
      "metadata": {
        "id": "8s1V394qOQjp"
      },
      "source": [
        "\"\"\"\n",
        "函式range()為Python的內建函式，回傳一個數字串列。\n",
        "range(start, stop, step)\n",
        "start -- 計數從start 開始。預設是從0 開始。例如range（5）等價於range（0,5）;\n",
        "stop -- 計數到stop 結束，但不包括stop。例如：range（0,5） 是[0, 1, 2, 3, 4]沒有5\n",
        "step -- 步長，預設為1。例如：range（0,5） 等於range(0, 5, 1)\n",
        "\"\"\"\n"
      ],
      "execution_count": null,
      "outputs": []
    },
    {
      "cell_type": "code",
      "metadata": {
        "id": "bnARuP-_OQhk"
      },
      "source": [
        "for i in range(5):\n",
        "    print(i)\n",
        "\n",
        "print(\"--\")\n",
        "\n",
        "for i in range(2,6):\n",
        "    print(i)\n",
        "\n",
        "print(\"----分隔線----\")\n",
        "\n",
        "#遞增或遞減\n",
        "for i in range(2,11,2):\n",
        "    print(i)\n",
        "    \n",
        "print(\"--\")\n",
        "\n",
        "for i in range(100,90,-3):\n",
        "    print(i)"
      ],
      "execution_count": null,
      "outputs": []
    },
    {
      "cell_type": "markdown",
      "metadata": {
        "id": "WZj5jwPC1aYb"
      },
      "source": [
        "# 以下有一個list   [1 , \"一\" , 2 , \"二\" , 3 , '三' , 4 , '四']\n",
        "請利用迴圈將國字數字打印出來\n"
      ]
    },
    {
      "cell_type": "code",
      "metadata": {
        "id": "mVjF-rKlPNrf"
      },
      "source": [
        "list1=[1,'一',2,'二',3,'三',4,'四']\n",
        "for i in range(1,len(list1),2):\n",
        "  print(list1[i])"
      ],
      "execution_count": null,
      "outputs": []
    },
    {
      "cell_type": "code",
      "metadata": {
        "id": "beY2jHF7OQfT"
      },
      "source": [
        "count = 0\n",
        "for i in range(30):\n",
        "    print('Now count is:',count,'for loop continue')\n",
        "    count += 1\n",
        "    if count >= 15 :\n",
        "        print('count equal 15','for loop stop')\n",
        "        break"
      ],
      "execution_count": null,
      "outputs": []
    },
    {
      "cell_type": "code",
      "metadata": {
        "id": "Yb6pdY6tOQc8"
      },
      "source": [
        "num = int(input(\"請輸入一個正整數: \"))\n",
        "factorial = 1\n",
        "for i in range(1,num+1): #range範圍從1到input的正整數+1\n",
        "    factorial*=i           #factorial就是階乘\n",
        "    print(i,'階層為：',factorial) \n",
        "print('\\n最終答案為:' , factorial) "
      ],
      "execution_count": null,
      "outputs": []
    },
    {
      "cell_type": "code",
      "metadata": {
        "id": "BPuXlbGR5PUk"
      },
      "source": [
        "\"\"\"\n",
        "《for迴圈》雙層for loop\n",
        "預設一個list = [4,5,1,3,2]，利用Bubble Sort(氣泡排序法)將其元素由小到大排列後輸出。\n",
        "Bubble Sort(氣泡排序法)：\n",
        "(1) 比較相鄰的兩個元素，若前面的元素較大就進行交換。\n",
        "(2) 重複進行(1)的動作直到最後面，最後一個元素將會是最大值。\n",
        "(3) 重複進行(1)、(2)的動作，每次比較到上一輪的前一個元素。\n",
        "(4) 重複進行以上動作直到沒有元素需要比較。\n",
        "\n",
        "p.s.若有n個數字，則需進行n-1個回合數。\n",
        "\n",
        "https://blog.csdn.net/weixin_41171061/article/details/106265643\n",
        "\"\"\"\n",
        "\n",
        "\n",
        "t = [4, 5, 1, 3, 2]\n",
        "for i in range(0,len(t)-1): #有n-1回合(n為數字個數)\n",
        "  for j in range(0,len(t)-1-i): #每回合進行比較的範圍\n",
        "    if (t[j]>t[j+1]): #是否需交換\n",
        "      t[j], t[j+1] = t[j+1], t[j]\n",
        "print(t)"
      ],
      "execution_count": null,
      "outputs": []
    },
    {
      "cell_type": "markdown",
      "metadata": {
        "id": "vErcnp54YImK"
      },
      "source": [
        "# 作業1: 請利用雙層迴圈製作出一個99乘法表"
      ]
    },
    {
      "cell_type": "code",
      "metadata": {
        "colab": {
          "base_uri": "https://localhost:8080/"
        },
        "id": "gotClaO0yWNY",
        "outputId": "d473e929-b4fa-48a4-a85a-2d644263685d"
      },
      "source": [
        "for i in range(1,10):\n",
        "  for j in range(1,10):\n",
        "    print('%d*%d=%2d'%(i,j,i*j),end='  ')\n",
        "  print()"
      ],
      "execution_count": 13,
      "outputs": [
        {
          "output_type": "stream",
          "text": [
            "1*1= 1  1*2= 2  1*3= 3  1*4= 4  1*5= 5  1*6= 6  1*7= 7  1*8= 8  1*9= 9  \n",
            "2*1= 2  2*2= 4  2*3= 6  2*4= 8  2*5=10  2*6=12  2*7=14  2*8=16  2*9=18  \n",
            "3*1= 3  3*2= 6  3*3= 9  3*4=12  3*5=15  3*6=18  3*7=21  3*8=24  3*9=27  \n",
            "4*1= 4  4*2= 8  4*3=12  4*4=16  4*5=20  4*6=24  4*7=28  4*8=32  4*9=36  \n",
            "5*1= 5  5*2=10  5*3=15  5*4=20  5*5=25  5*6=30  5*7=35  5*8=40  5*9=45  \n",
            "6*1= 6  6*2=12  6*3=18  6*4=24  6*5=30  6*6=36  6*7=42  6*8=48  6*9=54  \n",
            "7*1= 7  7*2=14  7*3=21  7*4=28  7*5=35  7*6=42  7*7=49  7*8=56  7*9=63  \n",
            "8*1= 8  8*2=16  8*3=24  8*4=32  8*5=40  8*6=48  8*7=56  8*8=64  8*9=72  \n",
            "9*1= 9  9*2=18  9*3=27  9*4=36  9*5=45  9*6=54  9*7=63  9*8=72  9*9=81  \n"
          ],
          "name": "stdout"
        }
      ]
    },
    {
      "cell_type": "markdown",
      "metadata": {
        "id": "vjJ1FdIXYTZq"
      },
      "source": [
        "# 作業2: 請設計出一個程式計算最大公因數GCD(輾轉相除法) m為被除數 n為除數 且m>n "
      ]
    },
    {
      "cell_type": "code",
      "metadata": {
        "colab": {
          "base_uri": "https://localhost:8080/"
        },
        "id": "ARTBgetyyW1r",
        "outputId": "10f2d769-9b1b-492c-eb34-5208c717a647"
      },
      "source": [
        "m=int(input('請輸入m:'))\n",
        "n=int(input('請輸入n:'))\n",
        "if m>n:\n",
        "  for i in range(1,m+1):\n",
        "    if((m%i==0)and(n%i==0)):\n",
        "      gcd=i         \n",
        "  print(m,\"和\",n,\"最大公因數=\",gcd)\n",
        "else:\n",
        "  m,n=n,m\n",
        "  for i in range(1,n+1):\n",
        "    if((m%i==0)and(n%i==0)):\n",
        "      gcd=i         \n",
        "  print(m,\"和\",n,\"最大公因數=\",gcd)"
      ],
      "execution_count": 25,
      "outputs": [
        {
          "output_type": "stream",
          "text": [
            "請輸入m:2\n",
            "請輸入n:4\n",
            "4 和 2 最大公因數= 2\n"
          ],
          "name": "stdout"
        }
      ]
    }
  ]
}