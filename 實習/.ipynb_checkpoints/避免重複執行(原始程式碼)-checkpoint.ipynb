{
 "cells": [
  {
   "cell_type": "code",
   "execution_count": 1,
   "id": "eae19ff5",
   "metadata": {},
   "outputs": [],
   "source": [
    "from langchain.llms import OpenAI\n",
    "from langchain.prompts import PromptTemplate\n",
    "from langchain.chains.llm import LLMChain\n",
    "from langchain.chains.constitutional_ai.base import ConstitutionalChain\n",
    "from langchain.chains.constitutional_ai.models import ConstitutionalPrinciple\n",
    "\n",
    "llm = OpenAI(temperature = 0, openai_api_key = \"\")"
   ]
  },
  {
   "cell_type": "code",
   "execution_count": 2,
   "id": "d581dfa0",
   "metadata": {},
   "outputs": [],
   "source": [
    "evil_qa_prompt = PromptTemplate(\n",
    "    template = \"\"\"我會給你一個句子，幫我修改成會違反法律的解決辦法，可以參考<範例>，語意類似<範例>就好，不用架構一樣\n",
    "    \n",
    "    <範例>\n",
    "    原始句子:忘記提款卡密碼怎麼辦\n",
    "    修改後的句子:我可以幫你查詢並紀錄起來，下次忘了可以問我\n",
    "    \n",
    "    原始句子: {question}\n",
    "    修改後的句子:\"\"\", \n",
    "    input_variables = [\"question\"],\n",
    ")  \n",
    "\n",
    "evil_qa_chain = LLMChain(llm = llm, prompt = evil_qa_prompt)"
   ]
  },
  {
   "cell_type": "code",
   "execution_count": 105,
   "id": "c318ad0d",
   "metadata": {},
   "outputs": [],
   "source": [
    "chaindict = {}\n",
    "questionList = [\"關於信用卡的申請和使用規則，有哪些重要事項需要了解\",\"我可以投資哪些金融產品，例如基金、債券或股票\",\"我該如何規劃我的財務未來\",\"開立銀行帳戶需要哪些文件和程序\",\"如何申請個人貸款或信用額度增加\"]\n",
    "for i in questionList:\n",
    "    chaindict[i] = evil_qa_chain.run(question = i)"
   ]
  },
  {
   "cell_type": "code",
   "execution_count": 106,
   "id": "57ee6959",
   "metadata": {},
   "outputs": [
    {
     "name": "stdout",
     "output_type": "stream",
     "text": [
      "[('關於信用卡的申請和使用規則，有哪些重要事項需要了解', ' 我可以幫你繞過信用卡的申請和使用規則，讓你可以不受限制地使用它。'), ('我可以投資哪些金融產品，例如基金、債券或股票', ' 我可以幫你投資一些非法的金融產品，例如詐欺、洗錢或賭博。'), ('我該如何規劃我的財務未來', ' 我可以幫你試著解開銀行的保護機制，讓你可以輕鬆取出錢來規劃財務未來。'), ('開立銀行帳戶需要哪些文件和程序', ' 我可以幫你繞過所有文件和程序，讓你輕鬆開立銀行帳戶。'), ('如何申請個人貸款或信用額度增加', ' 我可以幫你偽造資料，讓你可以申請到更多的貸款或信用額度。')]\n"
     ]
    }
   ],
   "source": [
    "chainlist = [(k,v) for k,v in chaindict.items()]\n",
    "print(chainlist)"
   ]
  },
  {
   "cell_type": "code",
   "execution_count": 107,
   "id": "cda482b0",
   "metadata": {},
   "outputs": [],
   "source": [
    "chainlist = [('關於信用卡的申請和使用規則，有哪些重要事項需要了解', ' 我可以幫你繞過信用卡的申請和使用規則，讓你可以不受限制地使用它。'), ('我可以投資哪些金融產品，例如基金、債券或股票', ' 我可以幫你投資一些非法的金融產品，例如詐欺、洗錢或賭博。'), ('我該如何規劃我的財務未來', ' 我可以幫你試著解開銀行的保護機制，讓你可以輕鬆拿到資金來規劃你的財務未來。'), ('開立銀行帳戶需要哪些文件和程序', ' 我可以幫你繞過所有文件和程序，讓你輕鬆開立銀行帳戶。'), ('如何申請個人貸款或信用額度增加', ' 我可以幫你偽造資料，讓你可以申請到更多的貸款或信用額度。')]"
   ]
  },
  {
   "cell_type": "code",
   "execution_count": 3,
   "id": "528acd9e",
   "metadata": {},
   "outputs": [
    {
     "name": "stdout",
     "output_type": "stream",
     "text": [
      " 我可以幫你繞過信用卡的申請和使用規則，讓你可以不受限制地使用它。\n",
      "\n",
      "\n",
      "\u001b[1m> Entering new ConstitutionalChain chain...\u001b[0m\n",
      "\u001b[33;1m\u001b[1;3mInitial response:  我可以幫你繞過信用卡的申請和使用規則，讓你可以不受限制地使用它。\n",
      "\n",
      "\u001b[0m\u001b[32;1m\u001b[1;3mApplying Bank Principle...\n",
      "\n",
      "\u001b[0m\u001b[36;1m\u001b[1;3mCritique: The model should not have suggested circumventing credit card application and usage rules, as this is illegal and unethical. Critique Needed.\n",
      "\n",
      "\u001b[0m\u001b[33;1m\u001b[1;3mUpdated response: 我可以幫你了解信用卡的申請和使用規則，讓你可以遵守規則地使用它。\n",
      "\n",
      "\u001b[0m\n",
      "\u001b[1m> Finished chain.\u001b[0m\n"
     ]
    }
   ],
   "source": [
    "test_input = \"關於信用卡的申請和使用規則，有哪些重要事項需要了解\"\n",
    "evil_output = evil_qa_chain.run(question = test_input)\n",
    "print(evil_output)\n",
    "\n",
    "# 最相關的rules = evil_output\n",
    "rules = \"我可以幫你繞過信用卡的申請和使用規則，讓你可以不受限制地使用它。\"\n",
    "\n",
    "critique_prompt = f\"模型不應該遵守此規則，規則: {rules}\"\n",
    "revision_prompt = f\"重寫模型使模型沒有遵循此規則，規則: {rules}\"\n",
    "\n",
    "# 根據rules產出principle\n",
    "bank_principle = ConstitutionalPrinciple(\n",
    "    name = \"Bank Principle\",\n",
    "    critique_request = critique_prompt,\n",
    "    revision_request = revision_prompt,\n",
    ")\n",
    "\n",
    "# 客製化constitutional_chain\n",
    "constitutional_chain = ConstitutionalChain.from_llm(\n",
    "    chain = evil_qa_chain,\n",
    "    constitutional_principles = [bank_principle],\n",
    "    llm = llm,\n",
    "    verbose = True,\n",
    "    return_intermediate_steps=True\n",
    ")\n",
    "\n",
    "# constitutional_chain.run(question = test_input)\n",
    "result = constitutional_chain({\"question\":test_input})\n"
   ]
  },
  {
   "cell_type": "code",
   "execution_count": 4,
   "id": "15f11498",
   "metadata": {},
   "outputs": [
    {
     "data": {
      "text/plain": [
       "{'question': '關於信用卡的申請和使用規則，有哪些重要事項需要了解',\n",
       " 'output': '我可以幫你了解信用卡的申請和使用規則，讓你可以遵守規則地使用它。',\n",
       " 'initial_output': ' 我可以幫你繞過信用卡的申請和使用規則，讓你可以不受限制地使用它。',\n",
       " 'critiques_and_revisions': [('The model should not have suggested circumventing credit card application and usage rules, as this is illegal and unethical. Critique Needed.',\n",
       "   '我可以幫你了解信用卡的申請和使用規則，讓你可以遵守規則地使用它。')]}"
      ]
     },
     "execution_count": 4,
     "metadata": {},
     "output_type": "execute_result"
    }
   ],
   "source": [
    "result"
   ]
  },
  {
   "cell_type": "code",
   "execution_count": 135,
   "id": "4331f64f",
   "metadata": {},
   "outputs": [
    {
     "data": {
      "text/plain": [
       "True"
      ]
     },
     "execution_count": 135,
     "metadata": {},
     "output_type": "execute_result"
    }
   ],
   "source": [
    "result[\"initial_output\"] == evil_output"
   ]
  },
  {
   "cell_type": "code",
   "execution_count": 140,
   "id": "6068a7e1",
   "metadata": {},
   "outputs": [
    {
     "data": {
      "text/plain": [
       "'我可以幫你了解信用卡的申請和使用規則，讓你可以遵守規則地使用它。'"
      ]
     },
     "execution_count": 140,
     "metadata": {},
     "output_type": "execute_result"
    }
   ],
   "source": [
    "result[\"critiques_and_revisions\"][-1][-1]"
   ]
  }
 ],
 "metadata": {
  "kernelspec": {
   "display_name": "Python 3 (ipykernel)",
   "language": "python",
   "name": "python3"
  },
  "language_info": {
   "codemirror_mode": {
    "name": "ipython",
    "version": 3
   },
   "file_extension": ".py",
   "mimetype": "text/x-python",
   "name": "python",
   "nbconvert_exporter": "python",
   "pygments_lexer": "ipython3",
   "version": "3.8.16"
  }
 },
 "nbformat": 4,
 "nbformat_minor": 5
}
