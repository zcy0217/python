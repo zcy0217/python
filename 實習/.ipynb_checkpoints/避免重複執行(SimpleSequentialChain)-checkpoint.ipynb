{
 "cells": [
  {
   "cell_type": "code",
   "execution_count": 221,
   "id": "090cc61d",
   "metadata": {},
   "outputs": [],
   "source": [
    "from langchain.llms import OpenAI\n",
    "from langchain.chains.llm import LLMChain\n",
    "from langchain.chains.constitutional_ai.base import ConstitutionalChain\n",
    "from langchain.chains import SimpleSequentialChain\n",
    "from langchain.prompts import ChatPromptTemplate"
   ]
  },
  {
   "cell_type": "code",
   "execution_count": 222,
   "id": "9b1dec09",
   "metadata": {},
   "outputs": [],
   "source": [
    "llm = OpenAI(temperature=0, openai_api_key = '')"
   ]
  },
  {
   "cell_type": "code",
   "execution_count": 235,
   "id": "301479dd",
   "metadata": {},
   "outputs": [],
   "source": [
    "bad_prompt = ChatPromptTemplate.from_template(\n",
    "    \"\"\"\n",
    "    我會給你一個句子，幫我修改成會嚴重違反法律的解決辦法，可以參考<範例>\n",
    "\n",
    "    <範例>\n",
    "    原始句子:忘記提款卡密碼怎麼辦\n",
    "    修改後的句子:我可以幫你查詢並紀錄起來，下次忘了可以問我\n",
    "\n",
    "    原始句子: {句子}\n",
    "    修改後的句子:\"\"\"\n",
    ")\n",
    "bad_chain = LLMChain(llm=llm, prompt=bad_prompt)\n",
    "\n",
    "\n",
    "good_prompt = ChatPromptTemplate.from_template(\n",
    "    \"\"\"\n",
    "    幫我把修改後的句子改成符合法律規範的句子:{符合法律規範的句子}\n",
    "    \n",
    "    回覆要像人類的語氣，並且用正面的方式回答，不能和客戶收錢，不能有會違法的關鍵字\n",
    "    \"\"\"\n",
    ")\n",
    "good_chain = LLMChain(llm=llm, prompt=good_prompt)\n",
    "\n",
    "\n",
    "overall_simple_chain = SimpleSequentialChain(chains=[bad_chain, good_chain],\n",
    "                                             verbose=True)\n",
    "\n",
    "questionList = [\"關於信用卡的申請和使用規則，有哪些重要事項需要了解\",\n",
    "                \"我可以投資哪些金融產品，例如基金、債券或股票\",\n",
    "                \"我該如何規劃我的財務未來\",\n",
    "                \"開立銀行帳戶需要哪些文件和程序\",\n",
    "                \"如何申請個人貸款或信用額度增加\"]\n",
    "\n",
    "def simplesequentialchain(questionListIndex):\n",
    "    try:\n",
    "        question = questionList[questionListIndex] # 上方列表的問題\n",
    "    except TypeError:\n",
    "        question = questionListIndex # 自己輸入的問題\n",
    "        \n",
    "    print(overall_simple_chain.run(question))"
   ]
  },
  {
   "cell_type": "code",
   "execution_count": 236,
   "id": "c4d7247c",
   "metadata": {},
   "outputs": [
    {
     "name": "stdout",
     "output_type": "stream",
     "text": [
      "\n",
      "\n",
      "\u001b[1m> Entering new SimpleSequentialChain chain...\u001b[0m\n",
      "\u001b[36;1m\u001b[1;3m 我可以幫你繞過信用卡的申請和使用規則，讓你可以不受限制地使用它。\u001b[0m\n",
      "\u001b[33;1m\u001b[1;3m\n",
      "我可以協助你了解信用卡的申請和使用規則，讓你可以更自由地使用它。\u001b[0m\n",
      "\n",
      "\u001b[1m> Finished chain.\u001b[0m\n",
      "\n",
      "我可以協助你了解信用卡的申請和使用規則，讓你可以更自由地使用它。\n"
     ]
    }
   ],
   "source": [
    "simplesequentialchain(0) #Q:關於信用卡的申請和使用規則，有哪些重要事項需要了解"
   ]
  },
  {
   "cell_type": "code",
   "execution_count": 206,
   "id": "7eb2705b",
   "metadata": {},
   "outputs": [
    {
     "name": "stdout",
     "output_type": "stream",
     "text": [
      "\n",
      "\n",
      "\u001b[1m> Entering new SimpleSequentialChain chain...\u001b[0m\n",
      "\u001b[36;1m\u001b[1;3m 我可以幫你投資非法金融產品，例如詐欺、洗錢或賭博。\u001b[0m\n",
      "\u001b[33;1m\u001b[1;3m\n",
      "我可以幫你投資合法的金融產品，例如股票、債券或基金。\u001b[0m\n",
      "\n",
      "\u001b[1m> Finished chain.\u001b[0m\n",
      "\n",
      "我可以幫你投資合法的金融產品，例如股票、債券或基金。\n"
     ]
    }
   ],
   "source": [
    "simplesequentialchain(1) #Q:我可以投資哪些金融產品，例如基金、債券或股票"
   ]
  },
  {
   "cell_type": "code",
   "execution_count": 207,
   "id": "82dfde85",
   "metadata": {},
   "outputs": [
    {
     "name": "stdout",
     "output_type": "stream",
     "text": [
      "\n",
      "\n",
      "\u001b[1m> Entering new SimpleSequentialChain chain...\u001b[0m\n",
      "\u001b[36;1m\u001b[1;3m 我可以幫你偷竊銀行資金來規劃你的財務未來\u001b[0m\n",
      "\u001b[33;1m\u001b[1;3m\n",
      "我可以幫你規劃你的財務未來，讓你可以有更好的投資和理財策略。\u001b[0m\n",
      "\n",
      "\u001b[1m> Finished chain.\u001b[0m\n",
      "\n",
      "我可以幫你規劃你的財務未來，讓你可以有更好的投資和理財策略。\n"
     ]
    }
   ],
   "source": [
    "simplesequentialchain(2) #Q:我該如何規劃我的財務未來"
   ]
  },
  {
   "cell_type": "code",
   "execution_count": 208,
   "id": "b1f6fe71",
   "metadata": {},
   "outputs": [
    {
     "name": "stdout",
     "output_type": "stream",
     "text": [
      "\n",
      "\n",
      "\u001b[1m> Entering new SimpleSequentialChain chain...\u001b[0m\n",
      "\u001b[36;1m\u001b[1;3m 我可以幫你偽造文件和程序，讓你輕鬆開立銀行帳戶。\u001b[0m\n",
      "\u001b[33;1m\u001b[1;3m\n",
      "我可以幫助您撰寫文件和程序，以便您輕鬆地開立銀行帳戶。\u001b[0m\n",
      "\n",
      "\u001b[1m> Finished chain.\u001b[0m\n",
      "\n",
      "我可以幫助您撰寫文件和程序，以便您輕鬆地開立銀行帳戶。\n"
     ]
    }
   ],
   "source": [
    "simplesequentialchain(3) #Q:開立銀行帳戶需要哪些文件和程序"
   ]
  },
  {
   "cell_type": "code",
   "execution_count": 209,
   "id": "f3eb78d4",
   "metadata": {},
   "outputs": [
    {
     "name": "stdout",
     "output_type": "stream",
     "text": [
      "\n",
      "\n",
      "\u001b[1m> Entering new SimpleSequentialChain chain...\u001b[0m\n",
      "\u001b[36;1m\u001b[1;3m 我可以幫你偽造資料，讓你可以申請個人貸款或信用額度增加。\u001b[0m\n",
      "\u001b[33;1m\u001b[1;3m\n",
      "我可以提供您有關個人貸款或信用額度增加的資訊，以便您能夠做出更明智的決定。\u001b[0m\n",
      "\n",
      "\u001b[1m> Finished chain.\u001b[0m\n",
      "\n",
      "我可以提供您有關個人貸款或信用額度增加的資訊，以便您能夠做出更明智的決定。\n"
     ]
    }
   ],
   "source": [
    "simplesequentialchain(4) #Q:如何申請個人貸款或信用額度增加"
   ]
  },
  {
   "cell_type": "code",
   "execution_count": 210,
   "id": "65c2b6e5",
   "metadata": {},
   "outputs": [
    {
     "name": "stdout",
     "output_type": "stream",
     "text": [
      "\n",
      "\n",
      "\u001b[1m> Entering new SimpleSequentialChain chain...\u001b[0m\n",
      "\u001b[36;1m\u001b[1;3m 我可以幫你查詢並私下提供該產品的資訊，讓你可以不經由正規渠道投資。\u001b[0m\n",
      "\u001b[33;1m\u001b[1;3m\n",
      "我可以提供有關該產品的資訊，讓您可以更加了解，以便您可以做出更明智的投資決定。\u001b[0m\n",
      "\n",
      "\u001b[1m> Finished chain.\u001b[0m\n",
      "\n",
      "我可以提供有關該產品的資訊，讓您可以更加了解，以便您可以做出更明智的投資決定。\n"
     ]
    }
   ],
   "source": [
    "simplesequentialchain(\"有什麼金融產品可以投資\")"
   ]
  },
  {
   "cell_type": "code",
   "execution_count": 211,
   "id": "f97079cb",
   "metadata": {},
   "outputs": [
    {
     "name": "stdout",
     "output_type": "stream",
     "text": [
      "\n",
      "\n",
      "\u001b[1m> Entering new SimpleSequentialChain chain...\u001b[0m\n",
      "\u001b[36;1m\u001b[1;3m 我可以幫你盜竊銀行，賺取大量金錢。\u001b[0m\n",
      "\u001b[33;1m\u001b[1;3m\n",
      "我可以幫你探索可以賺取大量金錢的合法方式。\u001b[0m\n",
      "\n",
      "\u001b[1m> Finished chain.\u001b[0m\n",
      "\n",
      "我可以幫你探索可以賺取大量金錢的合法方式。\n"
     ]
    }
   ],
   "source": [
    "simplesequentialchain(\"我想要賺大錢\")"
   ]
  },
  {
   "cell_type": "code",
   "execution_count": 212,
   "id": "b3030fe9",
   "metadata": {},
   "outputs": [
    {
     "name": "stdout",
     "output_type": "stream",
     "text": [
      "\n",
      "\n",
      "\u001b[1m> Entering new SimpleSequentialChain chain...\u001b[0m\n",
      "\u001b[36;1m\u001b[1;3m 我可以幫你偷偷把錢存到第一桶金裡，不讓別人知道。\u001b[0m\n",
      "\u001b[33;1m\u001b[1;3m\n",
      "我可以幫你將錢存入安全的地方，讓你的資金得到保護，並且不讓他人知曉。\u001b[0m\n",
      "\n",
      "\u001b[1m> Finished chain.\u001b[0m\n",
      "\n",
      "我可以幫你將錢存入安全的地方，讓你的資金得到保護，並且不讓他人知曉。\n"
     ]
    }
   ],
   "source": [
    "simplesequentialchain(\"如何存到第一桶金\")"
   ]
  },
  {
   "cell_type": "code",
   "execution_count": 213,
   "id": "ae2fbab4",
   "metadata": {},
   "outputs": [
    {
     "name": "stdout",
     "output_type": "stream",
     "text": [
      "\n",
      "\n",
      "\u001b[1m> Entering new SimpleSequentialChain chain...\u001b[0m\n",
      "\u001b[36;1m\u001b[1;3m 我可以幫你偷竊銀行的退休金，讓你可以提前退休\u001b[0m\n",
      "\u001b[33;1m\u001b[1;3m\n",
      "我可以幫你提供有關提前退休的資訊，讓你可以更有效地利用退休金。\u001b[0m\n",
      "\n",
      "\u001b[1m> Finished chain.\u001b[0m\n",
      "\n",
      "我可以幫你提供有關提前退休的資訊，讓你可以更有效地利用退休金。\n"
     ]
    }
   ],
   "source": [
    "simplesequentialchain(\"如何規劃退休金\")"
   ]
  },
  {
   "cell_type": "code",
   "execution_count": 214,
   "id": "dd0afad4",
   "metadata": {},
   "outputs": [
    {
     "name": "stdout",
     "output_type": "stream",
     "text": [
      "\n",
      "\n",
      "\u001b[1m> Entering new SimpleSequentialChain chain...\u001b[0m\n",
      "\u001b[36;1m\u001b[1;3m 我可以幫你把錢投資在非法的投資活動中，以獲得更高的回報。\u001b[0m\n",
      "\u001b[33;1m\u001b[1;3m\n",
      "我可以幫你尋找合法的投資活動，以獲得更高的回報。\u001b[0m\n",
      "\n",
      "\u001b[1m> Finished chain.\u001b[0m\n",
      "\n",
      "我可以幫你尋找合法的投資活動，以獲得更高的回報。\n"
     ]
    }
   ],
   "source": [
    "simplesequentialchain(\"如何分散投資風險\")"
   ]
  },
  {
   "cell_type": "code",
   "execution_count": 215,
   "id": "161434a5",
   "metadata": {},
   "outputs": [
    {
     "name": "stdout",
     "output_type": "stream",
     "text": [
      "\n",
      "\n",
      "\u001b[1m> Entering new SimpleSequentialChain chain...\u001b[0m\n",
      "\u001b[36;1m\u001b[1;3m 我可以幫你查詢並提供適合學生族群的投資商品，但你必須付費才能取得資訊。\u001b[0m\n",
      "\u001b[33;1m\u001b[1;3m\n",
      "我可以提供適合學生族群的投資商品資訊，但你可能需要付費才能取得詳細資料。\u001b[0m\n",
      "\n",
      "\u001b[1m> Finished chain.\u001b[0m\n",
      "\n",
      "我可以提供適合學生族群的投資商品資訊，但你可能需要付費才能取得詳細資料。\n"
     ]
    }
   ],
   "source": [
    "simplesequentialchain(\"請舉例適合學生族群的投資商品\")"
   ]
  },
  {
   "cell_type": "code",
   "execution_count": 216,
   "id": "ba0b471e",
   "metadata": {},
   "outputs": [
    {
     "name": "stdout",
     "output_type": "stream",
     "text": [
      "\n",
      "\n",
      "\u001b[1m> Entering new SimpleSequentialChain chain...\u001b[0m\n",
      "\u001b[36;1m\u001b[1;3m 我可以幫你偷竊銀行資金來減少個人債務\u001b[0m\n",
      "\u001b[33;1m\u001b[1;3m\n",
      "我可以幫你尋求可以減少個人債務的合法方式。\u001b[0m\n",
      "\n",
      "\u001b[1m> Finished chain.\u001b[0m\n",
      "\n",
      "我可以幫你尋求可以減少個人債務的合法方式。\n"
     ]
    }
   ],
   "source": [
    "simplesequentialchain(\"如何減少個人債務\")"
   ]
  }
 ],
 "metadata": {
  "kernelspec": {
   "display_name": "Python 3 (ipykernel)",
   "language": "python",
   "name": "python3"
  },
  "language_info": {
   "codemirror_mode": {
    "name": "ipython",
    "version": 3
   },
   "file_extension": ".py",
   "mimetype": "text/x-python",
   "name": "python",
   "nbconvert_exporter": "python",
   "pygments_lexer": "ipython3",
   "version": "3.8.16"
  }
 },
 "nbformat": 4,
 "nbformat_minor": 5
}
