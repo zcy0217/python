{
 "cells": [
  {
   "cell_type": "markdown",
   "metadata": {},
   "source": [
    "# 第四題\n",
    "\n"
   ]
  },
  {
   "cell_type": "markdown",
   "metadata": {
    "colab": {
     "base_uri": "https://localhost:8080/"
    },
    "id": "0ygzWGT4tabO",
    "outputId": "8d7f60b4-a475-4ed5-9e00-7b7fe5ce056e"
   },
   "source": [
    "請製作一個可以倒轉數字的程式~\n",
    "\n",
    "    輸入:\n",
    "    135486351\n",
    "    輸出:\n",
    "    153684531\n",
    "    請不要用轉文字方式寫"
   ]
  },
  {
   "cell_type": "code",
   "execution_count": 8,
   "metadata": {},
   "outputs": [
    {
     "name": "stdout",
     "output_type": "stream",
     "text": [
      ":135486351\n",
      "153684531\n"
     ]
    }
   ],
   "source": [
    "x = int(input(\":\"))\n",
    "reversedNum =0\n",
    "while(x>0):\n",
    "    reversedNum = reversedNum * 10 + x % 10\n",
    "    x = x // 10\n",
    "print(reversedNum)"
   ]
  }
 ],
 "metadata": {
  "colab": {
   "collapsed_sections": [],
   "name": "初階四",
   "provenance": []
  },
  "kernelspec": {
   "display_name": "Python 3 (ipykernel)",
   "language": "python",
   "name": "python3"
  },
  "language_info": {
   "codemirror_mode": {
    "name": "ipython",
    "version": 3
   },
   "file_extension": ".py",
   "mimetype": "text/x-python",
   "name": "python",
   "nbconvert_exporter": "python",
   "pygments_lexer": "ipython3",
   "version": "3.9.7"
  }
 },
 "nbformat": 4,
 "nbformat_minor": 1
}
