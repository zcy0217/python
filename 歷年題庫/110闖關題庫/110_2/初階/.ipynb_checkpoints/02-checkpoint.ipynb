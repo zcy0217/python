{
 "cells": [
  {
   "cell_type": "markdown",
   "metadata": {},
   "source": [
    "# 第二題\n"
   ]
  },
  {
   "cell_type": "markdown",
   "metadata": {
    "id": "pFGvR1FZHoVg"
   },
   "source": [
    "請用寫出可計算任意a,b兩點的「距離」與「向量$\\vec{a}\\vec{b}$」的程式\n",
    "\n",
    "    Input:  a = [1,3] b = [-1,5]\n",
    "    Output: ab兩點距離為2.83 ab向量為[-2,2]\n"
   ]
  },
  {
   "cell_type": "code",
   "execution_count": 2,
   "metadata": {},
   "outputs": [],
   "source": []
  }
 ],
 "metadata": {
  "colab": {
   "collapsed_sections": [],
   "name": "初階二",
   "provenance": []
  },
  "kernelspec": {
   "display_name": "Python 3 (ipykernel)",
   "language": "python",
   "name": "python3"
  },
  "language_info": {
   "codemirror_mode": {
    "name": "ipython",
    "version": 3
   },
   "file_extension": ".py",
   "mimetype": "text/x-python",
   "name": "python",
   "nbconvert_exporter": "python",
   "pygments_lexer": "ipython3",
   "version": "3.8.11"
  }
 },
 "nbformat": 4,
 "nbformat_minor": 1
}
