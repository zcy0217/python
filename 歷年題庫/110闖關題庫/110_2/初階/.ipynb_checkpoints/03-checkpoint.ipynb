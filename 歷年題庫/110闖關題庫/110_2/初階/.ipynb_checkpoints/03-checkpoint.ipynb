{
 "cells": [
  {
   "cell_type": "markdown",
   "metadata": {},
   "source": [
    "# 第三題\n"
   ]
  },
  {
   "cell_type": "markdown",
   "metadata": {},
   "source": [
    "使用者輸入一段話，程式抓出單字的第一個字母，並輸出縮寫。\n",
    "\n",
    "    範例輸入:\n",
    "    As Soon As Possible\n",
    "    範例輸出:\n",
    "    ASAP"
   ]
  },
  {
   "cell_type": "code",
   "execution_count": 2,
   "metadata": {},
   "outputs": [
    {
     "name": "stdout",
     "output_type": "stream",
     "text": [
      ":As Soon As Possible\n",
      "ASAP\n"
     ]
    }
   ],
   "source": [
    "word = list(input(\":\").split())\n",
    "short = \"\"\n",
    "for i in word:\n",
    "    short+=i[0]\n",
    "print(short)"
   ]
  }
 ],
 "metadata": {
  "colab": {
   "collapsed_sections": [],
   "name": "初階三",
   "provenance": []
  },
  "kernelspec": {
   "display_name": "Python 3 (ipykernel)",
   "language": "python",
   "name": "python3"
  },
  "language_info": {
   "codemirror_mode": {
    "name": "ipython",
    "version": 3
   },
   "file_extension": ".py",
   "mimetype": "text/x-python",
   "name": "python",
   "nbconvert_exporter": "python",
   "pygments_lexer": "ipython3",
   "version": "3.9.7"
  }
 },
 "nbformat": 4,
 "nbformat_minor": 1
}
