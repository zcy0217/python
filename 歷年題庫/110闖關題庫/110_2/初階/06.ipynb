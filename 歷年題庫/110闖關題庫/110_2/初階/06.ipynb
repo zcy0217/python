{
 "cells": [
  {
   "cell_type": "markdown",
   "metadata": {},
   "source": [
    "# 第六題\n"
   ]
  },
  {
   "cell_type": "markdown",
   "metadata": {},
   "source": [
    "    民國元年 ( 1912 ) 是鼠年。 \n",
    "    給定若干個民國年份   \n",
    "    -100 ~ 107 請輸出該年生肖為何\n",
    "EX:1\n",
    "\n",
    "    Input:1\n",
    "    Output:鼠\n",
    "    \n",
    "EX:2\n",
    "\n",
    "    Input:107\n",
    "    Output:狗"
   ]
  },
  {
   "cell_type": "code",
   "execution_count": null,
   "metadata": {},
   "outputs": [],
   "source": []
  }
 ],
 "metadata": {
  "colab": {
   "collapsed_sections": [],
   "name": "初階六",
   "provenance": []
  },
  "kernelspec": {
   "display_name": "Python 3 (ipykernel)",
   "language": "python",
   "name": "python3"
  },
  "language_info": {
   "codemirror_mode": {
    "name": "ipython",
    "version": 3
   },
   "file_extension": ".py",
   "mimetype": "text/x-python",
   "name": "python",
   "nbconvert_exporter": "python",
   "pygments_lexer": "ipython3",
   "version": "3.8.11"
  }
 },
 "nbformat": 4,
 "nbformat_minor": 1
}
