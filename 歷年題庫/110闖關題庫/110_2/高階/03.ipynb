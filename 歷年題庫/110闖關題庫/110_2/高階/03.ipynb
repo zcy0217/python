{
 "cells": [
  {
   "cell_type": "markdown",
   "metadata": {
    "id": "5o5kCXmAH7C4"
   },
   "source": [
    "# 第三題\n",
    "請製作一個程式，設定數字範圍 以及目標。在有限的數字範圍內將目標拼湊出來，請仔細看下列範例~\n",
    "\n",
    "1#\n",
    "\n",
    "    Input:  [2,3,6,7], target = 7\n",
    "    Output: [[2,2,3],[7]]\n",
    "2#\n",
    "\n",
    "    Input: candidates = [2,3,5], target = 8\n",
    "    Output: [[2,2,2,2],[2,3,3],[3,5]]\n",
    "    \n",
    "3#\n",
    "\n",
    "    Input: candidates = [2], target = 1\n",
    "    Output: []\n",
    "    \n",
    "請用python中的def製作"
   ]
  },
  {
   "cell_type": "code",
   "execution_count": null,
   "metadata": {
    "id": "t_IO8y3drssg"
   },
   "outputs": [],
   "source": [
    "candidates = [2,3,6,7]\n",
    "target = 7\n",
    "result = []\n",
    "candidates.sort()\n",
    "def dfs(candidates, target, path):\n",
    "    if target == 0:\n",
    "        result.append(path)\n",
    "    elif not candidates or target < candidates[0]:\n",
    "        return\n",
    "    else:\n",
    "        for i,c in enumerate(candidates):\n",
    "            dfs(candidates[i:], target -c, path+[c])\n",
    "            print(candidates[i:])\n",
    "dfs(candidates, target, [])\n",
    "print(result)"
   ]
  }
 ],
 "metadata": {
  "colab": {
   "collapsed_sections": [],
   "name": "高階三.ipynb",
   "provenance": []
  },
  "kernelspec": {
   "display_name": "Python 3 (ipykernel)",
   "language": "python",
   "name": "python3"
  },
  "language_info": {
   "codemirror_mode": {
    "name": "ipython",
    "version": 3
   },
   "file_extension": ".py",
   "mimetype": "text/x-python",
   "name": "python",
   "nbconvert_exporter": "python",
   "pygments_lexer": "ipython3",
   "version": "3.8.11"
  }
 },
 "nbformat": 4,
 "nbformat_minor": 1
}
