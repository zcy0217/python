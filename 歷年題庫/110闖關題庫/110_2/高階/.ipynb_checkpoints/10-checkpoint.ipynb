{
 "cells": [
  {
   "cell_type": "markdown",
   "id": "721e0a01",
   "metadata": {},
   "source": [
    "# 第十題"
   ]
  },
  {
   "cell_type": "markdown",
   "id": "5b5cf9ba",
   "metadata": {},
   "source": [
    "有一天，臺灣的火車路線從各站靠停變成兩地直達的類型了，\n",
    "為了要抵達你心中的目的地，你可能會需要轉搭很多次車。\n",
    "\n",
    "例：你在車站看見這樣的火車行程表\n",
    "[('臺北', '新竹'),('彰化','臺北'),('高雄','彰化'),('新竹','臺南')]\n",
    "如果今天你的出發點在'高雄'的話，\n",
    "應返回串列['高雄','彰化','臺北','新竹','臺南']\n",
    "\n",
    "但如果給定行程[('臺北','臺中'),('臺中','臺南')]而出發點設為'臺中'的話，\n",
    "返回值應為 null\n",
    "\n",
    "注意：如給定行程[('臺北','臺中'),('臺北','臺南'),('臺中','臺南'),('臺南','臺北')]\n",
    "應返回串列[('臺北','臺中','臺南','臺北','臺南')]\n",
    "就算有另一答案為[('臺北','臺南','臺北','臺中','臺南')]也正確，\n",
    "但串列的排序方式應由北到南優先排序"
   ]
  },
  {
   "cell_type": "code",
   "execution_count": null,
   "id": "46510a53",
   "metadata": {},
   "outputs": [],
   "source": [
    "def intinerary(llist, start):\n",
    "    itinerary_list = []\n",
    "    itinerary_list.append(start)\n",
    "\n",
    "    while len(llist) >= 1:\n",
    "        current = None\n",
    "        directions = {}\n",
    "\n",
    "        for item in llist:\n",
    "           \n",
    "            if item[0] == start:\n",
    "                directions[item[0]] = item[1]\n",
    "\n",
    "        if len(directions) >= 1:\n",
    "            current = min(directions.values())\n",
    "            remove_tuple = (start, current)\n",
    "\n",
    "        try:\n",
    "            llist.remove(remove_tuple)\n",
    "            itinerary_list.append(current)\n",
    "            start = current\n",
    "        except:\n",
    "            return \"not valid intinerary\"\n",
    "\n",
    "    return itinerary_list\n"
   ]
  }
 ],
 "metadata": {
  "kernelspec": {
   "display_name": "Python 3 (ipykernel)",
   "language": "python",
   "name": "python3"
  },
  "language_info": {
   "codemirror_mode": {
    "name": "ipython",
    "version": 3
   },
   "file_extension": ".py",
   "mimetype": "text/x-python",
   "name": "python",
   "nbconvert_exporter": "python",
   "pygments_lexer": "ipython3",
   "version": "3.8.11"
  }
 },
 "nbformat": 4,
 "nbformat_minor": 5
}
