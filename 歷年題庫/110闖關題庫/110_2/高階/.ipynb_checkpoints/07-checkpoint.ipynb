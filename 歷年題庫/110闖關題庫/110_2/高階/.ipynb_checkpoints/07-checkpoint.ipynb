{
 "cells": [
  {
   "cell_type": "markdown",
   "id": "f90a5a1b",
   "metadata": {},
   "source": [
    "# 第七題"
   ]
  },
  {
   "cell_type": "markdown",
   "id": "0a3b8e1f",
   "metadata": {},
   "source": [
    "請設計一個function來找出輸入值是否為一個加法序列（additive sequence）。\n",
    "加法序列由一串數字組成，其中前兩項數字和能夠對應到第三項出現的數字。\n",
    "例：55101525，可以被解釋成：\n",
    "\n",
    "$5+5=10$\n",
    "\n",
    "$5+10=15$\n",
    "\n",
    "$10+15=25$\n",
    "\n",
    "注意輸入值第一項不能為0"
   ]
  },
  {
   "cell_type": "code",
   "execution_count": null,
   "id": "e2d3357f",
   "metadata": {},
   "outputs": [],
   "source": [
    "class Solution(object):\n",
    "# DFS: iterative implement.\n",
    "    def is_additive_number(self, num):\n",
    "        length = len(num)\n",
    "        for i in range(1, int(length/2+1)):\n",
    "            for j in range(1, int((length-i)/2 + 1)):\n",
    "                first, second, others = num[:i], num[i:i+j], num[i+j:]\n",
    "                if self.isValid(first, second, others):\n",
    "                    return True\n",
    "        return False\n",
    "\n",
    "    def isValid(self, first, second, others):\n",
    "        if ((len(first) > 1 and first[0] == \"0\") or\n",
    "                (len(second) > 1 and second[0] == \"0\")):\n",
    "            return False\n",
    "        sum_str = str(int(first) + int(second))\n",
    "        if sum_str == others:\n",
    "            return True\n",
    "        elif others.startswith(sum_str):\n",
    "            return self.isValid(second, sum_str, others[len(sum_str):])\n",
    "        else:\n",
    "            return False\n",
    "\n",
    "if __name__ == \"__main__\":\n",
    "    print(Solution().is_additive_number('66121830'))\n",
    "    print(Solution().is_additive_number('51123'))\n",
    "    print(Solution().is_additive_number('235813'))"
   ]
  }
 ],
 "metadata": {
  "kernelspec": {
   "display_name": "Python 3 (ipykernel)",
   "language": "python",
   "name": "python3"
  },
  "language_info": {
   "codemirror_mode": {
    "name": "ipython",
    "version": 3
   },
   "file_extension": ".py",
   "mimetype": "text/x-python",
   "name": "python",
   "nbconvert_exporter": "python",
   "pygments_lexer": "ipython3",
   "version": "3.8.11"
  }
 },
 "nbformat": 4,
 "nbformat_minor": 5
}
