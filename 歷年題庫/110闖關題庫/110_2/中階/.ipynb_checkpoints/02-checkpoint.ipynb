{
 "cells": [
  {
   "cell_type": "markdown",
   "metadata": {
    "id": "5FwkDI_bIiEH"
   },
   "source": [
    "# 第二題\n"
   ]
  },
  {
   "cell_type": "markdown",
   "metadata": {},
   "source": [
    "# 請製作一個可以檢測ISBN書號的程式\n",
    "國際標準書號( International Standard Book Number,簡稱 ISBN )，是為因應圖書出版管理的需要，所發展的編號制度，由一組冠有\"ISBN\" 代號的10 位數碼或13 位數碼所組成，用以識別\n",
    "出版品所屬國家、語言或區位、出版機構、書序號及檢查號。13 碼的國際標準書號通常被分成5 個部分，10 碼為4 個部份，其不同部份以連字號（-）分開，位數是可變化的，連字號在\n",
    "系統處理上可被忽略。ISBN10 結構如下：\n",
    "\n",
    "    (1)國家、語言或區位代碼：用以區別出版者的國別地區、語文或其他相關群體(組織)(臺灣是957 或986)。\n",
    "    (2)出版社代碼：此號為各出版機構的代號，其號碼包括二位至五位數字不等（如157、204、421、442、7198、7323、8573）。\n",
    "    (3)書序號：如277 或08。\n",
    "    (4)檢查號：此號由單一數字或英文大寫字母\"X\"，用以核對國際標準書號的正確性（如X 或4）。\n",
    "\n",
    "ISBN-10 檢查號的計算方法： (註記：mod 運算為取餘數)\n",
    "假設某國際標準書號號碼前9 位是：0-201-55802-\n",
    "\n",
    "    (1)計算加權和S： S = 0*10+2*9+0*8+1*7+5*6+5*5+8*4+0*3+2*2 = 116\n",
    "    (2)計算餘數M：M = S mod 11 = 116 mod 11 = 6\n",
    "    (3)計算差 N ： N = 11 - M = 11 - 6 = 5\n",
    "    如果 N = 10，則檢查號是字母“X”\n",
    "    如果 N = 11，則檢查號是數字“0”\n",
    "    如果 N 為其他數字，檢查號是數字N。\n",
    "    所以，本書的檢查號是 5。 ISBN10 書號為0-201-55802-5。\n",
    "\n",
    "ISBN-13 檢查號的計算方法：\n",
    "假設某國際標準書號號碼前 12 位是：978-0-201-55802-\n",
    "\n",
    "    (1)計算加權和S： S = 9*1+7*3+8*1+0*3+2*1+0*3+1*1+5*3+5*1+8*3+0*1+2*3 = 91\n",
    "    (2)計算餘數M：M = S mod 10 = 91 mod 10 = 1\n",
    "    (3)計算差 N ： N = 10 - M = 10 - 1 = 9\n",
    "    如果 N = 10，則檢查號是數字“0”。\n",
    "    如果 N 為其他數字，檢查號是數字N。\n",
    "所以，本書的檢查號是 9。 ISBN13 書號為978-0-201-55802-9。\n",
    "\n",
    "以上為本題目的解釋\n",
    "\n"
   ]
  },
  {
   "cell_type": "code",
   "execution_count": null,
   "metadata": {},
   "outputs": [],
   "source": []
  }
 ],
 "metadata": {
  "colab": {
   "collapsed_sections": [],
   "name": "中階二",
   "provenance": []
  },
  "kernelspec": {
   "display_name": "Python 3 (ipykernel)",
   "language": "python",
   "name": "python3"
  },
  "language_info": {
   "codemirror_mode": {
    "name": "ipython",
    "version": 3
   },
   "file_extension": ".py",
   "mimetype": "text/x-python",
   "name": "python",
   "nbconvert_exporter": "python",
   "pygments_lexer": "ipython3",
   "version": "3.9.7"
  }
 },
 "nbformat": 4,
 "nbformat_minor": 1
}
