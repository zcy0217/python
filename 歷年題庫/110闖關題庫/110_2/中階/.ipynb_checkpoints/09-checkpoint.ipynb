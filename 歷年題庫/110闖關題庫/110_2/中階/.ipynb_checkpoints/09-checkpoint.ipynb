{
 "cells": [
  {
   "cell_type": "markdown",
   "id": "a926843d",
   "metadata": {},
   "source": [
    "# 第九題"
   ]
  },
  {
   "cell_type": "markdown",
   "id": "0053b758",
   "metadata": {},
   "source": [
    "# 超開心\n",
    "是由以下過程定義的:\n",
    "\n",
    "    ●從任何正整數開始，將數字替換為其數字的平方和\n",
    "    ●重複這個過程，直到數字等於 1（它將保持不變），或者它在不包括 1的循環中無限循環\n",
    "    ●這個過程以 1 結束的。\n",
    "    \n",
    "EX1:\n",
    "\n",
    "    Input: n = 19\n",
    "    Output: true\n",
    "    \n",
    "Explanation:\n",
    "\n",
    "$ 1^2 + 9^2 = 82 $\n",
    "\n",
    "$ 8^2 + 2^2 = 68$\n",
    "\n",
    "$ 6^2 + 8^2 = 100$\n",
    "\n",
    "$ 1^2 + 0^2 + 0^2 = 1$\n",
    "\n",
    "EX2:\n",
    "\n",
    "    Input: n = 2\n",
    "    Output: false"
   ]
  },
  {
   "cell_type": "code",
   "execution_count": 6,
   "id": "495cc426",
   "metadata": {},
   "outputs": [
    {
     "data": {
      "text/plain": [
       "False"
      ]
     },
     "execution_count": 6,
     "metadata": {},
     "output_type": "execute_result"
    }
   ],
   "source": [
    "def isHappy(n):\n",
    "    lst = [n]\n",
    "    while True:\n",
    "        sum = 0\n",
    "        while n>0:\n",
    "            sum += (n%10)**2\n",
    "            n //= 10\n",
    "\n",
    "        if sum == 1:\n",
    "            return True\n",
    "        elif sum in lst:\n",
    "            return False\n",
    "        else:\n",
    "            n = sum\n",
    "            lst.append(sum)\n",
    "isHappy(2)"
   ]
  }
 ],
 "metadata": {
  "kernelspec": {
   "display_name": "Python 3 (ipykernel)",
   "language": "python",
   "name": "python3"
  },
  "language_info": {
   "codemirror_mode": {
    "name": "ipython",
    "version": 3
   },
   "file_extension": ".py",
   "mimetype": "text/x-python",
   "name": "python",
   "nbconvert_exporter": "python",
   "pygments_lexer": "ipython3",
   "version": "3.8.11"
  }
 },
 "nbformat": 4,
 "nbformat_minor": 5
}
