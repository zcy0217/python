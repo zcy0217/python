{
 "cells": [
  {
   "cell_type": "markdown",
   "metadata": {},
   "source": [
    "# 第一題\n",
    "身為中金院大三生的學生啊明，其實私下的身分是超能力者，不時能看到人額頭上的幸運指數，在每天的觀察和數學當中發現到一個特殊公式!\n",
    "可以用生日計算出一個人的人生平均幸運值!\n",
    "(上面文字看看就好別太認真) \n",
    "\n",
    "\n",
    "M = 月\n",
    "D = 日\n",
    "S = (M*2+D)%3 \n",
    "得到 S 的值，再依照 S 的值從 0 到 2 分別給與 普通、吉、大吉 等三種不同的運勢 \n",
    "\n",
    "\n",
    "##限制##:\n",
    "只能以兩行寫出\n",
    "\n",
    "\n",
    "範例輸入: 12 3 (中間空格為空白鍵一次) \n",
    "範例輸出: 普通"
   ]
  },
  {
   "cell_type": "code",
   "execution_count": null,
   "metadata": {
    "id": "ruYwfWz-Yxw-"
   },
   "outputs": [],
   "source": [
    "J = [eval(x) for x in input().split()]\n",
    "print((lambda M,D : \"普通\" if ((M*2+D)%3 == 0) else (\"吉\" if ((M*2+D)%3 == 1) else \"大吉\"))(J[0],J[1]))"
   ]
  }
 ],
 "metadata": {
  "colab": {
   "name": "中階一",
   "provenance": []
  },
  "kernelspec": {
   "display_name": "Python 3 (ipykernel)",
   "language": "python",
   "name": "python3"
  },
  "language_info": {
   "codemirror_mode": {
    "name": "ipython",
    "version": 3
   },
   "file_extension": ".py",
   "mimetype": "text/x-python",
   "name": "python",
   "nbconvert_exporter": "python",
   "pygments_lexer": "ipython3",
   "version": "3.9.7"
  }
 },
 "nbformat": 4,
 "nbformat_minor": 1
}
