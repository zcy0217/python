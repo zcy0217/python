{
 "cells": [
  {
   "cell_type": "markdown",
   "metadata": {},
   "source": [
    "# 第八題"
   ]
  },
  {
   "cell_type": "markdown",
   "metadata": {
    "id": "kLkAZTmOgtSU"
   },
   "source": [
    "建立一個字典記錄同學的成績\n",
    "\n",
    "內容如下：\n",
    "\n",
    "林小明:85\n",
    "\n",
    "曾山水:93\n",
    "\n",
    "鄭美麗:67\n",
    "\n",
    "\n",
    "輸入一個同學的姓名，如果這位同學有在字典裡面的話則輸出他的成績\n",
    "\n",
    "沒有的話則建立一個新的鍵，並讓使用者輸入其值\n",
    "\n",
    "輸入：\n",
    "\n",
    "輸入學生姓名：\n",
    ">>> 林小明\n",
    "\n",
    "輸出：\n",
    "\n",
    "林小明的成績為85\n",
    "\n",
    "輸入：\n",
    "\n",
    "輸入學生姓名：\n",
    ">>> abc\n",
    "輸入學生分數：\n",
    ">>> 100\n",
    "\n",
    "輸出：\n",
    "\n",
    "字典內容：{'林小明': 85, '曾山水': 93, '鄭美麗': 67, 'abc': '100'}\n"
   ]
  },
  {
   "cell_type": "code",
   "execution_count": null,
   "metadata": {
    "id": "DAvnxMFzgc-T"
   },
   "outputs": [],
   "source": [
    "dict1 = {\"林小明\":85, \"曾山水\":93, \"鄭美麗\":67}\n",
    "name = input(\"輸入學生姓名：\")\n",
    "b = name in dict1\n",
    "if b == True :\n",
    "    print(name+\"的成績為%d\" % int(dict1[name]))\n",
    "else:\n",
    "    score = input(\"輸入學生分數：\")\n",
    "    dict1[name] = score\n",
    "    print(\"字典內容：\"+str(dict1))"
   ]
  }
 ],
 "metadata": {
  "colab": {
   "name": "中階八.ipynb",
   "provenance": []
  },
  "kernelspec": {
   "display_name": "Python 3 (ipykernel)",
   "language": "python",
   "name": "python3"
  },
  "language_info": {
   "codemirror_mode": {
    "name": "ipython",
    "version": 3
   },
   "file_extension": ".py",
   "mimetype": "text/x-python",
   "name": "python",
   "nbconvert_exporter": "python",
   "pygments_lexer": "ipython3",
   "version": "3.9.7"
  }
 },
 "nbformat": 4,
 "nbformat_minor": 1
}
