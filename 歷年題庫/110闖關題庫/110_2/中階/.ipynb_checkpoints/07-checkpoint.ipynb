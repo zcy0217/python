{
 "cells": [
  {
   "cell_type": "markdown",
   "metadata": {
    "id": "JX7rGcwYUgFc"
   },
   "source": [
    "# 第七題"
   ]
  },
  {
   "cell_type": "markdown",
   "metadata": {
    "id": "ZiKkeMiYP1tC"
   },
   "source": [
    "給定一組串列(nums) 跟一個目標(target) 請從串列裡面面的元素找出可以湊成目標的方法\n",
    "\n",
    "EX1:\n",
    "\n",
    "    Input: nums = [2,7,11,15], target = 9\n",
    "    Output: [0,1]\n",
    "    因為:nums[0]+nums[1] = 9\n",
    "EX2:\n",
    "\n",
    "    Input: nums = [3,2,4], target = 6\n",
    "    Output: [1,2]\n",
    "    \n",
    "EX3:\n",
    "\n",
    "    Input: nums = [3,3], target = 6\n",
    "    Output: [0,1]"
   ]
  },
  {
   "cell_type": "code",
   "execution_count": null,
   "metadata": {},
   "outputs": [],
   "source": [
    "def twoSum(nums, target):\n",
    "    hash_table={}\n",
    "    for i in range(len(nums)):    # 先做一個hash table\n",
    "        hash_table[nums[i]]=i\n",
    "    for i in range(len(nums)):\n",
    "        if target-nums[i] in hash_table:\n",
    "            if hash_table[target-nums[i]] != i:\n",
    "                return [i, hash_table[target-nums[i]]]\n",
    "    \n",
    "    return []\n",
    "twoSum([2,7,11,15],9)"
   ]
  }
 ],
 "metadata": {
  "colab": {
   "collapsed_sections": [],
   "name": "中階七.ipynb",
   "provenance": []
  },
  "kernelspec": {
   "display_name": "Python 3 (ipykernel)",
   "language": "python",
   "name": "python3"
  },
  "language_info": {
   "codemirror_mode": {
    "name": "ipython",
    "version": 3
   },
   "file_extension": ".py",
   "mimetype": "text/x-python",
   "name": "python",
   "nbconvert_exporter": "python",
   "pygments_lexer": "ipython3",
   "version": "3.8.11"
  }
 },
 "nbformat": 4,
 "nbformat_minor": 1
}
