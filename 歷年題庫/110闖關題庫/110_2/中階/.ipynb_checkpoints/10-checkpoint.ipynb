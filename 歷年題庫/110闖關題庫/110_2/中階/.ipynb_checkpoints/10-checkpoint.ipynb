{
 "cells": [
  {
   "cell_type": "markdown",
   "metadata": {},
   "source": [
    "# 第十題\n",
    "\n",
    "請設計一個可以進行質因數分解的程式\n",
    "\n",
    "\n",
    "輸入：\n",
    "20\n",
    "\n",
    "\n",
    "輸出：\n",
    "20 = 2*2*5\n",
    "\n",
    "\n",
    "輸入：\n",
    "120\n",
    "\n",
    "\n",
    "輸出：\n",
    "120 = 2*2*2*3*5"
   ]
  },
  {
   "cell_type": "code",
   "execution_count": null,
   "metadata": {
    "id": "39MHLk9ko8QZ"
   },
   "outputs": [],
   "source": [
    "num = int(input())\n",
    "\n",
    "print(num, '= ', end = '')\n",
    "\n",
    "for i in range(2, num + 1) :\n",
    "  while True :\n",
    "    if num % i == 0 :\n",
    "      print(i, end = '')\n",
    "      num = num / i\n",
    "      if num == 1 :\n",
    "        break\n",
    "      else :\n",
    "        print('*', end = '')\n",
    "    else :\n",
    "      break"
   ]
  }
 ],
 "metadata": {
  "colab": {
   "collapsed_sections": [],
   "name": "中階十.ipynb",
   "provenance": []
  },
  "kernelspec": {
   "display_name": "Python 3 (ipykernel)",
   "language": "python",
   "name": "python3"
  },
  "language_info": {
   "codemirror_mode": {
    "name": "ipython",
    "version": 3
   },
   "file_extension": ".py",
   "mimetype": "text/x-python",
   "name": "python",
   "nbconvert_exporter": "python",
   "pygments_lexer": "ipython3",
   "version": "3.9.7"
  }
 },
 "nbformat": 4,
 "nbformat_minor": 1
}
