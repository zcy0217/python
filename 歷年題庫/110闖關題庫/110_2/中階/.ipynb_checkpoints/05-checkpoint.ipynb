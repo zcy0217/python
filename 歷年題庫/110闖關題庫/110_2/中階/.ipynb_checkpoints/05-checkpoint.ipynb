{
 "cells": [
  {
   "cell_type": "markdown",
   "metadata": {},
   "source": [
    "# 第五題\n",
    "今天!!!!終於要發期中考成績了~小明興高采烈的進到教室但老師卻用迷之笑容看著他，小明突然意識到情況不對。是不是要被當了??\n",
    "老師說你今天考了n科，每科的滿分是100，如果你平均大於59分就是過ㄌ!\n",
    "\n",
    "如果被當了輸出yes  如果沒有被當輸出no\n",
    "\n",
    "請寫一個程式 第一行輸入有幾筆成績要輸入 接著輸入成績\n",
    "\n",
    "輸入時  幾筆資料 & 成績  是同一行輸入!\n",
    "\n",
    "輸入:\n",
    "\n",
    "    數量(n科)&成績(各科成績)\n",
    "\n",
    "1#\n",
    "\n",
    "    Input: 1  60\n",
    "    Output: NO你沒有被當\n",
    "\n",
    "2#\n",
    "\n",
    "    Input: 5  61 61 61 61 21\n",
    "    Output: yes你被當了\n"
   ]
  },
  {
   "cell_type": "code",
   "execution_count": 2,
   "metadata": {
    "id": "66lOaJ9yRGSM"
   },
   "outputs": [
    {
     "name": "stdout",
     "output_type": "stream",
     "text": [
      ":1 59\n",
      "yes你被當了\n"
     ]
    }
   ],
   "source": [
    "number = [int(i) for i in input(\":\").split()]\n",
    "print(\"no你沒有被當\" if (sum(number[1:])/number[0])>=60 else \"yes你被當了\")"
   ]
  }
 ],
 "metadata": {
  "colab": {
   "collapsed_sections": [],
   "name": "中階五",
   "provenance": []
  },
  "kernelspec": {
   "display_name": "Python 3 (ipykernel)",
   "language": "python",
   "name": "python3"
  },
  "language_info": {
   "codemirror_mode": {
    "name": "ipython",
    "version": 3
   },
   "file_extension": ".py",
   "mimetype": "text/x-python",
   "name": "python",
   "nbconvert_exporter": "python",
   "pygments_lexer": "ipython3",
   "version": "3.8.11"
  }
 },
 "nbformat": 4,
 "nbformat_minor": 1
}
