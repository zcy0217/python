{
 "cells": [
  {
   "cell_type": "markdown",
   "metadata": {},
   "source": [
    "# 第五題\n",
    "三角形除了是最基本的多邊形外，亦可進一步細分為鈍角三形、直角三角形及銳角三角形。 \n",
    "請設計程式以讀入三個線段的長度判斷並輸出此三線段可否構成三角形？若可，判斷 並輸出其所屬三角形類型。 \n",
    "提示：若a、b、c為三個線段的邊長，且c為最大值 \n",
    "\n",
    "\n",
    "輸入說明:\n",
    "\n",
    "輸入僅一行包含三正整數，三正整數皆小於 30,001，兩數之間有一空白。 \n",
    "\n",
    "\n",
    "輸出說明: \n",
    "輸出共有兩行，第一行由小而大印出此三正整數，兩字之間以一個空白格間格，最後 一個數字後不應有空白；第二行輸出三角形的類型：\n",
    "\n",
    "　　\n",
    "        若無法構成三角形時輸出「No」；\n",
    "\n",
    "　　\n",
    "        若構成鈍角三形時輸出「Obtuse」；\n",
    "\n",
    "　　\n",
    "        若直角三形時輸出「Right」；\n",
    "\n",
    "　　\n",
    "        若銳角三形時輸出「Acute」。 \n",
    "\n",
    "\n",
    "範例輸入1#:\n",
    "3 4 5 \n",
    "範例輸出1#:\n",
    "3 4 5 \n",
    "Right \n",
    "\n",
    "\n",
    "範例輸入2#:\n",
    "101 100 99 \n",
    "範例輸出2#:\n",
    "99 100 101 \n",
    "Acute\n",
    "\n",
    "\n",
    "範例輸入3#:\n",
    "10 10 100 \n",
    "範例輸出3#:\n",
    "10 10 100 \n",
    "No"
   ]
  },
  {
   "cell_type": "code",
   "execution_count": null,
   "metadata": {
    "id": "66lOaJ9yRGSM"
   },
   "outputs": [],
   "source": [
    "number = [int(x) for x in input().split()]\n",
    "number.sort()\n",
    "try:\n",
    "    a,b,c = (number[0],number[1],number[2])\n",
    "    if a+b < c:\n",
    "        for i in number:\n",
    "                print(i,end=' ')\n",
    "        print('\\nNo')\n",
    "    else:\n",
    "        if a*a+b*b == c*c:\n",
    "            for i in number:\n",
    "                print(i,end=' ')\n",
    "            print('\\nRight')\n",
    "        elif a*a+b*b < c*c:\n",
    "            for i in number:\n",
    "                print(i,end=' ')\n",
    "            print('\\nObtuse')\n",
    "        else:\n",
    "            for i in number:\n",
    "                print(i,end=' ')\n",
    "            print('\\nAcute')  \n",
    "except :\n",
    "    print(\"輸入錯誤\")"
   ]
  }
 ],
 "metadata": {
  "colab": {
   "collapsed_sections": [],
   "name": "中階五",
   "provenance": []
  },
  "kernelspec": {
   "display_name": "Python 3 (ipykernel)",
   "language": "python",
   "name": "python3"
  },
  "language_info": {
   "codemirror_mode": {
    "name": "ipython",
    "version": 3
   },
   "file_extension": ".py",
   "mimetype": "text/x-python",
   "name": "python",
   "nbconvert_exporter": "python",
   "pygments_lexer": "ipython3",
   "version": "3.9.7"
  }
 },
 "nbformat": 4,
 "nbformat_minor": 1
}
