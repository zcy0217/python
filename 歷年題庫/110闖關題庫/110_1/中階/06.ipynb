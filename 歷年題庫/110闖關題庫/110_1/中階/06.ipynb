{
  "nbformat": 4,
  "nbformat_minor": 0,
  "metadata": {
    "colab": {
      "name": "中階六.ipynb",
      "provenance": [],
      "collapsed_sections": []
    },
    "kernelspec": {
      "name": "python3",
      "display_name": "Python 3"
    },
    "language_info": {
      "name": "python"
    }
  },
  "cells": [
    {
      "cell_type": "markdown",
      "metadata": {
        "id": "65By8jc2PS9V"
      },
      "source": [
        "【中階六 加法問題】\n",
        "\n",
        "小明自告奮勇幫宿舍裡的夥伴訂飲料，於是到了每一間房間詢問。\n",
        "\n",
        "但小明希望從每一間房間一次收齊飲料錢，所以設計了一個程式可以幫他計算每間房共要付多少錢。\n",
        "\n",
        "輸入：\n",
        "\n",
        "第一行一個整數 T\n",
        "\n",
        "代表有 T 個人要訂飲料\n",
        "\n",
        "每房飲料錢加總一行\n",
        "\n",
        "包括多個以空白隔開的正整數\n",
        "\n",
        "輸出：\n",
        "\n",
        "輸出飲料錢相加的結果\n",
        "\n",
        "範例：\n",
        "\n",
        "3\n",
        "\n",
        "25 + 35 + 60 + 45\n",
        "\n",
        "55 + 80 + 110 + 30\n",
        "\n",
        "75 + 65\n",
        "\n",
        "輸出結果：\n",
        "\n",
        "165\n",
        "\n",
        "275\n",
        "\n",
        "140\n",
        "\n",
        "p.s. 小明不喜歡用計算機，小明很機車"
      ]
    },
    {
      "cell_type": "code",
      "metadata": {
        "id": "lehSFI9dMp8q"
      },
      "source": [
        "count = int(input())\n",
        "text = []\n",
        "for i in range(count) :\n",
        "  text.append(str(input()))\n",
        "for i in range(len(text)) :\n",
        "  text[i] = text[i].replace(\" \", \"\")\n",
        "for i in range(count) :\n",
        "  plus = []\n",
        "  a = 0\n",
        "  s = 0\n",
        "  for j in range(len(text[i])) :\n",
        "    if text[i][j] == \"+\" :\n",
        "      plus.append(j)\n",
        "  for k in range(len(plus)) :\n",
        "    a += int(text[i][s:plus[k]])\n",
        "    s = plus[k]+1\n",
        "  a += int(text[i][text[i].rfind(\"+\")+1:])\n",
        "  print(a)"
      ],
      "execution_count": null,
      "outputs": []
    }
  ]
}