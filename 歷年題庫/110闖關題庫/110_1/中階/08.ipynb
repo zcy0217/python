{
  "nbformat": 4,
  "nbformat_minor": 0,
  "metadata": {
    "colab": {
      "name": "中階八.ipynb",
      "provenance": []
    },
    "kernelspec": {
      "name": "python3",
      "display_name": "Python 3"
    },
    "language_info": {
      "name": "python"
    }
  },
  "cells": [
    {
      "cell_type": "markdown",
      "metadata": {
        "id": "kLkAZTmOgtSU"
      },
      "source": [
        "建立一個字典記錄同學的成績\n",
        "\n",
        "內容如下：\n",
        "\n",
        "林小明:85\n",
        "\n",
        "曾山水:93\n",
        "\n",
        "鄭美麗:67\n",
        "\n",
        "\n",
        "輸入一個同學的姓名，如果這位同學有在字典裡面的話則輸出他的成績\n",
        "\n",
        "沒有的話則建立一個新的鍵，並讓使用者輸入其值\n",
        "\n",
        "輸入：\n",
        "\n",
        "輸入學生姓名：\n",
        ">>> 林小明\n",
        "\n",
        "輸出：\n",
        "\n",
        "林小明的成績為85\n",
        "\n",
        "輸入：\n",
        "\n",
        "輸入學生姓名：\n",
        ">>> abc\n",
        "輸入學生分數：\n",
        ">>> 100\n",
        "\n",
        "輸出：\n",
        "\n",
        "字典內容：{'林小明': 85, '曾山水': 93, '鄭美麗': 67, 'abc': '100'}\n"
      ]
    },
    {
      "cell_type": "code",
      "metadata": {
        "id": "DAvnxMFzgc-T"
      },
      "source": [
        "dict1 = {\"林小明\":85, \"曾山水\":93, \"鄭美麗\":67}\n",
        "name = input(\"輸入學生姓名：\")\n",
        "b = name in dict1\n",
        "if b == True :\n",
        "    print(name+\"的成績為%d\" % int(dict1[name]))\n",
        "else:\n",
        "    score = input(\"輸入學生分數：\")\n",
        "    dict1[name] = score\n",
        "    print(\"字典內容：\"+str(dict1))"
      ],
      "execution_count": null,
      "outputs": []
    }
  ]
}