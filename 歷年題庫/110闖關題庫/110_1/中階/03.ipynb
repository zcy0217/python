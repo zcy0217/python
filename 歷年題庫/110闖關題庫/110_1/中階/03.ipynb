{
 "cells": [
  {
   "cell_type": "markdown",
   "metadata": {},
   "source": [
    "# 第三題\n",
    "求救!!!求救!!!!!快點~前線傳來訊號了!!! 你發現你身處戰場當中 需要解碼援軍救援訊號 請製作一程式 以方便解碼 \n",
    "訊號如下\n",
    "A .- B -... C -.-. D -..\n",
    "E . F ..-. G --. H ....\n",
    "I .. J .--- K -.- L .-..\n",
    "M -- N -. O --- P .--.\n",
    "Q --.- R .-. S ... T -\n",
    "U ..- V ...- W .-- X -..-\n",
    "Y -.-- Z --..\n",
    "第 1 列的數字n 代表有幾筆資料要測試  2<=n<=5 第二列起為測試資料，\n",
    "之後每列為每筆的測試資料，即是要解譯的密碼，每列密碼字元中間以空白隔開。\n",
    "每列密碼對應到的英文字(字元數) <=12 \n",
    "範例輸入\n",
    "2\n",
    "... --- ...\n",
    ".... . .-.. .--. \n",
    "範例輸出 \n",
    "SOS \n",
    "HELP"
   ]
  },
  {
   "cell_type": "code",
   "execution_count": null,
   "metadata": {
    "colab": {
     "base_uri": "https://localhost:8080/"
    },
    "id": "v11IerVOgptP",
    "outputId": "fb6b3131-dcf5-4eb7-93d0-e42b8d058bea"
   },
   "outputs": [
    {
     "name": "stdout",
     "output_type": "stream",
     "text": [
      "請輸入次數:2\n",
      "請輸入密碼:--..\n",
      "請輸入密碼:-.--\n",
      "Z\n",
      "Y\n"
     ]
    }
   ],
   "source": [
    "code = {\n",
    "'.-':'A',\n",
    "'-...':'B',\n",
    "'-.-.':'C',\n",
    "'-..':'D',\n",
    "'.':'E',        \n",
    "'..-.':'F',\n",
    "'--.':'G',\n",
    "'....':'H',\n",
    "'..':'I',\n",
    "'.---':'J',\n",
    "'-.-':'K',\n",
    "'.-..':'L',\n",
    "'--':'M',\n",
    "'-.':'N',\n",
    "'---':'O',\n",
    "'.--.':'P',\n",
    "'--.-':'Q',\n",
    "'.-.':'R',\n",
    "'...':'S',\n",
    "'-':'T',\n",
    "'..-':'U',\n",
    "'...-':'V',\n",
    "'.--':'W',\n",
    "'-..-':'X',\n",
    "'-.--':'Y',\n",
    "'--..':'Z',}\n",
    "word = []\n",
    "time = int(input(\"請輸入次數:\"))\n",
    "if 2 <= time <= 5:\n",
    "    for i in range(time):\n",
    "        code_list = [str(x) for x in input(\"請輸入密碼:\").split()]\n",
    "        for z in range(len(code_list)):\n",
    "            word.append(code.get(code_list[z]))\n",
    "        word.append('\\n')\n",
    "for x in word:\n",
    "    print(x,end = '')"
   ]
  },
  {
   "cell_type": "code",
   "execution_count": null,
   "metadata": {
    "colab": {
     "base_uri": "https://localhost:8080/"
    },
    "id": "rgUYcfWSxGEa",
    "outputId": "df438d2b-50df-4410-8c97-06a1a988b449"
   },
   "outputs": [
    {
     "name": "stdout",
     "output_type": "stream",
     "text": [
      "5\n",
      "4 3 1 2\n",
      "[1, 2, 3, 4]\n"
     ]
    }
   ],
   "source": [
    "number =  int(input(''))\n",
    "number_input = input('')\n",
    "for i in range(number):\n",
    "    number_list = [int(x) for x in number_input.split()]\n",
    "    number_list.sort()\n",
    "print(number_list)\n"
   ]
  }
 ],
 "metadata": {
  "colab": {
   "collapsed_sections": [],
   "name": "中階三",
   "provenance": []
  },
  "kernelspec": {
   "display_name": "Python 3 (ipykernel)",
   "language": "python",
   "name": "python3"
  },
  "language_info": {
   "codemirror_mode": {
    "name": "ipython",
    "version": 3
   },
   "file_extension": ".py",
   "mimetype": "text/x-python",
   "name": "python",
   "nbconvert_exporter": "python",
   "pygments_lexer": "ipython3",
   "version": "3.9.7"
  }
 },
 "nbformat": 4,
 "nbformat_minor": 1
}
