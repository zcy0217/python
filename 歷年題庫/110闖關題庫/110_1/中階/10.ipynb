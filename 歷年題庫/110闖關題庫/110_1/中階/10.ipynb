{
  "nbformat": 4,
  "nbformat_minor": 0,
  "metadata": {
    "colab": {
      "name": "中階十.ipynb",
      "provenance": [],
      "collapsed_sections": []
    },
    "kernelspec": {
      "name": "python3",
      "display_name": "Python 3"
    },
    "language_info": {
      "name": "python"
    }
  },
  "cells": [
    {
      "cell_type": "code",
      "metadata": {
        "id": "39MHLk9ko8QZ"
      },
      "source": [
        "num = int(input())\n",
        "\n",
        "print(num, '= ', end = '')\n",
        "\n",
        "for i in range(2, num + 1) :\n",
        "  while True :\n",
        "    if num % i == 0 :\n",
        "      print(i, end = '')\n",
        "      num = num / i\n",
        "      if num == 1 :\n",
        "        break\n",
        "      else :\n",
        "        print('*', end = '')\n",
        "    else :\n",
        "      break"
      ],
      "execution_count": null,
      "outputs": []
    }
  ]
}