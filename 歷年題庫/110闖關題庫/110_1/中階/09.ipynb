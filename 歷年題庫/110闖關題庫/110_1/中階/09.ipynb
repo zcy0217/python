{
  "nbformat": 4,
  "nbformat_minor": 0,
  "metadata": {
    "colab": {
      "name": "中階九.ipynb",
      "provenance": [],
      "collapsed_sections": []
    },
    "kernelspec": {
      "name": "python3",
      "display_name": "Python 3"
    },
    "language_info": {
      "name": "python"
    }
  },
  "cells": [
    {
      "cell_type": "code",
      "metadata": {
        "id": "UpNwNcVWmBH4"
      },
      "source": [
        "a, b = map(int, input().split())\n",
        "\n",
        "for i in range(b) :\n",
        "  if i == 0 or i == (b - 1) :\n",
        "    length = '*' * a\n",
        "    print(\" \".join(length))\n",
        "  else :\n",
        "    height = \"**\"\n",
        "    space = ' ' * (2 * a - 3)\n",
        "    print(space.join(height))"
      ],
      "execution_count": null,
      "outputs": []
    }
  ]
}