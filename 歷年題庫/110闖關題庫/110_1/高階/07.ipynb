{
  "nbformat": 4,
  "nbformat_minor": 0,
  "metadata": {
    "colab": {
      "name": "高階七.ipynb",
      "provenance": [],
      "collapsed_sections": []
    },
    "kernelspec": {
      "name": "python3",
      "display_name": "Python 3"
    },
    "language_info": {
      "name": "python"
    }
  },
  "cells": [
    {
      "cell_type": "markdown",
      "metadata": {
        "id": "x3wAZ1zfKELf"
      },
      "source": [
        "因為臺江大道上實在是有太多測速照相機了，所以你跟高階五的人一樣需要來設計一個測量速度的程式\n",
        "\n",
        "建立一個if_exist函式來確認輸入的目標檔案名是否存在\n",
        "\n",
        "\n",
        "存在的話則主動拋出例外表示'檔案已存在'，反之則拋出'檔案建立完成'\n",
        "\n",
        "並建立一個CheckSpeed函式來確立限速\n",
        "\n",
        "如果低於70公里的話則拋出'速度太慢了！'，反之則拋出'已經超速了！'\n",
        "\n",
        "將上述結果寫入文字檔中\n",
        "\n",
        "第一回結果：\n",
        "\n",
        ">>> speedtest.txt\n",
        "\n",
        "檔案建立完成\n",
        "\n",
        ">>> 60\n",
        "\n",
        "錯誤資訊寫入完成！\n",
        "\n",
        "第二回結果：\n",
        "\n",
        ">>> speedtest.txt\n",
        "\n",
        "檔案已存在\n",
        "\n",
        ">>> 120\n",
        "\n",
        "錯誤資訊寫入完成！\n",
        "\n",
        "第三回結果：\n",
        "\n",
        ">>> speedtest.txt\n",
        "\n",
        "檔案已存在\n",
        "\n",
        ">>> 100\n",
        "\n",
        "資訊寫入完成！\n",
        "\n",
        "文字檔案內容結果：\n",
        "\n",
        "第1輪結果：速度太慢了！\n",
        "\n",
        "第2輪結果：已經超速了！\n",
        "\n",
        "第3輪結果，目前時速：100"
      ]
    },
    {
      "cell_type": "code",
      "metadata": {
        "id": "dERc_5NvJ_b-"
      },
      "source": [
        "import os\n",
        "import traceback\n",
        "\n",
        "def if_exist(name) :\n",
        "  if os.path.exists(name) :\n",
        "    raise Exception(\"檔案已存在\")\n",
        "  if not os.path.exists(name) :\n",
        "    f = open(\"{}\".format(filename),\"a\")\n",
        "    f.close()\n",
        "    raise Exception(\"檔案建立完成\")\n",
        "\n",
        "def CheckSpeed(speed) :\n",
        "    if speed < 70 :\n",
        "        raise Exception(\"速度太慢了！\")\n",
        "    if speed > 110 :\n",
        "        raise Exception(\"已經超速了！\")\n",
        "\n",
        "filename = str(input())\n",
        "\n",
        "try :\n",
        "  if_exist(filename)\n",
        "except Exception as e :\n",
        "  print(e)\n",
        "  speed = int(input())\n",
        "  try :\n",
        "    CheckSpeed(speed)\n",
        "  except Exception as e:\n",
        "    with open(\"{}\".format(filename),\"r\") as f :\n",
        "      line = len(f.readlines())\n",
        "    with open(\"{}\".format(filename),\"a+\") as f :\n",
        "      f.write('第{}輪結果，'.format(line + 1) + str(e) + '\\n')\n",
        "    print(\"錯誤資訊寫入完成！\")\n",
        "  else :\n",
        "    with open(\"{}\".format(filename),\"r\") as f :\n",
        "      line = len(f.readlines())\n",
        "    with open(\"{}\".format(filename),\"a+\") as f :\n",
        "      f.write('第{}輪結果，目前時速：{}'.format(line + 1, speed))\n",
        "    print(\"資訊寫入完成！\")\n"
      ],
      "execution_count": null,
      "outputs": []
    }
  ]
}