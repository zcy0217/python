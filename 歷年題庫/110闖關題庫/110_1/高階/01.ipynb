{
  "nbformat": 4,
  "nbformat_minor": 0,
  "metadata": {
    "colab": {
      "name": "高階題一.ipynb",
      "provenance": [],
      "collapsed_sections": []
    },
    "kernelspec": {
      "name": "python3",
      "display_name": "Python 3"
    },
    "language_info": {
      "name": "python"
    }
  },
  "cells": [
    {
      "cell_type": "markdown",
      "metadata": {
        "id": "kJYtYsxGVELe"
      },
      "source": [
        "【高階題一 喜歡收藏質數的人】\n",
        "\n",
        "質數本身很有魅力，會背質數的人更有魅力，會背質數更會把他收藏起來的人是有病\n",
        "\n",
        "今天你將幫助這位喜歡質數到腦袋生病的人製作一份質數表，方法如下：\n",
        "\n",
        "請自訂一個判斷是否為質數的函數\n",
        "將輸出結果寫入一個名為\"prime_list\"的txt檔，每個質數需分行\n",
        "在現在的路徑建立一個名為\"質數資料夾\"的目錄\n",
        "將建立在現在路徑的\"prime_list\"的文字檔搬移到\"質數資料夾\"內\n",
        "\n",
        "輸入：\n",
        "第一行整數Ｔ代表從２到Ｔ的數字範圍\n",
        "\n",
        "輸出：\n",
        "目標檔案路徑\n",
        "\n",
        "範例結果：\n",
        "'/content/質數資料夾/prime_list.txt'\n",
        "（請在colab上完成）"
      ]
    },
    {
      "cell_type": "code",
      "metadata": {
        "id": "iZQmt0uSUogp",
        "outputId": "acbb033b-d7a8-4506-cbaa-b61ca280fdac",
        "colab": {
          "base_uri": "https://localhost:8080/",
          "height": 52
        }
      },
      "source": [
        "def is_prime(a) :\n",
        "  for i in range(2, a) :\n",
        "    if a % i == 0 :\n",
        "      return False\n",
        "  return True\n",
        "\n",
        "n = int(input())\n",
        "prime = []\n",
        "\n",
        "for i in range(2, n+1) :\n",
        "  i_is_prime = is_prime(i)\n",
        "  if i_is_prime :\n",
        "    prime.append(i)\n",
        "\n",
        "with open(\"prime_list.txt\", 'w+') as f :\n",
        "  for i in range(len(prime)) :\n",
        "    f.write(str(prime[i]))\n",
        "    f.write(\"\\n\")\n",
        "\n",
        "import os\n",
        "\n",
        "dir = \"質數資料夾\"\n",
        "if not os.path.exists(dir) :\n",
        "  os.mkdir(dir)\n",
        "else :\n",
        "  print(dir + \"已經建立！\")\n",
        "\n",
        "import shutil\n",
        "testfile = os.path.dirname(os.path.abspath(\"高階題一.ipynb\")) + \"/\" + dir\n",
        "shutil.move(\"prime_list.txt\", testfile)"
      ],
      "execution_count": null,
      "outputs": [
        {
          "name": "stdout",
          "output_type": "stream",
          "text": [
            "20\n"
          ]
        },
        {
          "output_type": "execute_result",
          "data": {
            "application/vnd.google.colaboratory.intrinsic+json": {
              "type": "string"
            },
            "text/plain": [
              "'/content/質數資料夾/prime_list.txt'"
            ]
          },
          "metadata": {},
          "execution_count": 1
        }
      ]
    }
  ]
}