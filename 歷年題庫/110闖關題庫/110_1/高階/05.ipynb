{
  "nbformat": 4,
  "nbformat_minor": 0,
  "metadata": {
    "colab": {
      "name": "高階五.ipynb",
      "provenance": [],
      "collapsed_sections": []
    },
    "kernelspec": {
      "name": "python3",
      "display_name": "Python 3"
    },
    "language_info": {
      "name": "python"
    }
  },
  "cells": [
    {
      "cell_type": "markdown",
      "metadata": {
        "id": "_qaVSis7jZeU"
      },
      "source": [
        "臺江大道上有許多測速照相機，請你設計一個能夠辨識是否超速的程式\n",
        "\n",
        "請建立MyException繼承RuntimeError類別 並建立建構式接收參數arg\n",
        "\n",
        "主動拋出速度過快 太慢和自訂的例外\n",
        "\n",
        "建立CheckSpeed函式 低於70或高於110的話就主動拋出速度過慢或太快例外\n",
        "\n",
        "(什麼你說臺江速限70？)\n",
        "\n",
        "\n",
        "輸入會有三個數值\n",
        "\n",
        "輸入：\n",
        "\n",
        "60 100 150\n",
        "\n",
        "輸出：\n",
        "\n",
        "現在速度：60,速度太慢了！\n",
        "\n",
        "目前時速：100,快樂駕駛，平安返家！\n",
        "\n",
        "現在速度：150,已經超速了！"
      ]
    },
    {
      "cell_type": "code",
      "metadata": {
        "id": "3NypyTTOjWHo"
      },
      "source": [
        "class MyException(RuntimeError) :\n",
        "    def __init__(self, arg) :\n",
        "        self.arg = arg\n",
        "\n",
        "def CheckSpeed(speed) :\n",
        "    if speed < 70 :\n",
        "        raise Exception(\"速度太慢了！\")\n",
        "    if speed > 110 :\n",
        "        raise Exception(\"已經超速了！\")\n",
        "    else :\n",
        "        raise MyException(\"快樂駕駛，平安返家！\")\n",
        "\n",
        "def converTuple(tup) : #tuple轉換為字串\n",
        "    str = ''.join(tup)\n",
        "    return str\n",
        "\n",
        "a, b, c = map(int, input().split())\n",
        "\n",
        "for speed in (a, b, c) :\n",
        "    try :\n",
        "        CheckSpeed(speed)\n",
        "    except MyException as e : #接收MyException的例外\n",
        "        err = converTuple(e.args) #tuple轉換為串字\n",
        "        print(\"目前時速：{},{}\".format(speed,err))\n",
        "    except Exception as e :\n",
        "        print(\"現在速度：{},{}\".format(speed,e))"
      ],
      "execution_count": null,
      "outputs": []
    }
  ]
}