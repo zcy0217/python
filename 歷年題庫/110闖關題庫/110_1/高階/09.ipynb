{
  "nbformat": 4,
  "nbformat_minor": 0,
  "metadata": {
    "colab": {
      "name": "高階九.ipynb",
      "provenance": [],
      "collapsed_sections": []
    },
    "kernelspec": {
      "name": "python3",
      "display_name": "Python 3"
    },
    "language_info": {
      "name": "python"
    }
  },
  "cells": [
    {
      "cell_type": "markdown",
      "metadata": {
        "id": "WUzzCyDJ8W6z"
      },
      "source": [
        "請設計一個能夠比數字大小的函式\n",
        "\n",
        "利用亂數函式來決定程式要出什麼數字\n",
        "\n",
        "\n",
        "輸入會有兩個整數Ｚ\n",
        "\n",
        "第一個數為決定範圍右邊界的數字，左邊界預設為0\n",
        "\n",
        "第二個數為你要出的數字\n",
        "\n",
        "範例輸入：\n",
        "5 2\n",
        "\n",
        "範例結果：\n",
        "我出1\n",
        "你贏了\n",
        "\n",
        "範例輸入：\n",
        "10 0\n",
        "\n",
        "範例結果：\n",
        "我出2\n",
        "你輸了\n",
        "\n",
        "範例輸入：\n",
        "1 0\n",
        "\n",
        "範例結果：\n",
        "我出0\n",
        "你跟我心意相通\n",
        "\n",
        "範例輸入：\n",
        "1 1\n",
        "\n",
        "範例結果：\n",
        "你的數字不在範圍內\n",
        "\n",
        "範例輸入：\n",
        "-1 5\n",
        "\n",
        "範例結果：\n",
        "empty range for randrange() (0,0, 0)\n"
      ]
    },
    {
      "cell_type": "code",
      "metadata": {
        "id": "ZntrT1zs8UeC"
      },
      "source": [
        "import random as r\n",
        "\n",
        "def compare(rg, n) :\n",
        "  result = r.randint(0, rg)\n",
        "  if n not in range(0, rg) :\n",
        "    print('你的數字不在範圍內')\n",
        "  elif result > n :\n",
        "    print(\"我出{}\".format(result))\n",
        "    print('你輸了')\n",
        "  elif result < n :\n",
        "    print(\"我出{}\".format(result))\n",
        "    print('你贏了')\n",
        "  elif result == n :\n",
        "    print(\"我出{}\".format(result))\n",
        "    print('你跟我心意相通')\n",
        "\n",
        "_range_, num = map(int, input().split())\n",
        "\n",
        "try :\n",
        "  compare(_range_, num)\n",
        "except Exception as e :\n",
        "  print(e)\n"
      ],
      "execution_count": null,
      "outputs": []
    }
  ]
}