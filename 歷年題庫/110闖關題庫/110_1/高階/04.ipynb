{
  "nbformat": 4,
  "nbformat_minor": 0,
  "metadata": {
    "colab": {
      "name": "高階四.ipynb",
      "provenance": [],
      "collapsed_sections": []
    },
    "kernelspec": {
      "name": "python3",
      "display_name": "Python 3"
    },
    "language_info": {
      "name": "python"
    }
  },
  "cells": [
    {
      "cell_type": "markdown",
      "metadata": {
        "id": "KEMBck7HTi3P"
      },
      "source": [
        "直覺敏銳的你發現到colab的檔案上傳區有個名為sample_data的資料夾\n",
        "\n",
        "而裡面有一個用Markdown語法編寫的文字檔案\n",
        "\n",
        "請試著將其內容讀取出來\n",
        "\n",
        "範例結果：\n",
        "\n",
        "This directory includes a few sample datasets to get you started.\n",
        "*   `california_housing_data*.csv` is California housing data from the 1990 US\n",
        "    Census; more information is available at:\n",
        "    https://developers.google.com/machine-learning/crash-course/california-housing-data-description\n",
        "*   `mnist_*.csv` is a small sample of the\n",
        "    [MNIST database](https://en.wikipedia.org/wiki/MNIST_database), which is\n",
        "    described at: http://yann.lecun.com/exdb/mnist/\n",
        "*   `anscombe.json` contains a copy of\n",
        "    [Anscombe's quartet](https://en.wikipedia.org/wiki/Anscombe%27s_quartet); it\n",
        "    was originally described in\n",
        "    Anscombe, F. J. (1973). 'Graphs in Statistical Analysis'. American\n",
        "    Statistician. 27 (1): 17-21. JSTOR 2682899.\n",
        "    and our copy was prepared by the\n",
        "    [vega_datasets library](https://github.com/altair-viz/vega_datasets/blob/4f67bdaad10f45e3549984e17e1b3088c731503d/vega_datasets/_data/anscombe.json).\n",
        "\t"
      ]
    },
    {
      "cell_type": "code",
      "metadata": {
        "id": "GS5D9iEYTf2T"
      },
      "source": [
        "with open('/content/sample_data/README.md','r') as f :\n",
        "    text = f.readlines()\n",
        "for i in range(len(text)) :\n",
        "  text[i] = text[i].replace('\\n', '')\n",
        "while '' in text:\n",
        "    text.remove('')\n",
        "for i in range(len(text)) :\n",
        "  print(text[i])"
      ],
      "execution_count": null,
      "outputs": []
    }
  ]
}