{
  "nbformat": 4,
  "nbformat_minor": 0,
  "metadata": {
    "colab": {
      "name": "高階六.ipynb",
      "provenance": [],
      "collapsed_sections": []
    },
    "kernelspec": {
      "name": "python3",
      "display_name": "Python 3"
    },
    "language_info": {
      "name": "python"
    }
  },
  "cells": [
    {
      "cell_type": "markdown",
      "metadata": {
        "id": "7DcUa8dBrSgU"
      },
      "source": [
        "班上因為這次的段考太難以致於大家面有菜色\n",
        "\n",
        "看到這景象的你決定替同學設計一個程式來幫大家加分\n",
        "\n",
        "請建立test類別以建構式設定初始分數 也以plus()函數方法增加分數n\n",
        "\n",
        "並利用assert檢查程式是否有指定的錯誤\n",
        "\n",
        "輸入會有三個數值\n",
        "\n",
        "輸入：\n",
        "\n",
        "60 -20 30\n",
        "\n",
        "輸出：\n",
        "\n",
        "初始分數= 60 加分後，分數= 90\n",
        "\n",
        "初始分數= -20 \n",
        "\n",
        "---------------------------------------------------------------------------\n",
        "\n",
        "AssertionError                            Traceback (most recent call last)\n",
        "\n",
        "......\n",
        "\n",
        "AssertionError: 分數不可能為負！"
      ]
    },
    {
      "cell_type": "code",
      "metadata": {
        "id": "eGBlOm25rRsQ"
      },
      "source": [
        "class test() :\n",
        "    def __init__(self, score) :\n",
        "        self.score = score\n",
        "    def plus(self, n) :\n",
        "        assert score >= 0, '分數不可能為負！'\n",
        "        self.score += n\n",
        "\n",
        "a, b, c = map(int, input().split())\n",
        "\n",
        "for score in (a, b) :\n",
        "    paper = test(score)\n",
        "    print(\"初始分數=\",paper.score,end=\" \")\n",
        "    paper.plus(c)\n",
        "    print(\"加分後，分數=\",paper.score)"
      ],
      "execution_count": null,
      "outputs": []
    }
  ]
}