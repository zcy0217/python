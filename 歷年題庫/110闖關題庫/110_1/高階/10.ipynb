{
  "nbformat": 4,
  "nbformat_minor": 0,
  "metadata": {
    "colab": {
      "name": "高階十.ipynb",
      "provenance": [],
      "collapsed_sections": []
    },
    "kernelspec": {
      "name": "python3",
      "display_name": "Python 3"
    },
    "language_info": {
      "name": "python"
    }
  },
  "cells": [
    {
      "cell_type": "markdown",
      "metadata": {
        "id": "PRx21tQXHmE-"
      },
      "source": [
        "請使用os.walk函式將/content以下的資訊紀錄到名為result.txt的文字檔中\n",
        "\n",
        "範例結果：\n",
        "\n",
        "檔案路徑：/content\n",
        "目錄串列：['.config', '.ipynb_checkpoints', 'sample_data']\n",
        "檔案串列：[]\n",
        "\n",
        "檔案路徑：/content/.config\n",
        "目錄串列：['logs', 'configurations']\n",
        "檔案串列：['.last_survey_prompt.yaml', 'config_sentinel', 'gce', '.last_update_check.json', 'active_config', '.last_opt_in_prompt.yaml']\n",
        "\n",
        "檔案路徑：/content/.config/logs\n",
        "目錄串列：['2021.09.16']\n",
        "檔案串列：[]\n",
        "\n",
        "檔案路徑：/content/.config/logs/2021.09.16\n",
        "目錄串列：[]\n",
        "檔案串列：['13.40.04.258538.log', '13.39.08.594436.log', '13.39.42.091206.log', '13.40.04.910768.log', '13.39.47.632524.log', '13.39.26.986455.log']\n",
        "\n",
        "檔案路徑：/content/.config/configurations\n",
        "目錄串列：[]\n",
        "檔案串列：['config_default']\n",
        "\n",
        "檔案路徑：/content/.ipynb_checkpoints\n",
        "目錄串列：[]\n",
        "檔案串列：[]\n",
        "\n",
        "檔案路徑：/content/sample_data\n",
        "目錄串列：[]\n",
        "檔案串列：['README.md', 'anscombe.json', 'california_housing_train.csv', 'mnist_test.csv', 'mnist_train_small.csv', 'california_housing_test.csv']\n",
        "\n"
      ]
    },
    {
      "cell_type": "code",
      "metadata": {
        "id": "FZ7UFiEUHjoX"
      },
      "source": [
        "import os\n",
        "cur_path = os.path.dirname(os.path.abspath(\"實驗場.ipynb\"))\n",
        "sample_tree = os.walk(cur_path)\n",
        "for dirname, subdir, files in sample_tree :\n",
        "  with open('result.txt', 'a') as f :\n",
        "    f.write(\"檔案路徑：{}\\n\".format(dirname))\n",
        "    f.write(\"目錄串列：{}\\n\".format(subdir))\n",
        "    f.write(\"檔案串列：{}\\n\".format(files))\n",
        "    f.write('\\n')\n"
      ],
      "execution_count": null,
      "outputs": []
    }
  ]
}