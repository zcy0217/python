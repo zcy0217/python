{
  "nbformat": 4,
  "nbformat_minor": 0,
  "metadata": {
    "colab": {
      "name": "高階八.ipynb",
      "provenance": [],
      "collapsed_sections": []
    },
    "kernelspec": {
      "name": "python3",
      "display_name": "Python 3"
    },
    "language_info": {
      "name": "python"
    }
  },
  "cells": [
    {
      "cell_type": "markdown",
      "metadata": {
        "id": "uW_oc2yliL3u"
      },
      "source": [
        "有兩個文字檔紀錄相同行數的字元，請你比較這兩個文字檔的內容\n",
        "\n",
        "找出不同字源的目標行數\n",
        "\n",
        "請建立一個能讀取文字檔內容的函數\n",
        "\n",
        "以及能比較兩檔案不同處的行數和內容的函數\n",
        "\n",
        "範例結果：\n",
        "\n",
        "line： 1 text_a：bbbbb, text_b：bbbbbb\n",
        "\n",
        "line： 3 text_a：ddddd, text_b：dddddd\n",
        "\n",
        "line： 4 text_a：eeeee, text_b：eeeeee\n",
        "\n",
        "line： 7 text_a：hhhhh, text_b：hhhhhh\n",
        "\n",
        "line： 9 text_a：jjjjj, text_b：jjjj\n",
        "\n",
        "line：11 text_a：lllll, text_b：lll\n",
        "\n",
        "line：16 text_a：qqqqq, text_b：qqqq\n",
        "\n",
        "line：21 text_a：vvvvv, text_b：vvvvvv\n",
        "\n",
        "line：23 text_a：xxxxx, text_b：xxxxxx\n",
        "\n",
        "line：24 text_a：yyyyy, text_b：yyyy\n",
        "\n",
        "line：25 text_a：zzzzz, text_b：zzzz"
      ]
    },
    {
      "cell_type": "code",
      "metadata": {
        "id": "Mu8RDsEBiJeO"
      },
      "source": [
        "import os\n",
        "\n",
        "def read(lines) :\n",
        "  length = len(lines)\n",
        "  for i in range(length) :\n",
        "    lines[i] = lines[i].replace('\\n', '')\n",
        "  return length, lines\n",
        "\n",
        "def compare(a, b) :\n",
        "  for i in range(len(a)) :\n",
        "    if a[i] != b[i] :\n",
        "      print('line：%2d' % (i), 'text_a：{}, text_b：{}'.format(a[i], b[i]))\n",
        "\n",
        "with open('text_a.txt', 'r') as f :\n",
        "  length_a, content_a = read(f.readlines())\n",
        "with open('text_b.txt', 'r') as f :\n",
        "  length_b, content_b = read(f.readlines())\n",
        "\n",
        "compare(content_a, content_b)\n"
      ],
      "execution_count": null,
      "outputs": []
    }
  ]
}