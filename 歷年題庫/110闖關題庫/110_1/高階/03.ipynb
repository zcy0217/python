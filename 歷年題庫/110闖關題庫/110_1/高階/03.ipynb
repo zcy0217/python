{
  "nbformat": 4,
  "nbformat_minor": 0,
  "metadata": {
    "colab": {
      "name": "高階三.ipynb",
      "provenance": [],
      "collapsed_sections": []
    },
    "kernelspec": {
      "name": "python3",
      "display_name": "Python 3"
    },
    "language_info": {
      "name": "python"
    }
  },
  "cells": [
    {
      "cell_type": "markdown",
      "metadata": {
        "id": "5o5kCXmAH7C4"
      },
      "source": [
        "當你使用colab設計程式的時候\n",
        "\n",
        "像你這種直覺敏銳的小鬼立刻就發現到了一旁的檔案上傳區有sample_data的資料夾內容\n",
        "\n",
        "於是你想要設計一個可以替你搜尋colab裡檔案的程式\n",
        "\n",
        "那就開始動手吧\n",
        "\n",
        "請設計一個能尋找特定檔案名的函式\n",
        "\n",
        "並回傳檔案路徑與檔案大小\n",
        "\n",
        "請使用例外捕捉\n",
        "\n",
        "輸入：\n",
        "\n",
        "california_housing_test.csv\n",
        "\n",
        "輸出：\n",
        "\n",
        "檔案路徑：/content/sample_data\n",
        "\n",
        "檔案大小： 301141\n",
        "\n",
        "輸入：\n",
        "\n",
        "abc.txt\n",
        "\n",
        "輸出：\n",
        "\n",
        "你要找尋的檔案不存在\n"
      ]
    },
    {
      "cell_type": "code",
      "metadata": {
        "id": "t_IO8y3drssg"
      },
      "source": [
        "import os\n",
        "\n",
        "def read_file(file) :\n",
        "  flag = 0\n",
        "  cur_path = os.path.dirname(os.path.abspath(\"實驗場.ipynb\"))\n",
        "  sample_tree = os.walk(cur_path)\n",
        "  for dirname, subdir, files in sample_tree :\n",
        "      for i in range(len(files)) :\n",
        "        if files[i] == file :\n",
        "          flag = 1\n",
        "          return dirname\n",
        "  if flag == 0 :\n",
        "    raise Exception('你要找尋的檔案不存在')\n",
        "\n",
        "filename = str(input())\n",
        "\n",
        "try :\n",
        "  result = read_file(filename)\n",
        "  print('檔案路徑：{}'.format(result))\n",
        "  print(\"檔案大小：\",  os.path.getsize(result + '/' + filename))\n",
        "except Exception as e :\n",
        "  print(e)"
      ],
      "execution_count": null,
      "outputs": []
    }
  ]
}