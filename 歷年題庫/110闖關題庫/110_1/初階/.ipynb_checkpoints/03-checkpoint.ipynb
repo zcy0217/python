{
 "cells": [
  {
   "cell_type": "markdown",
   "metadata": {},
   "source": [
    "# 第三題\n",
    "debug 時間~ \n",
    "今天上python 課的時候老師說要寫這個圖案出來~ \n",
    "但怎麼寫都寫不出來，可能是程式碼出了bug \n",
    "#不用多寫幾行讓程式碼完整，只要能修正bug讓輸出輸入能正常發揮就好 \n",
    "#不用換行\n",
    "\n",
    "請看以下圖及程式碼 \n",
    "\n",
    "\n",
    "for i in range(3):\n",
    "  j = 0\n",
    "  while(i<j):  \n",
    "    print(' ',end = '')\n",
    "  j+=1     \n",
    "  k = 6-2*i\n",
    "  while(k>1): \n",
    "    print('*',end='')\n",
    "    k-=1\n",
    "  print()\n",
    "#找出問題及修正跑出正確的圖\n",
    "\n",
    "#請將程式碼直接複製貼上"
   ]
  },
  {
   "attachments": {
    "image.png": {
     "image/png": "[encoded data removed]"
    }
   },
   "cell_type": "markdown",
   "metadata": {},
   "source": [
    "![image.png](attachment:image.png)"
   ]
  },
  {
   "cell_type": "code",
   "execution_count": null,
   "metadata": {
    "colab": {
     "base_uri": "https://localhost:8080/"
    },
    "id": "zfHaFrsfnGsD",
    "outputId": "3857817a-9c9a-460f-c6d2-0f921536e8de"
   },
   "outputs": [
    {
     "name": "stdout",
     "output_type": "stream",
     "text": [
      "******\n",
      " ****\n",
      "  **\n"
     ]
    }
   ],
   "source": [
    "#正解\n",
    "for i in range(3):\n",
    "  j = 0\n",
    "  while(j<i):\n",
    "    print(' ',end = '')\n",
    "    j+=1\n",
    "  k = 6-2*i\n",
    "  while(k>0):\n",
    "    print('*',end='')\n",
    "    k-=1\n",
    "  print()"
   ]
  },
  {
   "cell_type": "code",
   "execution_count": null,
   "metadata": {
    "id": "R-FQwLZPuJdG"
   },
   "outputs": [],
   "source": [
    "for i in range(3):\n",
    "  j = 0\n",
    "  while(i<j):  \n",
    "    print(' ',end = '')\n",
    "  j+=1     \n",
    "  k = 6-2*i\n",
    "  while(k>1): \n",
    "    print('*',end='')\n",
    "    k-=1\n",
    "  print()"
   ]
  }
 ],
 "metadata": {
  "colab": {
   "collapsed_sections": [],
   "name": "初階三",
   "provenance": []
  },
  "kernelspec": {
   "display_name": "Python 3 (ipykernel)",
   "language": "python",
   "name": "python3"
  },
  "language_info": {
   "codemirror_mode": {
    "name": "ipython",
    "version": 3
   },
   "file_extension": ".py",
   "mimetype": "text/x-python",
   "name": "python",
   "nbconvert_exporter": "python",
   "pygments_lexer": "ipython3",
   "version": "3.9.7"
  }
 },
 "nbformat": 4,
 "nbformat_minor": 1
}
