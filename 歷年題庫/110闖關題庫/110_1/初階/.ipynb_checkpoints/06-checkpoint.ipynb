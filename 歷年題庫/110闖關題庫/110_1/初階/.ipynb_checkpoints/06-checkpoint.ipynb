{
 "cells": [
  {
   "cell_type": "markdown",
   "metadata": {},
   "source": [
    "# 第六題\n",
    "請寫出一個計算字母出現次數的程式\n",
    "範例輸入:\n",
    "ctbc business school \n",
    "範例輸出:\n",
    "{'c': 3, 't': 1, 'b': 2, ' ': 2, 'u': 1, 's': 4, 'i': 1, 'n': 1, 'e': 1, 'h': 1, 'o': 2, 'l': 1} \n",
    " \n",
    "#限制 \n",
    "1.請用迴圈跟判斷式寫出，不能使用count() \n",
    "2.輸出請用dict"
   ]
  },
  {
   "cell_type": "code",
   "execution_count": null,
   "metadata": {
    "colab": {
     "base_uri": "https://localhost:8080/"
    },
    "id": "E7_5J285KgGX",
    "outputId": "05cea55b-5c9b-446c-bc5f-b886e9680a07"
   },
   "outputs": [
    {
     "name": "stdout",
     "output_type": "stream",
     "text": [
      "{'d': 1, 'a': 2, 't': 1}\n"
     ]
    }
   ],
   "source": [
    "def count_each_char_1(string):\n",
    "    res = {}\n",
    "    for i in string:\n",
    "        if i not in res:\n",
    "            res[i] = 1\n",
    "        else:\n",
    "            res[i] += 1\n",
    "    return res\n",
    " \n",
    "print(count_each_char_1('data'))"
   ]
  }
 ],
 "metadata": {
  "colab": {
   "collapsed_sections": [],
   "name": "初階六",
   "provenance": []
  },
  "kernelspec": {
   "display_name": "Python 3 (ipykernel)",
   "language": "python",
   "name": "python3"
  },
  "language_info": {
   "codemirror_mode": {
    "name": "ipython",
    "version": 3
   },
   "file_extension": ".py",
   "mimetype": "text/x-python",
   "name": "python",
   "nbconvert_exporter": "python",
   "pygments_lexer": "ipython3",
   "version": "3.9.7"
  }
 },
 "nbformat": 4,
 "nbformat_minor": 1
}
