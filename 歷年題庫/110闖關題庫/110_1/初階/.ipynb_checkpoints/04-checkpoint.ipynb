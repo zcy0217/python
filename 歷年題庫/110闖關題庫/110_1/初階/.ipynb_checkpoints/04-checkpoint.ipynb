{
 "cells": [
  {
   "cell_type": "markdown",
   "metadata": {},
   "source": [
    "# 第四題\n",
    "今天!!!!終於要發期中考成績了~小明興高采烈的進到教室但老師卻用迷之笑容看著他，小明突然意識到情況不對。是不是要被當了??\n",
    "老師說你今天考了n科，每科的滿分是100，如果你平均大於59分就是過ㄌ!\n",
    "\n",
    "#如果被當了輸出yes  如果沒有被當輸出no\n",
    "#請寫一個程式 第一行輸入有幾筆成績要輸入 接著輸入成績\n",
    "#輸入時  幾筆資料 & 成績  是同一行輸入!\n",
    "\n",
    "範例輸入                               \n",
    "1  60 \n",
    "3  0  80  75  \n",
    "5  61 61 61 61 55 \n",
    "範例輸出\n",
    "no\n",
    "yes\n",
    "no"
   ]
  },
  {
   "cell_type": "code",
   "execution_count": 15,
   "metadata": {
    "colab": {
     "base_uri": "https://localhost:8080/"
    },
    "id": "0ygzWGT4tabO",
    "outputId": "8d7f60b4-a475-4ed5-9e00-7b7fe5ce056e"
   },
   "outputs": [
    {
     "name": "stdout",
     "output_type": "stream",
     "text": [
      ":1 60\n"
     ]
    },
    {
     "data": {
      "text/plain": [
       "'no'"
      ]
     },
     "execution_count": 15,
     "metadata": {},
     "output_type": "execute_result"
    }
   ],
   "source": [
    "number = [int(i) for i in input(\":\").split()]\n",
    "\"no\" if (sum(number[1:])/number[0])>=60 else \"yes\""
   ]
  }
 ],
 "metadata": {
  "colab": {
   "collapsed_sections": [],
   "name": "初階四",
   "provenance": []
  },
  "kernelspec": {
   "display_name": "Python 3 (ipykernel)",
   "language": "python",
   "name": "python3"
  },
  "language_info": {
   "codemirror_mode": {
    "name": "ipython",
    "version": 3
   },
   "file_extension": ".py",
   "mimetype": "text/x-python",
   "name": "python",
   "nbconvert_exporter": "python",
   "pygments_lexer": "ipython3",
   "version": "3.9.7"
  }
 },
 "nbformat": 4,
 "nbformat_minor": 1
}
