{
 "cells": [
  {
   "cell_type": "markdown",
   "metadata": {},
   "source": [
    "# 第七題\n",
    "請寫出一個程式計算單字中指定字母的出現次數! \n",
    " 範例輸入:\n",
    "('More Examoles','m') \n",
    " 範例輸出:\n",
    "2 \n",
    " #限制 \n",
    "1.不能使用count()計算 \n",
    "2.不論大小寫都可以計算"
   ]
  },
  {
   "cell_type": "code",
   "execution_count": null,
   "metadata": {
    "colab": {
     "base_uri": "https://localhost:8080/"
    },
    "id": "SWEtm5DsO69l",
    "outputId": "85012085-a5a5-4418-f1af-b18ae8951b55"
   },
   "outputs": [
    {
     "name": "stdout",
     "output_type": "stream",
     "text": [
      "2\n"
     ]
    }
   ],
   "source": [
    "def rcount(word,element):\n",
    "    word=word.lower()\n",
    "    element=element.lower()\n",
    "    res = 0\n",
    "    for i in word:\n",
    "      if i == element:\n",
    "          res+= 1\n",
    "    return res\n",
    " \n",
    "print(rcount('More Examoles','M'))"
   ]
  },
  {
   "cell_type": "code",
   "execution_count": null,
   "metadata": {
    "colab": {
     "base_uri": "https://localhost:8080/"
    },
    "id": "tWeNLpPQ2MrC",
    "outputId": "9d8f3d4e-beb3-452f-c915-4460a58fa08b"
   },
   "outputs": [
    {
     "name": "stdout",
     "output_type": "stream",
     "text": [
      "請輸入文字:More Examoles\n",
      "請輸入字母:M\n",
      "2\n"
     ]
    }
   ],
   "source": [
    "word = input(\"請輸入文字:\")\n",
    "word = word.lower()\n",
    "element = input(\"請輸入字母:\")\n",
    "element = element.lower()\n",
    "time = 0\n",
    "# for i in range(len(word)): #以數字的形式去跑\n",
    "#   if word[i] == element:\n",
    "#     time+=1\n",
    "#   else:\n",
    "#     pass\n",
    "for i in word: #文字\n",
    "  if i == element:\n",
    "    time+=1\n",
    "  else:\n",
    "    pass\n",
    "print(time)"
   ]
  }
 ],
 "metadata": {
  "colab": {
   "collapsed_sections": [],
   "name": "初階七",
   "provenance": []
  },
  "kernelspec": {
   "display_name": "Python 3 (ipykernel)",
   "language": "python",
   "name": "python3"
  },
  "language_info": {
   "codemirror_mode": {
    "name": "ipython",
    "version": 3
   },
   "file_extension": ".py",
   "mimetype": "text/x-python",
   "name": "python",
   "nbconvert_exporter": "python",
   "pygments_lexer": "ipython3",
   "version": "3.9.7"
  }
 },
 "nbformat": 4,
 "nbformat_minor": 1
}
