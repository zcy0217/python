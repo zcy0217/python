{
 "cells": [
  {
   "cell_type": "markdown",
   "metadata": {
    "id": "XRMPxiCyNPMh"
   },
   "source": [
    "# 第一題\n",
    "A = 484 \n",
    "B = 你好 \n",
    "C = 我想要知道 \n",
    "D = 都不知道吃啥好 \n",
    "要是變數有bug請自行除錯 \n",
    "\n",
    "\n",
    "###第一題!###\n",
    "限制~ \n",
    "1.一定要使用A、B、C、D變數 不能只單純輸入中文 \n",
    "2.限用一個print()\n",
    "3.請完整呈現下面字串(包含標點符號跟斷句) \n",
    "\n",
    "\n",
    "你好!我想要知道這附近有沒有啥好吃的~\n",
    "五、六、日都不知道吃什麼好!484美食沙漠=.=\"\"\n",
    "\n",
    "###第二題!###\n",
    "請新增變數E將上題的句子轉換成list!  \n",
    "並以list查找的方式找出下列句子在E變數中\"個別字\"的位置。 \n",
    "「這附近沒啥好吃的~ =.=\"\"」\n",
    "\n",
    "\n",
    "EX: \n",
    "a = [\"你\",\"好\",\"我\",\"是\"] \n",
    "\n",
    " 範例輸入:\n",
    "\"你好\" \n",
    "\n",
    " 範例輸出\n",
    "0,1"
   ]
  },
  {
   "cell_type": "code",
   "execution_count": null,
   "metadata": {
    "id": "sSCgmo4fdItF"
   },
   "outputs": [],
   "source": [
    "import pandas as pd"
   ]
  },
  {
   "cell_type": "code",
   "execution_count": null,
   "metadata": {
    "colab": {
     "base_uri": "https://localhost:8080/"
    },
    "id": "C7Gtuz0dNO-o",
    "outputId": "3b406993-c09a-435e-9713-f8ee718fee56"
   },
   "outputs": [
    {
     "name": "stdout",
     "output_type": "stream",
     "text": [
      "你好!我想要知道這附近有沒有什麼好吃的~\n",
      "五、六、日都不知道吃啥好!484美食沙漠=.=\"\"\n"
     ]
    }
   ],
   "source": [
    "A = 484\n",
    "B = \"你好\"\n",
    "C = \"我想要知道\"\n",
    "D = \"都不知道吃啥好\"\n",
    "\n",
    "print(f\"{B}!{C}這附近有沒有什麼好吃的~\\n五、六、日{D}!{A}美食沙漠=.=\\\"\\\"\")"
   ]
  },
  {
   "cell_type": "code",
   "execution_count": null,
   "metadata": {
    "colab": {
     "base_uri": "https://localhost:8080/"
    },
    "id": "F-8b85YzYhDI",
    "outputId": "8bbd8753-5042-41a2-d9a9-34935c64f076"
   },
   "outputs": [
    {
     "name": "stdout",
     "output_type": "stream",
     "text": [
      "['你', '好', '!', '我', '想', '要', '知', '道', '這', '附', '近', '有', '沒', '有', '什', '麼', '好', '吃', '的', '~', '\\n', '五', '、', '六', '、', '日', '都', '不', '知', '道', '吃', '啥', '好', '!', '4', '8', '4', '美', '食', '沙', '漠', '=', '.', '=', '\"', '\"']\n"
     ]
    }
   ],
   "source": [
    "E = list(f\"{B}!{C}這附近有沒有什麼好吃的~\\n五、六、日{D}!{A}美食沙漠=.=\\\"\\\"\")\n",
    "print(E)"
   ]
  },
  {
   "cell_type": "code",
   "execution_count": null,
   "metadata": {
    "colab": {
     "base_uri": "https://localhost:8080/"
    },
    "id": "9RPCezN6Yo6p",
    "outputId": "12c78108-883d-400a-e9a9-8ad5fafea363"
   },
   "outputs": [
    {
     "name": "stdout",
     "output_type": "stream",
     "text": [
      "8 ,9 ,10 ,12 ,31 ,1 ,17 ,18 ,19 ,41 ,42 ,41 ,44 ,"
     ]
    }
   ],
   "source": [
    "G = list(\"這附近沒啥好吃的~=.=\\\"\")\n",
    "b=[]\n",
    "for i in G:\n",
    "  print(E.index(i),end = ' ,')\n"
   ]
  },
  {
   "cell_type": "code",
   "execution_count": null,
   "metadata": {
    "id": "y_iOBeq5jaLi"
   },
   "outputs": [],
   "source": [
    "a = [\"你\",\"好\",\"我\",\"是\"]\n",
    "a.index(\"你\")"
   ]
  }
 ],
 "metadata": {
  "colab": {
   "collapsed_sections": [],
   "name": "初階一",
   "provenance": []
  },
  "kernelspec": {
   "display_name": "Python 3 (ipykernel)",
   "language": "python",
   "name": "python3"
  },
  "language_info": {
   "codemirror_mode": {
    "name": "ipython",
    "version": 3
   },
   "file_extension": ".py",
   "mimetype": "text/x-python",
   "name": "python",
   "nbconvert_exporter": "python",
   "pygments_lexer": "ipython3",
   "version": "3.9.7"
  }
 },
 "nbformat": 4,
 "nbformat_minor": 1
}
