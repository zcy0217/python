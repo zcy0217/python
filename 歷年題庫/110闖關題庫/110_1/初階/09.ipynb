{
 "cells": [
  {
   "cell_type": "markdown",
   "metadata": {},
   "source": [
    "# 第九題\n",
    "當你的微積分老師跟你說質數的重要性，但你卻睡得死死的~\n",
    "鐘聲一響!!!\n",
    "ㄟ各位同學下星期記得繳交功課喔~\n",
    "你睡眼惺忪的向你同學詢問:交啥作業?\n",
    "說是要交指定的範圍內的質數數字跟質數數量,同學回答\n",
    "這時你突然想起你早上python課交的迴圈，ㄟ!~說不定可以用程式做出來 這樣就輕鬆ㄌ~\n",
    "\n",
    "\n",
    "#請寫出一個可以顯示指定範圍內有甚麼質數跟有多少質數的程式碼\n",
    "#如果會的話，請盡量用O(n)寫出，有學過資料結構的話\n",
    "\n",
    "#請依照範例的輸入輸出做編寫!!\n",
    "範例輸入:\n",
    "20 30\n",
    "範例輸出:\n",
    "2\n",
    "[23,29]"
   ]
  },
  {
   "cell_type": "code",
   "execution_count": null,
   "metadata": {
    "colab": {
     "base_uri": "https://localhost:8080/"
    },
    "id": "YgPQrOtsrBip",
    "outputId": "7c83fee6-9e44-4b71-bea5-f4c133a3173b"
   },
   "outputs": [
    {
     "name": "stdout",
     "output_type": "stream",
     "text": [
      "23 30\n",
      "2\n",
      "[23, 29]\n"
     ]
    }
   ],
   "source": [
    "visit = []\n",
    "prime = []\n",
    "right = []\n",
    "def makeprimelist(a,b):\n",
    "    for j in range(b+1):\n",
    "        visit.append(0)\n",
    "    for i in range(2,b+1):\n",
    "        if visit[i] == 0:\n",
    "            prime.append(i)\n",
    "            for j in range(i,b+1,i):\n",
    "                visit[j]=1\n",
    "    for k in prime:\n",
    "        if a <= k :\n",
    "            right.append(k)\n",
    "        else:\n",
    "            pass\n",
    "    print(len(right))\n",
    "    return right\n",
    "    \n",
    "a,b = input().split()\n",
    "print(makeprimelist(int(a),int(b)))"
   ]
  }
 ],
 "metadata": {
  "colab": {
   "collapsed_sections": [],
   "name": "初階九",
   "provenance": []
  },
  "kernelspec": {
   "display_name": "Python 3 (ipykernel)",
   "language": "python",
   "name": "python3"
  },
  "language_info": {
   "codemirror_mode": {
    "name": "ipython",
    "version": 3
   },
   "file_extension": ".py",
   "mimetype": "text/x-python",
   "name": "python",
   "nbconvert_exporter": "python",
   "pygments_lexer": "ipython3",
   "version": "3.9.7"
  }
 },
 "nbformat": 4,
 "nbformat_minor": 1
}
